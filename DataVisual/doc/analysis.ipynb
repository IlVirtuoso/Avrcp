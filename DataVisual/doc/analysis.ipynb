{
 "cells": [
  {
   "cell_type": "code",
   "execution_count": 1,
   "metadata": {},
   "outputs": [],
   "source": [
    "import csv\n",
    "import pandas as pd\n",
    "import matplotlib.pyplot as plt\n",
    "import numpy as np\n",
    "from pandasql import sqldf\n",
    "import plotly.express as plx\n",
    "import plotly.graph_objects as go"
   ]
  },
  {
   "cell_type": "code",
   "execution_count": 39,
   "metadata": {},
   "outputs": [
    {
     "data": {
      "text/html": [
       "<div>\n",
       "<style scoped>\n",
       "    .dataframe tbody tr th:only-of-type {\n",
       "        vertical-align: middle;\n",
       "    }\n",
       "\n",
       "    .dataframe tbody tr th {\n",
       "        vertical-align: top;\n",
       "    }\n",
       "\n",
       "    .dataframe thead th {\n",
       "        text-align: right;\n",
       "    }\n",
       "</style>\n",
       "<table border=\"1\" class=\"dataframe\">\n",
       "  <thead>\n",
       "    <tr style=\"text-align: right;\">\n",
       "      <th></th>\n",
       "      <th>school</th>\n",
       "      <th>sex</th>\n",
       "      <th>age</th>\n",
       "      <th>address</th>\n",
       "      <th>famsize</th>\n",
       "      <th>Pstatus</th>\n",
       "      <th>Medu</th>\n",
       "      <th>Fedu</th>\n",
       "      <th>Mjob</th>\n",
       "      <th>Fjob</th>\n",
       "      <th>...</th>\n",
       "      <th>Walc</th>\n",
       "      <th>health</th>\n",
       "      <th>absences</th>\n",
       "      <th>G1</th>\n",
       "      <th>G2</th>\n",
       "      <th>G3</th>\n",
       "      <th>M1</th>\n",
       "      <th>M2</th>\n",
       "      <th>M3</th>\n",
       "      <th>MPaid</th>\n",
       "    </tr>\n",
       "  </thead>\n",
       "  <tbody>\n",
       "    <tr>\n",
       "      <th>644</th>\n",
       "      <td>MS</td>\n",
       "      <td>F</td>\n",
       "      <td>19</td>\n",
       "      <td>R</td>\n",
       "      <td>GT3</td>\n",
       "      <td>T</td>\n",
       "      <td>2</td>\n",
       "      <td>3</td>\n",
       "      <td>services</td>\n",
       "      <td>other</td>\n",
       "      <td>...</td>\n",
       "      <td>2</td>\n",
       "      <td>5</td>\n",
       "      <td>4</td>\n",
       "      <td>10</td>\n",
       "      <td>11</td>\n",
       "      <td>10</td>\n",
       "      <td>NaN</td>\n",
       "      <td>NaN</td>\n",
       "      <td>NaN</td>\n",
       "      <td>NaN</td>\n",
       "    </tr>\n",
       "    <tr>\n",
       "      <th>645</th>\n",
       "      <td>MS</td>\n",
       "      <td>F</td>\n",
       "      <td>18</td>\n",
       "      <td>U</td>\n",
       "      <td>LE3</td>\n",
       "      <td>T</td>\n",
       "      <td>3</td>\n",
       "      <td>1</td>\n",
       "      <td>teacher</td>\n",
       "      <td>services</td>\n",
       "      <td>...</td>\n",
       "      <td>1</td>\n",
       "      <td>1</td>\n",
       "      <td>4</td>\n",
       "      <td>15</td>\n",
       "      <td>15</td>\n",
       "      <td>16</td>\n",
       "      <td>NaN</td>\n",
       "      <td>NaN</td>\n",
       "      <td>NaN</td>\n",
       "      <td>NaN</td>\n",
       "    </tr>\n",
       "    <tr>\n",
       "      <th>646</th>\n",
       "      <td>MS</td>\n",
       "      <td>F</td>\n",
       "      <td>18</td>\n",
       "      <td>U</td>\n",
       "      <td>GT3</td>\n",
       "      <td>T</td>\n",
       "      <td>1</td>\n",
       "      <td>1</td>\n",
       "      <td>other</td>\n",
       "      <td>other</td>\n",
       "      <td>...</td>\n",
       "      <td>1</td>\n",
       "      <td>5</td>\n",
       "      <td>6</td>\n",
       "      <td>11</td>\n",
       "      <td>12</td>\n",
       "      <td>9</td>\n",
       "      <td>NaN</td>\n",
       "      <td>NaN</td>\n",
       "      <td>NaN</td>\n",
       "      <td>NaN</td>\n",
       "    </tr>\n",
       "    <tr>\n",
       "      <th>647</th>\n",
       "      <td>MS</td>\n",
       "      <td>M</td>\n",
       "      <td>17</td>\n",
       "      <td>U</td>\n",
       "      <td>LE3</td>\n",
       "      <td>T</td>\n",
       "      <td>3</td>\n",
       "      <td>1</td>\n",
       "      <td>services</td>\n",
       "      <td>services</td>\n",
       "      <td>...</td>\n",
       "      <td>4</td>\n",
       "      <td>2</td>\n",
       "      <td>6</td>\n",
       "      <td>10</td>\n",
       "      <td>10</td>\n",
       "      <td>10</td>\n",
       "      <td>NaN</td>\n",
       "      <td>NaN</td>\n",
       "      <td>NaN</td>\n",
       "      <td>NaN</td>\n",
       "    </tr>\n",
       "    <tr>\n",
       "      <th>648</th>\n",
       "      <td>MS</td>\n",
       "      <td>M</td>\n",
       "      <td>18</td>\n",
       "      <td>R</td>\n",
       "      <td>LE3</td>\n",
       "      <td>T</td>\n",
       "      <td>3</td>\n",
       "      <td>2</td>\n",
       "      <td>services</td>\n",
       "      <td>other</td>\n",
       "      <td>...</td>\n",
       "      <td>4</td>\n",
       "      <td>5</td>\n",
       "      <td>4</td>\n",
       "      <td>10</td>\n",
       "      <td>11</td>\n",
       "      <td>11</td>\n",
       "      <td>NaN</td>\n",
       "      <td>NaN</td>\n",
       "      <td>NaN</td>\n",
       "      <td>NaN</td>\n",
       "    </tr>\n",
       "  </tbody>\n",
       "</table>\n",
       "<p>5 rows × 37 columns</p>\n",
       "</div>"
      ],
      "text/plain": [
       "    school sex  age address famsize Pstatus  Medu  Fedu      Mjob      Fjob  \\\n",
       "644     MS   F   19       R     GT3       T     2     3  services     other   \n",
       "645     MS   F   18       U     LE3       T     3     1   teacher  services   \n",
       "646     MS   F   18       U     GT3       T     1     1     other     other   \n",
       "647     MS   M   17       U     LE3       T     3     1  services  services   \n",
       "648     MS   M   18       R     LE3       T     3     2  services     other   \n",
       "\n",
       "     ... Walc health  absences  G1  G2  G3  M1  M2  M3 MPaid  \n",
       "644  ...    2      5         4  10  11  10 NaN NaN NaN   NaN  \n",
       "645  ...    1      1         4  15  15  16 NaN NaN NaN   NaN  \n",
       "646  ...    1      5         6  11  12   9 NaN NaN NaN   NaN  \n",
       "647  ...    4      2         6  10  10  10 NaN NaN NaN   NaN  \n",
       "648  ...    4      5         4  10  11  11 NaN NaN NaN   NaN  \n",
       "\n",
       "[5 rows x 37 columns]"
      ]
     },
     "execution_count": 39,
     "metadata": {},
     "output_type": "execute_result"
    }
   ],
   "source": [
    "\n",
    "dataset = pd.read_csv(\"./dataset/student-por.csv\",sep=\";\")\n",
    "mathset = pd.read_csv(\"./dataset/student-mat.csv\",sep=\";\")\n",
    "mathset.head()\n",
    "dataset[\"M1\"] = mathset[\"G1\"]\n",
    "dataset[\"M2\"] = mathset[\"G2\"]\n",
    "dataset[\"M3\"] = mathset[\"G3\"]\n",
    "dataset[\"MPaid\"] = mathset[\"paid\"]\n",
    "dataset.tail()"
   ]
  },
  {
   "cell_type": "code",
   "execution_count": null,
   "metadata": {},
   "outputs": [],
   "source": []
  },
  {
   "cell_type": "code",
   "execution_count": 36,
   "metadata": {},
   "outputs": [],
   "source": [
    "def convertToNumeric(column : pd.DataFrame, attributes : list[str]):\n",
    "    for i in range(column.size):\n",
    "        for k in range(len(attributes)):\n",
    "            if attributes[k] == column[i]:\n",
    "                column[i] = k\n",
    "                pass\n",
    "            pass\n",
    "        pass\n",
    "    pass"
   ]
  },
  {
   "cell_type": "code",
   "execution_count": 37,
   "metadata": {},
   "outputs": [
    {
     "name": "stderr",
     "output_type": "stream",
     "text": [
      "/tmp/ipykernel_52170/3725644536.py:5: SettingWithCopyWarning:\n",
      "\n",
      "\n",
      "A value is trying to be set on a copy of a slice from a DataFrame\n",
      "\n",
      "See the caveats in the documentation: https://pandas.pydata.org/pandas-docs/stable/user_guide/indexing.html#returning-a-view-versus-a-copy\n",
      "\n"
     ]
    },
    {
     "data": {
      "text/html": [
       "<div>\n",
       "<style scoped>\n",
       "    .dataframe tbody tr th:only-of-type {\n",
       "        vertical-align: middle;\n",
       "    }\n",
       "\n",
       "    .dataframe tbody tr th {\n",
       "        vertical-align: top;\n",
       "    }\n",
       "\n",
       "    .dataframe thead th {\n",
       "        text-align: right;\n",
       "    }\n",
       "</style>\n",
       "<table border=\"1\" class=\"dataframe\">\n",
       "  <thead>\n",
       "    <tr style=\"text-align: right;\">\n",
       "      <th></th>\n",
       "      <th>school</th>\n",
       "      <th>sex</th>\n",
       "      <th>age</th>\n",
       "      <th>address</th>\n",
       "      <th>famsize</th>\n",
       "      <th>Pstatus</th>\n",
       "      <th>Medu</th>\n",
       "      <th>Fedu</th>\n",
       "      <th>Mjob</th>\n",
       "      <th>Fjob</th>\n",
       "      <th>...</th>\n",
       "      <th>absences</th>\n",
       "      <th>G1</th>\n",
       "      <th>G2</th>\n",
       "      <th>G3</th>\n",
       "      <th>M1</th>\n",
       "      <th>M2</th>\n",
       "      <th>M3</th>\n",
       "      <th>MPaid</th>\n",
       "      <th>Language</th>\n",
       "      <th>Math</th>\n",
       "    </tr>\n",
       "  </thead>\n",
       "  <tbody>\n",
       "    <tr>\n",
       "      <th>644</th>\n",
       "      <td>1</td>\n",
       "      <td>0</td>\n",
       "      <td>19</td>\n",
       "      <td>1</td>\n",
       "      <td>1</td>\n",
       "      <td>1</td>\n",
       "      <td>2</td>\n",
       "      <td>3</td>\n",
       "      <td>2</td>\n",
       "      <td>4</td>\n",
       "      <td>...</td>\n",
       "      <td>4</td>\n",
       "      <td>10</td>\n",
       "      <td>11</td>\n",
       "      <td>10</td>\n",
       "      <td>NaN</td>\n",
       "      <td>NaN</td>\n",
       "      <td>NaN</td>\n",
       "      <td>NaN</td>\n",
       "      <td>10.333333</td>\n",
       "      <td>NaN</td>\n",
       "    </tr>\n",
       "    <tr>\n",
       "      <th>645</th>\n",
       "      <td>1</td>\n",
       "      <td>0</td>\n",
       "      <td>18</td>\n",
       "      <td>0</td>\n",
       "      <td>0</td>\n",
       "      <td>1</td>\n",
       "      <td>3</td>\n",
       "      <td>1</td>\n",
       "      <td>0</td>\n",
       "      <td>2</td>\n",
       "      <td>...</td>\n",
       "      <td>4</td>\n",
       "      <td>15</td>\n",
       "      <td>15</td>\n",
       "      <td>16</td>\n",
       "      <td>NaN</td>\n",
       "      <td>NaN</td>\n",
       "      <td>NaN</td>\n",
       "      <td>NaN</td>\n",
       "      <td>15.333333</td>\n",
       "      <td>NaN</td>\n",
       "    </tr>\n",
       "    <tr>\n",
       "      <th>646</th>\n",
       "      <td>1</td>\n",
       "      <td>0</td>\n",
       "      <td>18</td>\n",
       "      <td>0</td>\n",
       "      <td>1</td>\n",
       "      <td>1</td>\n",
       "      <td>1</td>\n",
       "      <td>1</td>\n",
       "      <td>4</td>\n",
       "      <td>4</td>\n",
       "      <td>...</td>\n",
       "      <td>6</td>\n",
       "      <td>11</td>\n",
       "      <td>12</td>\n",
       "      <td>9</td>\n",
       "      <td>NaN</td>\n",
       "      <td>NaN</td>\n",
       "      <td>NaN</td>\n",
       "      <td>NaN</td>\n",
       "      <td>10.666667</td>\n",
       "      <td>NaN</td>\n",
       "    </tr>\n",
       "    <tr>\n",
       "      <th>647</th>\n",
       "      <td>1</td>\n",
       "      <td>1</td>\n",
       "      <td>17</td>\n",
       "      <td>0</td>\n",
       "      <td>0</td>\n",
       "      <td>1</td>\n",
       "      <td>3</td>\n",
       "      <td>1</td>\n",
       "      <td>2</td>\n",
       "      <td>2</td>\n",
       "      <td>...</td>\n",
       "      <td>6</td>\n",
       "      <td>10</td>\n",
       "      <td>10</td>\n",
       "      <td>10</td>\n",
       "      <td>NaN</td>\n",
       "      <td>NaN</td>\n",
       "      <td>NaN</td>\n",
       "      <td>NaN</td>\n",
       "      <td>10.000000</td>\n",
       "      <td>NaN</td>\n",
       "    </tr>\n",
       "    <tr>\n",
       "      <th>648</th>\n",
       "      <td>1</td>\n",
       "      <td>1</td>\n",
       "      <td>18</td>\n",
       "      <td>1</td>\n",
       "      <td>0</td>\n",
       "      <td>1</td>\n",
       "      <td>3</td>\n",
       "      <td>2</td>\n",
       "      <td>2</td>\n",
       "      <td>4</td>\n",
       "      <td>...</td>\n",
       "      <td>4</td>\n",
       "      <td>10</td>\n",
       "      <td>11</td>\n",
       "      <td>11</td>\n",
       "      <td>NaN</td>\n",
       "      <td>NaN</td>\n",
       "      <td>NaN</td>\n",
       "      <td>NaN</td>\n",
       "      <td>10.666667</td>\n",
       "      <td>NaN</td>\n",
       "    </tr>\n",
       "  </tbody>\n",
       "</table>\n",
       "<p>5 rows × 39 columns</p>\n",
       "</div>"
      ],
      "text/plain": [
       "    school sex  age address famsize Pstatus  Medu  Fedu Mjob Fjob  ...  \\\n",
       "644      1   0   19       1       1       1     2     3    2    4  ...   \n",
       "645      1   0   18       0       0       1     3     1    0    2  ...   \n",
       "646      1   0   18       0       1       1     1     1    4    4  ...   \n",
       "647      1   1   17       0       0       1     3     1    2    2  ...   \n",
       "648      1   1   18       1       0       1     3     2    2    4  ...   \n",
       "\n",
       "    absences  G1  G2  G3  M1  M2  M3 MPaid   Language Math  \n",
       "644        4  10  11  10 NaN NaN NaN   NaN  10.333333  NaN  \n",
       "645        4  15  15  16 NaN NaN NaN   NaN  15.333333  NaN  \n",
       "646        6  11  12   9 NaN NaN NaN   NaN  10.666667  NaN  \n",
       "647        6  10  10  10 NaN NaN NaN   NaN  10.000000  NaN  \n",
       "648        4  10  11  11 NaN NaN NaN   NaN  10.666667  NaN  \n",
       "\n",
       "[5 rows x 39 columns]"
      ]
     },
     "execution_count": 37,
     "metadata": {},
     "output_type": "execute_result"
    }
   ],
   "source": [
    "numeric = dataset.copy(deep=True)\n",
    "convertToNumeric(numeric[\"school\"], [\"GP\",\"MS\"])\n",
    "convertToNumeric(numeric[\"sex\"], [\"F\",\"M\"])\n",
    "convertToNumeric(numeric[\"address\"], [\"U\",\"R\"])\n",
    "convertToNumeric(numeric[\"famsize\"], [\"LE3\",\"GT3\"])\n",
    "convertToNumeric(numeric[\"Pstatus\"], [\"A\",\"T\"])\n",
    "convertToNumeric(numeric[\"Mjob\"],[\"teacher\",\"health\",\"services\",\"at_home\",\"other\"])\n",
    "convertToNumeric(numeric[\"Fjob\"],[\"teacher\",\"health\",\"services\",\"at_home\",\"other\"])\n",
    "convertToNumeric(numeric[\"reason\"],[\"home\",\"reputation\",\"course\",\"other\"])\n",
    "convertToNumeric(numeric[\"guardian\"],[\"mother\",\"father\",\"other\"])\n",
    "numeric[\"Language\"] = (numeric[\"G1\"] + numeric[\"G2\"] + numeric[\"G3\"])/3\n",
    "numeric[\"Math\"] = (numeric[\"M1\"] + numeric[\"M2\"] + numeric[\"M3\"])/3\n",
    "numeric.tail()\n"
   ]
  },
  {
   "cell_type": "code",
   "execution_count": 5,
   "metadata": {},
   "outputs": [
    {
     "data": {
      "text/plain": [
       "(array([423.,   0.,   0.,   0.,   0.,   0.,   0.,   0.,   0., 226.]),\n",
       " array([0.0, 0.1, 0.2, 0.30000000000000004, 0.4, 0.5, 0.6000000000000001,\n",
       "        0.7000000000000001, 0.8, 0.9, 1.0], dtype=object),\n",
       " <BarContainer object of 10 artists>)"
      ]
     },
     "execution_count": 5,
     "metadata": {},
     "output_type": "execute_result"
    },
    {
     "data": {
      "image/png": "[encoded data removed]",
      "text/plain": [
       "<Figure size 432x288 with 1 Axes>"
      ]
     },
     "metadata": {
      "needs_background": "light"
     },
     "output_type": "display_data"
    }
   ],
   "source": [
    "plt.hist(numeric[\"school\"])"
   ]
  },
  {
   "cell_type": "code",
   "execution_count": 6,
   "metadata": {},
   "outputs": [
    {
     "data": {
      "text/plain": [
       "(array([112., 177., 179.,   0., 140.,  32.,   0.,   6.,   2.,   1.]),\n",
       " array([15. , 15.7, 16.4, 17.1, 17.8, 18.5, 19.2, 19.9, 20.6, 21.3, 22. ]),\n",
       " <BarContainer object of 10 artists>)"
      ]
     },
     "execution_count": 6,
     "metadata": {},
     "output_type": "execute_result"
    },
    {
     "data": {
      "image/png": "[encoded data removed]",
      "text/plain": [
       "<Figure size 432x288 with 1 Axes>"
      ]
     },
     "metadata": {
      "needs_background": "light"
     },
     "output_type": "display_data"
    }
   ],
   "source": [
    "plt.hist(numeric[\"age\"])"
   ]
  },
  {
   "cell_type": "code",
   "execution_count": 7,
   "metadata": {},
   "outputs": [
    {
     "data": {
      "application/vnd.plotly.v1+json": {
       "config": {
        "plotlyServerURL": "https://plot.ly"
       },
       "data": [
        {
         "alignmentgroup": "True",
         "bingroup": "x",
         "hovertemplate": "variable=G1<br>facet_col=18<br>value=%{x}<br>count=%{y}<extra></extra>",
         "legendgroup": "G1",
         "marker": {
          "color": "#636efa",
          "pattern": {
           "shape": ""
          }
         },
         "name": "G1",
         "offsetgroup": "G1",
         "orientation": "v",
         "showlegend": true,
         "type": "histogram",
         "x": [
          0,
          10,
          11,
          12,
          11,
          11,
          12,
          10,
          10,
          8,
          9,
          10,
          9,
          8,
          7,
          8,
          12,
          10,
          7,
          7,
          12,
          11,
          11,
          11,
          16,
          15,
          10,
          10,
          11,
          15,
          10,
          10,
          8,
          16,
          13,
          14,
          12,
          11,
          14,
          10,
          10,
          17,
          12,
          12,
          18,
          14,
          17,
          15,
          14,
          13,
          16,
          18,
          14,
          10,
          12,
          14,
          12,
          11,
          12,
          11,
          8,
          10,
          14,
          13,
          11,
          10,
          15,
          10,
          10,
          14,
          14,
          12,
          16,
          11,
          14,
          15,
          14,
          9,
          13,
          14,
          14,
          13,
          14,
          10,
          9,
          7,
          8,
          9,
          7,
          9,
          8,
          5,
          12,
          10,
          9,
          4,
          4,
          10,
          9,
          9,
          6,
          8,
          7,
          7,
          12,
          12,
          18,
          17,
          9,
          10,
          12,
          8,
          11,
          5,
          9,
          8,
          11,
          14,
          10,
          14,
          19,
          16,
          13,
          8,
          15,
          10,
          7,
          9,
          15,
          10,
          13,
          16,
          17,
          7,
          7,
          14,
          7,
          15,
          11,
          10
         ],
         "xaxis": "x",
         "yaxis": "y"
        },
        {
         "alignmentgroup": "True",
         "bingroup": "x",
         "hovertemplate": "variable=G1<br>facet_col=17<br>value=%{x}<br>count=%{y}<extra></extra>",
         "legendgroup": "G1",
         "marker": {
          "color": "#636efa",
          "pattern": {
           "shape": ""
          }
         },
         "name": "G1",
         "offsetgroup": "G1",
         "orientation": "v",
         "showlegend": false,
         "type": "histogram",
         "x": [
          9,
          10,
          8,
          9,
          12,
          11,
          13,
          10,
          9,
          13,
          9,
          8,
          7,
          8,
          8,
          11,
          10,
          11,
          11,
          17,
          14,
          11,
          12,
          9,
          12,
          10,
          14,
          13,
          14,
          14,
          13,
          8,
          11,
          13,
          12,
          14,
          11,
          12,
          12,
          11,
          12,
          17,
          10,
          15,
          14,
          12,
          13,
          16,
          10,
          14,
          11,
          13,
          9,
          11,
          15,
          15,
          15,
          12,
          11,
          13,
          11,
          10,
          11,
          9,
          12,
          9,
          14,
          11,
          9,
          10,
          15,
          8,
          11,
          16,
          15,
          12,
          13,
          11,
          13,
          12,
          12,
          13,
          17,
          18,
          14,
          12,
          7,
          16,
          18,
          11,
          15,
          15,
          14,
          15,
          12,
          11,
          14,
          11,
          17,
          14,
          17,
          11,
          13,
          15,
          11,
          15,
          11,
          12,
          14,
          10,
          11,
          12,
          12,
          10,
          13,
          12,
          16,
          10,
          6,
          10,
          8,
          8,
          10,
          9,
          9,
          11,
          9,
          10,
          6,
          10,
          11,
          11,
          10,
          15,
          11,
          15,
          13,
          9,
          7,
          10,
          9,
          11,
          9,
          12,
          8,
          13,
          11,
          17,
          13,
          11,
          10,
          7,
          8,
          10,
          7,
          7,
          8,
          10,
          8,
          8,
          8,
          7,
          11,
          17,
          12,
          18,
          11,
          10,
          12,
          15,
          15,
          13,
          8,
          10,
          7,
          8,
          14,
          6,
          10
         ],
         "xaxis": "x2",
         "yaxis": "y2"
        },
        {
         "alignmentgroup": "True",
         "bingroup": "x",
         "hovertemplate": "variable=G1<br>facet_col=15<br>value=%{x}<br>count=%{y}<extra></extra>",
         "legendgroup": "G1",
         "marker": {
          "color": "#636efa",
          "pattern": {
           "shape": ""
          }
         },
         "name": "G1",
         "offsetgroup": "G1",
         "orientation": "v",
         "showlegend": false,
         "type": "histogram",
         "x": [
          12,
          14,
          15,
          12,
          14,
          10,
          12,
          12,
          14,
          12,
          11,
          10,
          11,
          11,
          10,
          15,
          13,
          13,
          11,
          14,
          11,
          14,
          10,
          14,
          9,
          10,
          11,
          13,
          16,
          10,
          13,
          13,
          15,
          15,
          14,
          13,
          11,
          11,
          15,
          11,
          13,
          11,
          12,
          11,
          10,
          12,
          13,
          13,
          12,
          15,
          14,
          11,
          13,
          12,
          11,
          16,
          10,
          10,
          12,
          13,
          18,
          10,
          16,
          14,
          14,
          14,
          9,
          10,
          10,
          11,
          12,
          13,
          13,
          8,
          9,
          9,
          13,
          12,
          11,
          11,
          13,
          11,
          12,
          13,
          7,
          8,
          10,
          10,
          6,
          13,
          10,
          6,
          14,
          12,
          7,
          7,
          11,
          11,
          9,
          11,
          13,
          14,
          10,
          13,
          13,
          10,
          12,
          12,
          9,
          9,
          13,
          12
         ],
         "xaxis": "x3",
         "yaxis": "y3"
        },
        {
         "alignmentgroup": "True",
         "bingroup": "x",
         "hovertemplate": "variable=G1<br>facet_col=16<br>value=%{x}<br>count=%{y}<extra></extra>",
         "legendgroup": "G1",
         "marker": {
          "color": "#636efa",
          "pattern": {
           "shape": ""
          }
         },
         "name": "G1",
         "offsetgroup": "G1",
         "orientation": "v",
         "showlegend": false,
         "type": "histogram",
         "x": [
          11,
          12,
          13,
          17,
          13,
          13,
          12,
          12,
          10,
          10,
          12,
          12,
          12,
          13,
          11,
          10,
          13,
          17,
          14,
          12,
          16,
          17,
          10,
          13,
          14,
          16,
          10,
          13,
          13,
          11,
          13,
          12,
          13,
          12,
          9,
          9,
          12,
          13,
          9,
          13,
          12,
          12,
          9,
          16,
          13,
          15,
          11,
          8,
          16,
          14,
          14,
          12,
          12,
          14,
          13,
          15,
          9,
          13,
          14,
          12,
          9,
          10,
          15,
          12,
          10,
          9,
          9,
          12,
          10,
          9,
          9,
          9,
          17,
          12,
          16,
          9,
          16,
          14,
          14,
          13,
          10,
          11,
          11,
          14,
          10,
          13,
          12,
          11,
          13,
          10,
          11,
          14,
          11,
          13,
          11,
          14,
          12,
          13,
          13,
          15,
          13,
          9,
          12,
          9,
          14,
          12,
          14,
          14,
          15,
          11,
          9,
          14,
          10,
          12,
          16,
          10,
          10,
          10,
          12,
          7,
          9,
          16,
          15,
          10,
          9,
          10,
          9,
          13,
          13,
          10,
          13,
          11,
          14,
          13,
          12,
          14,
          10,
          10,
          7,
          9,
          7,
          9,
          8,
          8,
          14,
          14,
          14,
          17,
          14,
          14,
          16,
          8,
          7,
          14,
          14,
          8,
          6,
          8,
          8,
          7,
          10,
          11,
          9,
          14,
          11,
          11,
          9,
          10,
          10,
          12,
          13,
          9,
          11,
          11,
          10,
          7,
          5
         ],
         "xaxis": "x4",
         "yaxis": "y4"
        },
        {
         "alignmentgroup": "True",
         "bingroup": "x",
         "hovertemplate": "variable=G1<br>facet_col=19<br>value=%{x}<br>count=%{y}<extra></extra>",
         "legendgroup": "G1",
         "marker": {
          "color": "#636efa",
          "pattern": {
           "shape": ""
          }
         },
         "name": "G1",
         "offsetgroup": "G1",
         "orientation": "v",
         "showlegend": false,
         "type": "histogram",
         "x": [
          9,
          11,
          12,
          10,
          11,
          11,
          9,
          14,
          9,
          10,
          11,
          10,
          8,
          11,
          10,
          9,
          7,
          9,
          7,
          7,
          12,
          9,
          6,
          8,
          10,
          8,
          6,
          5,
          8,
          7,
          5,
          10
         ],
         "xaxis": "x5",
         "yaxis": "y5"
        },
        {
         "alignmentgroup": "True",
         "bingroup": "x",
         "hovertemplate": "variable=G1<br>facet_col=22<br>value=%{x}<br>count=%{y}<extra></extra>",
         "legendgroup": "G1",
         "marker": {
          "color": "#636efa",
          "pattern": {
           "shape": ""
          }
         },
         "name": "G1",
         "offsetgroup": "G1",
         "orientation": "v",
         "showlegend": false,
         "type": "histogram",
         "x": [
          7
         ],
         "xaxis": "x6",
         "yaxis": "y6"
        },
        {
         "alignmentgroup": "True",
         "bingroup": "x",
         "hovertemplate": "variable=G1<br>facet_col=20<br>value=%{x}<br>count=%{y}<extra></extra>",
         "legendgroup": "G1",
         "marker": {
          "color": "#636efa",
          "pattern": {
           "shape": ""
          }
         },
         "name": "G1",
         "offsetgroup": "G1",
         "orientation": "v",
         "showlegend": false,
         "type": "histogram",
         "x": [
          10,
          14,
          11,
          8,
          11,
          8
         ],
         "xaxis": "x7",
         "yaxis": "y7"
        },
        {
         "alignmentgroup": "True",
         "bingroup": "x",
         "hovertemplate": "variable=G1<br>facet_col=21<br>value=%{x}<br>count=%{y}<extra></extra>",
         "legendgroup": "G1",
         "marker": {
          "color": "#636efa",
          "pattern": {
           "shape": ""
          }
         },
         "name": "G1",
         "offsetgroup": "G1",
         "orientation": "v",
         "showlegend": false,
         "type": "histogram",
         "x": [
          9,
          9
         ],
         "xaxis": "x8",
         "yaxis": "y8"
        }
       ],
       "layout": {
        "annotations": [
         {
          "font": {},
          "showarrow": false,
          "text": "facet_col=18",
          "x": 0.05375,
          "xanchor": "center",
          "xref": "paper",
          "y": 1,
          "yanchor": "bottom",
          "yref": "paper"
         },
         {
          "font": {},
          "showarrow": false,
          "text": "facet_col=17",
          "x": 0.18125,
          "xanchor": "center",
          "xref": "paper",
          "y": 1,
          "yanchor": "bottom",
          "yref": "paper"
         },
         {
          "font": {},
          "showarrow": false,
          "text": "facet_col=15",
          "x": 0.30874999999999997,
          "xanchor": "center",
          "xref": "paper",
          "y": 1,
          "yanchor": "bottom",
          "yref": "paper"
         },
         {
          "font": {},
          "showarrow": false,
          "text": "facet_col=16",
          "x": 0.43625,
          "xanchor": "center",
          "xref": "paper",
          "y": 1,
          "yanchor": "bottom",
          "yref": "paper"
         },
         {
          "font": {},
          "showarrow": false,
          "text": "facet_col=19",
          "x": 0.56375,
          "xanchor": "center",
          "xref": "paper",
          "y": 1,
          "yanchor": "bottom",
          "yref": "paper"
         },
         {
          "font": {},
          "showarrow": false,
          "text": "facet_col=22",
          "x": 0.6912499999999999,
          "xanchor": "center",
          "xref": "paper",
          "y": 1,
          "yanchor": "bottom",
          "yref": "paper"
         },
         {
          "font": {},
          "showarrow": false,
          "text": "facet_col=20",
          "x": 0.8187500000000001,
          "xanchor": "center",
          "xref": "paper",
          "y": 1,
          "yanchor": "bottom",
          "yref": "paper"
         },
         {
          "font": {},
          "showarrow": false,
          "text": "facet_col=21",
          "x": 0.94625,
          "xanchor": "center",
          "xref": "paper",
          "y": 1,
          "yanchor": "bottom",
          "yref": "paper"
         }
        ],
        "barmode": "relative",
        "legend": {
         "title": {
          "text": "variable"
         },
         "tracegroupgap": 0
        },
        "margin": {
         "t": 60
        },
        "template": {
         "data": {
          "bar": [
           {
            "error_x": {
             "color": "#2a3f5f"
            },
            "error_y": {
             "color": "#2a3f5f"
            },
            "marker": {
             "line": {
              "color": "#E5ECF6",
              "width": 0.5
             },
             "pattern": {
              "fillmode": "overlay",
              "size": 10,
              "solidity": 0.2
             }
            },
            "type": "bar"
           }
          ],
          "barpolar": [
           {
            "marker": {
             "line": {
              "color": "#E5ECF6",
              "width": 0.5
             },
             "pattern": {
              "fillmode": "overlay",
              "size": 10,
              "solidity": 0.2
             }
            },
            "type": "barpolar"
           }
          ],
          "carpet": [
           {
            "aaxis": {
             "endlinecolor": "#2a3f5f",
             "gridcolor": "white",
             "linecolor": "white",
             "minorgridcolor": "white",
             "startlinecolor": "#2a3f5f"
            },
            "baxis": {
             "endlinecolor": "#2a3f5f",
             "gridcolor": "white",
             "linecolor": "white",
             "minorgridcolor": "white",
             "startlinecolor": "#2a3f5f"
            },
            "type": "carpet"
           }
          ],
          "choropleth": [
           {
            "colorbar": {
             "outlinewidth": 0,
             "ticks": ""
            },
            "type": "choropleth"
           }
          ],
          "contour": [
           {
            "colorbar": {
             "outlinewidth": 0,
             "ticks": ""
            },
            "colorscale": [
             [
              0,
              "#0d0887"
             ],
             [
              0.1111111111111111,
              "#46039f"
             ],
             [
              0.2222222222222222,
              "#7201a8"
             ],
             [
              0.3333333333333333,
              "#9c179e"
             ],
             [
              0.4444444444444444,
              "#bd3786"
             ],
             [
              0.5555555555555556,
              "#d8576b"
             ],
             [
              0.6666666666666666,
              "#ed7953"
             ],
             [
              0.7777777777777778,
              "#fb9f3a"
             ],
             [
              0.8888888888888888,
              "#fdca26"
             ],
             [
              1,
              "#f0f921"
             ]
            ],
            "type": "contour"
           }
          ],
          "contourcarpet": [
           {
            "colorbar": {
             "outlinewidth": 0,
             "ticks": ""
            },
            "type": "contourcarpet"
           }
          ],
          "heatmap": [
           {
            "colorbar": {
             "outlinewidth": 0,
             "ticks": ""
            },
            "colorscale": [
             [
              0,
              "#0d0887"
             ],
             [
              0.1111111111111111,
              "#46039f"
             ],
             [
              0.2222222222222222,
              "#7201a8"
             ],
             [
              0.3333333333333333,
              "#9c179e"
             ],
             [
              0.4444444444444444,
              "#bd3786"
             ],
             [
              0.5555555555555556,
              "#d8576b"
             ],
             [
              0.6666666666666666,
              "#ed7953"
             ],
             [
              0.7777777777777778,
              "#fb9f3a"
             ],
             [
              0.8888888888888888,
              "#fdca26"
             ],
             [
              1,
              "#f0f921"
             ]
            ],
            "type": "heatmap"
           }
          ],
          "heatmapgl": [
           {
            "colorbar": {
             "outlinewidth": 0,
             "ticks": ""
            },
            "colorscale": [
             [
              0,
              "#0d0887"
             ],
             [
              0.1111111111111111,
              "#46039f"
             ],
             [
              0.2222222222222222,
              "#7201a8"
             ],
             [
              0.3333333333333333,
              "#9c179e"
             ],
             [
              0.4444444444444444,
              "#bd3786"
             ],
             [
              0.5555555555555556,
              "#d8576b"
             ],
             [
              0.6666666666666666,
              "#ed7953"
             ],
             [
              0.7777777777777778,
              "#fb9f3a"
             ],
             [
              0.8888888888888888,
              "#fdca26"
             ],
             [
              1,
              "#f0f921"
             ]
            ],
            "type": "heatmapgl"
           }
          ],
          "histogram": [
           {
            "marker": {
             "pattern": {
              "fillmode": "overlay",
              "size": 10,
              "solidity": 0.2
             }
            },
            "type": "histogram"
           }
          ],
          "histogram2d": [
           {
            "colorbar": {
             "outlinewidth": 0,
             "ticks": ""
            },
            "colorscale": [
             [
              0,
              "#0d0887"
             ],
             [
              0.1111111111111111,
              "#46039f"
             ],
             [
              0.2222222222222222,
              "#7201a8"
             ],
             [
              0.3333333333333333,
              "#9c179e"
             ],
             [
              0.4444444444444444,
              "#bd3786"
             ],
             [
              0.5555555555555556,
              "#d8576b"
             ],
             [
              0.6666666666666666,
              "#ed7953"
             ],
             [
              0.7777777777777778,
              "#fb9f3a"
             ],
             [
              0.8888888888888888,
              "#fdca26"
             ],
             [
              1,
              "#f0f921"
             ]
            ],
            "type": "histogram2d"
           }
          ],
          "histogram2dcontour": [
           {
            "colorbar": {
             "outlinewidth": 0,
             "ticks": ""
            },
            "colorscale": [
             [
              0,
              "#0d0887"
             ],
             [
              0.1111111111111111,
              "#46039f"
             ],
             [
              0.2222222222222222,
              "#7201a8"
             ],
             [
              0.3333333333333333,
              "#9c179e"
             ],
             [
              0.4444444444444444,
              "#bd3786"
             ],
             [
              0.5555555555555556,
              "#d8576b"
             ],
             [
              0.6666666666666666,
              "#ed7953"
             ],
             [
              0.7777777777777778,
              "#fb9f3a"
             ],
             [
              0.8888888888888888,
              "#fdca26"
             ],
             [
              1,
              "#f0f921"
             ]
            ],
            "type": "histogram2dcontour"
           }
          ],
          "mesh3d": [
           {
            "colorbar": {
             "outlinewidth": 0,
             "ticks": ""
            },
            "type": "mesh3d"
           }
          ],
          "parcoords": [
           {
            "line": {
             "colorbar": {
              "outlinewidth": 0,
              "ticks": ""
             }
            },
            "type": "parcoords"
           }
          ],
          "pie": [
           {
            "automargin": true,
            "type": "pie"
           }
          ],
          "scatter": [
           {
            "fillpattern": {
             "fillmode": "overlay",
             "size": 10,
             "solidity": 0.2
            },
            "type": "scatter"
           }
          ],
          "scatter3d": [
           {
            "line": {
             "colorbar": {
              "outlinewidth": 0,
              "ticks": ""
             }
            },
            "marker": {
             "colorbar": {
              "outlinewidth": 0,
              "ticks": ""
             }
            },
            "type": "scatter3d"
           }
          ],
          "scattercarpet": [
           {
            "marker": {
             "colorbar": {
              "outlinewidth": 0,
              "ticks": ""
             }
            },
            "type": "scattercarpet"
           }
          ],
          "scattergeo": [
           {
            "marker": {
             "colorbar": {
              "outlinewidth": 0,
              "ticks": ""
             }
            },
            "type": "scattergeo"
           }
          ],
          "scattergl": [
           {
            "marker": {
             "colorbar": {
              "outlinewidth": 0,
              "ticks": ""
             }
            },
            "type": "scattergl"
           }
          ],
          "scattermapbox": [
           {
            "marker": {
             "colorbar": {
              "outlinewidth": 0,
              "ticks": ""
             }
            },
            "type": "scattermapbox"
           }
          ],
          "scatterpolar": [
           {
            "marker": {
             "colorbar": {
              "outlinewidth": 0,
              "ticks": ""
             }
            },
            "type": "scatterpolar"
           }
          ],
          "scatterpolargl": [
           {
            "marker": {
             "colorbar": {
              "outlinewidth": 0,
              "ticks": ""
             }
            },
            "type": "scatterpolargl"
           }
          ],
          "scatterternary": [
           {
            "marker": {
             "colorbar": {
              "outlinewidth": 0,
              "ticks": ""
             }
            },
            "type": "scatterternary"
           }
          ],
          "surface": [
           {
            "colorbar": {
             "outlinewidth": 0,
             "ticks": ""
            },
            "colorscale": [
             [
              0,
              "#0d0887"
             ],
             [
              0.1111111111111111,
              "#46039f"
             ],
             [
              0.2222222222222222,
              "#7201a8"
             ],
             [
              0.3333333333333333,
              "#9c179e"
             ],
             [
              0.4444444444444444,
              "#bd3786"
             ],
             [
              0.5555555555555556,
              "#d8576b"
             ],
             [
              0.6666666666666666,
              "#ed7953"
             ],
             [
              0.7777777777777778,
              "#fb9f3a"
             ],
             [
              0.8888888888888888,
              "#fdca26"
             ],
             [
              1,
              "#f0f921"
             ]
            ],
            "type": "surface"
           }
          ],
          "table": [
           {
            "cells": {
             "fill": {
              "color": "#EBF0F8"
             },
             "line": {
              "color": "white"
             }
            },
            "header": {
             "fill": {
              "color": "#C8D4E3"
             },
             "line": {
              "color": "white"
             }
            },
            "type": "table"
           }
          ]
         },
         "layout": {
          "annotationdefaults": {
           "arrowcolor": "#2a3f5f",
           "arrowhead": 0,
           "arrowwidth": 1
          },
          "autotypenumbers": "strict",
          "coloraxis": {
           "colorbar": {
            "outlinewidth": 0,
            "ticks": ""
           }
          },
          "colorscale": {
           "diverging": [
            [
             0,
             "#8e0152"
            ],
            [
             0.1,
             "#c51b7d"
            ],
            [
             0.2,
             "#de77ae"
            ],
            [
             0.3,
             "#f1b6da"
            ],
            [
             0.4,
             "#fde0ef"
            ],
            [
             0.5,
             "#f7f7f7"
            ],
            [
             0.6,
             "#e6f5d0"
            ],
            [
             0.7,
             "#b8e186"
            ],
            [
             0.8,
             "#7fbc41"
            ],
            [
             0.9,
             "#4d9221"
            ],
            [
             1,
             "#276419"
            ]
           ],
           "sequential": [
            [
             0,
             "#0d0887"
            ],
            [
             0.1111111111111111,
             "#46039f"
            ],
            [
             0.2222222222222222,
             "#7201a8"
            ],
            [
             0.3333333333333333,
             "#9c179e"
            ],
            [
             0.4444444444444444,
             "#bd3786"
            ],
            [
             0.5555555555555556,
             "#d8576b"
            ],
            [
             0.6666666666666666,
             "#ed7953"
            ],
            [
             0.7777777777777778,
             "#fb9f3a"
            ],
            [
             0.8888888888888888,
             "#fdca26"
            ],
            [
             1,
             "#f0f921"
            ]
           ],
           "sequentialminus": [
            [
             0,
             "#0d0887"
            ],
            [
             0.1111111111111111,
             "#46039f"
            ],
            [
             0.2222222222222222,
             "#7201a8"
            ],
            [
             0.3333333333333333,
             "#9c179e"
            ],
            [
             0.4444444444444444,
             "#bd3786"
            ],
            [
             0.5555555555555556,
             "#d8576b"
            ],
            [
             0.6666666666666666,
             "#ed7953"
            ],
            [
             0.7777777777777778,
             "#fb9f3a"
            ],
            [
             0.8888888888888888,
             "#fdca26"
            ],
            [
             1,
             "#f0f921"
            ]
           ]
          },
          "colorway": [
           "#636efa",
           "#EF553B",
           "#00cc96",
           "#ab63fa",
           "#FFA15A",
           "#19d3f3",
           "#FF6692",
           "#B6E880",
           "#FF97FF",
           "#FECB52"
          ],
          "font": {
           "color": "#2a3f5f"
          },
          "geo": {
           "bgcolor": "white",
           "lakecolor": "white",
           "landcolor": "#E5ECF6",
           "showlakes": true,
           "showland": true,
           "subunitcolor": "white"
          },
          "hoverlabel": {
           "align": "left"
          },
          "hovermode": "closest",
          "mapbox": {
           "style": "light"
          },
          "paper_bgcolor": "white",
          "plot_bgcolor": "#E5ECF6",
          "polar": {
           "angularaxis": {
            "gridcolor": "white",
            "linecolor": "white",
            "ticks": ""
           },
           "bgcolor": "#E5ECF6",
           "radialaxis": {
            "gridcolor": "white",
            "linecolor": "white",
            "ticks": ""
           }
          },
          "scene": {
           "xaxis": {
            "backgroundcolor": "#E5ECF6",
            "gridcolor": "white",
            "gridwidth": 2,
            "linecolor": "white",
            "showbackground": true,
            "ticks": "",
            "zerolinecolor": "white"
           },
           "yaxis": {
            "backgroundcolor": "#E5ECF6",
            "gridcolor": "white",
            "gridwidth": 2,
            "linecolor": "white",
            "showbackground": true,
            "ticks": "",
            "zerolinecolor": "white"
           },
           "zaxis": {
            "backgroundcolor": "#E5ECF6",
            "gridcolor": "white",
            "gridwidth": 2,
            "linecolor": "white",
            "showbackground": true,
            "ticks": "",
            "zerolinecolor": "white"
           }
          },
          "shapedefaults": {
           "line": {
            "color": "#2a3f5f"
           }
          },
          "ternary": {
           "aaxis": {
            "gridcolor": "white",
            "linecolor": "white",
            "ticks": ""
           },
           "baxis": {
            "gridcolor": "white",
            "linecolor": "white",
            "ticks": ""
           },
           "bgcolor": "#E5ECF6",
           "caxis": {
            "gridcolor": "white",
            "linecolor": "white",
            "ticks": ""
           }
          },
          "title": {
           "x": 0.05
          },
          "xaxis": {
           "automargin": true,
           "gridcolor": "white",
           "linecolor": "white",
           "ticks": "",
           "title": {
            "standoff": 15
           },
           "zerolinecolor": "white",
           "zerolinewidth": 2
          },
          "yaxis": {
           "automargin": true,
           "gridcolor": "white",
           "linecolor": "white",
           "ticks": "",
           "title": {
            "standoff": 15
           },
           "zerolinecolor": "white",
           "zerolinewidth": 2
          }
         }
        },
        "xaxis": {
         "anchor": "y",
         "domain": [
          0,
          0.1075
         ],
         "title": {
          "text": "value"
         }
        },
        "xaxis2": {
         "anchor": "y2",
         "domain": [
          0.1275,
          0.235
         ],
         "matches": "x",
         "title": {
          "text": "value"
         }
        },
        "xaxis3": {
         "anchor": "y3",
         "domain": [
          0.255,
          0.3625
         ],
         "matches": "x",
         "title": {
          "text": "value"
         }
        },
        "xaxis4": {
         "anchor": "y4",
         "domain": [
          0.3825,
          0.49
         ],
         "matches": "x",
         "title": {
          "text": "value"
         }
        },
        "xaxis5": {
         "anchor": "y5",
         "domain": [
          0.51,
          0.6175
         ],
         "matches": "x",
         "title": {
          "text": "value"
         }
        },
        "xaxis6": {
         "anchor": "y6",
         "domain": [
          0.6375,
          0.745
         ],
         "matches": "x",
         "title": {
          "text": "value"
         }
        },
        "xaxis7": {
         "anchor": "y7",
         "domain": [
          0.765,
          0.8725
         ],
         "matches": "x",
         "title": {
          "text": "value"
         }
        },
        "xaxis8": {
         "anchor": "y8",
         "domain": [
          0.8925000000000001,
          1
         ],
         "matches": "x",
         "title": {
          "text": "value"
         }
        },
        "yaxis": {
         "anchor": "x",
         "domain": [
          0,
          1
         ],
         "title": {
          "text": "count"
         }
        },
        "yaxis2": {
         "anchor": "x2",
         "domain": [
          0,
          1
         ],
         "matches": "y",
         "showticklabels": false
        },
        "yaxis3": {
         "anchor": "x3",
         "domain": [
          0,
          1
         ],
         "matches": "y",
         "showticklabels": false
        },
        "yaxis4": {
         "anchor": "x4",
         "domain": [
          0,
          1
         ],
         "matches": "y",
         "showticklabels": false
        },
        "yaxis5": {
         "anchor": "x5",
         "domain": [
          0,
          1
         ],
         "matches": "y",
         "showticklabels": false
        },
        "yaxis6": {
         "anchor": "x6",
         "domain": [
          0,
          1
         ],
         "matches": "y",
         "showticklabels": false
        },
        "yaxis7": {
         "anchor": "x7",
         "domain": [
          0,
          1
         ],
         "matches": "y",
         "showticklabels": false
        },
        "yaxis8": {
         "anchor": "x8",
         "domain": [
          0,
          1
         ],
         "matches": "y",
         "showticklabels": false
        }
       }
      }
     },
     "metadata": {},
     "output_type": "display_data"
    }
   ],
   "source": [
    "plx.histogram(numeric[\"G1\"], facet_col=numeric[\"age\"])"
   ]
  },
  {
   "cell_type": "code",
   "execution_count": 8,
   "metadata": {},
   "outputs": [
    {
     "data": {
      "application/vnd.plotly.v1+json": {
       "config": {
        "plotlyServerURL": "https://plot.ly"
       },
       "data": [
        {
         "alignmentgroup": "True",
         "bingroup": "x",
         "hovertemplate": "G1=%{x}<br>count=%{y}<extra></extra>",
         "legendgroup": "",
         "marker": {
          "color": "#636efa",
          "pattern": {
           "shape": ""
          }
         },
         "name": "",
         "offsetgroup": "",
         "orientation": "v",
         "showlegend": false,
         "type": "histogram",
         "x": [
          0,
          9,
          12,
          14,
          11,
          12,
          13,
          10,
          15,
          12,
          14,
          10,
          12,
          12,
          14,
          17,
          13,
          13,
          8,
          12,
          12,
          11,
          12,
          10,
          10,
          10,
          11,
          11,
          12,
          12,
          10,
          15,
          13,
          13,
          12,
          11,
          14,
          13,
          11,
          14,
          11,
          10,
          14,
          9,
          10,
          10,
          13,
          17,
          11,
          13,
          14,
          16,
          10,
          13,
          13,
          12,
          15,
          15,
          14,
          16,
          17,
          10,
          13,
          14,
          13,
          16,
          11,
          10,
          11,
          15,
          13,
          11,
          13,
          13,
          11,
          11,
          12,
          13,
          9,
          12,
          11,
          10,
          12,
          13,
          13,
          12,
          13,
          15,
          12,
          9,
          9,
          14,
          12,
          13,
          11,
          13,
          9,
          13,
          12,
          12,
          9,
          16,
          12,
          11,
          16,
          10,
          10,
          13,
          12,
          15,
          13,
          11,
          8,
          18,
          10,
          16,
          16,
          14,
          12,
          14,
          14,
          14,
          14,
          12,
          12,
          9,
          10,
          9,
          14,
          13,
          10,
          10,
          11,
          11,
          13,
          15,
          9,
          13,
          12,
          13,
          10,
          14,
          11,
          12,
          12,
          9,
          10,
          13,
          8,
          9,
          9,
          15,
          12,
          13,
          10,
          9,
          12,
          11,
          11,
          13,
          11,
          9,
          12,
          11,
          9,
          13,
          11,
          13,
          7,
          9,
          11,
          12,
          10,
          9,
          8,
          7,
          8,
          9,
          8,
          8,
          9,
          17,
          12,
          16,
          9,
          16,
          11,
          14,
          14,
          10,
          13,
          11,
          10,
          11,
          11,
          11,
          17,
          14,
          14,
          11,
          10,
          13,
          12,
          9,
          12,
          12,
          10,
          11,
          13,
          14,
          13,
          10,
          14,
          11,
          14,
          11,
          14,
          13,
          13,
          8,
          11,
          14,
          12,
          11,
          12,
          13,
          13,
          12,
          12,
          14,
          11,
          10,
          12,
          12,
          11,
          12,
          13,
          10,
          15,
          8,
          17,
          10,
          9,
          15,
          14,
          12,
          13,
          13,
          9,
          12,
          16,
          9,
          14,
          10,
          9,
          8,
          7,
          10,
          14,
          11,
          12,
          13,
          9,
          8,
          11,
          15,
          15,
          15,
          12,
          14,
          14,
          11,
          13,
          11,
          10,
          12,
          15,
          11,
          9,
          7,
          10,
          11,
          7,
          9,
          7,
          14,
          12,
          9,
          12,
          14,
          10,
          11,
          11,
          11,
          11,
          11,
          16,
          9,
          10,
          10,
          15,
          10,
          10,
          15,
          11,
          8,
          15,
          11,
          10,
          10,
          8,
          11,
          16,
          13,
          16,
          14,
          15,
          12,
          12,
          11,
          14,
          13,
          9,
          10,
          10,
          11,
          13,
          17,
          12,
          12,
          12,
          12,
          18,
          13,
          14,
          17,
          15,
          17,
          18,
          14,
          14,
          14,
          13,
          16,
          18,
          14,
          12,
          7,
          16,
          18,
          9,
          14,
          10,
          10,
          12,
          11,
          15,
          14,
          12,
          15,
          11,
          11,
          12,
          11,
          14,
          15,
          12,
          11,
          8,
          10,
          8,
          10,
          14,
          11,
          17,
          14,
          14,
          13,
          17,
          11,
          13,
          15,
          11,
          11,
          11,
          10,
          15,
          15,
          10,
          10,
          14,
          11,
          12,
          14,
          14,
          12,
          16,
          10,
          11,
          14,
          15,
          14,
          11,
          12,
          12,
          10,
          10,
          9,
          9,
          13,
          13,
          12,
          14,
          9,
          11,
          9,
          16,
          14,
          13,
          7,
          14,
          8,
          10,
          10,
          12,
          10,
          10,
          16,
          6,
          10,
          10,
          10,
          6,
          13,
          10,
          10,
          6,
          12,
          10,
          14,
          7,
          8,
          12,
          7,
          9,
          7,
          11,
          8,
          16,
          11,
          15,
          10,
          9,
          10,
          9,
          9,
          13,
          10,
          13,
          10,
          11,
          13,
          13,
          14,
          11,
          9,
          10,
          14,
          13,
          13,
          13,
          12,
          14,
          10,
          10,
          12,
          10,
          12,
          7,
          9,
          9,
          9,
          9,
          9,
          7,
          11,
          9,
          7,
          7,
          8,
          9,
          7,
          8,
          9,
          8,
          14,
          14,
          10,
          14,
          17,
          6,
          14,
          10,
          14,
          12,
          11,
          11,
          11,
          10,
          16,
          15,
          11,
          7,
          8,
          7,
          9,
          14,
          14,
          8,
          8,
          6,
          8,
          8,
          5,
          7,
          15,
          13,
          10,
          9,
          11,
          7,
          10,
          9,
          14,
          11,
          9,
          13,
          12,
          11,
          9,
          9,
          11,
          10,
          9,
          12,
          8,
          13,
          10,
          11,
          17,
          12,
          13,
          9,
          11,
          10,
          13,
          9,
          7,
          8,
          12,
          10,
          10,
          11,
          7,
          11,
          10,
          9,
          4,
          6,
          4,
          7,
          8,
          5,
          7,
          8,
          10,
          9,
          10,
          8,
          9,
          8,
          6,
          6,
          8,
          10,
          8,
          8,
          7,
          8,
          7,
          7,
          12,
          11,
          12,
          18,
          17,
          17,
          9,
          10,
          12,
          12,
          8,
          11,
          5,
          9,
          5,
          18,
          11,
          8,
          11,
          8,
          14,
          10,
          10,
          12,
          15,
          14,
          19,
          16,
          13,
          15,
          13,
          8,
          15,
          8,
          10,
          7,
          9,
          10,
          7,
          15,
          10,
          7,
          13,
          16,
          8,
          17,
          7,
          14,
          5,
          7,
          14,
          6,
          7,
          10,
          15,
          11,
          10,
          10
         ],
         "xaxis": "x",
         "yaxis": "y"
        }
       ],
       "layout": {
        "barmode": "relative",
        "legend": {
         "tracegroupgap": 0
        },
        "margin": {
         "t": 60
        },
        "template": {
         "data": {
          "bar": [
           {
            "error_x": {
             "color": "#2a3f5f"
            },
            "error_y": {
             "color": "#2a3f5f"
            },
            "marker": {
             "line": {
              "color": "#E5ECF6",
              "width": 0.5
             },
             "pattern": {
              "fillmode": "overlay",
              "size": 10,
              "solidity": 0.2
             }
            },
            "type": "bar"
           }
          ],
          "barpolar": [
           {
            "marker": {
             "line": {
              "color": "#E5ECF6",
              "width": 0.5
             },
             "pattern": {
              "fillmode": "overlay",
              "size": 10,
              "solidity": 0.2
             }
            },
            "type": "barpolar"
           }
          ],
          "carpet": [
           {
            "aaxis": {
             "endlinecolor": "#2a3f5f",
             "gridcolor": "white",
             "linecolor": "white",
             "minorgridcolor": "white",
             "startlinecolor": "#2a3f5f"
            },
            "baxis": {
             "endlinecolor": "#2a3f5f",
             "gridcolor": "white",
             "linecolor": "white",
             "minorgridcolor": "white",
             "startlinecolor": "#2a3f5f"
            },
            "type": "carpet"
           }
          ],
          "choropleth": [
           {
            "colorbar": {
             "outlinewidth": 0,
             "ticks": ""
            },
            "type": "choropleth"
           }
          ],
          "contour": [
           {
            "colorbar": {
             "outlinewidth": 0,
             "ticks": ""
            },
            "colorscale": [
             [
              0,
              "#0d0887"
             ],
             [
              0.1111111111111111,
              "#46039f"
             ],
             [
              0.2222222222222222,
              "#7201a8"
             ],
             [
              0.3333333333333333,
              "#9c179e"
             ],
             [
              0.4444444444444444,
              "#bd3786"
             ],
             [
              0.5555555555555556,
              "#d8576b"
             ],
             [
              0.6666666666666666,
              "#ed7953"
             ],
             [
              0.7777777777777778,
              "#fb9f3a"
             ],
             [
              0.8888888888888888,
              "#fdca26"
             ],
             [
              1,
              "#f0f921"
             ]
            ],
            "type": "contour"
           }
          ],
          "contourcarpet": [
           {
            "colorbar": {
             "outlinewidth": 0,
             "ticks": ""
            },
            "type": "contourcarpet"
           }
          ],
          "heatmap": [
           {
            "colorbar": {
             "outlinewidth": 0,
             "ticks": ""
            },
            "colorscale": [
             [
              0,
              "#0d0887"
             ],
             [
              0.1111111111111111,
              "#46039f"
             ],
             [
              0.2222222222222222,
              "#7201a8"
             ],
             [
              0.3333333333333333,
              "#9c179e"
             ],
             [
              0.4444444444444444,
              "#bd3786"
             ],
             [
              0.5555555555555556,
              "#d8576b"
             ],
             [
              0.6666666666666666,
              "#ed7953"
             ],
             [
              0.7777777777777778,
              "#fb9f3a"
             ],
             [
              0.8888888888888888,
              "#fdca26"
             ],
             [
              1,
              "#f0f921"
             ]
            ],
            "type": "heatmap"
           }
          ],
          "heatmapgl": [
           {
            "colorbar": {
             "outlinewidth": 0,
             "ticks": ""
            },
            "colorscale": [
             [
              0,
              "#0d0887"
             ],
             [
              0.1111111111111111,
              "#46039f"
             ],
             [
              0.2222222222222222,
              "#7201a8"
             ],
             [
              0.3333333333333333,
              "#9c179e"
             ],
             [
              0.4444444444444444,
              "#bd3786"
             ],
             [
              0.5555555555555556,
              "#d8576b"
             ],
             [
              0.6666666666666666,
              "#ed7953"
             ],
             [
              0.7777777777777778,
              "#fb9f3a"
             ],
             [
              0.8888888888888888,
              "#fdca26"
             ],
             [
              1,
              "#f0f921"
             ]
            ],
            "type": "heatmapgl"
           }
          ],
          "histogram": [
           {
            "marker": {
             "pattern": {
              "fillmode": "overlay",
              "size": 10,
              "solidity": 0.2
             }
            },
            "type": "histogram"
           }
          ],
          "histogram2d": [
           {
            "colorbar": {
             "outlinewidth": 0,
             "ticks": ""
            },
            "colorscale": [
             [
              0,
              "#0d0887"
             ],
             [
              0.1111111111111111,
              "#46039f"
             ],
             [
              0.2222222222222222,
              "#7201a8"
             ],
             [
              0.3333333333333333,
              "#9c179e"
             ],
             [
              0.4444444444444444,
              "#bd3786"
             ],
             [
              0.5555555555555556,
              "#d8576b"
             ],
             [
              0.6666666666666666,
              "#ed7953"
             ],
             [
              0.7777777777777778,
              "#fb9f3a"
             ],
             [
              0.8888888888888888,
              "#fdca26"
             ],
             [
              1,
              "#f0f921"
             ]
            ],
            "type": "histogram2d"
           }
          ],
          "histogram2dcontour": [
           {
            "colorbar": {
             "outlinewidth": 0,
             "ticks": ""
            },
            "colorscale": [
             [
              0,
              "#0d0887"
             ],
             [
              0.1111111111111111,
              "#46039f"
             ],
             [
              0.2222222222222222,
              "#7201a8"
             ],
             [
              0.3333333333333333,
              "#9c179e"
             ],
             [
              0.4444444444444444,
              "#bd3786"
             ],
             [
              0.5555555555555556,
              "#d8576b"
             ],
             [
              0.6666666666666666,
              "#ed7953"
             ],
             [
              0.7777777777777778,
              "#fb9f3a"
             ],
             [
              0.8888888888888888,
              "#fdca26"
             ],
             [
              1,
              "#f0f921"
             ]
            ],
            "type": "histogram2dcontour"
           }
          ],
          "mesh3d": [
           {
            "colorbar": {
             "outlinewidth": 0,
             "ticks": ""
            },
            "type": "mesh3d"
           }
          ],
          "parcoords": [
           {
            "line": {
             "colorbar": {
              "outlinewidth": 0,
              "ticks": ""
             }
            },
            "type": "parcoords"
           }
          ],
          "pie": [
           {
            "automargin": true,
            "type": "pie"
           }
          ],
          "scatter": [
           {
            "fillpattern": {
             "fillmode": "overlay",
             "size": 10,
             "solidity": 0.2
            },
            "type": "scatter"
           }
          ],
          "scatter3d": [
           {
            "line": {
             "colorbar": {
              "outlinewidth": 0,
              "ticks": ""
             }
            },
            "marker": {
             "colorbar": {
              "outlinewidth": 0,
              "ticks": ""
             }
            },
            "type": "scatter3d"
           }
          ],
          "scattercarpet": [
           {
            "marker": {
             "colorbar": {
              "outlinewidth": 0,
              "ticks": ""
             }
            },
            "type": "scattercarpet"
           }
          ],
          "scattergeo": [
           {
            "marker": {
             "colorbar": {
              "outlinewidth": 0,
              "ticks": ""
             }
            },
            "type": "scattergeo"
           }
          ],
          "scattergl": [
           {
            "marker": {
             "colorbar": {
              "outlinewidth": 0,
              "ticks": ""
             }
            },
            "type": "scattergl"
           }
          ],
          "scattermapbox": [
           {
            "marker": {
             "colorbar": {
              "outlinewidth": 0,
              "ticks": ""
             }
            },
            "type": "scattermapbox"
           }
          ],
          "scatterpolar": [
           {
            "marker": {
             "colorbar": {
              "outlinewidth": 0,
              "ticks": ""
             }
            },
            "type": "scatterpolar"
           }
          ],
          "scatterpolargl": [
           {
            "marker": {
             "colorbar": {
              "outlinewidth": 0,
              "ticks": ""
             }
            },
            "type": "scatterpolargl"
           }
          ],
          "scatterternary": [
           {
            "marker": {
             "colorbar": {
              "outlinewidth": 0,
              "ticks": ""
             }
            },
            "type": "scatterternary"
           }
          ],
          "surface": [
           {
            "colorbar": {
             "outlinewidth": 0,
             "ticks": ""
            },
            "colorscale": [
             [
              0,
              "#0d0887"
             ],
             [
              0.1111111111111111,
              "#46039f"
             ],
             [
              0.2222222222222222,
              "#7201a8"
             ],
             [
              0.3333333333333333,
              "#9c179e"
             ],
             [
              0.4444444444444444,
              "#bd3786"
             ],
             [
              0.5555555555555556,
              "#d8576b"
             ],
             [
              0.6666666666666666,
              "#ed7953"
             ],
             [
              0.7777777777777778,
              "#fb9f3a"
             ],
             [
              0.8888888888888888,
              "#fdca26"
             ],
             [
              1,
              "#f0f921"
             ]
            ],
            "type": "surface"
           }
          ],
          "table": [
           {
            "cells": {
             "fill": {
              "color": "#EBF0F8"
             },
             "line": {
              "color": "white"
             }
            },
            "header": {
             "fill": {
              "color": "#C8D4E3"
             },
             "line": {
              "color": "white"
             }
            },
            "type": "table"
           }
          ]
         },
         "layout": {
          "annotationdefaults": {
           "arrowcolor": "#2a3f5f",
           "arrowhead": 0,
           "arrowwidth": 1
          },
          "autotypenumbers": "strict",
          "coloraxis": {
           "colorbar": {
            "outlinewidth": 0,
            "ticks": ""
           }
          },
          "colorscale": {
           "diverging": [
            [
             0,
             "#8e0152"
            ],
            [
             0.1,
             "#c51b7d"
            ],
            [
             0.2,
             "#de77ae"
            ],
            [
             0.3,
             "#f1b6da"
            ],
            [
             0.4,
             "#fde0ef"
            ],
            [
             0.5,
             "#f7f7f7"
            ],
            [
             0.6,
             "#e6f5d0"
            ],
            [
             0.7,
             "#b8e186"
            ],
            [
             0.8,
             "#7fbc41"
            ],
            [
             0.9,
             "#4d9221"
            ],
            [
             1,
             "#276419"
            ]
           ],
           "sequential": [
            [
             0,
             "#0d0887"
            ],
            [
             0.1111111111111111,
             "#46039f"
            ],
            [
             0.2222222222222222,
             "#7201a8"
            ],
            [
             0.3333333333333333,
             "#9c179e"
            ],
            [
             0.4444444444444444,
             "#bd3786"
            ],
            [
             0.5555555555555556,
             "#d8576b"
            ],
            [
             0.6666666666666666,
             "#ed7953"
            ],
            [
             0.7777777777777778,
             "#fb9f3a"
            ],
            [
             0.8888888888888888,
             "#fdca26"
            ],
            [
             1,
             "#f0f921"
            ]
           ],
           "sequentialminus": [
            [
             0,
             "#0d0887"
            ],
            [
             0.1111111111111111,
             "#46039f"
            ],
            [
             0.2222222222222222,
             "#7201a8"
            ],
            [
             0.3333333333333333,
             "#9c179e"
            ],
            [
             0.4444444444444444,
             "#bd3786"
            ],
            [
             0.5555555555555556,
             "#d8576b"
            ],
            [
             0.6666666666666666,
             "#ed7953"
            ],
            [
             0.7777777777777778,
             "#fb9f3a"
            ],
            [
             0.8888888888888888,
             "#fdca26"
            ],
            [
             1,
             "#f0f921"
            ]
           ]
          },
          "colorway": [
           "#636efa",
           "#EF553B",
           "#00cc96",
           "#ab63fa",
           "#FFA15A",
           "#19d3f3",
           "#FF6692",
           "#B6E880",
           "#FF97FF",
           "#FECB52"
          ],
          "font": {
           "color": "#2a3f5f"
          },
          "geo": {
           "bgcolor": "white",
           "lakecolor": "white",
           "landcolor": "#E5ECF6",
           "showlakes": true,
           "showland": true,
           "subunitcolor": "white"
          },
          "hoverlabel": {
           "align": "left"
          },
          "hovermode": "closest",
          "mapbox": {
           "style": "light"
          },
          "paper_bgcolor": "white",
          "plot_bgcolor": "#E5ECF6",
          "polar": {
           "angularaxis": {
            "gridcolor": "white",
            "linecolor": "white",
            "ticks": ""
           },
           "bgcolor": "#E5ECF6",
           "radialaxis": {
            "gridcolor": "white",
            "linecolor": "white",
            "ticks": ""
           }
          },
          "scene": {
           "xaxis": {
            "backgroundcolor": "#E5ECF6",
            "gridcolor": "white",
            "gridwidth": 2,
            "linecolor": "white",
            "showbackground": true,
            "ticks": "",
            "zerolinecolor": "white"
           },
           "yaxis": {
            "backgroundcolor": "#E5ECF6",
            "gridcolor": "white",
            "gridwidth": 2,
            "linecolor": "white",
            "showbackground": true,
            "ticks": "",
            "zerolinecolor": "white"
           },
           "zaxis": {
            "backgroundcolor": "#E5ECF6",
            "gridcolor": "white",
            "gridwidth": 2,
            "linecolor": "white",
            "showbackground": true,
            "ticks": "",
            "zerolinecolor": "white"
           }
          },
          "shapedefaults": {
           "line": {
            "color": "#2a3f5f"
           }
          },
          "ternary": {
           "aaxis": {
            "gridcolor": "white",
            "linecolor": "white",
            "ticks": ""
           },
           "baxis": {
            "gridcolor": "white",
            "linecolor": "white",
            "ticks": ""
           },
           "bgcolor": "#E5ECF6",
           "caxis": {
            "gridcolor": "white",
            "linecolor": "white",
            "ticks": ""
           }
          },
          "title": {
           "x": 0.05
          },
          "xaxis": {
           "automargin": true,
           "gridcolor": "white",
           "linecolor": "white",
           "ticks": "",
           "title": {
            "standoff": 15
           },
           "zerolinecolor": "white",
           "zerolinewidth": 2
          },
          "yaxis": {
           "automargin": true,
           "gridcolor": "white",
           "linecolor": "white",
           "ticks": "",
           "title": {
            "standoff": 15
           },
           "zerolinecolor": "white",
           "zerolinewidth": 2
          }
         }
        },
        "xaxis": {
         "anchor": "y",
         "domain": [
          0,
          1
         ],
         "title": {
          "text": "G1"
         }
        },
        "yaxis": {
         "anchor": "x",
         "domain": [
          0,
          1
         ],
         "title": {
          "text": "count"
         }
        }
       }
      }
     },
     "metadata": {},
     "output_type": "display_data"
    }
   ],
   "source": [
    "plx.histogram(numeric,numeric[\"G1\"])"
   ]
  },
  {
   "cell_type": "code",
   "execution_count": 9,
   "metadata": {},
   "outputs": [
    {
     "data": {
      "application/vnd.plotly.v1+json": {
       "config": {
        "plotlyServerURL": "https://plot.ly"
       },
       "data": [
        {
         "alignmentgroup": "True",
         "bingroup": "x",
         "hovertemplate": "variable=G1<br>facet_row=0<br>facet_col=1<br>value=%{x}<br>count=%{y}<extra></extra>",
         "legendgroup": "G1",
         "marker": {
          "color": "#636efa",
          "pattern": {
           "shape": ""
          }
         },
         "name": "G1",
         "offsetgroup": "G1",
         "orientation": "v",
         "showlegend": true,
         "type": "histogram",
         "x": [
          0,
          9,
          14,
          11,
          10,
          14,
          10,
          17,
          13,
          13,
          10,
          10,
          11,
          11,
          14,
          13,
          13,
          12,
          15,
          16,
          17,
          10,
          14,
          10,
          13,
          11,
          13,
          12,
          13,
          12,
          15,
          9,
          14,
          13,
          13,
          13,
          12,
          12,
          11,
          10,
          10,
          11,
          8,
          14,
          12,
          9,
          10,
          10,
          11,
          15,
          13,
          13,
          14,
          12,
          12,
          9,
          13,
          8,
          9,
          13,
          12,
          11,
          13,
          11,
          13,
          13,
          11,
          17,
          12,
          16,
          14,
          13,
          17,
          14,
          12,
          12,
          12,
          14,
          14,
          11,
          14,
          13,
          13,
          8,
          11,
          14,
          12,
          11,
          12,
          13,
          11,
          12,
          12,
          11,
          12,
          13,
          15,
          8,
          17,
          15,
          9,
          14,
          8,
          14,
          12,
          13,
          11,
          11,
          10,
          12,
          11,
          10,
          11,
          11,
          10,
          15,
          15,
          11,
          10,
          8,
          11,
          16,
          14,
          15,
          12,
          14,
          13,
          9,
          12,
          12,
          12,
          18,
          13,
          17,
          14,
          16,
          7,
          16,
          18,
          10,
          12,
          11,
          15,
          14,
          15,
          11,
          12,
          11,
          14,
          15,
          10,
          10,
          14,
          17,
          14,
          13,
          15,
          11,
          10,
          15,
          10,
          14,
          11,
          12,
          14,
          10,
          11,
          14,
          11,
          12,
          12,
          10,
          13,
          11,
          9,
          14,
          8,
          10,
          10,
          12,
          10,
          10,
          16,
          10,
          6,
          13,
          12,
          10,
          14,
          16,
          11,
          15,
          9,
          10,
          9,
          9,
          13,
          13,
          10,
          11,
          13,
          13,
          9,
          14,
          13,
          12,
          12,
          7,
          9,
          9,
          9,
          9,
          11,
          9,
          7,
          9,
          7,
          8,
          9,
          14,
          14,
          17,
          14,
          11,
          11,
          15,
          11,
          7,
          8,
          7,
          14,
          8,
          8,
          8,
          13,
          9,
          9,
          11,
          10,
          13,
          11,
          17,
          10,
          13,
          7,
          5,
          7,
          10,
          6,
          8,
          10,
          8,
          8,
          7,
          12,
          11,
          18,
          17,
          9,
          8,
          9,
          5,
          18,
          11,
          8,
          14,
          10,
          12,
          13,
          13,
          8,
          10,
          7,
          10,
          7,
          10,
          7,
          16,
          8,
          14,
          6,
          7,
          10,
          11
         ],
         "xaxis": "x3",
         "yaxis": "y3"
        },
        {
         "alignmentgroup": "True",
         "bingroup": "x",
         "hovertemplate": "variable=G1<br>facet_row=0<br>facet_col=0<br>value=%{x}<br>count=%{y}<extra></extra>",
         "legendgroup": "G1",
         "marker": {
          "color": "#636efa",
          "pattern": {
           "shape": ""
          }
         },
         "name": "G1",
         "offsetgroup": "G1",
         "orientation": "v",
         "showlegend": false,
         "type": "histogram",
         "x": [
          12,
          11,
          10,
          10,
          13,
          14,
          16,
          13,
          13,
          13,
          16,
          11,
          15,
          12,
          13,
          12,
          15,
          14,
          10,
          11,
          13,
          10,
          11,
          14,
          14,
          14,
          11,
          12,
          14,
          14,
          10,
          9,
          11,
          9,
          11,
          15,
          15,
          12,
          14,
          11,
          10,
          13,
          12,
          17,
          18,
          13,
          14,
          12,
          12,
          11,
          8,
          11,
          14,
          10,
          14,
          10,
          9,
          14,
          14,
          6,
          10,
          10,
          6,
          14,
          14,
          10,
          9,
          7,
          7,
          8,
          14,
          12,
          11,
          16,
          9,
          14,
          6,
          7,
          11,
          14,
          11,
          9,
          11,
          6,
          8,
          7,
          7,
          12,
          11,
          5,
          11,
          8,
          15,
          19,
          16,
          15,
          15,
          13,
          15
         ],
         "xaxis": "x4",
         "yaxis": "y4"
        },
        {
         "alignmentgroup": "True",
         "bingroup": "x",
         "hovertemplate": "variable=G1<br>facet_row=1<br>facet_col=1<br>value=%{x}<br>count=%{y}<extra></extra>",
         "legendgroup": "G1",
         "marker": {
          "color": "#636efa",
          "pattern": {
           "shape": ""
          }
         },
         "name": "G1",
         "offsetgroup": "G1",
         "orientation": "v",
         "showlegend": false,
         "type": "histogram",
         "x": [
          12,
          12,
          14,
          8,
          12,
          11,
          11,
          11,
          12,
          10,
          15,
          13,
          12,
          13,
          14,
          9,
          17,
          11,
          15,
          11,
          13,
          11,
          13,
          11,
          12,
          9,
          11,
          10,
          12,
          9,
          9,
          16,
          12,
          16,
          13,
          12,
          10,
          16,
          16,
          14,
          12,
          14,
          14,
          12,
          9,
          14,
          13,
          9,
          12,
          10,
          9,
          15,
          9,
          9,
          11,
          7,
          12,
          10,
          7,
          9,
          8,
          9,
          9,
          16,
          11,
          10,
          11,
          11,
          11,
          11,
          10,
          9,
          10,
          11,
          13,
          13,
          12,
          10,
          12,
          13,
          13,
          12,
          7,
          10,
          8,
          14,
          13,
          15,
          9,
          7,
          11,
          7,
          9,
          7,
          14,
          12,
          16,
          9,
          10,
          10,
          8,
          11,
          10,
          16,
          11,
          10,
          12,
          14,
          15,
          14,
          14,
          10,
          11,
          13,
          17,
          11,
          11,
          15,
          12,
          15,
          14,
          13,
          7,
          10,
          7,
          8,
          9,
          7,
          8,
          10,
          11,
          10,
          13,
          13,
          12,
          8,
          10,
          6,
          10,
          8,
          7,
          10,
          9,
          9,
          9,
          8,
          13,
          9,
          8,
          12,
          10,
          7,
          11,
          9,
          4,
          6,
          4,
          7,
          8,
          8,
          9,
          10,
          8,
          8,
          12,
          12,
          10,
          8,
          17,
          7,
          14,
          5,
          7
         ],
         "xaxis": "x",
         "yaxis": "y"
        },
        {
         "alignmentgroup": "True",
         "bingroup": "x",
         "hovertemplate": "variable=G1<br>facet_row=1<br>facet_col=0<br>value=%{x}<br>count=%{y}<extra></extra>",
         "legendgroup": "G1",
         "marker": {
          "color": "#636efa",
          "pattern": {
           "shape": ""
          }
         },
         "name": "G1",
         "offsetgroup": "G1",
         "orientation": "v",
         "showlegend": false,
         "type": "histogram",
         "x": [
          12,
          13,
          15,
          12,
          12,
          12,
          10,
          12,
          13,
          14,
          10,
          10,
          14,
          13,
          9,
          11,
          13,
          18,
          11,
          10,
          12,
          12,
          11,
          9,
          9,
          9,
          8,
          8,
          8,
          11,
          10,
          13,
          10,
          13,
          10,
          10,
          9,
          9,
          16,
          15,
          12,
          14,
          10,
          9,
          11,
          11,
          15,
          10,
          11,
          13,
          17,
          14,
          18,
          12,
          9,
          8,
          11,
          16,
          9,
          13,
          12,
          9,
          16,
          10,
          12,
          7,
          11,
          10,
          10,
          10,
          14,
          10,
          5,
          15,
          10,
          11,
          13,
          12,
          12,
          10,
          12,
          11,
          9,
          10,
          10,
          9,
          17,
          10,
          14,
          15,
          9,
          10,
          10
         ],
         "xaxis": "x2",
         "yaxis": "y2"
        }
       ],
       "layout": {
        "annotations": [
         {
          "font": {},
          "showarrow": false,
          "text": "facet_col=1",
          "x": 0.24,
          "xanchor": "center",
          "xref": "paper",
          "y": 1,
          "yanchor": "bottom",
          "yref": "paper"
         },
         {
          "font": {},
          "showarrow": false,
          "text": "facet_col=0",
          "x": 0.74,
          "xanchor": "center",
          "xref": "paper",
          "y": 1,
          "yanchor": "bottom",
          "yref": "paper"
         },
         {
          "font": {},
          "showarrow": false,
          "text": "facet_row=1",
          "textangle": 90,
          "x": 0.98,
          "xanchor": "left",
          "xref": "paper",
          "y": 0.2425,
          "yanchor": "middle",
          "yref": "paper"
         },
         {
          "font": {},
          "showarrow": false,
          "text": "facet_row=0",
          "textangle": 90,
          "x": 0.98,
          "xanchor": "left",
          "xref": "paper",
          "y": 0.7575000000000001,
          "yanchor": "middle",
          "yref": "paper"
         }
        ],
        "barmode": "relative",
        "legend": {
         "title": {
          "text": "variable"
         },
         "tracegroupgap": 0
        },
        "margin": {
         "t": 60
        },
        "template": {
         "data": {
          "bar": [
           {
            "error_x": {
             "color": "#2a3f5f"
            },
            "error_y": {
             "color": "#2a3f5f"
            },
            "marker": {
             "line": {
              "color": "#E5ECF6",
              "width": 0.5
             },
             "pattern": {
              "fillmode": "overlay",
              "size": 10,
              "solidity": 0.2
             }
            },
            "type": "bar"
           }
          ],
          "barpolar": [
           {
            "marker": {
             "line": {
              "color": "#E5ECF6",
              "width": 0.5
             },
             "pattern": {
              "fillmode": "overlay",
              "size": 10,
              "solidity": 0.2
             }
            },
            "type": "barpolar"
           }
          ],
          "carpet": [
           {
            "aaxis": {
             "endlinecolor": "#2a3f5f",
             "gridcolor": "white",
             "linecolor": "white",
             "minorgridcolor": "white",
             "startlinecolor": "#2a3f5f"
            },
            "baxis": {
             "endlinecolor": "#2a3f5f",
             "gridcolor": "white",
             "linecolor": "white",
             "minorgridcolor": "white",
             "startlinecolor": "#2a3f5f"
            },
            "type": "carpet"
           }
          ],
          "choropleth": [
           {
            "colorbar": {
             "outlinewidth": 0,
             "ticks": ""
            },
            "type": "choropleth"
           }
          ],
          "contour": [
           {
            "colorbar": {
             "outlinewidth": 0,
             "ticks": ""
            },
            "colorscale": [
             [
              0,
              "#0d0887"
             ],
             [
              0.1111111111111111,
              "#46039f"
             ],
             [
              0.2222222222222222,
              "#7201a8"
             ],
             [
              0.3333333333333333,
              "#9c179e"
             ],
             [
              0.4444444444444444,
              "#bd3786"
             ],
             [
              0.5555555555555556,
              "#d8576b"
             ],
             [
              0.6666666666666666,
              "#ed7953"
             ],
             [
              0.7777777777777778,
              "#fb9f3a"
             ],
             [
              0.8888888888888888,
              "#fdca26"
             ],
             [
              1,
              "#f0f921"
             ]
            ],
            "type": "contour"
           }
          ],
          "contourcarpet": [
           {
            "colorbar": {
             "outlinewidth": 0,
             "ticks": ""
            },
            "type": "contourcarpet"
           }
          ],
          "heatmap": [
           {
            "colorbar": {
             "outlinewidth": 0,
             "ticks": ""
            },
            "colorscale": [
             [
              0,
              "#0d0887"
             ],
             [
              0.1111111111111111,
              "#46039f"
             ],
             [
              0.2222222222222222,
              "#7201a8"
             ],
             [
              0.3333333333333333,
              "#9c179e"
             ],
             [
              0.4444444444444444,
              "#bd3786"
             ],
             [
              0.5555555555555556,
              "#d8576b"
             ],
             [
              0.6666666666666666,
              "#ed7953"
             ],
             [
              0.7777777777777778,
              "#fb9f3a"
             ],
             [
              0.8888888888888888,
              "#fdca26"
             ],
             [
              1,
              "#f0f921"
             ]
            ],
            "type": "heatmap"
           }
          ],
          "heatmapgl": [
           {
            "colorbar": {
             "outlinewidth": 0,
             "ticks": ""
            },
            "colorscale": [
             [
              0,
              "#0d0887"
             ],
             [
              0.1111111111111111,
              "#46039f"
             ],
             [
              0.2222222222222222,
              "#7201a8"
             ],
             [
              0.3333333333333333,
              "#9c179e"
             ],
             [
              0.4444444444444444,
              "#bd3786"
             ],
             [
              0.5555555555555556,
              "#d8576b"
             ],
             [
              0.6666666666666666,
              "#ed7953"
             ],
             [
              0.7777777777777778,
              "#fb9f3a"
             ],
             [
              0.8888888888888888,
              "#fdca26"
             ],
             [
              1,
              "#f0f921"
             ]
            ],
            "type": "heatmapgl"
           }
          ],
          "histogram": [
           {
            "marker": {
             "pattern": {
              "fillmode": "overlay",
              "size": 10,
              "solidity": 0.2
             }
            },
            "type": "histogram"
           }
          ],
          "histogram2d": [
           {
            "colorbar": {
             "outlinewidth": 0,
             "ticks": ""
            },
            "colorscale": [
             [
              0,
              "#0d0887"
             ],
             [
              0.1111111111111111,
              "#46039f"
             ],
             [
              0.2222222222222222,
              "#7201a8"
             ],
             [
              0.3333333333333333,
              "#9c179e"
             ],
             [
              0.4444444444444444,
              "#bd3786"
             ],
             [
              0.5555555555555556,
              "#d8576b"
             ],
             [
              0.6666666666666666,
              "#ed7953"
             ],
             [
              0.7777777777777778,
              "#fb9f3a"
             ],
             [
              0.8888888888888888,
              "#fdca26"
             ],
             [
              1,
              "#f0f921"
             ]
            ],
            "type": "histogram2d"
           }
          ],
          "histogram2dcontour": [
           {
            "colorbar": {
             "outlinewidth": 0,
             "ticks": ""
            },
            "colorscale": [
             [
              0,
              "#0d0887"
             ],
             [
              0.1111111111111111,
              "#46039f"
             ],
             [
              0.2222222222222222,
              "#7201a8"
             ],
             [
              0.3333333333333333,
              "#9c179e"
             ],
             [
              0.4444444444444444,
              "#bd3786"
             ],
             [
              0.5555555555555556,
              "#d8576b"
             ],
             [
              0.6666666666666666,
              "#ed7953"
             ],
             [
              0.7777777777777778,
              "#fb9f3a"
             ],
             [
              0.8888888888888888,
              "#fdca26"
             ],
             [
              1,
              "#f0f921"
             ]
            ],
            "type": "histogram2dcontour"
           }
          ],
          "mesh3d": [
           {
            "colorbar": {
             "outlinewidth": 0,
             "ticks": ""
            },
            "type": "mesh3d"
           }
          ],
          "parcoords": [
           {
            "line": {
             "colorbar": {
              "outlinewidth": 0,
              "ticks": ""
             }
            },
            "type": "parcoords"
           }
          ],
          "pie": [
           {
            "automargin": true,
            "type": "pie"
           }
          ],
          "scatter": [
           {
            "fillpattern": {
             "fillmode": "overlay",
             "size": 10,
             "solidity": 0.2
            },
            "type": "scatter"
           }
          ],
          "scatter3d": [
           {
            "line": {
             "colorbar": {
              "outlinewidth": 0,
              "ticks": ""
             }
            },
            "marker": {
             "colorbar": {
              "outlinewidth": 0,
              "ticks": ""
             }
            },
            "type": "scatter3d"
           }
          ],
          "scattercarpet": [
           {
            "marker": {
             "colorbar": {
              "outlinewidth": 0,
              "ticks": ""
             }
            },
            "type": "scattercarpet"
           }
          ],
          "scattergeo": [
           {
            "marker": {
             "colorbar": {
              "outlinewidth": 0,
              "ticks": ""
             }
            },
            "type": "scattergeo"
           }
          ],
          "scattergl": [
           {
            "marker": {
             "colorbar": {
              "outlinewidth": 0,
              "ticks": ""
             }
            },
            "type": "scattergl"
           }
          ],
          "scattermapbox": [
           {
            "marker": {
             "colorbar": {
              "outlinewidth": 0,
              "ticks": ""
             }
            },
            "type": "scattermapbox"
           }
          ],
          "scatterpolar": [
           {
            "marker": {
             "colorbar": {
              "outlinewidth": 0,
              "ticks": ""
             }
            },
            "type": "scatterpolar"
           }
          ],
          "scatterpolargl": [
           {
            "marker": {
             "colorbar": {
              "outlinewidth": 0,
              "ticks": ""
             }
            },
            "type": "scatterpolargl"
           }
          ],
          "scatterternary": [
           {
            "marker": {
             "colorbar": {
              "outlinewidth": 0,
              "ticks": ""
             }
            },
            "type": "scatterternary"
           }
          ],
          "surface": [
           {
            "colorbar": {
             "outlinewidth": 0,
             "ticks": ""
            },
            "colorscale": [
             [
              0,
              "#0d0887"
             ],
             [
              0.1111111111111111,
              "#46039f"
             ],
             [
              0.2222222222222222,
              "#7201a8"
             ],
             [
              0.3333333333333333,
              "#9c179e"
             ],
             [
              0.4444444444444444,
              "#bd3786"
             ],
             [
              0.5555555555555556,
              "#d8576b"
             ],
             [
              0.6666666666666666,
              "#ed7953"
             ],
             [
              0.7777777777777778,
              "#fb9f3a"
             ],
             [
              0.8888888888888888,
              "#fdca26"
             ],
             [
              1,
              "#f0f921"
             ]
            ],
            "type": "surface"
           }
          ],
          "table": [
           {
            "cells": {
             "fill": {
              "color": "#EBF0F8"
             },
             "line": {
              "color": "white"
             }
            },
            "header": {
             "fill": {
              "color": "#C8D4E3"
             },
             "line": {
              "color": "white"
             }
            },
            "type": "table"
           }
          ]
         },
         "layout": {
          "annotationdefaults": {
           "arrowcolor": "#2a3f5f",
           "arrowhead": 0,
           "arrowwidth": 1
          },
          "autotypenumbers": "strict",
          "coloraxis": {
           "colorbar": {
            "outlinewidth": 0,
            "ticks": ""
           }
          },
          "colorscale": {
           "diverging": [
            [
             0,
             "#8e0152"
            ],
            [
             0.1,
             "#c51b7d"
            ],
            [
             0.2,
             "#de77ae"
            ],
            [
             0.3,
             "#f1b6da"
            ],
            [
             0.4,
             "#fde0ef"
            ],
            [
             0.5,
             "#f7f7f7"
            ],
            [
             0.6,
             "#e6f5d0"
            ],
            [
             0.7,
             "#b8e186"
            ],
            [
             0.8,
             "#7fbc41"
            ],
            [
             0.9,
             "#4d9221"
            ],
            [
             1,
             "#276419"
            ]
           ],
           "sequential": [
            [
             0,
             "#0d0887"
            ],
            [
             0.1111111111111111,
             "#46039f"
            ],
            [
             0.2222222222222222,
             "#7201a8"
            ],
            [
             0.3333333333333333,
             "#9c179e"
            ],
            [
             0.4444444444444444,
             "#bd3786"
            ],
            [
             0.5555555555555556,
             "#d8576b"
            ],
            [
             0.6666666666666666,
             "#ed7953"
            ],
            [
             0.7777777777777778,
             "#fb9f3a"
            ],
            [
             0.8888888888888888,
             "#fdca26"
            ],
            [
             1,
             "#f0f921"
            ]
           ],
           "sequentialminus": [
            [
             0,
             "#0d0887"
            ],
            [
             0.1111111111111111,
             "#46039f"
            ],
            [
             0.2222222222222222,
             "#7201a8"
            ],
            [
             0.3333333333333333,
             "#9c179e"
            ],
            [
             0.4444444444444444,
             "#bd3786"
            ],
            [
             0.5555555555555556,
             "#d8576b"
            ],
            [
             0.6666666666666666,
             "#ed7953"
            ],
            [
             0.7777777777777778,
             "#fb9f3a"
            ],
            [
             0.8888888888888888,
             "#fdca26"
            ],
            [
             1,
             "#f0f921"
            ]
           ]
          },
          "colorway": [
           "#636efa",
           "#EF553B",
           "#00cc96",
           "#ab63fa",
           "#FFA15A",
           "#19d3f3",
           "#FF6692",
           "#B6E880",
           "#FF97FF",
           "#FECB52"
          ],
          "font": {
           "color": "#2a3f5f"
          },
          "geo": {
           "bgcolor": "white",
           "lakecolor": "white",
           "landcolor": "#E5ECF6",
           "showlakes": true,
           "showland": true,
           "subunitcolor": "white"
          },
          "hoverlabel": {
           "align": "left"
          },
          "hovermode": "closest",
          "mapbox": {
           "style": "light"
          },
          "paper_bgcolor": "white",
          "plot_bgcolor": "#E5ECF6",
          "polar": {
           "angularaxis": {
            "gridcolor": "white",
            "linecolor": "white",
            "ticks": ""
           },
           "bgcolor": "#E5ECF6",
           "radialaxis": {
            "gridcolor": "white",
            "linecolor": "white",
            "ticks": ""
           }
          },
          "scene": {
           "xaxis": {
            "backgroundcolor": "#E5ECF6",
            "gridcolor": "white",
            "gridwidth": 2,
            "linecolor": "white",
            "showbackground": true,
            "ticks": "",
            "zerolinecolor": "white"
           },
           "yaxis": {
            "backgroundcolor": "#E5ECF6",
            "gridcolor": "white",
            "gridwidth": 2,
            "linecolor": "white",
            "showbackground": true,
            "ticks": "",
            "zerolinecolor": "white"
           },
           "zaxis": {
            "backgroundcolor": "#E5ECF6",
            "gridcolor": "white",
            "gridwidth": 2,
            "linecolor": "white",
            "showbackground": true,
            "ticks": "",
            "zerolinecolor": "white"
           }
          },
          "shapedefaults": {
           "line": {
            "color": "#2a3f5f"
           }
          },
          "ternary": {
           "aaxis": {
            "gridcolor": "white",
            "linecolor": "white",
            "ticks": ""
           },
           "baxis": {
            "gridcolor": "white",
            "linecolor": "white",
            "ticks": ""
           },
           "bgcolor": "#E5ECF6",
           "caxis": {
            "gridcolor": "white",
            "linecolor": "white",
            "ticks": ""
           }
          },
          "title": {
           "x": 0.05
          },
          "xaxis": {
           "automargin": true,
           "gridcolor": "white",
           "linecolor": "white",
           "ticks": "",
           "title": {
            "standoff": 15
           },
           "zerolinecolor": "white",
           "zerolinewidth": 2
          },
          "yaxis": {
           "automargin": true,
           "gridcolor": "white",
           "linecolor": "white",
           "ticks": "",
           "title": {
            "standoff": 15
           },
           "zerolinecolor": "white",
           "zerolinewidth": 2
          }
         }
        },
        "xaxis": {
         "anchor": "y",
         "domain": [
          0,
          0.48
         ],
         "title": {
          "text": "value"
         }
        },
        "xaxis2": {
         "anchor": "y2",
         "domain": [
          0.5,
          0.98
         ],
         "matches": "x",
         "title": {
          "text": "value"
         }
        },
        "xaxis3": {
         "anchor": "y3",
         "domain": [
          0,
          0.48
         ],
         "matches": "x",
         "showticklabels": false
        },
        "xaxis4": {
         "anchor": "y4",
         "domain": [
          0.5,
          0.98
         ],
         "matches": "x",
         "showticklabels": false
        },
        "yaxis": {
         "anchor": "x",
         "domain": [
          0,
          0.485
         ],
         "title": {
          "text": "count"
         }
        },
        "yaxis2": {
         "anchor": "x2",
         "domain": [
          0,
          0.485
         ],
         "matches": "y",
         "showticklabels": false
        },
        "yaxis3": {
         "anchor": "x3",
         "domain": [
          0.515,
          1
         ],
         "matches": "y",
         "title": {
          "text": "count"
         }
        },
        "yaxis4": {
         "anchor": "x4",
         "domain": [
          0.515,
          1
         ],
         "matches": "y",
         "showticklabels": false
        }
       }
      }
     },
     "metadata": {},
     "output_type": "display_data"
    }
   ],
   "source": [
    "plx.histogram(numeric[\"G1\"], facet_col= numeric[\"famsize\"], facet_row=numeric[\"sex\"])"
   ]
  },
  {
   "cell_type": "code",
   "execution_count": 10,
   "metadata": {},
   "outputs": [
    {
     "data": {
      "application/vnd.plotly.v1+json": {
       "config": {
        "plotlyServerURL": "https://plot.ly"
       },
       "data": [
        {
         "alignmentgroup": "True",
         "bingroup": "x",
         "hovertemplate": "variable=Language<br>facet_col=1<br>value=%{x}<br>count=%{y}<extra></extra>",
         "legendgroup": "Language",
         "marker": {
          "color": "#636efa",
          "pattern": {
           "shape": ""
          }
         },
         "name": "Language",
         "offsetgroup": "Language",
         "orientation": "v",
         "showlegend": true,
         "type": "histogram",
         "x": [
          7.333333333333333,
          10.333333333333334,
          14,
          12.333333333333334,
          12,
          12.333333333333334,
          14,
          11.666666666666666,
          12.333333333333334,
          14.333333333333334,
          17,
          13.333333333333334,
          13.666666666666666,
          7.666666666666667,
          13,
          11.666666666666666,
          10.333333333333334,
          11,
          11.666666666666666,
          11,
          11.666666666666666,
          10.666666666666666,
          15,
          14,
          12,
          11,
          13,
          11.666666666666666,
          13,
          14.666666666666666,
          9.666666666666666,
          17,
          12,
          12.333333333333334,
          12.333333333333334,
          12.333333333333334,
          14.666666666666666,
          15.333333333333334,
          15.666666666666666,
          16.333333333333332,
          12,
          13.333333333333334,
          11.666666666666666,
          9.666666666666666,
          11.666666666666666,
          10,
          11.666666666666666,
          13.333333333333334,
          11,
          11,
          11.333333333333334,
          13,
          9.333333333333334,
          11.333333333333334,
          11.333333333333334,
          9.333333333333334,
          12.333333333333334,
          11.666666666666666,
          15,
          11,
          10.333333333333334,
          13.333333333333334,
          13.666666666666666,
          13,
          10.333333333333334,
          12.333333333333334,
          12.666666666666666,
          12.666666666666666,
          8.666666666666666,
          16,
          12.333333333333334,
          10.333333333333334,
          16,
          10,
          10,
          13.666666666666666,
          11,
          11,
          9.333333333333334,
          9.666666666666666,
          14.666666666666666,
          15.666666666666666,
          14.333333333333334,
          11.333333333333334,
          13.666666666666666,
          14,
          13.333333333333334,
          12.666666666666666,
          11.333333333333334,
          9,
          10,
          14.333333333333334,
          12.666666666666666,
          11,
          9,
          12,
          14,
          9.666666666666666,
          11.666666666666666,
          11.333333333333334,
          14,
          9.666666666666666,
          13.333333333333334,
          11.333333333333334,
          11.333333333333334,
          9.333333333333334,
          13.666666666666666,
          8.666666666666666,
          10.333333333333334,
          8.666666666666666,
          13.666666666666666,
          13,
          7.333333333333333,
          12,
          11,
          12.666666666666666,
          11,
          8.666666666666666,
          13,
          10.333333333333334,
          13,
          7.666666666666667,
          10.666666666666666,
          11,
          7,
          7,
          8.333333333333334,
          7.666666666666667,
          10,
          17.333333333333332,
          12.333333333333334,
          16.333333333333332,
          9.333333333333334,
          17,
          13.333333333333334,
          13,
          10,
          10,
          11.666666666666666,
          10.666666666666666,
          12,
          17.333333333333332,
          15,
          12.666666666666666,
          10,
          13,
          9.333333333333334,
          12.333333333333334,
          11.666666666666666,
          11,
          10.333333333333334,
          12.333333333333334,
          13.333333333333334,
          15,
          14.333333333333334,
          11.666666666666666,
          14.666666666666666,
          13,
          13,
          8.333333333333334,
          11.333333333333334,
          14.666666666666666,
          12.666666666666666,
          11.666666666666666,
          12,
          13,
          11.333333333333334,
          10,
          12.666666666666666,
          12.333333333333334,
          10.666666666666666,
          12,
          13.333333333333334,
          9.666666666666666,
          15.666666666666666,
          8,
          17.333333333333332,
          15.333333333333334,
          12.666666666666666,
          13,
          13.333333333333334,
          12,
          9.666666666666666,
          13.333333333333334,
          7.333333333333333,
          7.666666666666667,
          9,
          14.333333333333334,
          11.333333333333334,
          13,
          7.666666666666667,
          14.666666666666666,
          11.333333333333334,
          14,
          11,
          9.666666666666666,
          11,
          15.666666666666666,
          10.666666666666666,
          11.333333333333334,
          6.666666666666667,
          11.333333333333334,
          7.333333333333333,
          10,
          7,
          13,
          12.333333333333334,
          10.333333333333334,
          12.333333333333334,
          11.666666666666666,
          16,
          9.666666666666666,
          11.333333333333334,
          15,
          10.333333333333334,
          11,
          13.333333333333334,
          12,
          8.333333333333334,
          12,
          11,
          12,
          9,
          11.666666666666666,
          16,
          17,
          14.333333333333334,
          15.666666666666666,
          10.333333333333334,
          11.666666666666666,
          13,
          14.333333333333334,
          9,
          10.333333333333334,
          12.666666666666666,
          12.666666666666666,
          13,
          12,
          18,
          13.333333333333334,
          14.666666666666666,
          15.666666666666666,
          17.666666666666668,
          14.666666666666666,
          13.333333333333334,
          16.666666666666668,
          7.333333333333333,
          16,
          18,
          14.666666666666666,
          10.333333333333334,
          10.333333333333334,
          13,
          12.333333333333334,
          16,
          15.333333333333334,
          15.666666666666666,
          12.333333333333334,
          10.333333333333334,
          12,
          12.333333333333334,
          15.333333333333334,
          15.333333333333334,
          10.333333333333334,
          10,
          13.333333333333334,
          17.333333333333332,
          14,
          13.333333333333334,
          17.333333333333332,
          10.333333333333334,
          12.666666666666666,
          14.666666666666666,
          11.333333333333334,
          10.333333333333334,
          9.666666666666666,
          15,
          14.666666666666666,
          11,
          13.666666666666666,
          12.666666666666666,
          13.333333333333334,
          14.666666666666666,
          12.333333333333334,
          12,
          12.333333333333334,
          15.666666666666666,
          15.333333333333334,
          13.666666666666666,
          12,
          14,
          14.666666666666666,
          12,
          15.666666666666666,
          13.666666666666666,
          10,
          16,
          13.666666666666666,
          9.666666666666666,
          9.333333333333334,
          12,
          10.666666666666666,
          12,
          10,
          10.333333333333334,
          16.666666666666668,
          10.666666666666666,
          10,
          6.333333333333333,
          13.666666666666666,
          11.666666666666666,
          11,
          15.333333333333334,
          2.3333333333333335,
          8.666666666666666,
          10,
          8.333333333333334,
          9,
          16.333333333333332,
          12.333333333333334,
          15,
          10.666666666666666,
          10,
          8.666666666666666,
          8.333333333333334,
          9.333333333333334,
          14,
          12,
          9.666666666666666,
          10.666666666666666,
          13,
          13.666666666666666,
          11,
          8.333333333333334,
          10,
          13.666666666666666,
          12.666666666666666,
          12.666666666666666,
          12.333333333333334,
          11.666666666666666,
          13,
          11,
          7.333333333333333,
          9.333333333333334,
          9.333333333333334,
          10,
          10,
          10.666666666666666,
          9.666666666666666,
          8.333333333333334,
          9,
          10,
          8,
          9.333333333333334,
          9.333333333333334,
          13.333333333333334,
          10.333333333333334,
          13.666666666666666,
          16.333333333333332,
          6.666666666666667,
          14,
          11,
          10,
          9.333333333333334,
          16.333333333333332,
          10,
          7,
          7.333333333333333,
          6.666666666666667,
          15.333333333333334,
          7,
          5,
          9.333333333333334,
          8,
          13.666666666666666,
          9,
          8.666666666666666,
          10,
          8,
          10,
          10.333333333333334,
          10.333333333333334,
          11,
          8.666666666666666,
          8.333333333333334,
          14.666666666666666,
          10.666666666666666,
          17.666666666666668,
          13.333333333333334,
          9.333333333333334,
          10.333333333333334,
          13.333333333333334,
          8.666666666666666,
          10.333333333333334,
          12.333333333333334,
          9.666666666666666,
          2.3333333333333335,
          10,
          8.333333333333334,
          1.3333333333333333,
          8.666666666666666,
          6.666666666666667,
          7.666666666666667,
          8.666666666666666,
          5.666666666666667,
          8.666666666666666,
          9.666666666666666,
          10.333333333333334,
          10,
          10,
          9,
          9,
          7.333333333333333,
          4.666666666666667,
          10.666666666666666,
          5.333333333333333,
          9,
          7.333333333333333,
          13,
          12,
          18,
          17.666666666666668,
          3,
          13,
          13,
          8.666666666666666,
          9.666666666666666,
          1.6666666666666667,
          18,
          11.333333333333334,
          2.6666666666666665,
          14.333333333333334,
          10.666666666666666,
          10,
          12,
          12.666666666666666,
          13,
          9,
          8.333333333333334,
          10,
          4,
          11,
          8,
          11,
          8,
          16,
          8.666666666666666,
          18,
          4.666666666666667,
          15,
          4.333333333333333,
          4.666666666666667,
          15.333333333333334,
          8.666666666666666,
          8.666666666666666,
          10.333333333333334,
          10.666666666666666
         ],
         "xaxis": "x",
         "yaxis": "y"
        },
        {
         "alignmentgroup": "True",
         "bingroup": "x",
         "hovertemplate": "variable=Language<br>facet_col=0<br>value=%{x}<br>count=%{y}<extra></extra>",
         "legendgroup": "Language",
         "marker": {
          "color": "#636efa",
          "pattern": {
           "shape": ""
          }
         },
         "name": "Language",
         "offsetgroup": "Language",
         "orientation": "v",
         "showlegend": false,
         "type": "histogram",
         "x": [
          12.333333333333334,
          12.333333333333334,
          12.666666666666666,
          16,
          12.333333333333334,
          12,
          13,
          10,
          12.333333333333334,
          12.333333333333334,
          14,
          10.666666666666666,
          10.666666666666666,
          10.666666666666666,
          10.666666666666666,
          12.666666666666666,
          13.333333333333334,
          15.333333333333334,
          9.333333333333334,
          12.666666666666666,
          13.666666666666666,
          12,
          12.333333333333334,
          15.666666666666666,
          10.666666666666666,
          15,
          11.333333333333334,
          12.666666666666666,
          11.666666666666666,
          9.333333333333334,
          12.333333333333334,
          11.666666666666666,
          14.666666666666666,
          13.666666666666666,
          17.666666666666668,
          13,
          10.666666666666666,
          10.666666666666666,
          12.333333333333334,
          11.333333333333334,
          10,
          11.333333333333334,
          10.666666666666666,
          10.333333333333334,
          11.333333333333334,
          6.666666666666667,
          9.666666666666666,
          9,
          9,
          8.333333333333334,
          9,
          8,
          10,
          14.333333333333334,
          10.666666666666666,
          13.666666666666666,
          14.333333333333334,
          15,
          11,
          10.666666666666666,
          12.333333333333334,
          11.333333333333334,
          15,
          10,
          10.666666666666666,
          10,
          12.666666666666666,
          9,
          16,
          10,
          9,
          10.333333333333334,
          8.666666666666666,
          10,
          14.666666666666666,
          14.333333333333334,
          15,
          12,
          14.333333333333334,
          9.666666666666666,
          9.666666666666666,
          12.333333333333334,
          15.333333333333334,
          10.666666666666666,
          12.333333333333334,
          12.666666666666666,
          11,
          15.666666666666666,
          13,
          12,
          10,
          10.666666666666666,
          13,
          17.333333333333332,
          17,
          18.666666666666668,
          14.666666666666666,
          13.666666666666666,
          17.666666666666668,
          14.666666666666666,
          12.666666666666666,
          10,
          13,
          12.333333333333334,
          12.333333333333334,
          9.333333333333334,
          8.333333333333334,
          10.666666666666666,
          14.333333333333334,
          11.333333333333334,
          10.333333333333334,
          14.333333333333334,
          16.333333333333332,
          10.666666666666666,
          11,
          10.666666666666666,
          14,
          14,
          16,
          9.666666666666666,
          17.333333333333332,
          16,
          7.666666666666667,
          10.666666666666666,
          10,
          10,
          7,
          13,
          8,
          11,
          10.666666666666666,
          12.333333333333334,
          14.666666666666666,
          9.333333333333334,
          10.666666666666666,
          8.666666666666666,
          9.333333333333334,
          7.333333333333333,
          8.666666666666666,
          8.666666666666666,
          14,
          13,
          9,
          12.666666666666666,
          10.666666666666666,
          17,
          9,
          14.333333333333334,
          7.333333333333333,
          5.666666666666667,
          8,
          15,
          9.666666666666666,
          11,
          15,
          11.666666666666666,
          13.666666666666666,
          12.333333333333334,
          11,
          9.666666666666666,
          11.666666666666666,
          10.666666666666666,
          12.666666666666666,
          11.333333333333334,
          10,
          9.666666666666666,
          12,
          9.666666666666666,
          9.333333333333334,
          7,
          7.666666666666667,
          7,
          9,
          13,
          17,
          10.666666666666666,
          12,
          1.6666666666666667,
          11.333333333333334,
          9.666666666666666,
          14.666666666666666,
          13.666666666666666,
          18,
          15.333333333333334,
          14.666666666666666,
          15.666666666666666,
          9.666666666666666,
          16.333333333333332,
          13.666666666666666,
          15.333333333333334,
          10,
          10.666666666666666
         ],
         "xaxis": "x2",
         "yaxis": "y2"
        }
       ],
       "layout": {
        "annotations": [
         {
          "font": {},
          "showarrow": false,
          "text": "facet_col=1",
          "x": 0.245,
          "xanchor": "center",
          "xref": "paper",
          "y": 1,
          "yanchor": "bottom",
          "yref": "paper"
         },
         {
          "font": {},
          "showarrow": false,
          "text": "facet_col=0",
          "x": 0.755,
          "xanchor": "center",
          "xref": "paper",
          "y": 1,
          "yanchor": "bottom",
          "yref": "paper"
         }
        ],
        "barmode": "relative",
        "legend": {
         "title": {
          "text": "variable"
         },
         "tracegroupgap": 0
        },
        "margin": {
         "t": 60
        },
        "template": {
         "data": {
          "bar": [
           {
            "error_x": {
             "color": "#2a3f5f"
            },
            "error_y": {
             "color": "#2a3f5f"
            },
            "marker": {
             "line": {
              "color": "#E5ECF6",
              "width": 0.5
             },
             "pattern": {
              "fillmode": "overlay",
              "size": 10,
              "solidity": 0.2
             }
            },
            "type": "bar"
           }
          ],
          "barpolar": [
           {
            "marker": {
             "line": {
              "color": "#E5ECF6",
              "width": 0.5
             },
             "pattern": {
              "fillmode": "overlay",
              "size": 10,
              "solidity": 0.2
             }
            },
            "type": "barpolar"
           }
          ],
          "carpet": [
           {
            "aaxis": {
             "endlinecolor": "#2a3f5f",
             "gridcolor": "white",
             "linecolor": "white",
             "minorgridcolor": "white",
             "startlinecolor": "#2a3f5f"
            },
            "baxis": {
             "endlinecolor": "#2a3f5f",
             "gridcolor": "white",
             "linecolor": "white",
             "minorgridcolor": "white",
             "startlinecolor": "#2a3f5f"
            },
            "type": "carpet"
           }
          ],
          "choropleth": [
           {
            "colorbar": {
             "outlinewidth": 0,
             "ticks": ""
            },
            "type": "choropleth"
           }
          ],
          "contour": [
           {
            "colorbar": {
             "outlinewidth": 0,
             "ticks": ""
            },
            "colorscale": [
             [
              0,
              "#0d0887"
             ],
             [
              0.1111111111111111,
              "#46039f"
             ],
             [
              0.2222222222222222,
              "#7201a8"
             ],
             [
              0.3333333333333333,
              "#9c179e"
             ],
             [
              0.4444444444444444,
              "#bd3786"
             ],
             [
              0.5555555555555556,
              "#d8576b"
             ],
             [
              0.6666666666666666,
              "#ed7953"
             ],
             [
              0.7777777777777778,
              "#fb9f3a"
             ],
             [
              0.8888888888888888,
              "#fdca26"
             ],
             [
              1,
              "#f0f921"
             ]
            ],
            "type": "contour"
           }
          ],
          "contourcarpet": [
           {
            "colorbar": {
             "outlinewidth": 0,
             "ticks": ""
            },
            "type": "contourcarpet"
           }
          ],
          "heatmap": [
           {
            "colorbar": {
             "outlinewidth": 0,
             "ticks": ""
            },
            "colorscale": [
             [
              0,
              "#0d0887"
             ],
             [
              0.1111111111111111,
              "#46039f"
             ],
             [
              0.2222222222222222,
              "#7201a8"
             ],
             [
              0.3333333333333333,
              "#9c179e"
             ],
             [
              0.4444444444444444,
              "#bd3786"
             ],
             [
              0.5555555555555556,
              "#d8576b"
             ],
             [
              0.6666666666666666,
              "#ed7953"
             ],
             [
              0.7777777777777778,
              "#fb9f3a"
             ],
             [
              0.8888888888888888,
              "#fdca26"
             ],
             [
              1,
              "#f0f921"
             ]
            ],
            "type": "heatmap"
           }
          ],
          "heatmapgl": [
           {
            "colorbar": {
             "outlinewidth": 0,
             "ticks": ""
            },
            "colorscale": [
             [
              0,
              "#0d0887"
             ],
             [
              0.1111111111111111,
              "#46039f"
             ],
             [
              0.2222222222222222,
              "#7201a8"
             ],
             [
              0.3333333333333333,
              "#9c179e"
             ],
             [
              0.4444444444444444,
              "#bd3786"
             ],
             [
              0.5555555555555556,
              "#d8576b"
             ],
             [
              0.6666666666666666,
              "#ed7953"
             ],
             [
              0.7777777777777778,
              "#fb9f3a"
             ],
             [
              0.8888888888888888,
              "#fdca26"
             ],
             [
              1,
              "#f0f921"
             ]
            ],
            "type": "heatmapgl"
           }
          ],
          "histogram": [
           {
            "marker": {
             "pattern": {
              "fillmode": "overlay",
              "size": 10,
              "solidity": 0.2
             }
            },
            "type": "histogram"
           }
          ],
          "histogram2d": [
           {
            "colorbar": {
             "outlinewidth": 0,
             "ticks": ""
            },
            "colorscale": [
             [
              0,
              "#0d0887"
             ],
             [
              0.1111111111111111,
              "#46039f"
             ],
             [
              0.2222222222222222,
              "#7201a8"
             ],
             [
              0.3333333333333333,
              "#9c179e"
             ],
             [
              0.4444444444444444,
              "#bd3786"
             ],
             [
              0.5555555555555556,
              "#d8576b"
             ],
             [
              0.6666666666666666,
              "#ed7953"
             ],
             [
              0.7777777777777778,
              "#fb9f3a"
             ],
             [
              0.8888888888888888,
              "#fdca26"
             ],
             [
              1,
              "#f0f921"
             ]
            ],
            "type": "histogram2d"
           }
          ],
          "histogram2dcontour": [
           {
            "colorbar": {
             "outlinewidth": 0,
             "ticks": ""
            },
            "colorscale": [
             [
              0,
              "#0d0887"
             ],
             [
              0.1111111111111111,
              "#46039f"
             ],
             [
              0.2222222222222222,
              "#7201a8"
             ],
             [
              0.3333333333333333,
              "#9c179e"
             ],
             [
              0.4444444444444444,
              "#bd3786"
             ],
             [
              0.5555555555555556,
              "#d8576b"
             ],
             [
              0.6666666666666666,
              "#ed7953"
             ],
             [
              0.7777777777777778,
              "#fb9f3a"
             ],
             [
              0.8888888888888888,
              "#fdca26"
             ],
             [
              1,
              "#f0f921"
             ]
            ],
            "type": "histogram2dcontour"
           }
          ],
          "mesh3d": [
           {
            "colorbar": {
             "outlinewidth": 0,
             "ticks": ""
            },
            "type": "mesh3d"
           }
          ],
          "parcoords": [
           {
            "line": {
             "colorbar": {
              "outlinewidth": 0,
              "ticks": ""
             }
            },
            "type": "parcoords"
           }
          ],
          "pie": [
           {
            "automargin": true,
            "type": "pie"
           }
          ],
          "scatter": [
           {
            "fillpattern": {
             "fillmode": "overlay",
             "size": 10,
             "solidity": 0.2
            },
            "type": "scatter"
           }
          ],
          "scatter3d": [
           {
            "line": {
             "colorbar": {
              "outlinewidth": 0,
              "ticks": ""
             }
            },
            "marker": {
             "colorbar": {
              "outlinewidth": 0,
              "ticks": ""
             }
            },
            "type": "scatter3d"
           }
          ],
          "scattercarpet": [
           {
            "marker": {
             "colorbar": {
              "outlinewidth": 0,
              "ticks": ""
             }
            },
            "type": "scattercarpet"
           }
          ],
          "scattergeo": [
           {
            "marker": {
             "colorbar": {
              "outlinewidth": 0,
              "ticks": ""
             }
            },
            "type": "scattergeo"
           }
          ],
          "scattergl": [
           {
            "marker": {
             "colorbar": {
              "outlinewidth": 0,
              "ticks": ""
             }
            },
            "type": "scattergl"
           }
          ],
          "scattermapbox": [
           {
            "marker": {
             "colorbar": {
              "outlinewidth": 0,
              "ticks": ""
             }
            },
            "type": "scattermapbox"
           }
          ],
          "scatterpolar": [
           {
            "marker": {
             "colorbar": {
              "outlinewidth": 0,
              "ticks": ""
             }
            },
            "type": "scatterpolar"
           }
          ],
          "scatterpolargl": [
           {
            "marker": {
             "colorbar": {
              "outlinewidth": 0,
              "ticks": ""
             }
            },
            "type": "scatterpolargl"
           }
          ],
          "scatterternary": [
           {
            "marker": {
             "colorbar": {
              "outlinewidth": 0,
              "ticks": ""
             }
            },
            "type": "scatterternary"
           }
          ],
          "surface": [
           {
            "colorbar": {
             "outlinewidth": 0,
             "ticks": ""
            },
            "colorscale": [
             [
              0,
              "#0d0887"
             ],
             [
              0.1111111111111111,
              "#46039f"
             ],
             [
              0.2222222222222222,
              "#7201a8"
             ],
             [
              0.3333333333333333,
              "#9c179e"
             ],
             [
              0.4444444444444444,
              "#bd3786"
             ],
             [
              0.5555555555555556,
              "#d8576b"
             ],
             [
              0.6666666666666666,
              "#ed7953"
             ],
             [
              0.7777777777777778,
              "#fb9f3a"
             ],
             [
              0.8888888888888888,
              "#fdca26"
             ],
             [
              1,
              "#f0f921"
             ]
            ],
            "type": "surface"
           }
          ],
          "table": [
           {
            "cells": {
             "fill": {
              "color": "#EBF0F8"
             },
             "line": {
              "color": "white"
             }
            },
            "header": {
             "fill": {
              "color": "#C8D4E3"
             },
             "line": {
              "color": "white"
             }
            },
            "type": "table"
           }
          ]
         },
         "layout": {
          "annotationdefaults": {
           "arrowcolor": "#2a3f5f",
           "arrowhead": 0,
           "arrowwidth": 1
          },
          "autotypenumbers": "strict",
          "coloraxis": {
           "colorbar": {
            "outlinewidth": 0,
            "ticks": ""
           }
          },
          "colorscale": {
           "diverging": [
            [
             0,
             "#8e0152"
            ],
            [
             0.1,
             "#c51b7d"
            ],
            [
             0.2,
             "#de77ae"
            ],
            [
             0.3,
             "#f1b6da"
            ],
            [
             0.4,
             "#fde0ef"
            ],
            [
             0.5,
             "#f7f7f7"
            ],
            [
             0.6,
             "#e6f5d0"
            ],
            [
             0.7,
             "#b8e186"
            ],
            [
             0.8,
             "#7fbc41"
            ],
            [
             0.9,
             "#4d9221"
            ],
            [
             1,
             "#276419"
            ]
           ],
           "sequential": [
            [
             0,
             "#0d0887"
            ],
            [
             0.1111111111111111,
             "#46039f"
            ],
            [
             0.2222222222222222,
             "#7201a8"
            ],
            [
             0.3333333333333333,
             "#9c179e"
            ],
            [
             0.4444444444444444,
             "#bd3786"
            ],
            [
             0.5555555555555556,
             "#d8576b"
            ],
            [
             0.6666666666666666,
             "#ed7953"
            ],
            [
             0.7777777777777778,
             "#fb9f3a"
            ],
            [
             0.8888888888888888,
             "#fdca26"
            ],
            [
             1,
             "#f0f921"
            ]
           ],
           "sequentialminus": [
            [
             0,
             "#0d0887"
            ],
            [
             0.1111111111111111,
             "#46039f"
            ],
            [
             0.2222222222222222,
             "#7201a8"
            ],
            [
             0.3333333333333333,
             "#9c179e"
            ],
            [
             0.4444444444444444,
             "#bd3786"
            ],
            [
             0.5555555555555556,
             "#d8576b"
            ],
            [
             0.6666666666666666,
             "#ed7953"
            ],
            [
             0.7777777777777778,
             "#fb9f3a"
            ],
            [
             0.8888888888888888,
             "#fdca26"
            ],
            [
             1,
             "#f0f921"
            ]
           ]
          },
          "colorway": [
           "#636efa",
           "#EF553B",
           "#00cc96",
           "#ab63fa",
           "#FFA15A",
           "#19d3f3",
           "#FF6692",
           "#B6E880",
           "#FF97FF",
           "#FECB52"
          ],
          "font": {
           "color": "#2a3f5f"
          },
          "geo": {
           "bgcolor": "white",
           "lakecolor": "white",
           "landcolor": "#E5ECF6",
           "showlakes": true,
           "showland": true,
           "subunitcolor": "white"
          },
          "hoverlabel": {
           "align": "left"
          },
          "hovermode": "closest",
          "mapbox": {
           "style": "light"
          },
          "paper_bgcolor": "white",
          "plot_bgcolor": "#E5ECF6",
          "polar": {
           "angularaxis": {
            "gridcolor": "white",
            "linecolor": "white",
            "ticks": ""
           },
           "bgcolor": "#E5ECF6",
           "radialaxis": {
            "gridcolor": "white",
            "linecolor": "white",
            "ticks": ""
           }
          },
          "scene": {
           "xaxis": {
            "backgroundcolor": "#E5ECF6",
            "gridcolor": "white",
            "gridwidth": 2,
            "linecolor": "white",
            "showbackground": true,
            "ticks": "",
            "zerolinecolor": "white"
           },
           "yaxis": {
            "backgroundcolor": "#E5ECF6",
            "gridcolor": "white",
            "gridwidth": 2,
            "linecolor": "white",
            "showbackground": true,
            "ticks": "",
            "zerolinecolor": "white"
           },
           "zaxis": {
            "backgroundcolor": "#E5ECF6",
            "gridcolor": "white",
            "gridwidth": 2,
            "linecolor": "white",
            "showbackground": true,
            "ticks": "",
            "zerolinecolor": "white"
           }
          },
          "shapedefaults": {
           "line": {
            "color": "#2a3f5f"
           }
          },
          "ternary": {
           "aaxis": {
            "gridcolor": "white",
            "linecolor": "white",
            "ticks": ""
           },
           "baxis": {
            "gridcolor": "white",
            "linecolor": "white",
            "ticks": ""
           },
           "bgcolor": "#E5ECF6",
           "caxis": {
            "gridcolor": "white",
            "linecolor": "white",
            "ticks": ""
           }
          },
          "title": {
           "x": 0.05
          },
          "xaxis": {
           "automargin": true,
           "gridcolor": "white",
           "linecolor": "white",
           "ticks": "",
           "title": {
            "standoff": 15
           },
           "zerolinecolor": "white",
           "zerolinewidth": 2
          },
          "yaxis": {
           "automargin": true,
           "gridcolor": "white",
           "linecolor": "white",
           "ticks": "",
           "title": {
            "standoff": 15
           },
           "zerolinecolor": "white",
           "zerolinewidth": 2
          }
         }
        },
        "xaxis": {
         "anchor": "y",
         "domain": [
          0,
          0.49
         ],
         "title": {
          "text": "value"
         }
        },
        "xaxis2": {
         "anchor": "y2",
         "domain": [
          0.51,
          1
         ],
         "matches": "x",
         "title": {
          "text": "value"
         }
        },
        "yaxis": {
         "anchor": "x",
         "domain": [
          0,
          1
         ],
         "title": {
          "text": "count"
         }
        },
        "yaxis2": {
         "anchor": "x2",
         "domain": [
          0,
          1
         ],
         "matches": "y",
         "showticklabels": false
        }
       }
      }
     },
     "metadata": {},
     "output_type": "display_data"
    }
   ],
   "source": [
    "plx.histogram(numeric[\"Language\"], facet_col=numeric[\"famsize\"])"
   ]
  },
  {
   "cell_type": "code",
   "execution_count": 11,
   "metadata": {},
   "outputs": [
    {
     "data": {
      "application/vnd.plotly.v1+json": {
       "config": {
        "plotlyServerURL": "https://plot.ly"
       },
       "data": [
        {
         "alignmentgroup": "True",
         "bingroup": "x",
         "hovertemplate": "variable=Math<br>facet_col=1<br>value=%{x}<br>count=%{y}<extra></extra>",
         "legendgroup": "Math",
         "marker": {
          "color": "#636efa",
          "pattern": {
           "shape": ""
          }
         },
         "name": "Math",
         "offsetgroup": "Math",
         "orientation": "v",
         "showlegend": true,
         "type": "histogram",
         "x": [
          5.666666666666667,
          5.333333333333333,
          14.666666666666666,
          8.666666666666666,
          5.666666666666667,
          14.666666666666666,
          9,
          11.333333333333334,
          10.333333333333334,
          15.333333333333334,
          14,
          13.666666666666666,
          9.333333333333334,
          5.333333333333333,
          14,
          14,
          9,
          7.666666666666667,
          11.666666666666666,
          15.333333333333334,
          11,
          10.666666666666666,
          16.666666666666668,
          16.333333333333332,
          13.666666666666666,
          7,
          15.333333333333334,
          11.666666666666666,
          13.333333333333334,
          18.333333333333332,
          9,
          19.333333333333332,
          14.666666666666666,
          7,
          9.666666666666666,
          9,
          14.666666666666666,
          14.666666666666666,
          15.666666666666666,
          10.666666666666666,
          9.666666666666666,
          9.333333333333334,
          12.666666666666666,
          6.666666666666667,
          14.333333333333334,
          10,
          6.333333333333333,
          12.666666666666666,
          11.333333333333334,
          9.333333333333334,
          10.666666666666666,
          11,
          8.666666666666666,
          5,
          11.333333333333334,
          10.666666666666666,
          9.666666666666666,
          8,
          13.666666666666666,
          10.333333333333334,
          7.333333333333333,
          17,
          10.333333333333334,
          9,
          13.666666666666666,
          9,
          13,
          8,
          6.333333333333333,
          16.666666666666668,
          12.333333333333334,
          6.333333333333333,
          17.333333333333332,
          10.666666666666666,
          7.666666666666667,
          17.333333333333332,
          12,
          9,
          12,
          9,
          15.333333333333334,
          12.666666666666666,
          13.333333333333334,
          8,
          13.333333333333334,
          15.333333333333334,
          15,
          12.666666666666666,
          7.666666666666667,
          12.666666666666666,
          8,
          3.6666666666666665,
          18,
          4,
          2.6666666666666665,
          11.333333333333334,
          3.6666666666666665,
          3.3333333333333335,
          1.3333333333333333,
          12.666666666666666,
          15.666666666666666,
          5.333333333333333,
          9,
          13.666666666666666,
          1.6666666666666667,
          10,
          10.666666666666666,
          4.333333333333333,
          9,
          3.6666666666666665,
          13,
          1.6666666666666667,
          9,
          13.666666666666666,
          15.666666666666666,
          11.333333333333334,
          4.333333333333333,
          7,
          11.666666666666666,
          10,
          15,
          4.333333333333333,
          3.6666666666666665,
          14.666666666666666,
          11.333333333333334,
          9.333333333333334,
          5.666666666666667,
          10.333333333333334,
          8.333333333333334,
          12.333333333333334,
          16.666666666666668,
          8.666666666666666,
          12.333333333333334,
          11.666666666666666,
          15,
          12,
          8.333333333333334,
          7.666666666666667,
          9,
          13.666666666666666,
          14.666666666666666,
          16,
          18,
          9.333333333333334,
          16,
          9.333333333333334,
          6.333333333333333,
          10.333333333333334,
          9.333333333333334,
          7,
          12,
          9.333333333333334,
          8,
          13,
          9.333333333333334,
          14.666666666666666,
          5.333333333333333,
          6.666666666666667,
          7.333333333333333,
          9.666666666666666,
          6,
          3.6666666666666665,
          16.333333333333332,
          12.666666666666666,
          13.333333333333334,
          15.333333333333334,
          11.666666666666666,
          13.333333333333334,
          9.666666666666666,
          13.333333333333334,
          7.333333333333333,
          10,
          13.333333333333334,
          12.333333333333334,
          11.666666666666666,
          4.666666666666667,
          12,
          12.333333333333334,
          18,
          12.333333333333334,
          7.333333333333333,
          14.333333333333334,
          9,
          7.666666666666667,
          8,
          13,
          11,
          14.333333333333334,
          17.666666666666668,
          8,
          9.333333333333334,
          9,
          14.333333333333334,
          11,
          14.333333333333334,
          10,
          12,
          9.333333333333334,
          9,
          8.333333333333334,
          10.333333333333334,
          10,
          12,
          9,
          10,
          11,
          18.333333333333332,
          11.333333333333334,
          12.333333333333334,
          13.666666666666666,
          6.333333333333333,
          8.666666666666666,
          15.666666666666666,
          11,
          10.666666666666666,
          13.666666666666666,
          17.333333333333332,
          14,
          12.666666666666666,
          8.333333333333334,
          13,
          10.666666666666666,
          6,
          13,
          11.666666666666666,
          13.666666666666666,
          11.666666666666666,
          5.333333333333333,
          10.666666666666666,
          11,
          13,
          9.666666666666666,
          11,
          15.333333333333334,
          9.333333333333334,
          14,
          8.333333333333334,
          13.333333333333334,
          2.3333333333333335,
          5.333333333333333,
          6.333333333333333,
          13.333333333333334,
          5,
          11.333333333333334,
          6.666666666666667,
          5.666666666666667,
          9.666666666666666,
          14.333333333333334,
          12.333333333333334,
          13,
          7.666666666666667,
          8,
          11.666666666666666,
          9.333333333333334,
          12.666666666666666,
          11.666666666666666,
          16.666666666666668,
          13,
          12.333333333333334,
          10.666666666666666,
          15.333333333333334,
          11.666666666666666,
          10,
          12.333333333333334,
          12.666666666666666,
          11.666666666666666,
          18.666666666666668,
          14.666666666666666,
          9,
          15,
          10,
          14.333333333333334,
          6.666666666666667,
          10.666666666666666,
          5.333333333333333,
          9.666666666666666,
          5.666666666666667,
          4,
          8,
          9,
          15.333333333333334,
          8.333333333333334,
          8.666666666666666,
          null,
          null,
          null,
          null,
          null,
          null,
          null,
          null,
          null,
          null,
          null,
          null,
          null,
          null,
          null,
          null,
          null,
          null,
          null,
          null,
          null,
          null,
          null,
          null,
          null,
          null,
          null,
          null,
          null,
          null,
          null,
          null,
          null,
          null,
          null,
          null,
          null,
          null,
          null,
          null,
          null,
          null,
          null,
          null,
          null,
          null,
          null,
          null,
          null,
          null,
          null,
          null,
          null,
          null,
          null,
          null,
          null,
          null,
          null,
          null,
          null,
          null,
          null,
          null,
          null,
          null,
          null,
          null,
          null,
          null,
          null,
          null,
          null,
          null,
          null,
          null,
          null,
          null,
          null,
          null,
          null,
          null,
          null,
          null,
          null,
          null,
          null,
          null,
          null,
          null,
          null,
          null,
          null,
          null,
          null,
          null,
          null,
          null,
          null,
          null,
          null,
          null,
          null,
          null,
          null,
          null,
          null,
          null,
          null,
          null,
          null,
          null,
          null,
          null,
          null,
          null,
          null,
          null,
          null,
          null,
          null,
          null,
          null,
          null,
          null,
          null,
          null,
          null,
          null,
          null,
          null,
          null,
          null,
          null,
          null,
          null,
          null,
          null,
          null,
          null,
          null,
          null,
          null,
          null,
          null,
          null,
          null,
          null,
          null,
          null,
          null,
          null,
          null,
          null,
          null,
          null,
          null,
          null,
          null,
          null,
          null,
          null,
          null,
          null,
          null,
          null,
          null,
          null,
          null,
          null,
          null,
          null,
          null,
          null
         ],
         "xaxis": "x",
         "yaxis": "y"
        },
        {
         "alignmentgroup": "True",
         "bingroup": "x",
         "hovertemplate": "variable=Math<br>facet_col=0<br>value=%{x}<br>count=%{y}<extra></extra>",
         "legendgroup": "Math",
         "marker": {
          "color": "#636efa",
          "pattern": {
           "shape": ""
          }
         },
         "name": "Math",
         "offsetgroup": "Math",
         "orientation": "v",
         "showlegend": false,
         "type": "histogram",
         "x": [
          8.333333333333334,
          15,
          11.666666666666666,
          17.666666666666668,
          14,
          9.333333333333334,
          15.333333333333334,
          12.666666666666666,
          11,
          10,
          16.333333333333332,
          9.333333333333334,
          12,
          9.666666666666666,
          7.333333333333333,
          11.333333333333334,
          12.666666666666666,
          12.333333333333334,
          10.666666666666666,
          12,
          9.333333333333334,
          9,
          10,
          15.333333333333334,
          8.333333333333334,
          16,
          6.333333333333333,
          15,
          7,
          7,
          6.333333333333333,
          12.666666666666666,
          15,
          18.666666666666668,
          18.666666666666668,
          13,
          9.333333333333334,
          11.666666666666666,
          3,
          10.333333333333334,
          4.333333333333333,
          10,
          11.333333333333334,
          9,
          2.3333333333333335,
          10,
          6.666666666666667,
          14,
          5,
          10,
          12.333333333333334,
          9,
          11.333333333333334,
          8,
          9,
          9.333333333333334,
          9.333333333333334,
          7,
          12.333333333333334,
          7,
          8,
          9,
          11.333333333333334,
          11,
          11,
          2,
          2.3333333333333335,
          4.333333333333333,
          7.333333333333333,
          8.333333333333334,
          10.666666666666666,
          6.333333333333333,
          12.333333333333334,
          6.333333333333333,
          17,
          9.333333333333334,
          11,
          9.666666666666666,
          2,
          8,
          12.333333333333334,
          14.333333333333334,
          14.333333333333334,
          15,
          18,
          12.333333333333334,
          13.666666666666666,
          17.666666666666668,
          11.333333333333334,
          9.333333333333334,
          13.666666666666666,
          10.666666666666666,
          15,
          10.333333333333334,
          15.333333333333334,
          16,
          9.666666666666666,
          15.333333333333334,
          10.333333333333334,
          13.333333333333334,
          15.666666666666666,
          7.666666666666667,
          10,
          13,
          4.333333333333333,
          10.333333333333334,
          7.666666666666667,
          5.333333333333333,
          8.666666666666666,
          3.6666666666666665,
          3.6666666666666665,
          11,
          null,
          null,
          null,
          null,
          null,
          null,
          null,
          null,
          null,
          null,
          null,
          null,
          null,
          null,
          null,
          null,
          null,
          null,
          null,
          null,
          null,
          null,
          null,
          null,
          null,
          null,
          null,
          null,
          null,
          null,
          null,
          null,
          null,
          null,
          null,
          null,
          null,
          null,
          null,
          null,
          null,
          null,
          null,
          null,
          null,
          null,
          null,
          null,
          null,
          null,
          null,
          null,
          null,
          null,
          null,
          null,
          null,
          null,
          null,
          null,
          null,
          null,
          null,
          null,
          null,
          null,
          null,
          null,
          null,
          null,
          null,
          null,
          null,
          null,
          null,
          null,
          null,
          null,
          null,
          null
         ],
         "xaxis": "x2",
         "yaxis": "y2"
        }
       ],
       "layout": {
        "annotations": [
         {
          "font": {},
          "showarrow": false,
          "text": "facet_col=1",
          "x": 0.245,
          "xanchor": "center",
          "xref": "paper",
          "y": 1,
          "yanchor": "bottom",
          "yref": "paper"
         },
         {
          "font": {},
          "showarrow": false,
          "text": "facet_col=0",
          "x": 0.755,
          "xanchor": "center",
          "xref": "paper",
          "y": 1,
          "yanchor": "bottom",
          "yref": "paper"
         }
        ],
        "barmode": "relative",
        "legend": {
         "title": {
          "text": "variable"
         },
         "tracegroupgap": 0
        },
        "margin": {
         "t": 60
        },
        "template": {
         "data": {
          "bar": [
           {
            "error_x": {
             "color": "#2a3f5f"
            },
            "error_y": {
             "color": "#2a3f5f"
            },
            "marker": {
             "line": {
              "color": "#E5ECF6",
              "width": 0.5
             },
             "pattern": {
              "fillmode": "overlay",
              "size": 10,
              "solidity": 0.2
             }
            },
            "type": "bar"
           }
          ],
          "barpolar": [
           {
            "marker": {
             "line": {
              "color": "#E5ECF6",
              "width": 0.5
             },
             "pattern": {
              "fillmode": "overlay",
              "size": 10,
              "solidity": 0.2
             }
            },
            "type": "barpolar"
           }
          ],
          "carpet": [
           {
            "aaxis": {
             "endlinecolor": "#2a3f5f",
             "gridcolor": "white",
             "linecolor": "white",
             "minorgridcolor": "white",
             "startlinecolor": "#2a3f5f"
            },
            "baxis": {
             "endlinecolor": "#2a3f5f",
             "gridcolor": "white",
             "linecolor": "white",
             "minorgridcolor": "white",
             "startlinecolor": "#2a3f5f"
            },
            "type": "carpet"
           }
          ],
          "choropleth": [
           {
            "colorbar": {
             "outlinewidth": 0,
             "ticks": ""
            },
            "type": "choropleth"
           }
          ],
          "contour": [
           {
            "colorbar": {
             "outlinewidth": 0,
             "ticks": ""
            },
            "colorscale": [
             [
              0,
              "#0d0887"
             ],
             [
              0.1111111111111111,
              "#46039f"
             ],
             [
              0.2222222222222222,
              "#7201a8"
             ],
             [
              0.3333333333333333,
              "#9c179e"
             ],
             [
              0.4444444444444444,
              "#bd3786"
             ],
             [
              0.5555555555555556,
              "#d8576b"
             ],
             [
              0.6666666666666666,
              "#ed7953"
             ],
             [
              0.7777777777777778,
              "#fb9f3a"
             ],
             [
              0.8888888888888888,
              "#fdca26"
             ],
             [
              1,
              "#f0f921"
             ]
            ],
            "type": "contour"
           }
          ],
          "contourcarpet": [
           {
            "colorbar": {
             "outlinewidth": 0,
             "ticks": ""
            },
            "type": "contourcarpet"
           }
          ],
          "heatmap": [
           {
            "colorbar": {
             "outlinewidth": 0,
             "ticks": ""
            },
            "colorscale": [
             [
              0,
              "#0d0887"
             ],
             [
              0.1111111111111111,
              "#46039f"
             ],
             [
              0.2222222222222222,
              "#7201a8"
             ],
             [
              0.3333333333333333,
              "#9c179e"
             ],
             [
              0.4444444444444444,
              "#bd3786"
             ],
             [
              0.5555555555555556,
              "#d8576b"
             ],
             [
              0.6666666666666666,
              "#ed7953"
             ],
             [
              0.7777777777777778,
              "#fb9f3a"
             ],
             [
              0.8888888888888888,
              "#fdca26"
             ],
             [
              1,
              "#f0f921"
             ]
            ],
            "type": "heatmap"
           }
          ],
          "heatmapgl": [
           {
            "colorbar": {
             "outlinewidth": 0,
             "ticks": ""
            },
            "colorscale": [
             [
              0,
              "#0d0887"
             ],
             [
              0.1111111111111111,
              "#46039f"
             ],
             [
              0.2222222222222222,
              "#7201a8"
             ],
             [
              0.3333333333333333,
              "#9c179e"
             ],
             [
              0.4444444444444444,
              "#bd3786"
             ],
             [
              0.5555555555555556,
              "#d8576b"
             ],
             [
              0.6666666666666666,
              "#ed7953"
             ],
             [
              0.7777777777777778,
              "#fb9f3a"
             ],
             [
              0.8888888888888888,
              "#fdca26"
             ],
             [
              1,
              "#f0f921"
             ]
            ],
            "type": "heatmapgl"
           }
          ],
          "histogram": [
           {
            "marker": {
             "pattern": {
              "fillmode": "overlay",
              "size": 10,
              "solidity": 0.2
             }
            },
            "type": "histogram"
           }
          ],
          "histogram2d": [
           {
            "colorbar": {
             "outlinewidth": 0,
             "ticks": ""
            },
            "colorscale": [
             [
              0,
              "#0d0887"
             ],
             [
              0.1111111111111111,
              "#46039f"
             ],
             [
              0.2222222222222222,
              "#7201a8"
             ],
             [
              0.3333333333333333,
              "#9c179e"
             ],
             [
              0.4444444444444444,
              "#bd3786"
             ],
             [
              0.5555555555555556,
              "#d8576b"
             ],
             [
              0.6666666666666666,
              "#ed7953"
             ],
             [
              0.7777777777777778,
              "#fb9f3a"
             ],
             [
              0.8888888888888888,
              "#fdca26"
             ],
             [
              1,
              "#f0f921"
             ]
            ],
            "type": "histogram2d"
           }
          ],
          "histogram2dcontour": [
           {
            "colorbar": {
             "outlinewidth": 0,
             "ticks": ""
            },
            "colorscale": [
             [
              0,
              "#0d0887"
             ],
             [
              0.1111111111111111,
              "#46039f"
             ],
             [
              0.2222222222222222,
              "#7201a8"
             ],
             [
              0.3333333333333333,
              "#9c179e"
             ],
             [
              0.4444444444444444,
              "#bd3786"
             ],
             [
              0.5555555555555556,
              "#d8576b"
             ],
             [
              0.6666666666666666,
              "#ed7953"
             ],
             [
              0.7777777777777778,
              "#fb9f3a"
             ],
             [
              0.8888888888888888,
              "#fdca26"
             ],
             [
              1,
              "#f0f921"
             ]
            ],
            "type": "histogram2dcontour"
           }
          ],
          "mesh3d": [
           {
            "colorbar": {
             "outlinewidth": 0,
             "ticks": ""
            },
            "type": "mesh3d"
           }
          ],
          "parcoords": [
           {
            "line": {
             "colorbar": {
              "outlinewidth": 0,
              "ticks": ""
             }
            },
            "type": "parcoords"
           }
          ],
          "pie": [
           {
            "automargin": true,
            "type": "pie"
           }
          ],
          "scatter": [
           {
            "fillpattern": {
             "fillmode": "overlay",
             "size": 10,
             "solidity": 0.2
            },
            "type": "scatter"
           }
          ],
          "scatter3d": [
           {
            "line": {
             "colorbar": {
              "outlinewidth": 0,
              "ticks": ""
             }
            },
            "marker": {
             "colorbar": {
              "outlinewidth": 0,
              "ticks": ""
             }
            },
            "type": "scatter3d"
           }
          ],
          "scattercarpet": [
           {
            "marker": {
             "colorbar": {
              "outlinewidth": 0,
              "ticks": ""
             }
            },
            "type": "scattercarpet"
           }
          ],
          "scattergeo": [
           {
            "marker": {
             "colorbar": {
              "outlinewidth": 0,
              "ticks": ""
             }
            },
            "type": "scattergeo"
           }
          ],
          "scattergl": [
           {
            "marker": {
             "colorbar": {
              "outlinewidth": 0,
              "ticks": ""
             }
            },
            "type": "scattergl"
           }
          ],
          "scattermapbox": [
           {
            "marker": {
             "colorbar": {
              "outlinewidth": 0,
              "ticks": ""
             }
            },
            "type": "scattermapbox"
           }
          ],
          "scatterpolar": [
           {
            "marker": {
             "colorbar": {
              "outlinewidth": 0,
              "ticks": ""
             }
            },
            "type": "scatterpolar"
           }
          ],
          "scatterpolargl": [
           {
            "marker": {
             "colorbar": {
              "outlinewidth": 0,
              "ticks": ""
             }
            },
            "type": "scatterpolargl"
           }
          ],
          "scatterternary": [
           {
            "marker": {
             "colorbar": {
              "outlinewidth": 0,
              "ticks": ""
             }
            },
            "type": "scatterternary"
           }
          ],
          "surface": [
           {
            "colorbar": {
             "outlinewidth": 0,
             "ticks": ""
            },
            "colorscale": [
             [
              0,
              "#0d0887"
             ],
             [
              0.1111111111111111,
              "#46039f"
             ],
             [
              0.2222222222222222,
              "#7201a8"
             ],
             [
              0.3333333333333333,
              "#9c179e"
             ],
             [
              0.4444444444444444,
              "#bd3786"
             ],
             [
              0.5555555555555556,
              "#d8576b"
             ],
             [
              0.6666666666666666,
              "#ed7953"
             ],
             [
              0.7777777777777778,
              "#fb9f3a"
             ],
             [
              0.8888888888888888,
              "#fdca26"
             ],
             [
              1,
              "#f0f921"
             ]
            ],
            "type": "surface"
           }
          ],
          "table": [
           {
            "cells": {
             "fill": {
              "color": "#EBF0F8"
             },
             "line": {
              "color": "white"
             }
            },
            "header": {
             "fill": {
              "color": "#C8D4E3"
             },
             "line": {
              "color": "white"
             }
            },
            "type": "table"
           }
          ]
         },
         "layout": {
          "annotationdefaults": {
           "arrowcolor": "#2a3f5f",
           "arrowhead": 0,
           "arrowwidth": 1
          },
          "autotypenumbers": "strict",
          "coloraxis": {
           "colorbar": {
            "outlinewidth": 0,
            "ticks": ""
           }
          },
          "colorscale": {
           "diverging": [
            [
             0,
             "#8e0152"
            ],
            [
             0.1,
             "#c51b7d"
            ],
            [
             0.2,
             "#de77ae"
            ],
            [
             0.3,
             "#f1b6da"
            ],
            [
             0.4,
             "#fde0ef"
            ],
            [
             0.5,
             "#f7f7f7"
            ],
            [
             0.6,
             "#e6f5d0"
            ],
            [
             0.7,
             "#b8e186"
            ],
            [
             0.8,
             "#7fbc41"
            ],
            [
             0.9,
             "#4d9221"
            ],
            [
             1,
             "#276419"
            ]
           ],
           "sequential": [
            [
             0,
             "#0d0887"
            ],
            [
             0.1111111111111111,
             "#46039f"
            ],
            [
             0.2222222222222222,
             "#7201a8"
            ],
            [
             0.3333333333333333,
             "#9c179e"
            ],
            [
             0.4444444444444444,
             "#bd3786"
            ],
            [
             0.5555555555555556,
             "#d8576b"
            ],
            [
             0.6666666666666666,
             "#ed7953"
            ],
            [
             0.7777777777777778,
             "#fb9f3a"
            ],
            [
             0.8888888888888888,
             "#fdca26"
            ],
            [
             1,
             "#f0f921"
            ]
           ],
           "sequentialminus": [
            [
             0,
             "#0d0887"
            ],
            [
             0.1111111111111111,
             "#46039f"
            ],
            [
             0.2222222222222222,
             "#7201a8"
            ],
            [
             0.3333333333333333,
             "#9c179e"
            ],
            [
             0.4444444444444444,
             "#bd3786"
            ],
            [
             0.5555555555555556,
             "#d8576b"
            ],
            [
             0.6666666666666666,
             "#ed7953"
            ],
            [
             0.7777777777777778,
             "#fb9f3a"
            ],
            [
             0.8888888888888888,
             "#fdca26"
            ],
            [
             1,
             "#f0f921"
            ]
           ]
          },
          "colorway": [
           "#636efa",
           "#EF553B",
           "#00cc96",
           "#ab63fa",
           "#FFA15A",
           "#19d3f3",
           "#FF6692",
           "#B6E880",
           "#FF97FF",
           "#FECB52"
          ],
          "font": {
           "color": "#2a3f5f"
          },
          "geo": {
           "bgcolor": "white",
           "lakecolor": "white",
           "landcolor": "#E5ECF6",
           "showlakes": true,
           "showland": true,
           "subunitcolor": "white"
          },
          "hoverlabel": {
           "align": "left"
          },
          "hovermode": "closest",
          "mapbox": {
           "style": "light"
          },
          "paper_bgcolor": "white",
          "plot_bgcolor": "#E5ECF6",
          "polar": {
           "angularaxis": {
            "gridcolor": "white",
            "linecolor": "white",
            "ticks": ""
           },
           "bgcolor": "#E5ECF6",
           "radialaxis": {
            "gridcolor": "white",
            "linecolor": "white",
            "ticks": ""
           }
          },
          "scene": {
           "xaxis": {
            "backgroundcolor": "#E5ECF6",
            "gridcolor": "white",
            "gridwidth": 2,
            "linecolor": "white",
            "showbackground": true,
            "ticks": "",
            "zerolinecolor": "white"
           },
           "yaxis": {
            "backgroundcolor": "#E5ECF6",
            "gridcolor": "white",
            "gridwidth": 2,
            "linecolor": "white",
            "showbackground": true,
            "ticks": "",
            "zerolinecolor": "white"
           },
           "zaxis": {
            "backgroundcolor": "#E5ECF6",
            "gridcolor": "white",
            "gridwidth": 2,
            "linecolor": "white",
            "showbackground": true,
            "ticks": "",
            "zerolinecolor": "white"
           }
          },
          "shapedefaults": {
           "line": {
            "color": "#2a3f5f"
           }
          },
          "ternary": {
           "aaxis": {
            "gridcolor": "white",
            "linecolor": "white",
            "ticks": ""
           },
           "baxis": {
            "gridcolor": "white",
            "linecolor": "white",
            "ticks": ""
           },
           "bgcolor": "#E5ECF6",
           "caxis": {
            "gridcolor": "white",
            "linecolor": "white",
            "ticks": ""
           }
          },
          "title": {
           "x": 0.05
          },
          "xaxis": {
           "automargin": true,
           "gridcolor": "white",
           "linecolor": "white",
           "ticks": "",
           "title": {
            "standoff": 15
           },
           "zerolinecolor": "white",
           "zerolinewidth": 2
          },
          "yaxis": {
           "automargin": true,
           "gridcolor": "white",
           "linecolor": "white",
           "ticks": "",
           "title": {
            "standoff": 15
           },
           "zerolinecolor": "white",
           "zerolinewidth": 2
          }
         }
        },
        "xaxis": {
         "anchor": "y",
         "domain": [
          0,
          0.49
         ],
         "title": {
          "text": "value"
         }
        },
        "xaxis2": {
         "anchor": "y2",
         "domain": [
          0.51,
          1
         ],
         "matches": "x",
         "title": {
          "text": "value"
         }
        },
        "yaxis": {
         "anchor": "x",
         "domain": [
          0,
          1
         ],
         "title": {
          "text": "count"
         }
        },
        "yaxis2": {
         "anchor": "x2",
         "domain": [
          0,
          1
         ],
         "matches": "y",
         "showticklabels": false
        }
       }
      }
     },
     "metadata": {},
     "output_type": "display_data"
    }
   ],
   "source": [
    "plx.histogram(numeric[\"Math\"], facet_col=numeric[\"famsize\"])"
   ]
  },
  {
   "cell_type": "code",
   "execution_count": 12,
   "metadata": {},
   "outputs": [
    {
     "data": {
      "application/vnd.plotly.v1+json": {
       "config": {
        "plotlyServerURL": "https://plot.ly"
       },
       "data": [
        {
         "alignmentgroup": "True",
         "bingroup": "x",
         "hovertemplate": "variable=address<br>value=%{x}<br>count=%{y}<extra></extra>",
         "legendgroup": "address",
         "marker": {
          "color": "#636efa",
          "pattern": {
           "shape": ""
          }
         },
         "name": "address",
         "nbinsx": 3,
         "offsetgroup": "address",
         "orientation": "v",
         "showlegend": true,
         "type": "histogram",
         "x": [
          0,
          0,
          0,
          0,
          0,
          0,
          0,
          0,
          0,
          0,
          0,
          0,
          0,
          0,
          0,
          0,
          0,
          0,
          0,
          0,
          0,
          0,
          0,
          0,
          1,
          0,
          0,
          0,
          0,
          0,
          0,
          0,
          1,
          0,
          0,
          0,
          0,
          1,
          1,
          1,
          0,
          0,
          0,
          0,
          0,
          0,
          0,
          0,
          0,
          0,
          0,
          0,
          0,
          0,
          0,
          0,
          0,
          0,
          0,
          0,
          1,
          0,
          0,
          0,
          0,
          0,
          0,
          0,
          1,
          1,
          0,
          0,
          1,
          0,
          0,
          0,
          0,
          0,
          0,
          0,
          0,
          0,
          0,
          0,
          0,
          0,
          0,
          0,
          0,
          0,
          0,
          0,
          0,
          0,
          0,
          1,
          1,
          0,
          0,
          0,
          0,
          0,
          0,
          0,
          0,
          0,
          0,
          0,
          1,
          0,
          0,
          1,
          0,
          0,
          1,
          0,
          0,
          0,
          1,
          0,
          0,
          0,
          0,
          0,
          0,
          0,
          0,
          0,
          1,
          0,
          1,
          0,
          0,
          0,
          0,
          0,
          0,
          0,
          1,
          0,
          1,
          1,
          0,
          0,
          1,
          0,
          0,
          0,
          1,
          0,
          0,
          0,
          0,
          0,
          0,
          0,
          0,
          0,
          0,
          0,
          0,
          0,
          0,
          0,
          0,
          1,
          0,
          0,
          1,
          1,
          1,
          1,
          0,
          0,
          1,
          1,
          0,
          0,
          1,
          0,
          0,
          0,
          0,
          0,
          0,
          0,
          0,
          0,
          0,
          0,
          0,
          0,
          1,
          0,
          0,
          0,
          0,
          0,
          0,
          0,
          0,
          0,
          0,
          1,
          0,
          0,
          0,
          1,
          0,
          0,
          0,
          1,
          0,
          0,
          0,
          0,
          0,
          1,
          1,
          0,
          0,
          0,
          0,
          1,
          0,
          0,
          0,
          0,
          1,
          0,
          0,
          0,
          0,
          0,
          1,
          0,
          0,
          0,
          0,
          1,
          0,
          0,
          0,
          0,
          0,
          1,
          0,
          0,
          0,
          0,
          0,
          0,
          0,
          0,
          0,
          0,
          0,
          0,
          0,
          0,
          0,
          1,
          1,
          0,
          0,
          1,
          0,
          0,
          1,
          0,
          0,
          0,
          1,
          0,
          0,
          0,
          0,
          0,
          0,
          0,
          1,
          0,
          0,
          0,
          0,
          1,
          1,
          0,
          0,
          0,
          0,
          0,
          1,
          0,
          1,
          0,
          0,
          1,
          0,
          1,
          0,
          0,
          1,
          0,
          0,
          0,
          1,
          0,
          1,
          0,
          1,
          0,
          0,
          0,
          1,
          0,
          0,
          0,
          1,
          0,
          0,
          0,
          1,
          0,
          0,
          0,
          0,
          1,
          0,
          0,
          0,
          0,
          0,
          0,
          0,
          0,
          0,
          0,
          1,
          1,
          0,
          0,
          0,
          0,
          0,
          0,
          0,
          1,
          0,
          0,
          1,
          0,
          1,
          0,
          0,
          0,
          1,
          0,
          0,
          1,
          0,
          0,
          0,
          0,
          0,
          0,
          0,
          0,
          0,
          0,
          0,
          0,
          0,
          1,
          0,
          0,
          0,
          0,
          0,
          1,
          0,
          0,
          0,
          0,
          1,
          0,
          1,
          0,
          0,
          0,
          1,
          0,
          0,
          0,
          1,
          0,
          0,
          0,
          0,
          0,
          1,
          0,
          0,
          0,
          0,
          0,
          0,
          0,
          0,
          0,
          0,
          0,
          0,
          1,
          1,
          0,
          0,
          0,
          1,
          0,
          0,
          0,
          0,
          0,
          1,
          1,
          1,
          1,
          1,
          1,
          0,
          1,
          1,
          1,
          0,
          1,
          1,
          1,
          1,
          1,
          0,
          0,
          1,
          1,
          1,
          1,
          0,
          1,
          1,
          1,
          1,
          1,
          1,
          0,
          0,
          0,
          0,
          1,
          1,
          1,
          1,
          1,
          1,
          1,
          1,
          0,
          0,
          1,
          0,
          0,
          1,
          1,
          1,
          0,
          1,
          0,
          1,
          0,
          1,
          0,
          0,
          1,
          1,
          1,
          0,
          1,
          0,
          1,
          0,
          1,
          1,
          0,
          1,
          0,
          1,
          0,
          1,
          0,
          0,
          0,
          0,
          0,
          1,
          0,
          0,
          1,
          0,
          0,
          1,
          1,
          1,
          0,
          1,
          0,
          0,
          0,
          1,
          1,
          0,
          1,
          0,
          1,
          0,
          0,
          1,
          0,
          1,
          0,
          1,
          0,
          0,
          0,
          0,
          0,
          0,
          1,
          0,
          0,
          1,
          0,
          0,
          1,
          0,
          1,
          1,
          0,
          0,
          1,
          0,
          1,
          0,
          0,
          0,
          0,
          1,
          1,
          1,
          1,
          1,
          1,
          1,
          0,
          1,
          0,
          1,
          1,
          1,
          1,
          0,
          0,
          1,
          0,
          0,
          0,
          1,
          1,
          1,
          1,
          0,
          0,
          1,
          0,
          0,
          1,
          1,
          1,
          0,
          1,
          0,
          0,
          0,
          0,
          0,
          0,
          0,
          0,
          0,
          1,
          0,
          1,
          1,
          0,
          0,
          1,
          0,
          0,
          0,
          1,
          0,
          0,
          1,
          1,
          1,
          0,
          1,
          0,
          0,
          0,
          1,
          0,
          0,
          1,
          1,
          0,
          1,
          0,
          1,
          1,
          0,
          1,
          1,
          1,
          1,
          1,
          0,
          1,
          0,
          1,
          0,
          1,
          1,
          1,
          0,
          1,
          1,
          0,
          0,
          0,
          1
         ],
         "xaxis": "x",
         "yaxis": "y"
        }
       ],
       "layout": {
        "barmode": "relative",
        "legend": {
         "title": {
          "text": "variable"
         },
         "tracegroupgap": 0
        },
        "margin": {
         "t": 60
        },
        "template": {
         "data": {
          "bar": [
           {
            "error_x": {
             "color": "#2a3f5f"
            },
            "error_y": {
             "color": "#2a3f5f"
            },
            "marker": {
             "line": {
              "color": "#E5ECF6",
              "width": 0.5
             },
             "pattern": {
              "fillmode": "overlay",
              "size": 10,
              "solidity": 0.2
             }
            },
            "type": "bar"
           }
          ],
          "barpolar": [
           {
            "marker": {
             "line": {
              "color": "#E5ECF6",
              "width": 0.5
             },
             "pattern": {
              "fillmode": "overlay",
              "size": 10,
              "solidity": 0.2
             }
            },
            "type": "barpolar"
           }
          ],
          "carpet": [
           {
            "aaxis": {
             "endlinecolor": "#2a3f5f",
             "gridcolor": "white",
             "linecolor": "white",
             "minorgridcolor": "white",
             "startlinecolor": "#2a3f5f"
            },
            "baxis": {
             "endlinecolor": "#2a3f5f",
             "gridcolor": "white",
             "linecolor": "white",
             "minorgridcolor": "white",
             "startlinecolor": "#2a3f5f"
            },
            "type": "carpet"
           }
          ],
          "choropleth": [
           {
            "colorbar": {
             "outlinewidth": 0,
             "ticks": ""
            },
            "type": "choropleth"
           }
          ],
          "contour": [
           {
            "colorbar": {
             "outlinewidth": 0,
             "ticks": ""
            },
            "colorscale": [
             [
              0,
              "#0d0887"
             ],
             [
              0.1111111111111111,
              "#46039f"
             ],
             [
              0.2222222222222222,
              "#7201a8"
             ],
             [
              0.3333333333333333,
              "#9c179e"
             ],
             [
              0.4444444444444444,
              "#bd3786"
             ],
             [
              0.5555555555555556,
              "#d8576b"
             ],
             [
              0.6666666666666666,
              "#ed7953"
             ],
             [
              0.7777777777777778,
              "#fb9f3a"
             ],
             [
              0.8888888888888888,
              "#fdca26"
             ],
             [
              1,
              "#f0f921"
             ]
            ],
            "type": "contour"
           }
          ],
          "contourcarpet": [
           {
            "colorbar": {
             "outlinewidth": 0,
             "ticks": ""
            },
            "type": "contourcarpet"
           }
          ],
          "heatmap": [
           {
            "colorbar": {
             "outlinewidth": 0,
             "ticks": ""
            },
            "colorscale": [
             [
              0,
              "#0d0887"
             ],
             [
              0.1111111111111111,
              "#46039f"
             ],
             [
              0.2222222222222222,
              "#7201a8"
             ],
             [
              0.3333333333333333,
              "#9c179e"
             ],
             [
              0.4444444444444444,
              "#bd3786"
             ],
             [
              0.5555555555555556,
              "#d8576b"
             ],
             [
              0.6666666666666666,
              "#ed7953"
             ],
             [
              0.7777777777777778,
              "#fb9f3a"
             ],
             [
              0.8888888888888888,
              "#fdca26"
             ],
             [
              1,
              "#f0f921"
             ]
            ],
            "type": "heatmap"
           }
          ],
          "heatmapgl": [
           {
            "colorbar": {
             "outlinewidth": 0,
             "ticks": ""
            },
            "colorscale": [
             [
              0,
              "#0d0887"
             ],
             [
              0.1111111111111111,
              "#46039f"
             ],
             [
              0.2222222222222222,
              "#7201a8"
             ],
             [
              0.3333333333333333,
              "#9c179e"
             ],
             [
              0.4444444444444444,
              "#bd3786"
             ],
             [
              0.5555555555555556,
              "#d8576b"
             ],
             [
              0.6666666666666666,
              "#ed7953"
             ],
             [
              0.7777777777777778,
              "#fb9f3a"
             ],
             [
              0.8888888888888888,
              "#fdca26"
             ],
             [
              1,
              "#f0f921"
             ]
            ],
            "type": "heatmapgl"
           }
          ],
          "histogram": [
           {
            "marker": {
             "pattern": {
              "fillmode": "overlay",
              "size": 10,
              "solidity": 0.2
             }
            },
            "type": "histogram"
           }
          ],
          "histogram2d": [
           {
            "colorbar": {
             "outlinewidth": 0,
             "ticks": ""
            },
            "colorscale": [
             [
              0,
              "#0d0887"
             ],
             [
              0.1111111111111111,
              "#46039f"
             ],
             [
              0.2222222222222222,
              "#7201a8"
             ],
             [
              0.3333333333333333,
              "#9c179e"
             ],
             [
              0.4444444444444444,
              "#bd3786"
             ],
             [
              0.5555555555555556,
              "#d8576b"
             ],
             [
              0.6666666666666666,
              "#ed7953"
             ],
             [
              0.7777777777777778,
              "#fb9f3a"
             ],
             [
              0.8888888888888888,
              "#fdca26"
             ],
             [
              1,
              "#f0f921"
             ]
            ],
            "type": "histogram2d"
           }
          ],
          "histogram2dcontour": [
           {
            "colorbar": {
             "outlinewidth": 0,
             "ticks": ""
            },
            "colorscale": [
             [
              0,
              "#0d0887"
             ],
             [
              0.1111111111111111,
              "#46039f"
             ],
             [
              0.2222222222222222,
              "#7201a8"
             ],
             [
              0.3333333333333333,
              "#9c179e"
             ],
             [
              0.4444444444444444,
              "#bd3786"
             ],
             [
              0.5555555555555556,
              "#d8576b"
             ],
             [
              0.6666666666666666,
              "#ed7953"
             ],
             [
              0.7777777777777778,
              "#fb9f3a"
             ],
             [
              0.8888888888888888,
              "#fdca26"
             ],
             [
              1,
              "#f0f921"
             ]
            ],
            "type": "histogram2dcontour"
           }
          ],
          "mesh3d": [
           {
            "colorbar": {
             "outlinewidth": 0,
             "ticks": ""
            },
            "type": "mesh3d"
           }
          ],
          "parcoords": [
           {
            "line": {
             "colorbar": {
              "outlinewidth": 0,
              "ticks": ""
             }
            },
            "type": "parcoords"
           }
          ],
          "pie": [
           {
            "automargin": true,
            "type": "pie"
           }
          ],
          "scatter": [
           {
            "fillpattern": {
             "fillmode": "overlay",
             "size": 10,
             "solidity": 0.2
            },
            "type": "scatter"
           }
          ],
          "scatter3d": [
           {
            "line": {
             "colorbar": {
              "outlinewidth": 0,
              "ticks": ""
             }
            },
            "marker": {
             "colorbar": {
              "outlinewidth": 0,
              "ticks": ""
             }
            },
            "type": "scatter3d"
           }
          ],
          "scattercarpet": [
           {
            "marker": {
             "colorbar": {
              "outlinewidth": 0,
              "ticks": ""
             }
            },
            "type": "scattercarpet"
           }
          ],
          "scattergeo": [
           {
            "marker": {
             "colorbar": {
              "outlinewidth": 0,
              "ticks": ""
             }
            },
            "type": "scattergeo"
           }
          ],
          "scattergl": [
           {
            "marker": {
             "colorbar": {
              "outlinewidth": 0,
              "ticks": ""
             }
            },
            "type": "scattergl"
           }
          ],
          "scattermapbox": [
           {
            "marker": {
             "colorbar": {
              "outlinewidth": 0,
              "ticks": ""
             }
            },
            "type": "scattermapbox"
           }
          ],
          "scatterpolar": [
           {
            "marker": {
             "colorbar": {
              "outlinewidth": 0,
              "ticks": ""
             }
            },
            "type": "scatterpolar"
           }
          ],
          "scatterpolargl": [
           {
            "marker": {
             "colorbar": {
              "outlinewidth": 0,
              "ticks": ""
             }
            },
            "type": "scatterpolargl"
           }
          ],
          "scatterternary": [
           {
            "marker": {
             "colorbar": {
              "outlinewidth": 0,
              "ticks": ""
             }
            },
            "type": "scatterternary"
           }
          ],
          "surface": [
           {
            "colorbar": {
             "outlinewidth": 0,
             "ticks": ""
            },
            "colorscale": [
             [
              0,
              "#0d0887"
             ],
             [
              0.1111111111111111,
              "#46039f"
             ],
             [
              0.2222222222222222,
              "#7201a8"
             ],
             [
              0.3333333333333333,
              "#9c179e"
             ],
             [
              0.4444444444444444,
              "#bd3786"
             ],
             [
              0.5555555555555556,
              "#d8576b"
             ],
             [
              0.6666666666666666,
              "#ed7953"
             ],
             [
              0.7777777777777778,
              "#fb9f3a"
             ],
             [
              0.8888888888888888,
              "#fdca26"
             ],
             [
              1,
              "#f0f921"
             ]
            ],
            "type": "surface"
           }
          ],
          "table": [
           {
            "cells": {
             "fill": {
              "color": "#EBF0F8"
             },
             "line": {
              "color": "white"
             }
            },
            "header": {
             "fill": {
              "color": "#C8D4E3"
             },
             "line": {
              "color": "white"
             }
            },
            "type": "table"
           }
          ]
         },
         "layout": {
          "annotationdefaults": {
           "arrowcolor": "#2a3f5f",
           "arrowhead": 0,
           "arrowwidth": 1
          },
          "autotypenumbers": "strict",
          "coloraxis": {
           "colorbar": {
            "outlinewidth": 0,
            "ticks": ""
           }
          },
          "colorscale": {
           "diverging": [
            [
             0,
             "#8e0152"
            ],
            [
             0.1,
             "#c51b7d"
            ],
            [
             0.2,
             "#de77ae"
            ],
            [
             0.3,
             "#f1b6da"
            ],
            [
             0.4,
             "#fde0ef"
            ],
            [
             0.5,
             "#f7f7f7"
            ],
            [
             0.6,
             "#e6f5d0"
            ],
            [
             0.7,
             "#b8e186"
            ],
            [
             0.8,
             "#7fbc41"
            ],
            [
             0.9,
             "#4d9221"
            ],
            [
             1,
             "#276419"
            ]
           ],
           "sequential": [
            [
             0,
             "#0d0887"
            ],
            [
             0.1111111111111111,
             "#46039f"
            ],
            [
             0.2222222222222222,
             "#7201a8"
            ],
            [
             0.3333333333333333,
             "#9c179e"
            ],
            [
             0.4444444444444444,
             "#bd3786"
            ],
            [
             0.5555555555555556,
             "#d8576b"
            ],
            [
             0.6666666666666666,
             "#ed7953"
            ],
            [
             0.7777777777777778,
             "#fb9f3a"
            ],
            [
             0.8888888888888888,
             "#fdca26"
            ],
            [
             1,
             "#f0f921"
            ]
           ],
           "sequentialminus": [
            [
             0,
             "#0d0887"
            ],
            [
             0.1111111111111111,
             "#46039f"
            ],
            [
             0.2222222222222222,
             "#7201a8"
            ],
            [
             0.3333333333333333,
             "#9c179e"
            ],
            [
             0.4444444444444444,
             "#bd3786"
            ],
            [
             0.5555555555555556,
             "#d8576b"
            ],
            [
             0.6666666666666666,
             "#ed7953"
            ],
            [
             0.7777777777777778,
             "#fb9f3a"
            ],
            [
             0.8888888888888888,
             "#fdca26"
            ],
            [
             1,
             "#f0f921"
            ]
           ]
          },
          "colorway": [
           "#636efa",
           "#EF553B",
           "#00cc96",
           "#ab63fa",
           "#FFA15A",
           "#19d3f3",
           "#FF6692",
           "#B6E880",
           "#FF97FF",
           "#FECB52"
          ],
          "font": {
           "color": "#2a3f5f"
          },
          "geo": {
           "bgcolor": "white",
           "lakecolor": "white",
           "landcolor": "#E5ECF6",
           "showlakes": true,
           "showland": true,
           "subunitcolor": "white"
          },
          "hoverlabel": {
           "align": "left"
          },
          "hovermode": "closest",
          "mapbox": {
           "style": "light"
          },
          "paper_bgcolor": "white",
          "plot_bgcolor": "#E5ECF6",
          "polar": {
           "angularaxis": {
            "gridcolor": "white",
            "linecolor": "white",
            "ticks": ""
           },
           "bgcolor": "#E5ECF6",
           "radialaxis": {
            "gridcolor": "white",
            "linecolor": "white",
            "ticks": ""
           }
          },
          "scene": {
           "xaxis": {
            "backgroundcolor": "#E5ECF6",
            "gridcolor": "white",
            "gridwidth": 2,
            "linecolor": "white",
            "showbackground": true,
            "ticks": "",
            "zerolinecolor": "white"
           },
           "yaxis": {
            "backgroundcolor": "#E5ECF6",
            "gridcolor": "white",
            "gridwidth": 2,
            "linecolor": "white",
            "showbackground": true,
            "ticks": "",
            "zerolinecolor": "white"
           },
           "zaxis": {
            "backgroundcolor": "#E5ECF6",
            "gridcolor": "white",
            "gridwidth": 2,
            "linecolor": "white",
            "showbackground": true,
            "ticks": "",
            "zerolinecolor": "white"
           }
          },
          "shapedefaults": {
           "line": {
            "color": "#2a3f5f"
           }
          },
          "ternary": {
           "aaxis": {
            "gridcolor": "white",
            "linecolor": "white",
            "ticks": ""
           },
           "baxis": {
            "gridcolor": "white",
            "linecolor": "white",
            "ticks": ""
           },
           "bgcolor": "#E5ECF6",
           "caxis": {
            "gridcolor": "white",
            "linecolor": "white",
            "ticks": ""
           }
          },
          "title": {
           "x": 0.05
          },
          "xaxis": {
           "automargin": true,
           "gridcolor": "white",
           "linecolor": "white",
           "ticks": "",
           "title": {
            "standoff": 15
           },
           "zerolinecolor": "white",
           "zerolinewidth": 2
          },
          "yaxis": {
           "automargin": true,
           "gridcolor": "white",
           "linecolor": "white",
           "ticks": "",
           "title": {
            "standoff": 15
           },
           "zerolinecolor": "white",
           "zerolinewidth": 2
          }
         }
        },
        "xaxis": {
         "anchor": "y",
         "domain": [
          0,
          1
         ],
         "title": {
          "text": "value"
         }
        },
        "yaxis": {
         "anchor": "x",
         "domain": [
          0,
          1
         ],
         "title": {
          "text": "count"
         }
        }
       }
      }
     },
     "metadata": {},
     "output_type": "display_data"
    }
   ],
   "source": [
    "plx.histogram(numeric[\"address\"],nbins=3)"
   ]
  },
  {
   "cell_type": "code",
   "execution_count": 33,
   "metadata": {},
   "outputs": [
    {
     "data": {
      "application/vnd.plotly.v1+json": {
       "config": {
        "plotlyServerURL": "https://plot.ly"
       },
       "data": [
        {
         "alignmentgroup": "True",
         "bingroup": "x",
         "hovertemplate": "variable=M1<br>facet_col=0<br>value=%{x}<br>count=%{y}<extra></extra>",
         "legendgroup": "M1",
         "marker": {
          "color": "#636efa",
          "pattern": {
           "shape": ""
          }
         },
         "name": "M1",
         "offsetgroup": "M1",
         "orientation": "v",
         "showlegend": true,
         "type": "histogram",
         "x": [
          5,
          5,
          7,
          15,
          6,
          15,
          12,
          6,
          16,
          14,
          10,
          10,
          14,
          10,
          14,
          14,
          13,
          8,
          6,
          8,
          13,
          12,
          15,
          13,
          10,
          6,
          12,
          15,
          11,
          10,
          9,
          17,
          17,
          8,
          12,
          8,
          15,
          15,
          12,
          14,
          7,
          12,
          19,
          8,
          10,
          8,
          11,
          19,
          15,
          7,
          12,
          11,
          11,
          8,
          10,
          8,
          14,
          14,
          9,
          15,
          10,
          10,
          8,
          10,
          10,
          16,
          13,
          7,
          8,
          16,
          13,
          10,
          8,
          12,
          11,
          9,
          11,
          11,
          8,
          5,
          10,
          11,
          7,
          15,
          9,
          7,
          8,
          13,
          11,
          8,
          7,
          16,
          7,
          11,
          11,
          7,
          11,
          8,
          11,
          7,
          7,
          16,
          10,
          7,
          16,
          10,
          7,
          16,
          10,
          14,
          18,
          7,
          10,
          18,
          9,
          15,
          11,
          13,
          9,
          14,
          16,
          16,
          13,
          14,
          8,
          13,
          7,
          7,
          7,
          18,
          12,
          8,
          10,
          12,
          9,
          11,
          10,
          4,
          14,
          16,
          7,
          9,
          9,
          14,
          5,
          8,
          6,
          10,
          7,
          8,
          6,
          12,
          10,
          5,
          11,
          11,
          16,
          9,
          17,
          10,
          7,
          5,
          7,
          10,
          5,
          12,
          10,
          14,
          6,
          14,
          6,
          13,
          13,
          8,
          10,
          10,
          13,
          6,
          10,
          10,
          9,
          12,
          16,
          9,
          12,
          12,
          11,
          15,
          8,
          8,
          11,
          8,
          7,
          8,
          13,
          14,
          17,
          9,
          18,
          9,
          16,
          8,
          9,
          7,
          10,
          10,
          7,
          11,
          9,
          7,
          8,
          12,
          12,
          6,
          8,
          14,
          6,
          6,
          7,
          9,
          6,
          6,
          16,
          12,
          13,
          9,
          16,
          12,
          10,
          12,
          13,
          11,
          11,
          14,
          9,
          11,
          14,
          13,
          13,
          7,
          12,
          10,
          6,
          13,
          7,
          18,
          12,
          6,
          3,
          13,
          6,
          7,
          6,
          8,
          8,
          7,
          14,
          11,
          15,
          10,
          17,
          8,
          13,
          10,
          9,
          17,
          9,
          12,
          10,
          6,
          9,
          15,
          11,
          15,
          10,
          12,
          10,
          9,
          9,
          10,
          8,
          11,
          12,
          8,
          10,
          12,
          18,
          13,
          15,
          15,
          12,
          15,
          12,
          18,
          14,
          14,
          10,
          10,
          14,
          16,
          12,
          11,
          15,
          17,
          15,
          14,
          17,
          8,
          15,
          12,
          9,
          14,
          13,
          13,
          15,
          13,
          8,
          9,
          11,
          11,
          13,
          11,
          11,
          12,
          16,
          9,
          14,
          11,
          10,
          14,
          9,
          12,
          7,
          8,
          10,
          16,
          14,
          7,
          16,
          9,
          11,
          10,
          16,
          9,
          11,
          13,
          16,
          10,
          13,
          11,
          8,
          13,
          8,
          8,
          13,
          10,
          12,
          12,
          10,
          18,
          13,
          13,
          11,
          16,
          12,
          10,
          13,
          7,
          11,
          14,
          7,
          14,
          13,
          6,
          19,
          8,
          15,
          8,
          15,
          10,
          15,
          7,
          11,
          6,
          6,
          10,
          6,
          7,
          7,
          6,
          9,
          14,
          10,
          11,
          8,
          null,
          null,
          null,
          null,
          null,
          null,
          null,
          null,
          null,
          null,
          null,
          null,
          null,
          null,
          null,
          null,
          null,
          null,
          null,
          null,
          null,
          null,
          null,
          null,
          null,
          null,
          null,
          null
         ],
         "xaxis": "x",
         "yaxis": "y"
        },
        {
         "alignmentgroup": "True",
         "bingroup": "x",
         "hovertemplate": "variable=M1<br>facet_col=1<br>value=%{x}<br>count=%{y}<extra></extra>",
         "legendgroup": "M1",
         "marker": {
          "color": "#636efa",
          "pattern": {
           "shape": ""
          }
         },
         "name": "M1",
         "offsetgroup": "M1",
         "orientation": "v",
         "showlegend": false,
         "type": "histogram",
         "x": [
          null,
          null,
          null,
          null,
          null,
          null,
          null,
          null,
          null,
          null,
          null,
          null,
          null,
          null,
          null,
          null,
          null,
          null,
          null,
          null,
          null,
          null,
          null,
          null,
          null,
          null,
          null,
          null,
          null,
          null,
          null,
          null,
          null,
          null,
          null,
          null,
          null,
          null,
          null,
          null,
          null,
          null,
          null,
          null,
          null,
          null,
          null,
          null,
          null,
          null,
          null,
          null,
          null,
          null,
          null,
          null,
          null,
          null,
          null,
          null,
          null,
          null,
          null,
          null,
          null,
          null,
          null,
          null,
          null,
          null,
          null,
          null,
          null,
          null,
          null,
          null,
          null,
          null,
          null,
          null,
          null,
          null,
          null,
          null,
          null,
          null,
          null,
          null,
          null,
          null,
          null,
          null,
          null,
          null,
          null,
          null,
          null,
          null,
          null,
          null,
          null,
          null,
          null,
          null,
          null,
          null,
          null,
          null,
          null,
          null,
          null,
          null,
          null,
          null,
          null,
          null,
          null,
          null,
          null,
          null,
          null,
          null,
          null,
          null,
          null,
          null,
          null,
          null,
          null,
          null,
          null,
          null,
          null,
          null,
          null,
          null,
          null,
          null,
          null,
          null,
          null,
          null,
          null,
          null,
          null,
          null,
          null,
          null,
          null,
          null,
          null,
          null,
          null,
          null,
          null,
          null,
          null,
          null,
          null,
          null,
          null,
          null,
          null,
          null,
          null,
          null,
          null,
          null,
          null,
          null,
          null,
          null,
          null,
          null,
          null,
          null,
          null,
          null,
          null,
          null,
          null,
          null,
          null,
          null,
          null,
          null,
          null,
          null,
          null,
          null,
          null,
          null,
          null,
          null,
          null,
          null,
          null,
          null,
          null,
          null,
          null,
          null,
          null,
          null,
          null,
          null,
          null,
          null,
          null,
          null,
          null,
          null,
          null,
          null,
          null,
          null,
          null,
          null,
          null,
          null,
          null,
          null,
          null,
          null,
          null,
          null
         ],
         "xaxis": "x2",
         "yaxis": "y2"
        }
       ],
       "layout": {
        "annotations": [
         {
          "font": {},
          "showarrow": false,
          "text": "facet_col=0",
          "x": 0.245,
          "xanchor": "center",
          "xref": "paper",
          "y": 1,
          "yanchor": "bottom",
          "yref": "paper"
         },
         {
          "font": {},
          "showarrow": false,
          "text": "facet_col=1",
          "x": 0.755,
          "xanchor": "center",
          "xref": "paper",
          "y": 1,
          "yanchor": "bottom",
          "yref": "paper"
         }
        ],
        "barmode": "relative",
        "legend": {
         "title": {
          "text": "variable"
         },
         "tracegroupgap": 0
        },
        "margin": {
         "t": 60
        },
        "template": {
         "data": {
          "bar": [
           {
            "error_x": {
             "color": "#2a3f5f"
            },
            "error_y": {
             "color": "#2a3f5f"
            },
            "marker": {
             "line": {
              "color": "#E5ECF6",
              "width": 0.5
             },
             "pattern": {
              "fillmode": "overlay",
              "size": 10,
              "solidity": 0.2
             }
            },
            "type": "bar"
           }
          ],
          "barpolar": [
           {
            "marker": {
             "line": {
              "color": "#E5ECF6",
              "width": 0.5
             },
             "pattern": {
              "fillmode": "overlay",
              "size": 10,
              "solidity": 0.2
             }
            },
            "type": "barpolar"
           }
          ],
          "carpet": [
           {
            "aaxis": {
             "endlinecolor": "#2a3f5f",
             "gridcolor": "white",
             "linecolor": "white",
             "minorgridcolor": "white",
             "startlinecolor": "#2a3f5f"
            },
            "baxis": {
             "endlinecolor": "#2a3f5f",
             "gridcolor": "white",
             "linecolor": "white",
             "minorgridcolor": "white",
             "startlinecolor": "#2a3f5f"
            },
            "type": "carpet"
           }
          ],
          "choropleth": [
           {
            "colorbar": {
             "outlinewidth": 0,
             "ticks": ""
            },
            "type": "choropleth"
           }
          ],
          "contour": [
           {
            "colorbar": {
             "outlinewidth": 0,
             "ticks": ""
            },
            "colorscale": [
             [
              0,
              "#0d0887"
             ],
             [
              0.1111111111111111,
              "#46039f"
             ],
             [
              0.2222222222222222,
              "#7201a8"
             ],
             [
              0.3333333333333333,
              "#9c179e"
             ],
             [
              0.4444444444444444,
              "#bd3786"
             ],
             [
              0.5555555555555556,
              "#d8576b"
             ],
             [
              0.6666666666666666,
              "#ed7953"
             ],
             [
              0.7777777777777778,
              "#fb9f3a"
             ],
             [
              0.8888888888888888,
              "#fdca26"
             ],
             [
              1,
              "#f0f921"
             ]
            ],
            "type": "contour"
           }
          ],
          "contourcarpet": [
           {
            "colorbar": {
             "outlinewidth": 0,
             "ticks": ""
            },
            "type": "contourcarpet"
           }
          ],
          "heatmap": [
           {
            "colorbar": {
             "outlinewidth": 0,
             "ticks": ""
            },
            "colorscale": [
             [
              0,
              "#0d0887"
             ],
             [
              0.1111111111111111,
              "#46039f"
             ],
             [
              0.2222222222222222,
              "#7201a8"
             ],
             [
              0.3333333333333333,
              "#9c179e"
             ],
             [
              0.4444444444444444,
              "#bd3786"
             ],
             [
              0.5555555555555556,
              "#d8576b"
             ],
             [
              0.6666666666666666,
              "#ed7953"
             ],
             [
              0.7777777777777778,
              "#fb9f3a"
             ],
             [
              0.8888888888888888,
              "#fdca26"
             ],
             [
              1,
              "#f0f921"
             ]
            ],
            "type": "heatmap"
           }
          ],
          "heatmapgl": [
           {
            "colorbar": {
             "outlinewidth": 0,
             "ticks": ""
            },
            "colorscale": [
             [
              0,
              "#0d0887"
             ],
             [
              0.1111111111111111,
              "#46039f"
             ],
             [
              0.2222222222222222,
              "#7201a8"
             ],
             [
              0.3333333333333333,
              "#9c179e"
             ],
             [
              0.4444444444444444,
              "#bd3786"
             ],
             [
              0.5555555555555556,
              "#d8576b"
             ],
             [
              0.6666666666666666,
              "#ed7953"
             ],
             [
              0.7777777777777778,
              "#fb9f3a"
             ],
             [
              0.8888888888888888,
              "#fdca26"
             ],
             [
              1,
              "#f0f921"
             ]
            ],
            "type": "heatmapgl"
           }
          ],
          "histogram": [
           {
            "marker": {
             "pattern": {
              "fillmode": "overlay",
              "size": 10,
              "solidity": 0.2
             }
            },
            "type": "histogram"
           }
          ],
          "histogram2d": [
           {
            "colorbar": {
             "outlinewidth": 0,
             "ticks": ""
            },
            "colorscale": [
             [
              0,
              "#0d0887"
             ],
             [
              0.1111111111111111,
              "#46039f"
             ],
             [
              0.2222222222222222,
              "#7201a8"
             ],
             [
              0.3333333333333333,
              "#9c179e"
             ],
             [
              0.4444444444444444,
              "#bd3786"
             ],
             [
              0.5555555555555556,
              "#d8576b"
             ],
             [
              0.6666666666666666,
              "#ed7953"
             ],
             [
              0.7777777777777778,
              "#fb9f3a"
             ],
             [
              0.8888888888888888,
              "#fdca26"
             ],
             [
              1,
              "#f0f921"
             ]
            ],
            "type": "histogram2d"
           }
          ],
          "histogram2dcontour": [
           {
            "colorbar": {
             "outlinewidth": 0,
             "ticks": ""
            },
            "colorscale": [
             [
              0,
              "#0d0887"
             ],
             [
              0.1111111111111111,
              "#46039f"
             ],
             [
              0.2222222222222222,
              "#7201a8"
             ],
             [
              0.3333333333333333,
              "#9c179e"
             ],
             [
              0.4444444444444444,
              "#bd3786"
             ],
             [
              0.5555555555555556,
              "#d8576b"
             ],
             [
              0.6666666666666666,
              "#ed7953"
             ],
             [
              0.7777777777777778,
              "#fb9f3a"
             ],
             [
              0.8888888888888888,
              "#fdca26"
             ],
             [
              1,
              "#f0f921"
             ]
            ],
            "type": "histogram2dcontour"
           }
          ],
          "mesh3d": [
           {
            "colorbar": {
             "outlinewidth": 0,
             "ticks": ""
            },
            "type": "mesh3d"
           }
          ],
          "parcoords": [
           {
            "line": {
             "colorbar": {
              "outlinewidth": 0,
              "ticks": ""
             }
            },
            "type": "parcoords"
           }
          ],
          "pie": [
           {
            "automargin": true,
            "type": "pie"
           }
          ],
          "scatter": [
           {
            "fillpattern": {
             "fillmode": "overlay",
             "size": 10,
             "solidity": 0.2
            },
            "type": "scatter"
           }
          ],
          "scatter3d": [
           {
            "line": {
             "colorbar": {
              "outlinewidth": 0,
              "ticks": ""
             }
            },
            "marker": {
             "colorbar": {
              "outlinewidth": 0,
              "ticks": ""
             }
            },
            "type": "scatter3d"
           }
          ],
          "scattercarpet": [
           {
            "marker": {
             "colorbar": {
              "outlinewidth": 0,
              "ticks": ""
             }
            },
            "type": "scattercarpet"
           }
          ],
          "scattergeo": [
           {
            "marker": {
             "colorbar": {
              "outlinewidth": 0,
              "ticks": ""
             }
            },
            "type": "scattergeo"
           }
          ],
          "scattergl": [
           {
            "marker": {
             "colorbar": {
              "outlinewidth": 0,
              "ticks": ""
             }
            },
            "type": "scattergl"
           }
          ],
          "scattermapbox": [
           {
            "marker": {
             "colorbar": {
              "outlinewidth": 0,
              "ticks": ""
             }
            },
            "type": "scattermapbox"
           }
          ],
          "scatterpolar": [
           {
            "marker": {
             "colorbar": {
              "outlinewidth": 0,
              "ticks": ""
             }
            },
            "type": "scatterpolar"
           }
          ],
          "scatterpolargl": [
           {
            "marker": {
             "colorbar": {
              "outlinewidth": 0,
              "ticks": ""
             }
            },
            "type": "scatterpolargl"
           }
          ],
          "scatterternary": [
           {
            "marker": {
             "colorbar": {
              "outlinewidth": 0,
              "ticks": ""
             }
            },
            "type": "scatterternary"
           }
          ],
          "surface": [
           {
            "colorbar": {
             "outlinewidth": 0,
             "ticks": ""
            },
            "colorscale": [
             [
              0,
              "#0d0887"
             ],
             [
              0.1111111111111111,
              "#46039f"
             ],
             [
              0.2222222222222222,
              "#7201a8"
             ],
             [
              0.3333333333333333,
              "#9c179e"
             ],
             [
              0.4444444444444444,
              "#bd3786"
             ],
             [
              0.5555555555555556,
              "#d8576b"
             ],
             [
              0.6666666666666666,
              "#ed7953"
             ],
             [
              0.7777777777777778,
              "#fb9f3a"
             ],
             [
              0.8888888888888888,
              "#fdca26"
             ],
             [
              1,
              "#f0f921"
             ]
            ],
            "type": "surface"
           }
          ],
          "table": [
           {
            "cells": {
             "fill": {
              "color": "#EBF0F8"
             },
             "line": {
              "color": "white"
             }
            },
            "header": {
             "fill": {
              "color": "#C8D4E3"
             },
             "line": {
              "color": "white"
             }
            },
            "type": "table"
           }
          ]
         },
         "layout": {
          "annotationdefaults": {
           "arrowcolor": "#2a3f5f",
           "arrowhead": 0,
           "arrowwidth": 1
          },
          "autotypenumbers": "strict",
          "coloraxis": {
           "colorbar": {
            "outlinewidth": 0,
            "ticks": ""
           }
          },
          "colorscale": {
           "diverging": [
            [
             0,
             "#8e0152"
            ],
            [
             0.1,
             "#c51b7d"
            ],
            [
             0.2,
             "#de77ae"
            ],
            [
             0.3,
             "#f1b6da"
            ],
            [
             0.4,
             "#fde0ef"
            ],
            [
             0.5,
             "#f7f7f7"
            ],
            [
             0.6,
             "#e6f5d0"
            ],
            [
             0.7,
             "#b8e186"
            ],
            [
             0.8,
             "#7fbc41"
            ],
            [
             0.9,
             "#4d9221"
            ],
            [
             1,
             "#276419"
            ]
           ],
           "sequential": [
            [
             0,
             "#0d0887"
            ],
            [
             0.1111111111111111,
             "#46039f"
            ],
            [
             0.2222222222222222,
             "#7201a8"
            ],
            [
             0.3333333333333333,
             "#9c179e"
            ],
            [
             0.4444444444444444,
             "#bd3786"
            ],
            [
             0.5555555555555556,
             "#d8576b"
            ],
            [
             0.6666666666666666,
             "#ed7953"
            ],
            [
             0.7777777777777778,
             "#fb9f3a"
            ],
            [
             0.8888888888888888,
             "#fdca26"
            ],
            [
             1,
             "#f0f921"
            ]
           ],
           "sequentialminus": [
            [
             0,
             "#0d0887"
            ],
            [
             0.1111111111111111,
             "#46039f"
            ],
            [
             0.2222222222222222,
             "#7201a8"
            ],
            [
             0.3333333333333333,
             "#9c179e"
            ],
            [
             0.4444444444444444,
             "#bd3786"
            ],
            [
             0.5555555555555556,
             "#d8576b"
            ],
            [
             0.6666666666666666,
             "#ed7953"
            ],
            [
             0.7777777777777778,
             "#fb9f3a"
            ],
            [
             0.8888888888888888,
             "#fdca26"
            ],
            [
             1,
             "#f0f921"
            ]
           ]
          },
          "colorway": [
           "#636efa",
           "#EF553B",
           "#00cc96",
           "#ab63fa",
           "#FFA15A",
           "#19d3f3",
           "#FF6692",
           "#B6E880",
           "#FF97FF",
           "#FECB52"
          ],
          "font": {
           "color": "#2a3f5f"
          },
          "geo": {
           "bgcolor": "white",
           "lakecolor": "white",
           "landcolor": "#E5ECF6",
           "showlakes": true,
           "showland": true,
           "subunitcolor": "white"
          },
          "hoverlabel": {
           "align": "left"
          },
          "hovermode": "closest",
          "mapbox": {
           "style": "light"
          },
          "paper_bgcolor": "white",
          "plot_bgcolor": "#E5ECF6",
          "polar": {
           "angularaxis": {
            "gridcolor": "white",
            "linecolor": "white",
            "ticks": ""
           },
           "bgcolor": "#E5ECF6",
           "radialaxis": {
            "gridcolor": "white",
            "linecolor": "white",
            "ticks": ""
           }
          },
          "scene": {
           "xaxis": {
            "backgroundcolor": "#E5ECF6",
            "gridcolor": "white",
            "gridwidth": 2,
            "linecolor": "white",
            "showbackground": true,
            "ticks": "",
            "zerolinecolor": "white"
           },
           "yaxis": {
            "backgroundcolor": "#E5ECF6",
            "gridcolor": "white",
            "gridwidth": 2,
            "linecolor": "white",
            "showbackground": true,
            "ticks": "",
            "zerolinecolor": "white"
           },
           "zaxis": {
            "backgroundcolor": "#E5ECF6",
            "gridcolor": "white",
            "gridwidth": 2,
            "linecolor": "white",
            "showbackground": true,
            "ticks": "",
            "zerolinecolor": "white"
           }
          },
          "shapedefaults": {
           "line": {
            "color": "#2a3f5f"
           }
          },
          "ternary": {
           "aaxis": {
            "gridcolor": "white",
            "linecolor": "white",
            "ticks": ""
           },
           "baxis": {
            "gridcolor": "white",
            "linecolor": "white",
            "ticks": ""
           },
           "bgcolor": "#E5ECF6",
           "caxis": {
            "gridcolor": "white",
            "linecolor": "white",
            "ticks": ""
           }
          },
          "title": {
           "x": 0.05
          },
          "xaxis": {
           "automargin": true,
           "gridcolor": "white",
           "linecolor": "white",
           "ticks": "",
           "title": {
            "standoff": 15
           },
           "zerolinecolor": "white",
           "zerolinewidth": 2
          },
          "yaxis": {
           "automargin": true,
           "gridcolor": "white",
           "linecolor": "white",
           "ticks": "",
           "title": {
            "standoff": 15
           },
           "zerolinecolor": "white",
           "zerolinewidth": 2
          }
         }
        },
        "xaxis": {
         "anchor": "y",
         "domain": [
          0,
          0.49
         ],
         "title": {
          "text": "value"
         }
        },
        "xaxis2": {
         "anchor": "y2",
         "domain": [
          0.51,
          1
         ],
         "matches": "x",
         "title": {
          "text": "value"
         }
        },
        "yaxis": {
         "anchor": "x",
         "domain": [
          0,
          1
         ],
         "title": {
          "text": "count"
         }
        },
        "yaxis2": {
         "anchor": "x2",
         "domain": [
          0,
          1
         ],
         "matches": "y",
         "showticklabels": false
        }
       }
      }
     },
     "metadata": {},
     "output_type": "display_data"
    }
   ],
   "source": [
    "plx.histogram(numeric[\"M1\"],facet_col=numeric[\"school\"])"
   ]
  },
  {
   "cell_type": "code",
   "execution_count": 14,
   "metadata": {},
   "outputs": [
    {
     "data": {
      "application/vnd.plotly.v1+json": {
       "config": {
        "plotlyServerURL": "https://plot.ly"
       },
       "data": [
        {
         "alignmentgroup": "True",
         "bingroup": "x",
         "hovertemplate": "variable=Math<br>facet_col=4<br>value=%{x}<br>count=%{y}<extra></extra>",
         "legendgroup": "Math",
         "marker": {
          "color": "#636efa",
          "pattern": {
           "shape": ""
          }
         },
         "name": "Math",
         "offsetgroup": "Math",
         "orientation": "v",
         "showlegend": true,
         "type": "histogram",
         "x": [
          5.666666666666667,
          5.666666666666667,
          14.666666666666666,
          9,
          14,
          14,
          13.666666666666666,
          14,
          9,
          11,
          11,
          10.666666666666666,
          16.666666666666668,
          15.333333333333334,
          11.666666666666666,
          12,
          18.333333333333332,
          7,
          9.666666666666666,
          14.666666666666666,
          10.666666666666666,
          12.666666666666666,
          5,
          8,
          7,
          13,
          6.333333333333333,
          16.666666666666668,
          12.333333333333334,
          17.333333333333332,
          12,
          15,
          18.666666666666668,
          15.333333333333334,
          12.666666666666666,
          13.333333333333334,
          13,
          12.666666666666666,
          12.666666666666666,
          9.333333333333334,
          3.6666666666666665,
          4,
          3.6666666666666665,
          12.666666666666666,
          15.666666666666666,
          5.333333333333333,
          10.666666666666666,
          13,
          1.6666666666666667,
          7,
          15,
          8.666666666666666,
          12.333333333333334,
          11.333333333333334,
          16,
          7,
          8,
          13,
          7,
          9.666666666666666,
          8,
          9,
          11.666666666666666,
          12.333333333333334,
          7.333333333333333,
          8.333333333333334,
          11,
          12.333333333333334,
          9.666666666666666,
          9,
          14.333333333333334,
          17.666666666666668,
          13,
          5.333333333333333,
          11,
          13,
          15.333333333333334,
          6.666666666666667,
          10.333333333333334,
          13.333333333333334,
          15.666666666666666,
          9.666666666666666,
          8,
          12.666666666666666,
          16.666666666666668,
          10.666666666666666,
          15.333333333333334,
          11.666666666666666,
          10.333333333333334,
          9,
          14.333333333333334,
          6.666666666666667,
          5.666666666666667,
          15.333333333333334,
          null,
          null,
          null,
          null,
          null,
          null,
          null,
          null,
          null,
          null,
          null,
          null,
          null,
          null,
          null,
          null,
          null,
          null,
          null,
          null,
          null,
          null,
          null,
          null,
          null,
          null,
          null,
          null,
          null,
          null,
          null,
          null,
          null,
          null
         ],
         "xaxis": "x",
         "yaxis": "y"
        },
        {
         "alignmentgroup": "True",
         "bingroup": "x",
         "hovertemplate": "variable=Math<br>facet_col=1<br>value=%{x}<br>count=%{y}<extra></extra>",
         "legendgroup": "Math",
         "marker": {
          "color": "#636efa",
          "pattern": {
           "shape": ""
          }
         },
         "name": "Math",
         "offsetgroup": "Math",
         "orientation": "v",
         "showlegend": false,
         "type": "histogram",
         "x": [
          5.333333333333333,
          8.333333333333334,
          11.333333333333334,
          9,
          9.666666666666666,
          6.666666666666667,
          16,
          14.333333333333334,
          6.333333333333333,
          12.666666666666666,
          8.666666666666666,
          9.666666666666666,
          6.333333333333333,
          9,
          9,
          9,
          8,
          2.6666666666666665,
          11.666666666666666,
          11.333333333333334,
          3.3333333333333335,
          9,
          10.333333333333334,
          1.6666666666666667,
          4.333333333333333,
          4.333333333333333,
          11.333333333333334,
          9,
          13.666666666666666,
          9,
          2.3333333333333335,
          10,
          6.666666666666667,
          3.6666666666666665,
          10,
          9,
          9.333333333333334,
          9.333333333333334,
          5.333333333333333,
          6,
          16.333333333333332,
          7.333333333333333,
          10,
          4.666666666666667,
          2,
          12.333333333333334,
          4.333333333333333,
          9,
          7.666666666666667,
          6.333333333333333,
          8,
          17,
          11,
          10,
          12,
          9.333333333333334,
          9,
          10.333333333333334,
          10,
          11,
          18.333333333333332,
          12.333333333333334,
          14.333333333333334,
          15,
          18,
          6.333333333333333,
          15.666666666666666,
          8.333333333333334,
          6,
          11.333333333333334,
          11.666666666666666,
          10.666666666666666,
          10.333333333333334,
          9.333333333333334,
          8.333333333333334,
          13.333333333333334,
          5.333333333333333,
          6.333333333333333,
          16,
          7.666666666666667,
          11.666666666666666,
          4.333333333333333,
          12.333333333333334,
          7.666666666666667,
          18.666666666666668,
          14.666666666666666,
          null,
          null,
          null,
          null,
          null,
          null,
          null,
          null,
          null,
          null,
          null,
          null,
          null,
          null,
          null,
          null,
          null,
          null,
          null,
          null,
          null,
          null,
          null,
          null,
          null,
          null,
          null,
          null,
          null,
          null,
          null,
          null,
          null,
          null,
          null,
          null,
          null,
          null,
          null,
          null,
          null,
          null,
          null,
          null,
          null,
          null,
          null,
          null,
          null,
          null,
          null,
          null,
          null,
          null,
          null,
          null,
          null,
          null,
          null,
          null,
          null,
          null,
          null,
          null,
          null,
          null,
          null,
          null,
          null,
          null,
          null,
          null,
          null,
          null,
          null,
          null,
          null,
          null,
          null,
          null,
          null,
          null,
          null,
          null,
          null,
          null,
          null,
          null
         ],
         "xaxis": "x2",
         "yaxis": "y2"
        },
        {
         "alignmentgroup": "True",
         "bingroup": "x",
         "hovertemplate": "variable=Math<br>facet_col=2<br>value=%{x}<br>count=%{y}<extra></extra>",
         "legendgroup": "Math",
         "marker": {
          "color": "#636efa",
          "pattern": {
           "shape": ""
          }
         },
         "name": "Math",
         "offsetgroup": "Math",
         "orientation": "v",
         "showlegend": false,
         "type": "histogram",
         "x": [
          14.666666666666666,
          11.666666666666666,
          17.666666666666668,
          15.333333333333334,
          5.333333333333333,
          15.333333333333334,
          12.666666666666666,
          7.666666666666667,
          11.666666666666666,
          15.333333333333334,
          13.666666666666666,
          13.333333333333334,
          9.333333333333334,
          9,
          9.666666666666666,
          14.666666666666666,
          12.666666666666666,
          12.333333333333334,
          10.666666666666666,
          9.333333333333334,
          15.666666666666666,
          9,
          8.333333333333334,
          10,
          11,
          6.333333333333333,
          15,
          7,
          13.666666666666666,
          10.333333333333334,
          10.333333333333334,
          12.666666666666666,
          6.333333333333333,
          7.666666666666667,
          12,
          18.666666666666668,
          15.333333333333334,
          15,
          7.666666666666667,
          3,
          1.3333333333333333,
          13.666666666666666,
          10,
          15.666666666666666,
          11.333333333333334,
          4.333333333333333,
          10,
          14,
          14.666666666666666,
          5,
          9.333333333333334,
          12.333333333333334,
          10.333333333333334,
          8.333333333333334,
          12.333333333333334,
          16.666666666666668,
          12,
          7.666666666666667,
          18,
          16,
          6.333333333333333,
          7,
          6.666666666666667,
          7.333333333333333,
          15.333333333333334,
          11.666666666666666,
          11.333333333333334,
          13.333333333333334,
          12.333333333333334,
          12,
          18,
          14.333333333333334,
          7.333333333333333,
          10.666666666666666,
          13,
          14.333333333333334,
          17.666666666666668,
          9.333333333333334,
          6.333333333333333,
          9.333333333333334,
          10,
          12,
          14.333333333333334,
          11.333333333333334,
          12.333333333333334,
          13.666666666666666,
          8.666666666666666,
          13.666666666666666,
          13.666666666666666,
          14,
          12.666666666666666,
          10.666666666666666,
          13.666666666666666,
          9.333333333333334,
          10.666666666666666,
          9.666666666666666,
          11,
          15.333333333333334,
          15,
          14,
          2.3333333333333335,
          13.333333333333334,
          9.666666666666666,
          14.333333333333334,
          12.333333333333334,
          13,
          12.333333333333334,
          12.666666666666666,
          11.666666666666666,
          5.333333333333333,
          8.666666666666666,
          10,
          3.6666666666666665,
          5.333333333333333,
          9.666666666666666,
          4,
          3.6666666666666665,
          9,
          8.333333333333334,
          8.666666666666666,
          null,
          null,
          null,
          null,
          null,
          null,
          null,
          null,
          null,
          null,
          null,
          null,
          null,
          null,
          null,
          null,
          null,
          null,
          null,
          null,
          null,
          null,
          null,
          null,
          null,
          null,
          null,
          null,
          null,
          null,
          null,
          null,
          null,
          null,
          null,
          null,
          null,
          null,
          null,
          null,
          null,
          null,
          null,
          null,
          null,
          null,
          null,
          null,
          null,
          null,
          null,
          null,
          null,
          null,
          null,
          null,
          null,
          null,
          null,
          null,
          null,
          null,
          null,
          null,
          null,
          null,
          null,
          null,
          null,
          null,
          null,
          null,
          null,
          null,
          null,
          null,
          null,
          null,
          null,
          null,
          null,
          null,
          null,
          null,
          null,
          null,
          null,
          null,
          null
         ],
         "xaxis": "x3",
         "yaxis": "y3"
        },
        {
         "alignmentgroup": "True",
         "bingroup": "x",
         "hovertemplate": "variable=Math<br>facet_col=3<br>value=%{x}<br>count=%{y}<extra></extra>",
         "legendgroup": "Math",
         "marker": {
          "color": "#636efa",
          "pattern": {
           "shape": ""
          }
         },
         "name": "Math",
         "offsetgroup": "Math",
         "orientation": "v",
         "showlegend": false,
         "type": "histogram",
         "x": [
          8.666666666666666,
          15,
          10.333333333333334,
          9.333333333333334,
          9.333333333333334,
          14,
          16.333333333333332,
          10,
          7,
          16.333333333333332,
          7.333333333333333,
          11.333333333333334,
          19.333333333333332,
          12,
          14.666666666666666,
          9.333333333333334,
          10,
          15.333333333333334,
          11.333333333333334,
          9.333333333333334,
          11.333333333333334,
          10.666666666666666,
          7.333333333333333,
          17,
          13.666666666666666,
          8,
          10.666666666666666,
          17.333333333333332,
          9,
          13.333333333333334,
          8,
          18,
          10,
          9,
          3.6666666666666665,
          11.666666666666666,
          4.333333333333333,
          11.333333333333334,
          5.666666666666667,
          15,
          8,
          9,
          8.333333333333334,
          9,
          13.666666666666666,
          14.666666666666666,
          9.333333333333334,
          9.333333333333334,
          9.333333333333334,
          10.333333333333334,
          12,
          9.333333333333334,
          12.333333333333334,
          9.333333333333334,
          14.666666666666666,
          3.6666666666666665,
          12.666666666666666,
          13.333333333333334,
          13.333333333333334,
          11,
          9.666666666666666,
          13.333333333333334,
          11,
          2.3333333333333335,
          8,
          11,
          2,
          14.333333333333334,
          8.333333333333334,
          8,
          9,
          12.333333333333334,
          11,
          10.666666666666666,
          17.333333333333332,
          13,
          11.666666666666666,
          13.666666666666666,
          5,
          11.333333333333334,
          15.333333333333334,
          5.666666666666667,
          7.666666666666667,
          9.333333333333334,
          11.666666666666666,
          10,
          13,
          10,
          13,
          15,
          10.666666666666666,
          8,
          11,
          null,
          null,
          null,
          null,
          null,
          null,
          null,
          null,
          null,
          null,
          null,
          null,
          null,
          null,
          null,
          null,
          null,
          null,
          null,
          null,
          null,
          null,
          null,
          null,
          null,
          null,
          null,
          null,
          null,
          null,
          null,
          null,
          null,
          null,
          null,
          null,
          null,
          null
         ],
         "xaxis": "x4",
         "yaxis": "y4"
        },
        {
         "alignmentgroup": "True",
         "bingroup": "x",
         "hovertemplate": "variable=Math<br>facet_col=0<br>value=%{x}<br>count=%{y}<extra></extra>",
         "legendgroup": "Math",
         "marker": {
          "color": "#636efa",
          "pattern": {
           "shape": ""
          }
         },
         "name": "Math",
         "offsetgroup": "Math",
         "orientation": "v",
         "showlegend": false,
         "type": "histogram",
         "x": [
          10.666666666666666,
          11.666666666666666,
          null,
          null,
          null,
          null,
          null
         ],
         "xaxis": "x5",
         "yaxis": "y5"
        }
       ],
       "layout": {
        "annotations": [
         {
          "font": {},
          "showarrow": false,
          "text": "facet_col=4",
          "x": 0.09200000000000001,
          "xanchor": "center",
          "xref": "paper",
          "y": 1,
          "yanchor": "bottom",
          "yref": "paper"
         },
         {
          "font": {},
          "showarrow": false,
          "text": "facet_col=1",
          "x": 0.29600000000000004,
          "xanchor": "center",
          "xref": "paper",
          "y": 1,
          "yanchor": "bottom",
          "yref": "paper"
         },
         {
          "font": {},
          "showarrow": false,
          "text": "facet_col=2",
          "x": 0.5,
          "xanchor": "center",
          "xref": "paper",
          "y": 1,
          "yanchor": "bottom",
          "yref": "paper"
         },
         {
          "font": {},
          "showarrow": false,
          "text": "facet_col=3",
          "x": 0.7040000000000002,
          "xanchor": "center",
          "xref": "paper",
          "y": 1,
          "yanchor": "bottom",
          "yref": "paper"
         },
         {
          "font": {},
          "showarrow": false,
          "text": "facet_col=0",
          "x": 0.908,
          "xanchor": "center",
          "xref": "paper",
          "y": 1,
          "yanchor": "bottom",
          "yref": "paper"
         }
        ],
        "barmode": "relative",
        "legend": {
         "title": {
          "text": "variable"
         },
         "tracegroupgap": 0
        },
        "margin": {
         "t": 60
        },
        "template": {
         "data": {
          "bar": [
           {
            "error_x": {
             "color": "#2a3f5f"
            },
            "error_y": {
             "color": "#2a3f5f"
            },
            "marker": {
             "line": {
              "color": "#E5ECF6",
              "width": 0.5
             },
             "pattern": {
              "fillmode": "overlay",
              "size": 10,
              "solidity": 0.2
             }
            },
            "type": "bar"
           }
          ],
          "barpolar": [
           {
            "marker": {
             "line": {
              "color": "#E5ECF6",
              "width": 0.5
             },
             "pattern": {
              "fillmode": "overlay",
              "size": 10,
              "solidity": 0.2
             }
            },
            "type": "barpolar"
           }
          ],
          "carpet": [
           {
            "aaxis": {
             "endlinecolor": "#2a3f5f",
             "gridcolor": "white",
             "linecolor": "white",
             "minorgridcolor": "white",
             "startlinecolor": "#2a3f5f"
            },
            "baxis": {
             "endlinecolor": "#2a3f5f",
             "gridcolor": "white",
             "linecolor": "white",
             "minorgridcolor": "white",
             "startlinecolor": "#2a3f5f"
            },
            "type": "carpet"
           }
          ],
          "choropleth": [
           {
            "colorbar": {
             "outlinewidth": 0,
             "ticks": ""
            },
            "type": "choropleth"
           }
          ],
          "contour": [
           {
            "colorbar": {
             "outlinewidth": 0,
             "ticks": ""
            },
            "colorscale": [
             [
              0,
              "#0d0887"
             ],
             [
              0.1111111111111111,
              "#46039f"
             ],
             [
              0.2222222222222222,
              "#7201a8"
             ],
             [
              0.3333333333333333,
              "#9c179e"
             ],
             [
              0.4444444444444444,
              "#bd3786"
             ],
             [
              0.5555555555555556,
              "#d8576b"
             ],
             [
              0.6666666666666666,
              "#ed7953"
             ],
             [
              0.7777777777777778,
              "#fb9f3a"
             ],
             [
              0.8888888888888888,
              "#fdca26"
             ],
             [
              1,
              "#f0f921"
             ]
            ],
            "type": "contour"
           }
          ],
          "contourcarpet": [
           {
            "colorbar": {
             "outlinewidth": 0,
             "ticks": ""
            },
            "type": "contourcarpet"
           }
          ],
          "heatmap": [
           {
            "colorbar": {
             "outlinewidth": 0,
             "ticks": ""
            },
            "colorscale": [
             [
              0,
              "#0d0887"
             ],
             [
              0.1111111111111111,
              "#46039f"
             ],
             [
              0.2222222222222222,
              "#7201a8"
             ],
             [
              0.3333333333333333,
              "#9c179e"
             ],
             [
              0.4444444444444444,
              "#bd3786"
             ],
             [
              0.5555555555555556,
              "#d8576b"
             ],
             [
              0.6666666666666666,
              "#ed7953"
             ],
             [
              0.7777777777777778,
              "#fb9f3a"
             ],
             [
              0.8888888888888888,
              "#fdca26"
             ],
             [
              1,
              "#f0f921"
             ]
            ],
            "type": "heatmap"
           }
          ],
          "heatmapgl": [
           {
            "colorbar": {
             "outlinewidth": 0,
             "ticks": ""
            },
            "colorscale": [
             [
              0,
              "#0d0887"
             ],
             [
              0.1111111111111111,
              "#46039f"
             ],
             [
              0.2222222222222222,
              "#7201a8"
             ],
             [
              0.3333333333333333,
              "#9c179e"
             ],
             [
              0.4444444444444444,
              "#bd3786"
             ],
             [
              0.5555555555555556,
              "#d8576b"
             ],
             [
              0.6666666666666666,
              "#ed7953"
             ],
             [
              0.7777777777777778,
              "#fb9f3a"
             ],
             [
              0.8888888888888888,
              "#fdca26"
             ],
             [
              1,
              "#f0f921"
             ]
            ],
            "type": "heatmapgl"
           }
          ],
          "histogram": [
           {
            "marker": {
             "pattern": {
              "fillmode": "overlay",
              "size": 10,
              "solidity": 0.2
             }
            },
            "type": "histogram"
           }
          ],
          "histogram2d": [
           {
            "colorbar": {
             "outlinewidth": 0,
             "ticks": ""
            },
            "colorscale": [
             [
              0,
              "#0d0887"
             ],
             [
              0.1111111111111111,
              "#46039f"
             ],
             [
              0.2222222222222222,
              "#7201a8"
             ],
             [
              0.3333333333333333,
              "#9c179e"
             ],
             [
              0.4444444444444444,
              "#bd3786"
             ],
             [
              0.5555555555555556,
              "#d8576b"
             ],
             [
              0.6666666666666666,
              "#ed7953"
             ],
             [
              0.7777777777777778,
              "#fb9f3a"
             ],
             [
              0.8888888888888888,
              "#fdca26"
             ],
             [
              1,
              "#f0f921"
             ]
            ],
            "type": "histogram2d"
           }
          ],
          "histogram2dcontour": [
           {
            "colorbar": {
             "outlinewidth": 0,
             "ticks": ""
            },
            "colorscale": [
             [
              0,
              "#0d0887"
             ],
             [
              0.1111111111111111,
              "#46039f"
             ],
             [
              0.2222222222222222,
              "#7201a8"
             ],
             [
              0.3333333333333333,
              "#9c179e"
             ],
             [
              0.4444444444444444,
              "#bd3786"
             ],
             [
              0.5555555555555556,
              "#d8576b"
             ],
             [
              0.6666666666666666,
              "#ed7953"
             ],
             [
              0.7777777777777778,
              "#fb9f3a"
             ],
             [
              0.8888888888888888,
              "#fdca26"
             ],
             [
              1,
              "#f0f921"
             ]
            ],
            "type": "histogram2dcontour"
           }
          ],
          "mesh3d": [
           {
            "colorbar": {
             "outlinewidth": 0,
             "ticks": ""
            },
            "type": "mesh3d"
           }
          ],
          "parcoords": [
           {
            "line": {
             "colorbar": {
              "outlinewidth": 0,
              "ticks": ""
             }
            },
            "type": "parcoords"
           }
          ],
          "pie": [
           {
            "automargin": true,
            "type": "pie"
           }
          ],
          "scatter": [
           {
            "fillpattern": {
             "fillmode": "overlay",
             "size": 10,
             "solidity": 0.2
            },
            "type": "scatter"
           }
          ],
          "scatter3d": [
           {
            "line": {
             "colorbar": {
              "outlinewidth": 0,
              "ticks": ""
             }
            },
            "marker": {
             "colorbar": {
              "outlinewidth": 0,
              "ticks": ""
             }
            },
            "type": "scatter3d"
           }
          ],
          "scattercarpet": [
           {
            "marker": {
             "colorbar": {
              "outlinewidth": 0,
              "ticks": ""
             }
            },
            "type": "scattercarpet"
           }
          ],
          "scattergeo": [
           {
            "marker": {
             "colorbar": {
              "outlinewidth": 0,
              "ticks": ""
             }
            },
            "type": "scattergeo"
           }
          ],
          "scattergl": [
           {
            "marker": {
             "colorbar": {
              "outlinewidth": 0,
              "ticks": ""
             }
            },
            "type": "scattergl"
           }
          ],
          "scattermapbox": [
           {
            "marker": {
             "colorbar": {
              "outlinewidth": 0,
              "ticks": ""
             }
            },
            "type": "scattermapbox"
           }
          ],
          "scatterpolar": [
           {
            "marker": {
             "colorbar": {
              "outlinewidth": 0,
              "ticks": ""
             }
            },
            "type": "scatterpolar"
           }
          ],
          "scatterpolargl": [
           {
            "marker": {
             "colorbar": {
              "outlinewidth": 0,
              "ticks": ""
             }
            },
            "type": "scatterpolargl"
           }
          ],
          "scatterternary": [
           {
            "marker": {
             "colorbar": {
              "outlinewidth": 0,
              "ticks": ""
             }
            },
            "type": "scatterternary"
           }
          ],
          "surface": [
           {
            "colorbar": {
             "outlinewidth": 0,
             "ticks": ""
            },
            "colorscale": [
             [
              0,
              "#0d0887"
             ],
             [
              0.1111111111111111,
              "#46039f"
             ],
             [
              0.2222222222222222,
              "#7201a8"
             ],
             [
              0.3333333333333333,
              "#9c179e"
             ],
             [
              0.4444444444444444,
              "#bd3786"
             ],
             [
              0.5555555555555556,
              "#d8576b"
             ],
             [
              0.6666666666666666,
              "#ed7953"
             ],
             [
              0.7777777777777778,
              "#fb9f3a"
             ],
             [
              0.8888888888888888,
              "#fdca26"
             ],
             [
              1,
              "#f0f921"
             ]
            ],
            "type": "surface"
           }
          ],
          "table": [
           {
            "cells": {
             "fill": {
              "color": "#EBF0F8"
             },
             "line": {
              "color": "white"
             }
            },
            "header": {
             "fill": {
              "color": "#C8D4E3"
             },
             "line": {
              "color": "white"
             }
            },
            "type": "table"
           }
          ]
         },
         "layout": {
          "annotationdefaults": {
           "arrowcolor": "#2a3f5f",
           "arrowhead": 0,
           "arrowwidth": 1
          },
          "autotypenumbers": "strict",
          "coloraxis": {
           "colorbar": {
            "outlinewidth": 0,
            "ticks": ""
           }
          },
          "colorscale": {
           "diverging": [
            [
             0,
             "#8e0152"
            ],
            [
             0.1,
             "#c51b7d"
            ],
            [
             0.2,
             "#de77ae"
            ],
            [
             0.3,
             "#f1b6da"
            ],
            [
             0.4,
             "#fde0ef"
            ],
            [
             0.5,
             "#f7f7f7"
            ],
            [
             0.6,
             "#e6f5d0"
            ],
            [
             0.7,
             "#b8e186"
            ],
            [
             0.8,
             "#7fbc41"
            ],
            [
             0.9,
             "#4d9221"
            ],
            [
             1,
             "#276419"
            ]
           ],
           "sequential": [
            [
             0,
             "#0d0887"
            ],
            [
             0.1111111111111111,
             "#46039f"
            ],
            [
             0.2222222222222222,
             "#7201a8"
            ],
            [
             0.3333333333333333,
             "#9c179e"
            ],
            [
             0.4444444444444444,
             "#bd3786"
            ],
            [
             0.5555555555555556,
             "#d8576b"
            ],
            [
             0.6666666666666666,
             "#ed7953"
            ],
            [
             0.7777777777777778,
             "#fb9f3a"
            ],
            [
             0.8888888888888888,
             "#fdca26"
            ],
            [
             1,
             "#f0f921"
            ]
           ],
           "sequentialminus": [
            [
             0,
             "#0d0887"
            ],
            [
             0.1111111111111111,
             "#46039f"
            ],
            [
             0.2222222222222222,
             "#7201a8"
            ],
            [
             0.3333333333333333,
             "#9c179e"
            ],
            [
             0.4444444444444444,
             "#bd3786"
            ],
            [
             0.5555555555555556,
             "#d8576b"
            ],
            [
             0.6666666666666666,
             "#ed7953"
            ],
            [
             0.7777777777777778,
             "#fb9f3a"
            ],
            [
             0.8888888888888888,
             "#fdca26"
            ],
            [
             1,
             "#f0f921"
            ]
           ]
          },
          "colorway": [
           "#636efa",
           "#EF553B",
           "#00cc96",
           "#ab63fa",
           "#FFA15A",
           "#19d3f3",
           "#FF6692",
           "#B6E880",
           "#FF97FF",
           "#FECB52"
          ],
          "font": {
           "color": "#2a3f5f"
          },
          "geo": {
           "bgcolor": "white",
           "lakecolor": "white",
           "landcolor": "#E5ECF6",
           "showlakes": true,
           "showland": true,
           "subunitcolor": "white"
          },
          "hoverlabel": {
           "align": "left"
          },
          "hovermode": "closest",
          "mapbox": {
           "style": "light"
          },
          "paper_bgcolor": "white",
          "plot_bgcolor": "#E5ECF6",
          "polar": {
           "angularaxis": {
            "gridcolor": "white",
            "linecolor": "white",
            "ticks": ""
           },
           "bgcolor": "#E5ECF6",
           "radialaxis": {
            "gridcolor": "white",
            "linecolor": "white",
            "ticks": ""
           }
          },
          "scene": {
           "xaxis": {
            "backgroundcolor": "#E5ECF6",
            "gridcolor": "white",
            "gridwidth": 2,
            "linecolor": "white",
            "showbackground": true,
            "ticks": "",
            "zerolinecolor": "white"
           },
           "yaxis": {
            "backgroundcolor": "#E5ECF6",
            "gridcolor": "white",
            "gridwidth": 2,
            "linecolor": "white",
            "showbackground": true,
            "ticks": "",
            "zerolinecolor": "white"
           },
           "zaxis": {
            "backgroundcolor": "#E5ECF6",
            "gridcolor": "white",
            "gridwidth": 2,
            "linecolor": "white",
            "showbackground": true,
            "ticks": "",
            "zerolinecolor": "white"
           }
          },
          "shapedefaults": {
           "line": {
            "color": "#2a3f5f"
           }
          },
          "ternary": {
           "aaxis": {
            "gridcolor": "white",
            "linecolor": "white",
            "ticks": ""
           },
           "baxis": {
            "gridcolor": "white",
            "linecolor": "white",
            "ticks": ""
           },
           "bgcolor": "#E5ECF6",
           "caxis": {
            "gridcolor": "white",
            "linecolor": "white",
            "ticks": ""
           }
          },
          "title": {
           "x": 0.05
          },
          "xaxis": {
           "automargin": true,
           "gridcolor": "white",
           "linecolor": "white",
           "ticks": "",
           "title": {
            "standoff": 15
           },
           "zerolinecolor": "white",
           "zerolinewidth": 2
          },
          "yaxis": {
           "automargin": true,
           "gridcolor": "white",
           "linecolor": "white",
           "ticks": "",
           "title": {
            "standoff": 15
           },
           "zerolinecolor": "white",
           "zerolinewidth": 2
          }
         }
        },
        "xaxis": {
         "anchor": "y",
         "domain": [
          0,
          0.18400000000000002
         ],
         "title": {
          "text": "value"
         }
        },
        "xaxis2": {
         "anchor": "y2",
         "domain": [
          0.20400000000000001,
          0.388
         ],
         "matches": "x",
         "title": {
          "text": "value"
         }
        },
        "xaxis3": {
         "anchor": "y3",
         "domain": [
          0.40800000000000003,
          0.5920000000000001
         ],
         "matches": "x",
         "title": {
          "text": "value"
         }
        },
        "xaxis4": {
         "anchor": "y4",
         "domain": [
          0.6120000000000001,
          0.7960000000000002
         ],
         "matches": "x",
         "title": {
          "text": "value"
         }
        },
        "xaxis5": {
         "anchor": "y5",
         "domain": [
          0.8160000000000001,
          1
         ],
         "matches": "x",
         "title": {
          "text": "value"
         }
        },
        "yaxis": {
         "anchor": "x",
         "domain": [
          0,
          1
         ],
         "title": {
          "text": "count"
         }
        },
        "yaxis2": {
         "anchor": "x2",
         "domain": [
          0,
          1
         ],
         "matches": "y",
         "showticklabels": false
        },
        "yaxis3": {
         "anchor": "x3",
         "domain": [
          0,
          1
         ],
         "matches": "y",
         "showticklabels": false
        },
        "yaxis4": {
         "anchor": "x4",
         "domain": [
          0,
          1
         ],
         "matches": "y",
         "showticklabels": false
        },
        "yaxis5": {
         "anchor": "x5",
         "domain": [
          0,
          1
         ],
         "matches": "y",
         "showticklabels": false
        }
       }
      }
     },
     "metadata": {},
     "output_type": "display_data"
    }
   ],
   "source": [
    "plx.histogram(numeric[\"Math\"],facet_col=numeric[\"Fedu\"])"
   ]
  },
  {
   "cell_type": "code",
   "execution_count": 15,
   "metadata": {},
   "outputs": [
    {
     "data": {
      "application/vnd.plotly.v1+json": {
       "config": {
        "plotlyServerURL": "https://plot.ly"
       },
       "data": [
        {
         "alignmentgroup": "True",
         "bingroup": "x",
         "hovertemplate": "variable=Math<br>facet_col=4<br>value=%{x}<br>count=%{y}<extra></extra>",
         "legendgroup": "Math",
         "marker": {
          "color": "#636efa",
          "pattern": {
           "shape": ""
          }
         },
         "name": "Math",
         "offsetgroup": "Math",
         "orientation": "v",
         "showlegend": true,
         "type": "histogram",
         "x": [
          5.666666666666667,
          14.666666666666666,
          15,
          5.666666666666667,
          9,
          14,
          10.333333333333334,
          14,
          13.666666666666666,
          9.333333333333334,
          14,
          14,
          15.333333333333334,
          15.333333333333334,
          11,
          10.666666666666666,
          16.666666666666668,
          16.333333333333332,
          16.333333333333332,
          15.333333333333334,
          12,
          18.333333333333332,
          7.333333333333333,
          19.333333333333332,
          14.666666666666666,
          7,
          12.333333333333334,
          10.666666666666666,
          9.666666666666666,
          14.666666666666666,
          14.666666666666666,
          15.666666666666666,
          10.666666666666666,
          9.333333333333334,
          10,
          15.333333333333334,
          12.666666666666666,
          10,
          9.333333333333334,
          10.666666666666666,
          8,
          13.666666666666666,
          7,
          17,
          10.333333333333334,
          13.666666666666666,
          13,
          8,
          6.333333333333333,
          16.666666666666668,
          12.333333333333334,
          12,
          15,
          18.666666666666668,
          18.666666666666668,
          15.333333333333334,
          12.666666666666666,
          12.666666666666666,
          3.6666666666666665,
          15.666666666666666,
          10.666666666666666,
          9,
          13,
          1.6666666666666667,
          7,
          15,
          12.333333333333334,
          8.666666666666666,
          11.333333333333334,
          9,
          7.666666666666667,
          9,
          13.666666666666666,
          8,
          13,
          7,
          9.333333333333334,
          3.6666666666666665,
          12.666666666666666,
          8,
          9,
          13.333333333333334,
          11.666666666666666,
          2.3333333333333335,
          12.333333333333334,
          7.333333333333333,
          7.666666666666667,
          11,
          9.333333333333334,
          11,
          9.666666666666666,
          2,
          9,
          14.333333333333334,
          14.333333333333334,
          12.333333333333334,
          12.333333333333334,
          11,
          10.666666666666666,
          13,
          10.666666666666666,
          11,
          13,
          13.666666666666666,
          10.666666666666666,
          15.333333333333334,
          13.333333333333334,
          5,
          6.666666666666667,
          15.333333333333334,
          5.666666666666667,
          10.333333333333334,
          13.333333333333334,
          15.666666666666666,
          9.666666666666666,
          14.333333333333334,
          12.666666666666666,
          11.666666666666666,
          10,
          12.333333333333334,
          10.666666666666666,
          11.666666666666666,
          10,
          10.333333333333334,
          9,
          14.333333333333334,
          6.666666666666667,
          null,
          null,
          null,
          null,
          null,
          null,
          null,
          null,
          null,
          null,
          null,
          null,
          null,
          null,
          null,
          null,
          null,
          null,
          null,
          null,
          null,
          null,
          null,
          null,
          null,
          null,
          null,
          null,
          null,
          null,
          null,
          null,
          null,
          null,
          null,
          null,
          null,
          null,
          null,
          null,
          null,
          null,
          null,
          null,
          null,
          null,
          null,
          null
         ],
         "xaxis": "x",
         "yaxis": "y"
        },
        {
         "alignmentgroup": "True",
         "bingroup": "x",
         "hovertemplate": "variable=Math<br>facet_col=1<br>value=%{x}<br>count=%{y}<extra></extra>",
         "legendgroup": "Math",
         "marker": {
          "color": "#636efa",
          "pattern": {
           "shape": ""
          }
         },
         "name": "Math",
         "offsetgroup": "Math",
         "orientation": "v",
         "showlegend": false,
         "type": "histogram",
         "x": [
          5.333333333333333,
          8.333333333333334,
          9.333333333333334,
          9.666666666666666,
          9,
          6.333333333333333,
          9.666666666666666,
          9,
          8,
          15.333333333333334,
          11.333333333333334,
          9,
          1.6666666666666667,
          4.333333333333333,
          4.333333333333333,
          11.333333333333334,
          13.666666666666666,
          11.333333333333334,
          4.333333333333333,
          10,
          14,
          3.6666666666666665,
          5,
          12.333333333333334,
          5.666666666666667,
          9,
          11.666666666666666,
          15,
          16,
          6.333333333333333,
          9.333333333333334,
          7,
          5.333333333333333,
          16.333333333333332,
          10,
          4.333333333333333,
          6.333333333333333,
          17.666666666666668,
          12.333333333333334,
          17,
          11,
          10,
          9,
          12.333333333333334,
          18,
          11.333333333333334,
          13.666666666666666,
          15.333333333333334,
          10.333333333333334,
          9.333333333333334,
          13.333333333333334,
          5.333333333333333,
          8,
          12.333333333333334,
          7.666666666666667,
          14.666666666666666,
          null,
          null,
          null,
          null,
          null,
          null,
          null,
          null,
          null,
          null,
          null,
          null,
          null,
          null,
          null,
          null,
          null,
          null,
          null,
          null,
          null,
          null,
          null,
          null,
          null,
          null,
          null,
          null,
          null,
          null,
          null,
          null,
          null,
          null,
          null,
          null,
          null,
          null,
          null,
          null,
          null,
          null,
          null,
          null,
          null,
          null,
          null,
          null,
          null,
          null,
          null,
          null,
          null,
          null,
          null,
          null,
          null,
          null,
          null,
          null,
          null,
          null,
          null,
          null,
          null,
          null,
          null,
          null,
          null,
          null,
          null,
          null,
          null,
          null,
          null,
          null,
          null,
          null,
          null,
          null,
          null,
          null,
          null,
          null,
          null,
          null,
          null
         ],
         "xaxis": "x2",
         "yaxis": "y2"
        },
        {
         "alignmentgroup": "True",
         "bingroup": "x",
         "hovertemplate": "variable=Math<br>facet_col=3<br>value=%{x}<br>count=%{y}<extra></extra>",
         "legendgroup": "Math",
         "marker": {
          "color": "#636efa",
          "pattern": {
           "shape": ""
          }
         },
         "name": "Math",
         "offsetgroup": "Math",
         "orientation": "v",
         "showlegend": false,
         "type": "histogram",
         "x": [
          8.666666666666666,
          17.666666666666668,
          14.666666666666666,
          9.333333333333334,
          5.333333333333333,
          11,
          10,
          13.666666666666666,
          11.666666666666666,
          11.333333333333334,
          12,
          6.666666666666667,
          16,
          14.333333333333334,
          12.666666666666666,
          11.333333333333334,
          5,
          6.333333333333333,
          7.333333333333333,
          6.333333333333333,
          6.333333333333333,
          17.333333333333332,
          10.666666666666666,
          17.333333333333332,
          9,
          13.333333333333334,
          13.333333333333334,
          12.666666666666666,
          9.333333333333334,
          4,
          3.6666666666666665,
          12.666666666666666,
          5.333333333333333,
          10.333333333333334,
          13.666666666666666,
          10,
          3.6666666666666665,
          15.666666666666666,
          11.666666666666666,
          10,
          11.333333333333334,
          9.333333333333334,
          10.333333333333334,
          12.333333333333334,
          8,
          8.333333333333334,
          14.666666666666666,
          9.333333333333334,
          18,
          9.333333333333334,
          9.333333333333334,
          12,
          12.333333333333334,
          9.666666666666666,
          6,
          13.333333333333334,
          11.333333333333334,
          11,
          4.666666666666667,
          12,
          14.333333333333334,
          8,
          14.333333333333334,
          14.333333333333334,
          10.333333333333334,
          8,
          12,
          9,
          13.666666666666666,
          17.333333333333332,
          17.666666666666668,
          8.333333333333334,
          13,
          10.666666666666666,
          11,
          15,
          16,
          9.666666666666666,
          11.333333333333334,
          12.333333333333334,
          13,
          7.666666666666667,
          16.666666666666668,
          13,
          15.333333333333334,
          13,
          18.666666666666668,
          15,
          10.666666666666666,
          5.333333333333333,
          8,
          15.333333333333334,
          8.333333333333334,
          11,
          8.666666666666666,
          null,
          null,
          null,
          null,
          null,
          null,
          null,
          null,
          null,
          null,
          null,
          null,
          null,
          null,
          null,
          null,
          null,
          null,
          null,
          null,
          null,
          null,
          null,
          null,
          null,
          null,
          null,
          null,
          null,
          null,
          null,
          null,
          null,
          null,
          null,
          null,
          null,
          null,
          null,
          null,
          null,
          null,
          null,
          null
         ],
         "xaxis": "x3",
         "yaxis": "y3"
        },
        {
         "alignmentgroup": "True",
         "bingroup": "x",
         "hovertemplate": "variable=Math<br>facet_col=2<br>value=%{x}<br>count=%{y}<extra></extra>",
         "legendgroup": "Math",
         "marker": {
          "color": "#636efa",
          "pattern": {
           "shape": ""
          }
         },
         "name": "Math",
         "offsetgroup": "Math",
         "orientation": "v",
         "showlegend": false,
         "type": "histogram",
         "x": [
          11.666666666666666,
          11.333333333333334,
          15.333333333333334,
          12.666666666666666,
          9,
          7.666666666666667,
          11.666666666666666,
          7,
          13.333333333333334,
          9.333333333333334,
          9,
          9.666666666666666,
          12.666666666666666,
          9,
          8.333333333333334,
          11,
          8.666666666666666,
          11.333333333333334,
          10.666666666666666,
          15,
          7,
          10.333333333333334,
          12.666666666666666,
          9,
          7.666666666666667,
          12,
          9,
          15,
          13,
          7.666666666666667,
          18,
          2.6666666666666665,
          11.666666666666666,
          3,
          3.3333333333333335,
          1.3333333333333333,
          10,
          9,
          9,
          2.3333333333333335,
          6.666666666666667,
          4.333333333333333,
          14.666666666666666,
          10,
          8.333333333333334,
          16.666666666666668,
          12,
          16,
          9.333333333333334,
          10.333333333333334,
          9.333333333333334,
          7,
          14.666666666666666,
          6.666666666666667,
          7.333333333333333,
          15.333333333333334,
          11.666666666666666,
          9.666666666666666,
          13.333333333333334,
          7.333333333333333,
          13.333333333333334,
          12.333333333333334,
          11,
          2,
          12.333333333333334,
          18,
          7.333333333333333,
          9,
          8.333333333333334,
          10.666666666666666,
          13,
          8,
          9.333333333333334,
          6.333333333333333,
          12,
          9.333333333333334,
          8.333333333333334,
          10,
          11,
          18.333333333333332,
          14.333333333333334,
          11.333333333333334,
          15,
          13.666666666666666,
          6.333333333333333,
          8.666666666666666,
          13.666666666666666,
          15.666666666666666,
          14,
          12.666666666666666,
          6,
          11.666666666666666,
          11.666666666666666,
          5.333333333333333,
          9.333333333333334,
          9.666666666666666,
          14,
          8.333333333333334,
          2.3333333333333335,
          6.333333333333333,
          7.666666666666667,
          11.666666666666666,
          9.333333333333334,
          4.333333333333333,
          12.666666666666666,
          11.666666666666666,
          5.333333333333333,
          10,
          3.6666666666666665,
          9.666666666666666,
          5.666666666666667,
          4,
          3.6666666666666665,
          9,
          null,
          null,
          null,
          null,
          null,
          null,
          null,
          null,
          null,
          null,
          null,
          null,
          null,
          null,
          null,
          null,
          null,
          null,
          null,
          null,
          null,
          null,
          null,
          null,
          null,
          null,
          null,
          null,
          null,
          null,
          null,
          null,
          null,
          null,
          null,
          null,
          null,
          null,
          null,
          null,
          null,
          null,
          null,
          null,
          null,
          null,
          null,
          null,
          null,
          null,
          null,
          null,
          null,
          null,
          null,
          null,
          null,
          null,
          null,
          null,
          null,
          null,
          null,
          null,
          null,
          null,
          null,
          null,
          null,
          null,
          null,
          null
         ],
         "xaxis": "x4",
         "yaxis": "y4"
        },
        {
         "alignmentgroup": "True",
         "bingroup": "x",
         "hovertemplate": "variable=Math<br>facet_col=0<br>value=%{x}<br>count=%{y}<extra></extra>",
         "legendgroup": "Math",
         "marker": {
          "color": "#636efa",
          "pattern": {
           "shape": ""
          }
         },
         "name": "Math",
         "offsetgroup": "Math",
         "orientation": "v",
         "showlegend": false,
         "type": "histogram",
         "x": [
          8,
          10,
          8.666666666666666,
          null,
          null,
          null
         ],
         "xaxis": "x5",
         "yaxis": "y5"
        }
       ],
       "layout": {
        "annotations": [
         {
          "font": {},
          "showarrow": false,
          "text": "facet_col=4",
          "x": 0.09200000000000001,
          "xanchor": "center",
          "xref": "paper",
          "y": 1,
          "yanchor": "bottom",
          "yref": "paper"
         },
         {
          "font": {},
          "showarrow": false,
          "text": "facet_col=1",
          "x": 0.29600000000000004,
          "xanchor": "center",
          "xref": "paper",
          "y": 1,
          "yanchor": "bottom",
          "yref": "paper"
         },
         {
          "font": {},
          "showarrow": false,
          "text": "facet_col=3",
          "x": 0.5,
          "xanchor": "center",
          "xref": "paper",
          "y": 1,
          "yanchor": "bottom",
          "yref": "paper"
         },
         {
          "font": {},
          "showarrow": false,
          "text": "facet_col=2",
          "x": 0.7040000000000002,
          "xanchor": "center",
          "xref": "paper",
          "y": 1,
          "yanchor": "bottom",
          "yref": "paper"
         },
         {
          "font": {},
          "showarrow": false,
          "text": "facet_col=0",
          "x": 0.908,
          "xanchor": "center",
          "xref": "paper",
          "y": 1,
          "yanchor": "bottom",
          "yref": "paper"
         }
        ],
        "barmode": "relative",
        "legend": {
         "title": {
          "text": "variable"
         },
         "tracegroupgap": 0
        },
        "margin": {
         "t": 60
        },
        "template": {
         "data": {
          "bar": [
           {
            "error_x": {
             "color": "#2a3f5f"
            },
            "error_y": {
             "color": "#2a3f5f"
            },
            "marker": {
             "line": {
              "color": "#E5ECF6",
              "width": 0.5
             },
             "pattern": {
              "fillmode": "overlay",
              "size": 10,
              "solidity": 0.2
             }
            },
            "type": "bar"
           }
          ],
          "barpolar": [
           {
            "marker": {
             "line": {
              "color": "#E5ECF6",
              "width": 0.5
             },
             "pattern": {
              "fillmode": "overlay",
              "size": 10,
              "solidity": 0.2
             }
            },
            "type": "barpolar"
           }
          ],
          "carpet": [
           {
            "aaxis": {
             "endlinecolor": "#2a3f5f",
             "gridcolor": "white",
             "linecolor": "white",
             "minorgridcolor": "white",
             "startlinecolor": "#2a3f5f"
            },
            "baxis": {
             "endlinecolor": "#2a3f5f",
             "gridcolor": "white",
             "linecolor": "white",
             "minorgridcolor": "white",
             "startlinecolor": "#2a3f5f"
            },
            "type": "carpet"
           }
          ],
          "choropleth": [
           {
            "colorbar": {
             "outlinewidth": 0,
             "ticks": ""
            },
            "type": "choropleth"
           }
          ],
          "contour": [
           {
            "colorbar": {
             "outlinewidth": 0,
             "ticks": ""
            },
            "colorscale": [
             [
              0,
              "#0d0887"
             ],
             [
              0.1111111111111111,
              "#46039f"
             ],
             [
              0.2222222222222222,
              "#7201a8"
             ],
             [
              0.3333333333333333,
              "#9c179e"
             ],
             [
              0.4444444444444444,
              "#bd3786"
             ],
             [
              0.5555555555555556,
              "#d8576b"
             ],
             [
              0.6666666666666666,
              "#ed7953"
             ],
             [
              0.7777777777777778,
              "#fb9f3a"
             ],
             [
              0.8888888888888888,
              "#fdca26"
             ],
             [
              1,
              "#f0f921"
             ]
            ],
            "type": "contour"
           }
          ],
          "contourcarpet": [
           {
            "colorbar": {
             "outlinewidth": 0,
             "ticks": ""
            },
            "type": "contourcarpet"
           }
          ],
          "heatmap": [
           {
            "colorbar": {
             "outlinewidth": 0,
             "ticks": ""
            },
            "colorscale": [
             [
              0,
              "#0d0887"
             ],
             [
              0.1111111111111111,
              "#46039f"
             ],
             [
              0.2222222222222222,
              "#7201a8"
             ],
             [
              0.3333333333333333,
              "#9c179e"
             ],
             [
              0.4444444444444444,
              "#bd3786"
             ],
             [
              0.5555555555555556,
              "#d8576b"
             ],
             [
              0.6666666666666666,
              "#ed7953"
             ],
             [
              0.7777777777777778,
              "#fb9f3a"
             ],
             [
              0.8888888888888888,
              "#fdca26"
             ],
             [
              1,
              "#f0f921"
             ]
            ],
            "type": "heatmap"
           }
          ],
          "heatmapgl": [
           {
            "colorbar": {
             "outlinewidth": 0,
             "ticks": ""
            },
            "colorscale": [
             [
              0,
              "#0d0887"
             ],
             [
              0.1111111111111111,
              "#46039f"
             ],
             [
              0.2222222222222222,
              "#7201a8"
             ],
             [
              0.3333333333333333,
              "#9c179e"
             ],
             [
              0.4444444444444444,
              "#bd3786"
             ],
             [
              0.5555555555555556,
              "#d8576b"
             ],
             [
              0.6666666666666666,
              "#ed7953"
             ],
             [
              0.7777777777777778,
              "#fb9f3a"
             ],
             [
              0.8888888888888888,
              "#fdca26"
             ],
             [
              1,
              "#f0f921"
             ]
            ],
            "type": "heatmapgl"
           }
          ],
          "histogram": [
           {
            "marker": {
             "pattern": {
              "fillmode": "overlay",
              "size": 10,
              "solidity": 0.2
             }
            },
            "type": "histogram"
           }
          ],
          "histogram2d": [
           {
            "colorbar": {
             "outlinewidth": 0,
             "ticks": ""
            },
            "colorscale": [
             [
              0,
              "#0d0887"
             ],
             [
              0.1111111111111111,
              "#46039f"
             ],
             [
              0.2222222222222222,
              "#7201a8"
             ],
             [
              0.3333333333333333,
              "#9c179e"
             ],
             [
              0.4444444444444444,
              "#bd3786"
             ],
             [
              0.5555555555555556,
              "#d8576b"
             ],
             [
              0.6666666666666666,
              "#ed7953"
             ],
             [
              0.7777777777777778,
              "#fb9f3a"
             ],
             [
              0.8888888888888888,
              "#fdca26"
             ],
             [
              1,
              "#f0f921"
             ]
            ],
            "type": "histogram2d"
           }
          ],
          "histogram2dcontour": [
           {
            "colorbar": {
             "outlinewidth": 0,
             "ticks": ""
            },
            "colorscale": [
             [
              0,
              "#0d0887"
             ],
             [
              0.1111111111111111,
              "#46039f"
             ],
             [
              0.2222222222222222,
              "#7201a8"
             ],
             [
              0.3333333333333333,
              "#9c179e"
             ],
             [
              0.4444444444444444,
              "#bd3786"
             ],
             [
              0.5555555555555556,
              "#d8576b"
             ],
             [
              0.6666666666666666,
              "#ed7953"
             ],
             [
              0.7777777777777778,
              "#fb9f3a"
             ],
             [
              0.8888888888888888,
              "#fdca26"
             ],
             [
              1,
              "#f0f921"
             ]
            ],
            "type": "histogram2dcontour"
           }
          ],
          "mesh3d": [
           {
            "colorbar": {
             "outlinewidth": 0,
             "ticks": ""
            },
            "type": "mesh3d"
           }
          ],
          "parcoords": [
           {
            "line": {
             "colorbar": {
              "outlinewidth": 0,
              "ticks": ""
             }
            },
            "type": "parcoords"
           }
          ],
          "pie": [
           {
            "automargin": true,
            "type": "pie"
           }
          ],
          "scatter": [
           {
            "fillpattern": {
             "fillmode": "overlay",
             "size": 10,
             "solidity": 0.2
            },
            "type": "scatter"
           }
          ],
          "scatter3d": [
           {
            "line": {
             "colorbar": {
              "outlinewidth": 0,
              "ticks": ""
             }
            },
            "marker": {
             "colorbar": {
              "outlinewidth": 0,
              "ticks": ""
             }
            },
            "type": "scatter3d"
           }
          ],
          "scattercarpet": [
           {
            "marker": {
             "colorbar": {
              "outlinewidth": 0,
              "ticks": ""
             }
            },
            "type": "scattercarpet"
           }
          ],
          "scattergeo": [
           {
            "marker": {
             "colorbar": {
              "outlinewidth": 0,
              "ticks": ""
             }
            },
            "type": "scattergeo"
           }
          ],
          "scattergl": [
           {
            "marker": {
             "colorbar": {
              "outlinewidth": 0,
              "ticks": ""
             }
            },
            "type": "scattergl"
           }
          ],
          "scattermapbox": [
           {
            "marker": {
             "colorbar": {
              "outlinewidth": 0,
              "ticks": ""
             }
            },
            "type": "scattermapbox"
           }
          ],
          "scatterpolar": [
           {
            "marker": {
             "colorbar": {
              "outlinewidth": 0,
              "ticks": ""
             }
            },
            "type": "scatterpolar"
           }
          ],
          "scatterpolargl": [
           {
            "marker": {
             "colorbar": {
              "outlinewidth": 0,
              "ticks": ""
             }
            },
            "type": "scatterpolargl"
           }
          ],
          "scatterternary": [
           {
            "marker": {
             "colorbar": {
              "outlinewidth": 0,
              "ticks": ""
             }
            },
            "type": "scatterternary"
           }
          ],
          "surface": [
           {
            "colorbar": {
             "outlinewidth": 0,
             "ticks": ""
            },
            "colorscale": [
             [
              0,
              "#0d0887"
             ],
             [
              0.1111111111111111,
              "#46039f"
             ],
             [
              0.2222222222222222,
              "#7201a8"
             ],
             [
              0.3333333333333333,
              "#9c179e"
             ],
             [
              0.4444444444444444,
              "#bd3786"
             ],
             [
              0.5555555555555556,
              "#d8576b"
             ],
             [
              0.6666666666666666,
              "#ed7953"
             ],
             [
              0.7777777777777778,
              "#fb9f3a"
             ],
             [
              0.8888888888888888,
              "#fdca26"
             ],
             [
              1,
              "#f0f921"
             ]
            ],
            "type": "surface"
           }
          ],
          "table": [
           {
            "cells": {
             "fill": {
              "color": "#EBF0F8"
             },
             "line": {
              "color": "white"
             }
            },
            "header": {
             "fill": {
              "color": "#C8D4E3"
             },
             "line": {
              "color": "white"
             }
            },
            "type": "table"
           }
          ]
         },
         "layout": {
          "annotationdefaults": {
           "arrowcolor": "#2a3f5f",
           "arrowhead": 0,
           "arrowwidth": 1
          },
          "autotypenumbers": "strict",
          "coloraxis": {
           "colorbar": {
            "outlinewidth": 0,
            "ticks": ""
           }
          },
          "colorscale": {
           "diverging": [
            [
             0,
             "#8e0152"
            ],
            [
             0.1,
             "#c51b7d"
            ],
            [
             0.2,
             "#de77ae"
            ],
            [
             0.3,
             "#f1b6da"
            ],
            [
             0.4,
             "#fde0ef"
            ],
            [
             0.5,
             "#f7f7f7"
            ],
            [
             0.6,
             "#e6f5d0"
            ],
            [
             0.7,
             "#b8e186"
            ],
            [
             0.8,
             "#7fbc41"
            ],
            [
             0.9,
             "#4d9221"
            ],
            [
             1,
             "#276419"
            ]
           ],
           "sequential": [
            [
             0,
             "#0d0887"
            ],
            [
             0.1111111111111111,
             "#46039f"
            ],
            [
             0.2222222222222222,
             "#7201a8"
            ],
            [
             0.3333333333333333,
             "#9c179e"
            ],
            [
             0.4444444444444444,
             "#bd3786"
            ],
            [
             0.5555555555555556,
             "#d8576b"
            ],
            [
             0.6666666666666666,
             "#ed7953"
            ],
            [
             0.7777777777777778,
             "#fb9f3a"
            ],
            [
             0.8888888888888888,
             "#fdca26"
            ],
            [
             1,
             "#f0f921"
            ]
           ],
           "sequentialminus": [
            [
             0,
             "#0d0887"
            ],
            [
             0.1111111111111111,
             "#46039f"
            ],
            [
             0.2222222222222222,
             "#7201a8"
            ],
            [
             0.3333333333333333,
             "#9c179e"
            ],
            [
             0.4444444444444444,
             "#bd3786"
            ],
            [
             0.5555555555555556,
             "#d8576b"
            ],
            [
             0.6666666666666666,
             "#ed7953"
            ],
            [
             0.7777777777777778,
             "#fb9f3a"
            ],
            [
             0.8888888888888888,
             "#fdca26"
            ],
            [
             1,
             "#f0f921"
            ]
           ]
          },
          "colorway": [
           "#636efa",
           "#EF553B",
           "#00cc96",
           "#ab63fa",
           "#FFA15A",
           "#19d3f3",
           "#FF6692",
           "#B6E880",
           "#FF97FF",
           "#FECB52"
          ],
          "font": {
           "color": "#2a3f5f"
          },
          "geo": {
           "bgcolor": "white",
           "lakecolor": "white",
           "landcolor": "#E5ECF6",
           "showlakes": true,
           "showland": true,
           "subunitcolor": "white"
          },
          "hoverlabel": {
           "align": "left"
          },
          "hovermode": "closest",
          "mapbox": {
           "style": "light"
          },
          "paper_bgcolor": "white",
          "plot_bgcolor": "#E5ECF6",
          "polar": {
           "angularaxis": {
            "gridcolor": "white",
            "linecolor": "white",
            "ticks": ""
           },
           "bgcolor": "#E5ECF6",
           "radialaxis": {
            "gridcolor": "white",
            "linecolor": "white",
            "ticks": ""
           }
          },
          "scene": {
           "xaxis": {
            "backgroundcolor": "#E5ECF6",
            "gridcolor": "white",
            "gridwidth": 2,
            "linecolor": "white",
            "showbackground": true,
            "ticks": "",
            "zerolinecolor": "white"
           },
           "yaxis": {
            "backgroundcolor": "#E5ECF6",
            "gridcolor": "white",
            "gridwidth": 2,
            "linecolor": "white",
            "showbackground": true,
            "ticks": "",
            "zerolinecolor": "white"
           },
           "zaxis": {
            "backgroundcolor": "#E5ECF6",
            "gridcolor": "white",
            "gridwidth": 2,
            "linecolor": "white",
            "showbackground": true,
            "ticks": "",
            "zerolinecolor": "white"
           }
          },
          "shapedefaults": {
           "line": {
            "color": "#2a3f5f"
           }
          },
          "ternary": {
           "aaxis": {
            "gridcolor": "white",
            "linecolor": "white",
            "ticks": ""
           },
           "baxis": {
            "gridcolor": "white",
            "linecolor": "white",
            "ticks": ""
           },
           "bgcolor": "#E5ECF6",
           "caxis": {
            "gridcolor": "white",
            "linecolor": "white",
            "ticks": ""
           }
          },
          "title": {
           "x": 0.05
          },
          "xaxis": {
           "automargin": true,
           "gridcolor": "white",
           "linecolor": "white",
           "ticks": "",
           "title": {
            "standoff": 15
           },
           "zerolinecolor": "white",
           "zerolinewidth": 2
          },
          "yaxis": {
           "automargin": true,
           "gridcolor": "white",
           "linecolor": "white",
           "ticks": "",
           "title": {
            "standoff": 15
           },
           "zerolinecolor": "white",
           "zerolinewidth": 2
          }
         }
        },
        "xaxis": {
         "anchor": "y",
         "domain": [
          0,
          0.18400000000000002
         ],
         "title": {
          "text": "value"
         }
        },
        "xaxis2": {
         "anchor": "y2",
         "domain": [
          0.20400000000000001,
          0.388
         ],
         "matches": "x",
         "title": {
          "text": "value"
         }
        },
        "xaxis3": {
         "anchor": "y3",
         "domain": [
          0.40800000000000003,
          0.5920000000000001
         ],
         "matches": "x",
         "title": {
          "text": "value"
         }
        },
        "xaxis4": {
         "anchor": "y4",
         "domain": [
          0.6120000000000001,
          0.7960000000000002
         ],
         "matches": "x",
         "title": {
          "text": "value"
         }
        },
        "xaxis5": {
         "anchor": "y5",
         "domain": [
          0.8160000000000001,
          1
         ],
         "matches": "x",
         "title": {
          "text": "value"
         }
        },
        "yaxis": {
         "anchor": "x",
         "domain": [
          0,
          1
         ],
         "title": {
          "text": "count"
         }
        },
        "yaxis2": {
         "anchor": "x2",
         "domain": [
          0,
          1
         ],
         "matches": "y",
         "showticklabels": false
        },
        "yaxis3": {
         "anchor": "x3",
         "domain": [
          0,
          1
         ],
         "matches": "y",
         "showticklabels": false
        },
        "yaxis4": {
         "anchor": "x4",
         "domain": [
          0,
          1
         ],
         "matches": "y",
         "showticklabels": false
        },
        "yaxis5": {
         "anchor": "x5",
         "domain": [
          0,
          1
         ],
         "matches": "y",
         "showticklabels": false
        }
       }
      }
     },
     "metadata": {},
     "output_type": "display_data"
    }
   ],
   "source": [
    "plx.histogram(numeric[\"Math\"],facet_col=numeric[\"Medu\"])"
   ]
  },
  {
   "cell_type": "code",
   "execution_count": 16,
   "metadata": {},
   "outputs": [
    {
     "data": {
      "application/vnd.plotly.v1+json": {
       "config": {
        "plotlyServerURL": "https://plot.ly"
       },
       "data": [
        {
         "alignmentgroup": "True",
         "bingroup": "x",
         "hovertemplate": "variable=Language<br>facet_row=0<br>facet_col=4<br>value=%{x}<br>count=%{y}<extra></extra>",
         "legendgroup": "Language",
         "marker": {
          "color": "#636efa",
          "pattern": {
           "shape": ""
          }
         },
         "name": "Language",
         "offsetgroup": "Language",
         "orientation": "v",
         "showlegend": true,
         "type": "histogram",
         "x": [
          7.333333333333333
         ],
         "xaxis": "x21",
         "yaxis": "y21"
        },
        {
         "alignmentgroup": "True",
         "bingroup": "x",
         "hovertemplate": "variable=Language<br>facet_row=0<br>facet_col=1<br>value=%{x}<br>count=%{y}<extra></extra>",
         "legendgroup": "Language",
         "marker": {
          "color": "#636efa",
          "pattern": {
           "shape": ""
          }
         },
         "name": "Language",
         "offsetgroup": "Language",
         "orientation": "v",
         "showlegend": false,
         "type": "histogram",
         "x": [
          10.333333333333334,
          12.333333333333334
         ],
         "xaxis": "x22",
         "yaxis": "y22"
        },
        {
         "alignmentgroup": "True",
         "bingroup": "x",
         "hovertemplate": "variable=Language<br>facet_row=0<br>facet_col=2<br>value=%{x}<br>count=%{y}<extra></extra>",
         "legendgroup": "Language",
         "marker": {
          "color": "#636efa",
          "pattern": {
           "shape": ""
          }
         },
         "name": "Language",
         "offsetgroup": "Language",
         "orientation": "v",
         "showlegend": false,
         "type": "histogram",
         "x": [
          14
         ],
         "xaxis": "x23",
         "yaxis": "y23"
        },
        {
         "alignmentgroup": "True",
         "bingroup": "x",
         "hovertemplate": "variable=Language<br>facet_row=0<br>facet_col=3<br>value=%{x}<br>count=%{y}<extra></extra>",
         "legendgroup": "Language",
         "marker": {
          "color": "#636efa",
          "pattern": {
           "shape": ""
          }
         },
         "name": "Language",
         "offsetgroup": "Language",
         "orientation": "v",
         "showlegend": false,
         "type": "histogram",
         "x": [
          12.333333333333334,
          12.333333333333334
         ],
         "xaxis": "x24",
         "yaxis": "y24"
        },
        {
         "alignmentgroup": "True",
         "bingroup": "x",
         "hovertemplate": "variable=Language<br>facet_row=1<br>facet_col=4<br>value=%{x}<br>count=%{y}<extra></extra>",
         "legendgroup": "Language",
         "marker": {
          "color": "#636efa",
          "pattern": {
           "shape": ""
          }
         },
         "name": "Language",
         "offsetgroup": "Language",
         "orientation": "v",
         "showlegend": false,
         "type": "histogram",
         "x": [
          12,
          12.333333333333334,
          14,
          12.333333333333334,
          17,
          13.333333333333334,
          11.666666666666666,
          10.333333333333334,
          12.333333333333334,
          11.666666666666666,
          10.666666666666666,
          15,
          13,
          11.666666666666666,
          10.666666666666666,
          14.666666666666666,
          12.333333333333334,
          12.333333333333334,
          15.333333333333334,
          16.333333333333332,
          11.666666666666666,
          11.333333333333334,
          11.666666666666666,
          9.333333333333334,
          12.666666666666666,
          8.666666666666666,
          16,
          12.333333333333334,
          16,
          11,
          14.666666666666666,
          13.666666666666666,
          14.666666666666666,
          15.666666666666666,
          13.666666666666666,
          13,
          12.666666666666666,
          9,
          10.666666666666666,
          14.333333333333334,
          11,
          14,
          11.333333333333334,
          14,
          9.666666666666666,
          13.666666666666666
         ],
         "xaxis": "x16",
         "yaxis": "y16"
        },
        {
         "alignmentgroup": "True",
         "bingroup": "x",
         "hovertemplate": "variable=Language<br>facet_row=1<br>facet_col=1<br>value=%{x}<br>count=%{y}<extra></extra>",
         "legendgroup": "Language",
         "marker": {
          "color": "#636efa",
          "pattern": {
           "shape": ""
          }
         },
         "name": "Language",
         "offsetgroup": "Language",
         "orientation": "v",
         "showlegend": false,
         "type": "histogram",
         "x": [
          11.666666666666666,
          12.333333333333334,
          12,
          9.666666666666666,
          15,
          11.666666666666666,
          11.666666666666666,
          13.333333333333334,
          9.333333333333334,
          12.333333333333334,
          12.333333333333334,
          13,
          12.333333333333334,
          9.666666666666666,
          10,
          9,
          10.666666666666666,
          12,
          9.666666666666666,
          13.333333333333334,
          11.333333333333334,
          11.333333333333334,
          10,
          8.666666666666666
         ],
         "xaxis": "x17",
         "yaxis": "y17"
        },
        {
         "alignmentgroup": "True",
         "bingroup": "x",
         "hovertemplate": "variable=Language<br>facet_row=1<br>facet_col=2<br>value=%{x}<br>count=%{y}<extra></extra>",
         "legendgroup": "Language",
         "marker": {
          "color": "#636efa",
          "pattern": {
           "shape": ""
          }
         },
         "name": "Language",
         "offsetgroup": "Language",
         "orientation": "v",
         "showlegend": false,
         "type": "histogram",
         "x": [
          12.666666666666666,
          16,
          14.333333333333334,
          7.666666666666667,
          13,
          10,
          11,
          11.666666666666666,
          11,
          12,
          13,
          10.666666666666666,
          9.666666666666666,
          10.666666666666666,
          12,
          13.333333333333334,
          15.333333333333334,
          9.333333333333334,
          13.666666666666666,
          15.666666666666666,
          12,
          10.666666666666666,
          10,
          13,
          11.333333333333334,
          12.666666666666666,
          11.666666666666666,
          15,
          11,
          13.666666666666666,
          11.666666666666666,
          10.333333333333334,
          10,
          9.333333333333334,
          17.666666666666668,
          14,
          13.333333333333334,
          11.333333333333334,
          12.333333333333334,
          11.666666666666666,
          11.333333333333334
         ],
         "xaxis": "x18",
         "yaxis": "y18"
        },
        {
         "alignmentgroup": "True",
         "bingroup": "x",
         "hovertemplate": "variable=Language<br>facet_row=1<br>facet_col=3<br>value=%{x}<br>count=%{y}<extra></extra>",
         "legendgroup": "Language",
         "marker": {
          "color": "#636efa",
          "pattern": {
           "shape": ""
          }
         },
         "name": "Language",
         "offsetgroup": "Language",
         "orientation": "v",
         "showlegend": false,
         "type": "histogram",
         "x": [
          12.333333333333334,
          13.666666666666666,
          12,
          13,
          14,
          12.333333333333334,
          11,
          14,
          10.666666666666666,
          12.666666666666666,
          17,
          12.666666666666666,
          14.666666666666666,
          13.333333333333334,
          12.333333333333334,
          15.666666666666666,
          11,
          11,
          11.333333333333334,
          9.333333333333334,
          10.333333333333334,
          13.333333333333334,
          10.333333333333334,
          12.666666666666666,
          10,
          13.666666666666666,
          11,
          14.333333333333334,
          11.333333333333334,
          12.666666666666666,
          9.333333333333334
         ],
         "xaxis": "x19",
         "yaxis": "y19"
        },
        {
         "alignmentgroup": "True",
         "bingroup": "x",
         "hovertemplate": "variable=Language<br>facet_row=1<br>facet_col=0<br>value=%{x}<br>count=%{y}<extra></extra>",
         "legendgroup": "Language",
         "marker": {
          "color": "#636efa",
          "pattern": {
           "shape": ""
          }
         },
         "name": "Language",
         "offsetgroup": "Language",
         "orientation": "v",
         "showlegend": false,
         "type": "histogram",
         "x": [
          11.333333333333334
         ],
         "xaxis": "x20",
         "yaxis": "y20"
        },
        {
         "alignmentgroup": "True",
         "bingroup": "x",
         "hovertemplate": "variable=Language<br>facet_row=2<br>facet_col=4<br>value=%{x}<br>count=%{y}<extra></extra>",
         "legendgroup": "Language",
         "marker": {
          "color": "#636efa",
          "pattern": {
           "shape": ""
          }
         },
         "name": "Language",
         "offsetgroup": "Language",
         "orientation": "v",
         "showlegend": false,
         "type": "histogram",
         "x": [
          13.666666666666666,
          13,
          8.666666666666666,
          13,
          16.333333333333332,
          9.333333333333334,
          10,
          17.333333333333332,
          15,
          13.333333333333334,
          15,
          10.666666666666666,
          8.333333333333334,
          12.333333333333334,
          11.333333333333334,
          15.666666666666666,
          13,
          13.333333333333334,
          10,
          9,
          8.666666666666666,
          12,
          14.666666666666666,
          11.333333333333334,
          15.666666666666666,
          11,
          15.666666666666666,
          11.666666666666666,
          13
         ],
         "xaxis": "x11",
         "yaxis": "y11"
        },
        {
         "alignmentgroup": "True",
         "bingroup": "x",
         "hovertemplate": "variable=Language<br>facet_row=2<br>facet_col=1<br>value=%{x}<br>count=%{y}<extra></extra>",
         "legendgroup": "Language",
         "marker": {
          "color": "#636efa",
          "pattern": {
           "shape": ""
          }
         },
         "name": "Language",
         "offsetgroup": "Language",
         "orientation": "v",
         "showlegend": false,
         "type": "histogram",
         "x": [
          10.666666666666666,
          7.333333333333333,
          12,
          10.333333333333334,
          11.333333333333334,
          6.666666666666667,
          9.666666666666666,
          10.666666666666666,
          8.333333333333334,
          8,
          14.333333333333334,
          11.666666666666666,
          14.666666666666666,
          11.333333333333334,
          12.666666666666666,
          10.666666666666666,
          12,
          8,
          10,
          15.333333333333334,
          9,
          9.666666666666666,
          13.333333333333334,
          10.333333333333334,
          13,
          14.666666666666666,
          14,
          9.666666666666666,
          11,
          15.666666666666666,
          10.666666666666666,
          6.666666666666667,
          7,
          13,
          12.333333333333334,
          9.666666666666666,
          12.333333333333334,
          10.666666666666666,
          12.333333333333334,
          16,
          11.333333333333334,
          12,
          9,
          13,
          14.333333333333334,
          10.666666666666666,
          17.333333333333332,
          12.666666666666666,
          13,
          12,
          13.333333333333334,
          14.666666666666666
         ],
         "xaxis": "x12",
         "yaxis": "y12"
        },
        {
         "alignmentgroup": "True",
         "bingroup": "x",
         "hovertemplate": "variable=Language<br>facet_row=2<br>facet_col=2<br>value=%{x}<br>count=%{y}<extra></extra>",
         "legendgroup": "Language",
         "marker": {
          "color": "#636efa",
          "pattern": {
           "shape": ""
          }
         },
         "name": "Language",
         "offsetgroup": "Language",
         "orientation": "v",
         "showlegend": false,
         "type": "histogram",
         "x": [
          11.333333333333334,
          11,
          12.666666666666666,
          11,
          10.333333333333334,
          9,
          11,
          9,
          7,
          9,
          7.666666666666667,
          10,
          17.333333333333332,
          12.333333333333334,
          13,
          10,
          15,
          10,
          9.333333333333334,
          11,
          13,
          13,
          13,
          11.333333333333334,
          15,
          12.333333333333334,
          9.666666666666666,
          17.333333333333332,
          12.666666666666666,
          12,
          16,
          9,
          7.666666666666667,
          14.333333333333334,
          11.333333333333334,
          7.666666666666667,
          10,
          14.333333333333334,
          11.333333333333334,
          7.333333333333333,
          15.333333333333334,
          10.333333333333334,
          12.333333333333334,
          11.666666666666666,
          9.666666666666666,
          11,
          11,
          12,
          8.333333333333334,
          12,
          17,
          12,
          10.333333333333334,
          14.333333333333334,
          9,
          10.333333333333334,
          13,
          12.666666666666666,
          18
         ],
         "xaxis": "x13",
         "yaxis": "y13"
        },
        {
         "alignmentgroup": "True",
         "bingroup": "x",
         "hovertemplate": "variable=Language<br>facet_row=2<br>facet_col=3<br>value=%{x}<br>count=%{y}<extra></extra>",
         "legendgroup": "Language",
         "marker": {
          "color": "#636efa",
          "pattern": {
           "shape": ""
          }
         },
         "name": "Language",
         "offsetgroup": "Language",
         "orientation": "v",
         "showlegend": false,
         "type": "histogram",
         "x": [
          10.333333333333334,
          8.666666666666666,
          13,
          7.666666666666667,
          7,
          8.333333333333334,
          13.333333333333334,
          14.333333333333334,
          10.666666666666666,
          10,
          11.666666666666666,
          10.666666666666666,
          12,
          13.666666666666666,
          12.666666666666666,
          13,
          12.333333333333334,
          10.333333333333334,
          12.333333333333334,
          11,
          14.333333333333334,
          11.666666666666666,
          14.666666666666666,
          11.666666666666666,
          12,
          10,
          10,
          12.666666666666666,
          13.333333333333334,
          10.666666666666666,
          12.666666666666666,
          7.333333333333333,
          15,
          14.333333333333334,
          11,
          11.333333333333334,
          9.666666666666666,
          10,
          12.666666666666666,
          15,
          10.333333333333334,
          13.333333333333334,
          11.666666666666666,
          16,
          10
         ],
         "xaxis": "x14",
         "yaxis": "y14"
        },
        {
         "alignmentgroup": "True",
         "bingroup": "x",
         "hovertemplate": "variable=Language<br>facet_row=2<br>facet_col=0<br>value=%{x}<br>count=%{y}<extra></extra>",
         "legendgroup": "Language",
         "marker": {
          "color": "#636efa",
          "pattern": {
           "shape": ""
          }
         },
         "name": "Language",
         "offsetgroup": "Language",
         "orientation": "v",
         "showlegend": false,
         "type": "histogram",
         "x": [
          17
         ],
         "xaxis": "x15",
         "yaxis": "y15"
        },
        {
         "alignmentgroup": "True",
         "bingroup": "x",
         "hovertemplate": "variable=Language<br>facet_row=3<br>facet_col=4<br>value=%{x}<br>count=%{y}<extra></extra>",
         "legendgroup": "Language",
         "marker": {
          "color": "#636efa",
          "pattern": {
           "shape": ""
          }
         },
         "name": "Language",
         "offsetgroup": "Language",
         "orientation": "v",
         "showlegend": false,
         "type": "histogram",
         "x": [
          17,
          13.333333333333334,
          17.666666666666668,
          14.666666666666666,
          12.666666666666666,
          7.333333333333333,
          10.333333333333334,
          16,
          15.666666666666666,
          12,
          12.333333333333334,
          15.333333333333334,
          9.333333333333334,
          13.333333333333334,
          12.666666666666666,
          14.666666666666666,
          15,
          12.666666666666666,
          12.333333333333334,
          16.333333333333332,
          11,
          14,
          14,
          10,
          10.666666666666666,
          13.666666666666666,
          10,
          16.333333333333332,
          12.666666666666666
         ],
         "xaxis": "x6",
         "yaxis": "y6"
        },
        {
         "alignmentgroup": "True",
         "bingroup": "x",
         "hovertemplate": "variable=Language<br>facet_row=3<br>facet_col=1<br>value=%{x}<br>count=%{y}<extra></extra>",
         "legendgroup": "Language",
         "marker": {
          "color": "#636efa",
          "pattern": {
           "shape": ""
          }
         },
         "name": "Language",
         "offsetgroup": "Language",
         "orientation": "v",
         "showlegend": false,
         "type": "histogram",
         "x": [
          18.666666666666668,
          10,
          13,
          12.333333333333334,
          10.333333333333334,
          8.333333333333334,
          17.333333333333332,
          14,
          14,
          14.666666666666666,
          12,
          9.666666666666666,
          13.666666666666666,
          9.666666666666666,
          10,
          7.666666666666667,
          6.333333333333333,
          10,
          7,
          2.3333333333333335,
          8.666666666666666,
          13,
          8,
          8.333333333333334,
          9,
          9.333333333333334,
          14,
          12,
          9.666666666666666,
          10.666666666666666,
          13,
          13.666666666666666,
          11,
          10,
          9.333333333333334
         ],
         "xaxis": "x7",
         "yaxis": "y7"
        },
        {
         "alignmentgroup": "True",
         "bingroup": "x",
         "hovertemplate": "variable=Language<br>facet_row=3<br>facet_col=2<br>value=%{x}<br>count=%{y}<extra></extra>",
         "legendgroup": "Language",
         "marker": {
          "color": "#636efa",
          "pattern": {
           "shape": ""
          }
         },
         "name": "Language",
         "offsetgroup": "Language",
         "orientation": "v",
         "showlegend": false,
         "type": "histogram",
         "x": [
          15.666666666666666,
          14.666666666666666,
          16,
          18,
          14.666666666666666,
          10.333333333333334,
          10,
          13.333333333333334,
          10.666666666666666,
          14.333333333333334,
          10.333333333333334,
          11.333333333333334,
          10.333333333333334,
          9.666666666666666,
          14.666666666666666,
          10.333333333333334,
          13.666666666666666,
          13.333333333333334,
          14.666666666666666,
          12,
          15.666666666666666,
          10.666666666666666,
          15.666666666666666,
          16,
          17.333333333333332,
          16,
          16,
          12,
          12,
          10.666666666666666,
          10,
          10,
          11.666666666666666,
          12.333333333333334,
          10.666666666666666,
          10,
          8.666666666666666,
          8.333333333333334,
          10.666666666666666,
          12.333333333333334,
          8.333333333333334,
          13.666666666666666,
          12.666666666666666,
          11.666666666666666,
          14.666666666666666
         ],
         "xaxis": "x8",
         "yaxis": "y8"
        },
        {
         "alignmentgroup": "True",
         "bingroup": "x",
         "hovertemplate": "variable=Language<br>facet_row=3<br>facet_col=3<br>value=%{x}<br>count=%{y}<extra></extra>",
         "legendgroup": "Language",
         "marker": {
          "color": "#636efa",
          "pattern": {
           "shape": ""
          }
         },
         "name": "Language",
         "offsetgroup": "Language",
         "orientation": "v",
         "showlegend": false,
         "type": "histogram",
         "x": [
          17.666666666666668,
          14.666666666666666,
          13.666666666666666,
          16.666666666666668,
          10.333333333333334,
          12.333333333333334,
          15.333333333333334,
          13,
          12.333333333333334,
          15.333333333333334,
          12.333333333333334,
          17.333333333333332,
          11.333333333333334,
          11,
          14.333333333333334,
          12.333333333333334,
          15.333333333333334,
          13.666666666666666,
          12,
          10.666666666666666,
          13.666666666666666,
          10.666666666666666,
          10.333333333333334,
          16.666666666666668,
          11,
          15.333333333333334,
          11,
          15,
          12.333333333333334
         ],
         "xaxis": "x9",
         "yaxis": "y9"
        },
        {
         "alignmentgroup": "True",
         "bingroup": "x",
         "hovertemplate": "variable=Language<br>facet_row=3<br>facet_col=0<br>value=%{x}<br>count=%{y}<extra></extra>",
         "legendgroup": "Language",
         "marker": {
          "color": "#636efa",
          "pattern": {
           "shape": ""
          }
         },
         "name": "Language",
         "offsetgroup": "Language",
         "orientation": "v",
         "showlegend": false,
         "type": "histogram",
         "x": [
          9.333333333333334
         ],
         "xaxis": "x10",
         "yaxis": "y10"
        },
        {
         "alignmentgroup": "True",
         "bingroup": "x",
         "hovertemplate": "variable=Language<br>facet_row=4<br>facet_col=4<br>value=%{x}<br>count=%{y}<extra></extra>",
         "legendgroup": "Language",
         "marker": {
          "color": "#636efa",
          "pattern": {
           "shape": ""
          }
         },
         "name": "Language",
         "offsetgroup": "Language",
         "orientation": "v",
         "showlegend": false,
         "type": "histogram",
         "x": [
          15.333333333333334,
          7,
          8,
          5.666666666666667,
          8,
          15,
          11,
          11.666666666666666,
          11,
          8.666666666666666,
          8.333333333333334,
          14.666666666666666,
          18,
          17,
          13,
          12,
          14.666666666666666,
          15.666666666666666,
          4,
          16.333333333333332,
          13.666666666666666,
          18,
          8.666666666666666
         ],
         "xaxis": "x",
         "yaxis": "y"
        },
        {
         "alignmentgroup": "True",
         "bingroup": "x",
         "hovertemplate": "variable=Language<br>facet_row=4<br>facet_col=1<br>value=%{x}<br>count=%{y}<extra></extra>",
         "legendgroup": "Language",
         "marker": {
          "color": "#636efa",
          "pattern": {
           "shape": ""
          }
         },
         "name": "Language",
         "offsetgroup": "Language",
         "orientation": "v",
         "showlegend": false,
         "type": "histogram",
         "x": [
          8.666666666666666,
          7.333333333333333,
          10,
          9.333333333333334,
          8.333333333333334,
          9,
          10,
          8,
          9.333333333333334,
          14,
          13.666666666666666,
          14,
          11,
          10.666666666666666,
          17,
          7,
          7.333333333333333,
          9,
          5,
          7.333333333333333,
          13.666666666666666,
          10,
          8,
          15,
          12.333333333333334,
          9.666666666666666,
          10.666666666666666,
          10.666666666666666,
          9.333333333333334,
          10.333333333333334,
          8.666666666666666,
          9.666666666666666,
          9.666666666666666,
          9.666666666666666,
          8.333333333333334,
          8.666666666666666,
          8.666666666666666,
          9.666666666666666,
          10,
          9,
          7,
          7.666666666666667,
          9,
          7.333333333333333,
          13,
          9.666666666666666,
          1.6666666666666667,
          11.333333333333334,
          9.666666666666666,
          2.6666666666666665,
          13.666666666666666,
          18,
          8.333333333333334,
          11,
          8,
          8.666666666666666,
          4.666666666666667,
          4.333333333333333,
          15.333333333333334,
          10.666666666666666,
          10
         ],
         "xaxis": "x2",
         "yaxis": "y2"
        },
        {
         "alignmentgroup": "True",
         "bingroup": "x",
         "hovertemplate": "variable=Language<br>facet_row=4<br>facet_col=2<br>value=%{x}<br>count=%{y}<extra></extra>",
         "legendgroup": "Language",
         "marker": {
          "color": "#636efa",
          "pattern": {
           "shape": ""
          }
         },
         "name": "Language",
         "offsetgroup": "Language",
         "orientation": "v",
         "showlegend": false,
         "type": "histogram",
         "x": [
          13,
          9.333333333333334,
          10,
          7.333333333333333,
          10.666666666666666,
          9.666666666666666,
          8.666666666666666,
          9.333333333333334,
          8.666666666666666,
          16.333333333333332,
          6.666666666666667,
          9,
          12.666666666666666,
          9.333333333333334,
          16.333333333333332,
          6.666666666666667,
          14.333333333333334,
          9.666666666666666,
          9,
          10,
          13.666666666666666,
          11,
          10.333333333333334,
          10.333333333333334,
          17.666666666666668,
          12.666666666666666,
          13.333333333333334,
          13.333333333333334,
          10,
          10.333333333333334,
          12,
          2.3333333333333335,
          10,
          1.3333333333333333,
          8.666666666666666,
          7.666666666666667,
          5.666666666666667,
          10,
          7.333333333333333,
          4.666666666666667,
          5.333333333333333,
          7,
          9,
          13,
          13,
          17.666666666666668,
          3,
          10.666666666666666,
          8.666666666666666,
          12,
          1.6666666666666667,
          18,
          11.333333333333334,
          14.333333333333334,
          14.666666666666666,
          15.333333333333334,
          13,
          9.666666666666666,
          11,
          8,
          4.666666666666667,
          15.333333333333334,
          10.666666666666666
         ],
         "xaxis": "x3",
         "yaxis": "y3"
        },
        {
         "alignmentgroup": "True",
         "bingroup": "x",
         "hovertemplate": "variable=Language<br>facet_row=4<br>facet_col=3<br>value=%{x}<br>count=%{y}<extra></extra>",
         "legendgroup": "Language",
         "marker": {
          "color": "#636efa",
          "pattern": {
           "shape": ""
          }
         },
         "name": "Language",
         "offsetgroup": "Language",
         "orientation": "v",
         "showlegend": false,
         "type": "histogram",
         "x": [
          10.666666666666666,
          11,
          9.333333333333334,
          13.333333333333334,
          10.333333333333334,
          13,
          10,
          9.333333333333334,
          8.666666666666666,
          11.666666666666666,
          6.666666666666667,
          10.333333333333334,
          9,
          9.333333333333334,
          12,
          10.666666666666666,
          10,
          12.666666666666666,
          9,
          10,
          16,
          15,
          8.666666666666666,
          10.333333333333334
         ],
         "xaxis": "x4",
         "yaxis": "y4"
        },
        {
         "alignmentgroup": "True",
         "bingroup": "x",
         "hovertemplate": "variable=Language<br>facet_row=4<br>facet_col=0<br>value=%{x}<br>count=%{y}<extra></extra>",
         "legendgroup": "Language",
         "marker": {
          "color": "#636efa",
          "pattern": {
           "shape": ""
          }
         },
         "name": "Language",
         "offsetgroup": "Language",
         "orientation": "v",
         "showlegend": false,
         "type": "histogram",
         "x": [
          10,
          11.333333333333334,
          12.333333333333334,
          10.666666666666666
         ],
         "xaxis": "x5",
         "yaxis": "y5"
        }
       ],
       "layout": {
        "annotations": [
         {
          "font": {},
          "showarrow": false,
          "text": "facet_col=4",
          "x": 0.09000000000000001,
          "xanchor": "center",
          "xref": "paper",
          "y": 1,
          "yanchor": "bottom",
          "yref": "paper"
         },
         {
          "font": {},
          "showarrow": false,
          "text": "facet_col=1",
          "x": 0.29000000000000004,
          "xanchor": "center",
          "xref": "paper",
          "y": 1,
          "yanchor": "bottom",
          "yref": "paper"
         },
         {
          "font": {},
          "showarrow": false,
          "text": "facet_col=2",
          "x": 0.49000000000000005,
          "xanchor": "center",
          "xref": "paper",
          "y": 1,
          "yanchor": "bottom",
          "yref": "paper"
         },
         {
          "font": {},
          "showarrow": false,
          "text": "facet_col=3",
          "x": 0.6900000000000002,
          "xanchor": "center",
          "xref": "paper",
          "y": 1,
          "yanchor": "bottom",
          "yref": "paper"
         },
         {
          "font": {},
          "showarrow": false,
          "text": "facet_col=0",
          "x": 0.8900000000000001,
          "xanchor": "center",
          "xref": "paper",
          "y": 1,
          "yanchor": "bottom",
          "yref": "paper"
         },
         {
          "font": {},
          "showarrow": false,
          "text": "facet_row=4",
          "textangle": 90,
          "x": 0.9800000000000001,
          "xanchor": "left",
          "xref": "paper",
          "y": 0.08800000000000001,
          "yanchor": "middle",
          "yref": "paper"
         },
         {
          "font": {},
          "showarrow": false,
          "text": "facet_row=3",
          "textangle": 90,
          "x": 0.9800000000000001,
          "xanchor": "left",
          "xref": "paper",
          "y": 0.29400000000000004,
          "yanchor": "middle",
          "yref": "paper"
         },
         {
          "font": {},
          "showarrow": false,
          "text": "facet_row=2",
          "textangle": 90,
          "x": 0.9800000000000001,
          "xanchor": "left",
          "xref": "paper",
          "y": 0.5,
          "yanchor": "middle",
          "yref": "paper"
         },
         {
          "font": {},
          "showarrow": false,
          "text": "facet_row=1",
          "textangle": 90,
          "x": 0.9800000000000001,
          "xanchor": "left",
          "xref": "paper",
          "y": 0.706,
          "yanchor": "middle",
          "yref": "paper"
         },
         {
          "font": {},
          "showarrow": false,
          "text": "facet_row=0",
          "textangle": 90,
          "x": 0.9800000000000001,
          "xanchor": "left",
          "xref": "paper",
          "y": 0.912,
          "yanchor": "middle",
          "yref": "paper"
         }
        ],
        "barmode": "relative",
        "legend": {
         "title": {
          "text": "variable"
         },
         "tracegroupgap": 0
        },
        "margin": {
         "t": 60
        },
        "template": {
         "data": {
          "bar": [
           {
            "error_x": {
             "color": "#2a3f5f"
            },
            "error_y": {
             "color": "#2a3f5f"
            },
            "marker": {
             "line": {
              "color": "#E5ECF6",
              "width": 0.5
             },
             "pattern": {
              "fillmode": "overlay",
              "size": 10,
              "solidity": 0.2
             }
            },
            "type": "bar"
           }
          ],
          "barpolar": [
           {
            "marker": {
             "line": {
              "color": "#E5ECF6",
              "width": 0.5
             },
             "pattern": {
              "fillmode": "overlay",
              "size": 10,
              "solidity": 0.2
             }
            },
            "type": "barpolar"
           }
          ],
          "carpet": [
           {
            "aaxis": {
             "endlinecolor": "#2a3f5f",
             "gridcolor": "white",
             "linecolor": "white",
             "minorgridcolor": "white",
             "startlinecolor": "#2a3f5f"
            },
            "baxis": {
             "endlinecolor": "#2a3f5f",
             "gridcolor": "white",
             "linecolor": "white",
             "minorgridcolor": "white",
             "startlinecolor": "#2a3f5f"
            },
            "type": "carpet"
           }
          ],
          "choropleth": [
           {
            "colorbar": {
             "outlinewidth": 0,
             "ticks": ""
            },
            "type": "choropleth"
           }
          ],
          "contour": [
           {
            "colorbar": {
             "outlinewidth": 0,
             "ticks": ""
            },
            "colorscale": [
             [
              0,
              "#0d0887"
             ],
             [
              0.1111111111111111,
              "#46039f"
             ],
             [
              0.2222222222222222,
              "#7201a8"
             ],
             [
              0.3333333333333333,
              "#9c179e"
             ],
             [
              0.4444444444444444,
              "#bd3786"
             ],
             [
              0.5555555555555556,
              "#d8576b"
             ],
             [
              0.6666666666666666,
              "#ed7953"
             ],
             [
              0.7777777777777778,
              "#fb9f3a"
             ],
             [
              0.8888888888888888,
              "#fdca26"
             ],
             [
              1,
              "#f0f921"
             ]
            ],
            "type": "contour"
           }
          ],
          "contourcarpet": [
           {
            "colorbar": {
             "outlinewidth": 0,
             "ticks": ""
            },
            "type": "contourcarpet"
           }
          ],
          "heatmap": [
           {
            "colorbar": {
             "outlinewidth": 0,
             "ticks": ""
            },
            "colorscale": [
             [
              0,
              "#0d0887"
             ],
             [
              0.1111111111111111,
              "#46039f"
             ],
             [
              0.2222222222222222,
              "#7201a8"
             ],
             [
              0.3333333333333333,
              "#9c179e"
             ],
             [
              0.4444444444444444,
              "#bd3786"
             ],
             [
              0.5555555555555556,
              "#d8576b"
             ],
             [
              0.6666666666666666,
              "#ed7953"
             ],
             [
              0.7777777777777778,
              "#fb9f3a"
             ],
             [
              0.8888888888888888,
              "#fdca26"
             ],
             [
              1,
              "#f0f921"
             ]
            ],
            "type": "heatmap"
           }
          ],
          "heatmapgl": [
           {
            "colorbar": {
             "outlinewidth": 0,
             "ticks": ""
            },
            "colorscale": [
             [
              0,
              "#0d0887"
             ],
             [
              0.1111111111111111,
              "#46039f"
             ],
             [
              0.2222222222222222,
              "#7201a8"
             ],
             [
              0.3333333333333333,
              "#9c179e"
             ],
             [
              0.4444444444444444,
              "#bd3786"
             ],
             [
              0.5555555555555556,
              "#d8576b"
             ],
             [
              0.6666666666666666,
              "#ed7953"
             ],
             [
              0.7777777777777778,
              "#fb9f3a"
             ],
             [
              0.8888888888888888,
              "#fdca26"
             ],
             [
              1,
              "#f0f921"
             ]
            ],
            "type": "heatmapgl"
           }
          ],
          "histogram": [
           {
            "marker": {
             "pattern": {
              "fillmode": "overlay",
              "size": 10,
              "solidity": 0.2
             }
            },
            "type": "histogram"
           }
          ],
          "histogram2d": [
           {
            "colorbar": {
             "outlinewidth": 0,
             "ticks": ""
            },
            "colorscale": [
             [
              0,
              "#0d0887"
             ],
             [
              0.1111111111111111,
              "#46039f"
             ],
             [
              0.2222222222222222,
              "#7201a8"
             ],
             [
              0.3333333333333333,
              "#9c179e"
             ],
             [
              0.4444444444444444,
              "#bd3786"
             ],
             [
              0.5555555555555556,
              "#d8576b"
             ],
             [
              0.6666666666666666,
              "#ed7953"
             ],
             [
              0.7777777777777778,
              "#fb9f3a"
             ],
             [
              0.8888888888888888,
              "#fdca26"
             ],
             [
              1,
              "#f0f921"
             ]
            ],
            "type": "histogram2d"
           }
          ],
          "histogram2dcontour": [
           {
            "colorbar": {
             "outlinewidth": 0,
             "ticks": ""
            },
            "colorscale": [
             [
              0,
              "#0d0887"
             ],
             [
              0.1111111111111111,
              "#46039f"
             ],
             [
              0.2222222222222222,
              "#7201a8"
             ],
             [
              0.3333333333333333,
              "#9c179e"
             ],
             [
              0.4444444444444444,
              "#bd3786"
             ],
             [
              0.5555555555555556,
              "#d8576b"
             ],
             [
              0.6666666666666666,
              "#ed7953"
             ],
             [
              0.7777777777777778,
              "#fb9f3a"
             ],
             [
              0.8888888888888888,
              "#fdca26"
             ],
             [
              1,
              "#f0f921"
             ]
            ],
            "type": "histogram2dcontour"
           }
          ],
          "mesh3d": [
           {
            "colorbar": {
             "outlinewidth": 0,
             "ticks": ""
            },
            "type": "mesh3d"
           }
          ],
          "parcoords": [
           {
            "line": {
             "colorbar": {
              "outlinewidth": 0,
              "ticks": ""
             }
            },
            "type": "parcoords"
           }
          ],
          "pie": [
           {
            "automargin": true,
            "type": "pie"
           }
          ],
          "scatter": [
           {
            "fillpattern": {
             "fillmode": "overlay",
             "size": 10,
             "solidity": 0.2
            },
            "type": "scatter"
           }
          ],
          "scatter3d": [
           {
            "line": {
             "colorbar": {
              "outlinewidth": 0,
              "ticks": ""
             }
            },
            "marker": {
             "colorbar": {
              "outlinewidth": 0,
              "ticks": ""
             }
            },
            "type": "scatter3d"
           }
          ],
          "scattercarpet": [
           {
            "marker": {
             "colorbar": {
              "outlinewidth": 0,
              "ticks": ""
             }
            },
            "type": "scattercarpet"
           }
          ],
          "scattergeo": [
           {
            "marker": {
             "colorbar": {
              "outlinewidth": 0,
              "ticks": ""
             }
            },
            "type": "scattergeo"
           }
          ],
          "scattergl": [
           {
            "marker": {
             "colorbar": {
              "outlinewidth": 0,
              "ticks": ""
             }
            },
            "type": "scattergl"
           }
          ],
          "scattermapbox": [
           {
            "marker": {
             "colorbar": {
              "outlinewidth": 0,
              "ticks": ""
             }
            },
            "type": "scattermapbox"
           }
          ],
          "scatterpolar": [
           {
            "marker": {
             "colorbar": {
              "outlinewidth": 0,
              "ticks": ""
             }
            },
            "type": "scatterpolar"
           }
          ],
          "scatterpolargl": [
           {
            "marker": {
             "colorbar": {
              "outlinewidth": 0,
              "ticks": ""
             }
            },
            "type": "scatterpolargl"
           }
          ],
          "scatterternary": [
           {
            "marker": {
             "colorbar": {
              "outlinewidth": 0,
              "ticks": ""
             }
            },
            "type": "scatterternary"
           }
          ],
          "surface": [
           {
            "colorbar": {
             "outlinewidth": 0,
             "ticks": ""
            },
            "colorscale": [
             [
              0,
              "#0d0887"
             ],
             [
              0.1111111111111111,
              "#46039f"
             ],
             [
              0.2222222222222222,
              "#7201a8"
             ],
             [
              0.3333333333333333,
              "#9c179e"
             ],
             [
              0.4444444444444444,
              "#bd3786"
             ],
             [
              0.5555555555555556,
              "#d8576b"
             ],
             [
              0.6666666666666666,
              "#ed7953"
             ],
             [
              0.7777777777777778,
              "#fb9f3a"
             ],
             [
              0.8888888888888888,
              "#fdca26"
             ],
             [
              1,
              "#f0f921"
             ]
            ],
            "type": "surface"
           }
          ],
          "table": [
           {
            "cells": {
             "fill": {
              "color": "#EBF0F8"
             },
             "line": {
              "color": "white"
             }
            },
            "header": {
             "fill": {
              "color": "#C8D4E3"
             },
             "line": {
              "color": "white"
             }
            },
            "type": "table"
           }
          ]
         },
         "layout": {
          "annotationdefaults": {
           "arrowcolor": "#2a3f5f",
           "arrowhead": 0,
           "arrowwidth": 1
          },
          "autotypenumbers": "strict",
          "coloraxis": {
           "colorbar": {
            "outlinewidth": 0,
            "ticks": ""
           }
          },
          "colorscale": {
           "diverging": [
            [
             0,
             "#8e0152"
            ],
            [
             0.1,
             "#c51b7d"
            ],
            [
             0.2,
             "#de77ae"
            ],
            [
             0.3,
             "#f1b6da"
            ],
            [
             0.4,
             "#fde0ef"
            ],
            [
             0.5,
             "#f7f7f7"
            ],
            [
             0.6,
             "#e6f5d0"
            ],
            [
             0.7,
             "#b8e186"
            ],
            [
             0.8,
             "#7fbc41"
            ],
            [
             0.9,
             "#4d9221"
            ],
            [
             1,
             "#276419"
            ]
           ],
           "sequential": [
            [
             0,
             "#0d0887"
            ],
            [
             0.1111111111111111,
             "#46039f"
            ],
            [
             0.2222222222222222,
             "#7201a8"
            ],
            [
             0.3333333333333333,
             "#9c179e"
            ],
            [
             0.4444444444444444,
             "#bd3786"
            ],
            [
             0.5555555555555556,
             "#d8576b"
            ],
            [
             0.6666666666666666,
             "#ed7953"
            ],
            [
             0.7777777777777778,
             "#fb9f3a"
            ],
            [
             0.8888888888888888,
             "#fdca26"
            ],
            [
             1,
             "#f0f921"
            ]
           ],
           "sequentialminus": [
            [
             0,
             "#0d0887"
            ],
            [
             0.1111111111111111,
             "#46039f"
            ],
            [
             0.2222222222222222,
             "#7201a8"
            ],
            [
             0.3333333333333333,
             "#9c179e"
            ],
            [
             0.4444444444444444,
             "#bd3786"
            ],
            [
             0.5555555555555556,
             "#d8576b"
            ],
            [
             0.6666666666666666,
             "#ed7953"
            ],
            [
             0.7777777777777778,
             "#fb9f3a"
            ],
            [
             0.8888888888888888,
             "#fdca26"
            ],
            [
             1,
             "#f0f921"
            ]
           ]
          },
          "colorway": [
           "#636efa",
           "#EF553B",
           "#00cc96",
           "#ab63fa",
           "#FFA15A",
           "#19d3f3",
           "#FF6692",
           "#B6E880",
           "#FF97FF",
           "#FECB52"
          ],
          "font": {
           "color": "#2a3f5f"
          },
          "geo": {
           "bgcolor": "white",
           "lakecolor": "white",
           "landcolor": "#E5ECF6",
           "showlakes": true,
           "showland": true,
           "subunitcolor": "white"
          },
          "hoverlabel": {
           "align": "left"
          },
          "hovermode": "closest",
          "mapbox": {
           "style": "light"
          },
          "paper_bgcolor": "white",
          "plot_bgcolor": "#E5ECF6",
          "polar": {
           "angularaxis": {
            "gridcolor": "white",
            "linecolor": "white",
            "ticks": ""
           },
           "bgcolor": "#E5ECF6",
           "radialaxis": {
            "gridcolor": "white",
            "linecolor": "white",
            "ticks": ""
           }
          },
          "scene": {
           "xaxis": {
            "backgroundcolor": "#E5ECF6",
            "gridcolor": "white",
            "gridwidth": 2,
            "linecolor": "white",
            "showbackground": true,
            "ticks": "",
            "zerolinecolor": "white"
           },
           "yaxis": {
            "backgroundcolor": "#E5ECF6",
            "gridcolor": "white",
            "gridwidth": 2,
            "linecolor": "white",
            "showbackground": true,
            "ticks": "",
            "zerolinecolor": "white"
           },
           "zaxis": {
            "backgroundcolor": "#E5ECF6",
            "gridcolor": "white",
            "gridwidth": 2,
            "linecolor": "white",
            "showbackground": true,
            "ticks": "",
            "zerolinecolor": "white"
           }
          },
          "shapedefaults": {
           "line": {
            "color": "#2a3f5f"
           }
          },
          "ternary": {
           "aaxis": {
            "gridcolor": "white",
            "linecolor": "white",
            "ticks": ""
           },
           "baxis": {
            "gridcolor": "white",
            "linecolor": "white",
            "ticks": ""
           },
           "bgcolor": "#E5ECF6",
           "caxis": {
            "gridcolor": "white",
            "linecolor": "white",
            "ticks": ""
           }
          },
          "title": {
           "x": 0.05
          },
          "xaxis": {
           "automargin": true,
           "gridcolor": "white",
           "linecolor": "white",
           "ticks": "",
           "title": {
            "standoff": 15
           },
           "zerolinecolor": "white",
           "zerolinewidth": 2
          },
          "yaxis": {
           "automargin": true,
           "gridcolor": "white",
           "linecolor": "white",
           "ticks": "",
           "title": {
            "standoff": 15
           },
           "zerolinecolor": "white",
           "zerolinewidth": 2
          }
         }
        },
        "xaxis": {
         "anchor": "y",
         "domain": [
          0,
          0.18000000000000002
         ],
         "title": {
          "text": "value"
         }
        },
        "xaxis10": {
         "anchor": "y10",
         "domain": [
          0.8,
          0.9800000000000001
         ],
         "matches": "x",
         "showticklabels": false
        },
        "xaxis11": {
         "anchor": "y11",
         "domain": [
          0,
          0.18000000000000002
         ],
         "matches": "x",
         "showticklabels": false
        },
        "xaxis12": {
         "anchor": "y12",
         "domain": [
          0.2,
          0.38
         ],
         "matches": "x",
         "showticklabels": false
        },
        "xaxis13": {
         "anchor": "y13",
         "domain": [
          0.4,
          0.5800000000000001
         ],
         "matches": "x",
         "showticklabels": false
        },
        "xaxis14": {
         "anchor": "y14",
         "domain": [
          0.6000000000000001,
          0.7800000000000001
         ],
         "matches": "x",
         "showticklabels": false
        },
        "xaxis15": {
         "anchor": "y15",
         "domain": [
          0.8,
          0.9800000000000001
         ],
         "matches": "x",
         "showticklabels": false
        },
        "xaxis16": {
         "anchor": "y16",
         "domain": [
          0,
          0.18000000000000002
         ],
         "matches": "x",
         "showticklabels": false
        },
        "xaxis17": {
         "anchor": "y17",
         "domain": [
          0.2,
          0.38
         ],
         "matches": "x",
         "showticklabels": false
        },
        "xaxis18": {
         "anchor": "y18",
         "domain": [
          0.4,
          0.5800000000000001
         ],
         "matches": "x",
         "showticklabels": false
        },
        "xaxis19": {
         "anchor": "y19",
         "domain": [
          0.6000000000000001,
          0.7800000000000001
         ],
         "matches": "x",
         "showticklabels": false
        },
        "xaxis2": {
         "anchor": "y2",
         "domain": [
          0.2,
          0.38
         ],
         "matches": "x",
         "title": {
          "text": "value"
         }
        },
        "xaxis20": {
         "anchor": "y20",
         "domain": [
          0.8,
          0.9800000000000001
         ],
         "matches": "x",
         "showticklabels": false
        },
        "xaxis21": {
         "anchor": "y21",
         "domain": [
          0,
          0.18000000000000002
         ],
         "matches": "x",
         "showticklabels": false
        },
        "xaxis22": {
         "anchor": "y22",
         "domain": [
          0.2,
          0.38
         ],
         "matches": "x",
         "showticklabels": false
        },
        "xaxis23": {
         "anchor": "y23",
         "domain": [
          0.4,
          0.5800000000000001
         ],
         "matches": "x",
         "showticklabels": false
        },
        "xaxis24": {
         "anchor": "y24",
         "domain": [
          0.6000000000000001,
          0.7800000000000001
         ],
         "matches": "x",
         "showticklabels": false
        },
        "xaxis25": {
         "anchor": "y25",
         "domain": [
          0.8,
          0.9800000000000001
         ],
         "matches": "x",
         "showticklabels": false
        },
        "xaxis3": {
         "anchor": "y3",
         "domain": [
          0.4,
          0.5800000000000001
         ],
         "matches": "x",
         "title": {
          "text": "value"
         }
        },
        "xaxis4": {
         "anchor": "y4",
         "domain": [
          0.6000000000000001,
          0.7800000000000001
         ],
         "matches": "x",
         "title": {
          "text": "value"
         }
        },
        "xaxis5": {
         "anchor": "y5",
         "domain": [
          0.8,
          0.9800000000000001
         ],
         "matches": "x",
         "title": {
          "text": "value"
         }
        },
        "xaxis6": {
         "anchor": "y6",
         "domain": [
          0,
          0.18000000000000002
         ],
         "matches": "x",
         "showticklabels": false
        },
        "xaxis7": {
         "anchor": "y7",
         "domain": [
          0.2,
          0.38
         ],
         "matches": "x",
         "showticklabels": false
        },
        "xaxis8": {
         "anchor": "y8",
         "domain": [
          0.4,
          0.5800000000000001
         ],
         "matches": "x",
         "showticklabels": false
        },
        "xaxis9": {
         "anchor": "y9",
         "domain": [
          0.6000000000000001,
          0.7800000000000001
         ],
         "matches": "x",
         "showticklabels": false
        },
        "yaxis": {
         "anchor": "x",
         "domain": [
          0,
          0.17600000000000002
         ],
         "title": {
          "text": "count"
         }
        },
        "yaxis10": {
         "anchor": "x10",
         "domain": [
          0.20600000000000002,
          0.382
         ],
         "matches": "y",
         "showticklabels": false
        },
        "yaxis11": {
         "anchor": "x11",
         "domain": [
          0.41200000000000003,
          0.5880000000000001
         ],
         "matches": "y",
         "title": {
          "text": "count"
         }
        },
        "yaxis12": {
         "anchor": "x12",
         "domain": [
          0.41200000000000003,
          0.5880000000000001
         ],
         "matches": "y",
         "showticklabels": false
        },
        "yaxis13": {
         "anchor": "x13",
         "domain": [
          0.41200000000000003,
          0.5880000000000001
         ],
         "matches": "y",
         "showticklabels": false
        },
        "yaxis14": {
         "anchor": "x14",
         "domain": [
          0.41200000000000003,
          0.5880000000000001
         ],
         "matches": "y",
         "showticklabels": false
        },
        "yaxis15": {
         "anchor": "x15",
         "domain": [
          0.41200000000000003,
          0.5880000000000001
         ],
         "matches": "y",
         "showticklabels": false
        },
        "yaxis16": {
         "anchor": "x16",
         "domain": [
          0.618,
          0.794
         ],
         "matches": "y",
         "title": {
          "text": "count"
         }
        },
        "yaxis17": {
         "anchor": "x17",
         "domain": [
          0.618,
          0.794
         ],
         "matches": "y",
         "showticklabels": false
        },
        "yaxis18": {
         "anchor": "x18",
         "domain": [
          0.618,
          0.794
         ],
         "matches": "y",
         "showticklabels": false
        },
        "yaxis19": {
         "anchor": "x19",
         "domain": [
          0.618,
          0.794
         ],
         "matches": "y",
         "showticklabels": false
        },
        "yaxis2": {
         "anchor": "x2",
         "domain": [
          0,
          0.17600000000000002
         ],
         "matches": "y",
         "showticklabels": false
        },
        "yaxis20": {
         "anchor": "x20",
         "domain": [
          0.618,
          0.794
         ],
         "matches": "y",
         "showticklabels": false
        },
        "yaxis21": {
         "anchor": "x21",
         "domain": [
          0.8240000000000001,
          1
         ],
         "matches": "y",
         "title": {
          "text": "count"
         }
        },
        "yaxis22": {
         "anchor": "x22",
         "domain": [
          0.8240000000000001,
          1
         ],
         "matches": "y",
         "showticklabels": false
        },
        "yaxis23": {
         "anchor": "x23",
         "domain": [
          0.8240000000000001,
          1
         ],
         "matches": "y",
         "showticklabels": false
        },
        "yaxis24": {
         "anchor": "x24",
         "domain": [
          0.8240000000000001,
          1
         ],
         "matches": "y",
         "showticklabels": false
        },
        "yaxis25": {
         "anchor": "x25",
         "domain": [
          0.8240000000000001,
          1
         ],
         "matches": "y",
         "showticklabels": false
        },
        "yaxis3": {
         "anchor": "x3",
         "domain": [
          0,
          0.17600000000000002
         ],
         "matches": "y",
         "showticklabels": false
        },
        "yaxis4": {
         "anchor": "x4",
         "domain": [
          0,
          0.17600000000000002
         ],
         "matches": "y",
         "showticklabels": false
        },
        "yaxis5": {
         "anchor": "x5",
         "domain": [
          0,
          0.17600000000000002
         ],
         "matches": "y",
         "showticklabels": false
        },
        "yaxis6": {
         "anchor": "x6",
         "domain": [
          0.20600000000000002,
          0.382
         ],
         "matches": "y",
         "title": {
          "text": "count"
         }
        },
        "yaxis7": {
         "anchor": "x7",
         "domain": [
          0.20600000000000002,
          0.382
         ],
         "matches": "y",
         "showticklabels": false
        },
        "yaxis8": {
         "anchor": "x8",
         "domain": [
          0.20600000000000002,
          0.382
         ],
         "matches": "y",
         "showticklabels": false
        },
        "yaxis9": {
         "anchor": "x9",
         "domain": [
          0.20600000000000002,
          0.382
         ],
         "matches": "y",
         "showticklabels": false
        }
       }
      }
     },
     "metadata": {},
     "output_type": "display_data"
    }
   ],
   "source": [
    "plx.histogram(numeric[\"Language\"],facet_col=numeric[\"Fedu\"],facet_row=numeric[\"Medu\"].sort_values())"
   ]
  },
  {
   "cell_type": "code",
   "execution_count": 28,
   "metadata": {},
   "outputs": [
    {
     "data": {
      "application/vnd.plotly.v1+json": {
       "config": {
        "plotlyServerURL": "https://plot.ly"
       },
       "data": [
        {
         "text": [
          [
           1,
           -0.1078318216832872,
           -0.12105049703353692,
           0.034490019571124936,
           -0.008415114730320307,
           0.3199679477700505,
           -0.020559455040341453,
           -0.004910259188824061,
           0.11280462078676545,
           0.13476826838640513,
           0.08635734514165765,
           -0.00875011713000706,
           0.14999819003988474,
           -0.17432223952760748,
           -0.10711907881607756,
           -0.10650539063847737,
           -0.004441255506035604,
           -0.08558757500571967,
           -0.11013942479591646,
           -0.13349865498491142,
           -0.07585661266024131
          ],
          [
           -0.1078318216832872,
           1,
           0.6474766091364943,
           -0.2650790028065538,
           0.09700583290488128,
           -0.17221028727762067,
           0.024420573121111563,
           -0.019686298242808004,
           0.009536493875243064,
           -0.0070183190518088925,
           -0.019765785774759535,
           0.00461405599903089,
           -0.00857749477554601,
           0.2604722895652321,
           0.26403529969541156,
           0.2401507565735952,
           0.124330241573184,
           0.18316762665693698,
           0.1875792191280063,
           0.2659049405953288,
           0.17682438910106363
          ],
          [
           -0.12105049703353692,
           0.6474766091364943,
           1,
           -0.20828797848977137,
           0.05039964766444921,
           -0.16591500535547477,
           0.020255884809253763,
           0.006840631040532665,
           0.027689742855497433,
           0.00006077489938230401,
           0.03844470026524229,
           0.04490978841531237,
           0.029858663975560834,
           0.2175006506475231,
           0.2251389296521709,
           0.2117996791144517,
           0.09263737540654556,
           0.12880807610053419,
           0.13518383831991362,
           0.2279181142656219,
           0.127257460789051
          ],
          [
           0.034490019571124936,
           -0.2650790028065538,
           -0.20828797848977137,
           1,
           -0.0631539042461471,
           0.09772975012846269,
           -0.009521184519664553,
           0.0009367341272307849,
           0.05745419566943,
           0.09282428355692025,
           0.05700717799788846,
           -0.04826120642527853,
           -0.008149087354862115,
           -0.15411962111281532,
           -0.15448887058863828,
           -0.12717296675842088,
           -0.051018357054448335,
           -0.104805527761895,
           -0.07481396526397707,
           -0.15106634045951145,
           -0.08172164668403246
          ],
          [
           -0.008415114730320307,
           0.09700583290488128,
           0.05039964766444921,
           -0.0631539042461471,
           1,
           -0.14744054515158297,
           -0.004127129214112034,
           -0.0688292221808394,
           -0.07544221085456852,
           -0.13758473944246938,
           -0.214925104526826,
           -0.056432693511126106,
           -0.11838937011024397,
           0.26087538031319,
           0.24049799907999117,
           0.24978868999886306,
           0.09318198979209637,
           0.09463326005467872,
           0.06651616953938448,
           0.2616301873284129,
           0.08746270609207887
          ],
          [
           0.3199679477700505,
           -0.17221028727762067,
           -0.16591500535547477,
           0.09772975012846269,
           -0.14744054515158297,
           1,
           -0.06264516268418756,
           0.10899462179242313,
           0.04507777595307839,
           0.10594909220788185,
           0.0822662646923068,
           0.03558821278366823,
           0.12277883526082042,
           -0.3842104760044189,
           -0.3857822152318819,
           -0.39331554804199254,
           -0.12709355529285624,
           -0.13348747235668607,
           -0.1354609342917487,
           -0.40581460262949226,
           -0.13927130668979834
          ],
          [
           -0.020559455040341453,
           0.024420573121111563,
           0.020255884809253763,
           -0.009521184519664553,
           -0.004127129214112034,
           -0.06264516268418756,
           1,
           0.12921567655885208,
           0.08970656912926568,
           -0.07576722502380889,
           -0.09351080600009941,
           0.10955921666418504,
           -0.08953365432972477,
           0.04879460349123013,
           0.08958778299759286,
           0.06336112772983052,
           -0.022633096560391242,
           0.0006376976311974475,
           0.031066668880309727,
           0.07054974953136514,
           0.0062761920395642875
          ],
          [
           -0.004910259188824061,
           -0.019686298242808004,
           0.006840631040532665,
           0.0009367341272307849,
           -0.0688292221808394,
           0.10899462179242313,
           0.12921567655885208,
           1,
           0.34635178804693684,
           0.10990355938003123,
           0.1202438806988557,
           0.08452642601918962,
           -0.018716028242381316,
           -0.09449660588180092,
           -0.10667792651255598,
           -0.1227049258336979,
           0.07101255439192218,
           0.04953704468282044,
           0.05316348164804265,
           -0.11372322456796603,
           0.06001644154953533
          ],
          [
           0.11280462078676545,
           0.009536493875243064,
           0.027689742855497433,
           0.05745419566943,
           -0.07544221085456852,
           0.04507777595307839,
           0.08970656912926568,
           0.34635178804693684,
           1,
           0.24512598855543802,
           0.3886797612064949,
           -0.015741131042270737,
           0.08537382666952786,
           -0.07405263312184847,
           -0.0794691939728882,
           -0.08764072272424255,
           -0.04094028004649209,
           -0.06053286163112713,
           -0.0976039607343971,
           -0.08446692314840866,
           -0.07310408063580286
          ],
          [
           0.13476826838640513,
           -0.0070183190518088925,
           0.00006077489938230401,
           0.09282428355692025,
           -0.13758473944246938,
           0.10594909220788185,
           -0.07576722502380889,
           0.10990355938003123,
           0.24512598855543802,
           1,
           0.6165613820643421,
           0.05906745767562432,
           0.17295249104524638,
           -0.19517093419289136,
           -0.1894799351577371,
           -0.20471939724815694,
           -0.040995688219275864,
           -0.029706124598108993,
           -0.03230171946429612,
           -0.2057921630863975,
           -0.03568874054096228
          ],
          [
           0.08635734514165765,
           -0.019765785774759535,
           0.03844470026524229,
           0.05700717799788846,
           -0.214925104526826,
           0.0822662646923068,
           -0.09351080600009941,
           0.1202438806988557,
           0.3886797612064949,
           0.6165613820643421,
           1,
           0.11498797166707767,
           0.15637296952175425,
           -0.15564948637866224,
           -0.1648521867672083,
           -0.1766188742096644,
           -0.05782606630759196,
           -0.09692982019662438,
           -0.09069280373398925,
           -0.17390583782259927,
           -0.08764747840795989
          ],
          [
           -0.00875011713000706,
           0.00461405599903089,
           0.04490978841531237,
           -0.04826120642527853,
           -0.056432693511126106,
           0.03558821278366823,
           0.10955921666418504,
           0.08452642601918962,
           -0.015741131042270737,
           0.05906745767562432,
           0.11498797166707767,
           1,
           -0.03023486448840083,
           -0.051647415072846516,
           -0.08217908362558932,
           -0.09885124139431797,
           0.0051792344482610875,
           -0.0070332132365862575,
           0.029884985617145175,
           -0.08242043762360211,
           0.011510158843099407
          ],
          [
           0.14999819003988474,
           -0.00857749477554601,
           0.029858663975560834,
           -0.008149087354862115,
           -0.11838937011024397,
           0.12277883526082042,
           -0.08953365432972477,
           -0.018716028242381316,
           0.08537382666952786,
           0.17295249104524638,
           0.15637296952175425,
           -0.03023486448840083,
           1,
           -0.1471492417639848,
           -0.12474493347142758,
           -0.09137905643875596,
           -0.08111790398746052,
           -0.07707789681619957,
           -0.07361155859881625,
           -0.12501524183834162,
           -0.0808289689798165
          ],
          [
           -0.17432223952760748,
           0.2604722895652321,
           0.2175006506475231,
           -0.15411962111281532,
           0.26087538031319,
           -0.3842104760044189,
           0.04879460349123013,
           -0.09449660588180092,
           -0.07405263312184847,
           -0.19517093419289136,
           -0.15564948637866224,
           -0.051647415072846516,
           -0.1471492417639848,
           1,
           0.8649816303085824,
           0.8263871247890486,
           0.31441615237605536,
           0.25636524377186826,
           0.23030527702770032,
           0.9335536823834754,
           0.276191101300464
          ],
          [
           -0.10711907881607756,
           0.26403529969541156,
           0.2251389296521709,
           -0.15448887058863828,
           0.24049799907999117,
           -0.3857822152318819,
           0.08958778299759286,
           -0.10667792651255598,
           -0.0794691939728882,
           -0.1894799351577371,
           -0.1648521867672083,
           -0.08217908362558932,
           -0.12474493347142758,
           0.8649816303085824,
           1,
           0.9185480035603523,
           0.31917922986735037,
           0.2785021571206527,
           0.25665269727748724,
           0.9712561048040942,
           0.2960089376354273
          ],
          [
           -0.10650539063847737,
           0.2401507565735952,
           0.2117996791144517,
           -0.12717296675842088,
           0.24978868999886306,
           -0.39331554804199254,
           0.06336112772983052,
           -0.1227049258336979,
           -0.08764072272424255,
           -0.20471939724815694,
           -0.1766188742096644,
           -0.09885124139431797,
           -0.09137905643875596,
           0.8263871247890486,
           0.9185480035603523,
           1,
           0.3137613476632322,
           0.26947678806040265,
           0.24345079080151028,
           0.9618290844108478,
           0.28587258662384646
          ],
          [
           -0.004441255506035604,
           0.124330241573184,
           0.09263737540654556,
           -0.051018357054448335,
           0.09318198979209637,
           -0.12709355529285624,
           -0.022633096560391242,
           0.07101255439192218,
           -0.04094028004649209,
           -0.040995688219275864,
           -0.05782606630759196,
           0.0051792344482610875,
           -0.08111790398746052,
           0.31441615237605536,
           0.31917922986735037,
           0.3137613476632322,
           1,
           0.852118066364806,
           0.8014679320174145,
           0.3306385211108942,
           0.9193861094565478
          ],
          [
           -0.08558757500571967,
           0.18316762665693698,
           0.12880807610053419,
           -0.104805527761895,
           0.09463326005467872,
           -0.13348747235668607,
           0.0006376976311974475,
           0.04953704468282044,
           -0.06053286163112713,
           -0.029706124598108993,
           -0.09692982019662438,
           -0.0070332132365862575,
           -0.07707789681619957,
           0.25636524377186826,
           0.2785021571206527,
           0.26947678806040265,
           0.852118066364806,
           1,
           0.9048679892693002,
           0.28080273086785745,
           0.9679987095183213
          ],
          [
           -0.11013942479591646,
           0.1875792191280063,
           0.13518383831991362,
           -0.07481396526397707,
           0.06651616953938448,
           -0.1354609342917487,
           0.031066668880309727,
           0.05316348164804265,
           -0.0976039607343971,
           -0.03230171946429612,
           -0.09069280373398925,
           0.029884985617145175,
           -0.07361155859881625,
           0.23030527702770032,
           0.25665269727748724,
           0.24345079080151028,
           0.8014679320174145,
           0.9048679892693002,
           1,
           0.2549575656659674,
           0.9598731540608977
          ],
          [
           -0.13349865498491142,
           0.2659049405953288,
           0.2279181142656219,
           -0.15106634045951145,
           0.2616301873284129,
           -0.40581460262949226,
           0.07054974953136514,
           -0.11372322456796603,
           -0.08446692314840866,
           -0.2057921630863975,
           -0.17390583782259927,
           -0.08242043762360211,
           -0.12501524183834162,
           0.9335536823834754,
           0.9712561048040942,
           0.9618290844108478,
           0.3306385211108942,
           0.28080273086785745,
           0.2549575656659674,
           1,
           0.2995185712257315
          ],
          [
           -0.07585661266024131,
           0.17682438910106363,
           0.127257460789051,
           -0.08172164668403246,
           0.08746270609207887,
           -0.13927130668979834,
           0.0062761920395642875,
           0.06001644154953533,
           -0.07310408063580286,
           -0.03568874054096228,
           -0.08764747840795989,
           0.011510158843099407,
           -0.0808289689798165,
           0.276191101300464,
           0.2960089376354273,
           0.28587258662384646,
           0.9193861094565478,
           0.9679987095183213,
           0.9598731540608977,
           0.2995185712257315,
           1
          ]
         ],
         "texttemplate": "%{text:.2f}",
         "type": "heatmap",
         "x": [
          "age",
          "Medu",
          "Fedu",
          "traveltime",
          "studytime",
          "failures",
          "famrel",
          "freetime",
          "goout",
          "Dalc",
          "Walc",
          "health",
          "absences",
          "G1",
          "G2",
          "G3",
          "M1",
          "M2",
          "M3",
          "Language",
          "Math"
         ],
         "y": [
          "age",
          "Medu",
          "Fedu",
          "traveltime",
          "studytime",
          "failures",
          "famrel",
          "freetime",
          "goout",
          "Dalc",
          "Walc",
          "health",
          "absences",
          "G1",
          "G2",
          "G3",
          "M1",
          "M2",
          "M3",
          "Language",
          "Math"
         ],
         "z": [
          [
           1,
           -0.1078318216832872,
           -0.12105049703353692,
           0.034490019571124936,
           -0.008415114730320307,
           0.3199679477700505,
           -0.020559455040341453,
           -0.004910259188824061,
           0.11280462078676545,
           0.13476826838640513,
           0.08635734514165765,
           -0.00875011713000706,
           0.14999819003988474,
           -0.17432223952760748,
           -0.10711907881607756,
           -0.10650539063847737,
           -0.004441255506035604,
           -0.08558757500571967,
           -0.11013942479591646,
           -0.13349865498491142,
           -0.07585661266024131
          ],
          [
           -0.1078318216832872,
           1,
           0.6474766091364943,
           -0.2650790028065538,
           0.09700583290488128,
           -0.17221028727762067,
           0.024420573121111563,
           -0.019686298242808004,
           0.009536493875243064,
           -0.0070183190518088925,
           -0.019765785774759535,
           0.00461405599903089,
           -0.00857749477554601,
           0.2604722895652321,
           0.26403529969541156,
           0.2401507565735952,
           0.124330241573184,
           0.18316762665693698,
           0.1875792191280063,
           0.2659049405953288,
           0.17682438910106363
          ],
          [
           -0.12105049703353692,
           0.6474766091364943,
           1,
           -0.20828797848977137,
           0.05039964766444921,
           -0.16591500535547477,
           0.020255884809253763,
           0.006840631040532665,
           0.027689742855497433,
           0.00006077489938230401,
           0.03844470026524229,
           0.04490978841531237,
           0.029858663975560834,
           0.2175006506475231,
           0.2251389296521709,
           0.2117996791144517,
           0.09263737540654556,
           0.12880807610053419,
           0.13518383831991362,
           0.2279181142656219,
           0.127257460789051
          ],
          [
           0.034490019571124936,
           -0.2650790028065538,
           -0.20828797848977137,
           1,
           -0.0631539042461471,
           0.09772975012846269,
           -0.009521184519664553,
           0.0009367341272307849,
           0.05745419566943,
           0.09282428355692025,
           0.05700717799788846,
           -0.04826120642527853,
           -0.008149087354862115,
           -0.15411962111281532,
           -0.15448887058863828,
           -0.12717296675842088,
           -0.051018357054448335,
           -0.104805527761895,
           -0.07481396526397707,
           -0.15106634045951145,
           -0.08172164668403246
          ],
          [
           -0.008415114730320307,
           0.09700583290488128,
           0.05039964766444921,
           -0.0631539042461471,
           1,
           -0.14744054515158297,
           -0.004127129214112034,
           -0.0688292221808394,
           -0.07544221085456852,
           -0.13758473944246938,
           -0.214925104526826,
           -0.056432693511126106,
           -0.11838937011024397,
           0.26087538031319,
           0.24049799907999117,
           0.24978868999886306,
           0.09318198979209637,
           0.09463326005467872,
           0.06651616953938448,
           0.2616301873284129,
           0.08746270609207887
          ],
          [
           0.3199679477700505,
           -0.17221028727762067,
           -0.16591500535547477,
           0.09772975012846269,
           -0.14744054515158297,
           1,
           -0.06264516268418756,
           0.10899462179242313,
           0.04507777595307839,
           0.10594909220788185,
           0.0822662646923068,
           0.03558821278366823,
           0.12277883526082042,
           -0.3842104760044189,
           -0.3857822152318819,
           -0.39331554804199254,
           -0.12709355529285624,
           -0.13348747235668607,
           -0.1354609342917487,
           -0.40581460262949226,
           -0.13927130668979834
          ],
          [
           -0.020559455040341453,
           0.024420573121111563,
           0.020255884809253763,
           -0.009521184519664553,
           -0.004127129214112034,
           -0.06264516268418756,
           1,
           0.12921567655885208,
           0.08970656912926568,
           -0.07576722502380889,
           -0.09351080600009941,
           0.10955921666418504,
           -0.08953365432972477,
           0.04879460349123013,
           0.08958778299759286,
           0.06336112772983052,
           -0.022633096560391242,
           0.0006376976311974475,
           0.031066668880309727,
           0.07054974953136514,
           0.0062761920395642875
          ],
          [
           -0.004910259188824061,
           -0.019686298242808004,
           0.006840631040532665,
           0.0009367341272307849,
           -0.0688292221808394,
           0.10899462179242313,
           0.12921567655885208,
           1,
           0.34635178804693684,
           0.10990355938003123,
           0.1202438806988557,
           0.08452642601918962,
           -0.018716028242381316,
           -0.09449660588180092,
           -0.10667792651255598,
           -0.1227049258336979,
           0.07101255439192218,
           0.04953704468282044,
           0.05316348164804265,
           -0.11372322456796603,
           0.06001644154953533
          ],
          [
           0.11280462078676545,
           0.009536493875243064,
           0.027689742855497433,
           0.05745419566943,
           -0.07544221085456852,
           0.04507777595307839,
           0.08970656912926568,
           0.34635178804693684,
           1,
           0.24512598855543802,
           0.3886797612064949,
           -0.015741131042270737,
           0.08537382666952786,
           -0.07405263312184847,
           -0.0794691939728882,
           -0.08764072272424255,
           -0.04094028004649209,
           -0.06053286163112713,
           -0.0976039607343971,
           -0.08446692314840866,
           -0.07310408063580286
          ],
          [
           0.13476826838640513,
           -0.0070183190518088925,
           0.00006077489938230401,
           0.09282428355692025,
           -0.13758473944246938,
           0.10594909220788185,
           -0.07576722502380889,
           0.10990355938003123,
           0.24512598855543802,
           1,
           0.6165613820643421,
           0.05906745767562432,
           0.17295249104524638,
           -0.19517093419289136,
           -0.1894799351577371,
           -0.20471939724815694,
           -0.040995688219275864,
           -0.029706124598108993,
           -0.03230171946429612,
           -0.2057921630863975,
           -0.03568874054096228
          ],
          [
           0.08635734514165765,
           -0.019765785774759535,
           0.03844470026524229,
           0.05700717799788846,
           -0.214925104526826,
           0.0822662646923068,
           -0.09351080600009941,
           0.1202438806988557,
           0.3886797612064949,
           0.6165613820643421,
           1,
           0.11498797166707767,
           0.15637296952175425,
           -0.15564948637866224,
           -0.1648521867672083,
           -0.1766188742096644,
           -0.05782606630759196,
           -0.09692982019662438,
           -0.09069280373398925,
           -0.17390583782259927,
           -0.08764747840795989
          ],
          [
           -0.00875011713000706,
           0.00461405599903089,
           0.04490978841531237,
           -0.04826120642527853,
           -0.056432693511126106,
           0.03558821278366823,
           0.10955921666418504,
           0.08452642601918962,
           -0.015741131042270737,
           0.05906745767562432,
           0.11498797166707767,
           1,
           -0.03023486448840083,
           -0.051647415072846516,
           -0.08217908362558932,
           -0.09885124139431797,
           0.0051792344482610875,
           -0.0070332132365862575,
           0.029884985617145175,
           -0.08242043762360211,
           0.011510158843099407
          ],
          [
           0.14999819003988474,
           -0.00857749477554601,
           0.029858663975560834,
           -0.008149087354862115,
           -0.11838937011024397,
           0.12277883526082042,
           -0.08953365432972477,
           -0.018716028242381316,
           0.08537382666952786,
           0.17295249104524638,
           0.15637296952175425,
           -0.03023486448840083,
           1,
           -0.1471492417639848,
           -0.12474493347142758,
           -0.09137905643875596,
           -0.08111790398746052,
           -0.07707789681619957,
           -0.07361155859881625,
           -0.12501524183834162,
           -0.0808289689798165
          ],
          [
           -0.17432223952760748,
           0.2604722895652321,
           0.2175006506475231,
           -0.15411962111281532,
           0.26087538031319,
           -0.3842104760044189,
           0.04879460349123013,
           -0.09449660588180092,
           -0.07405263312184847,
           -0.19517093419289136,
           -0.15564948637866224,
           -0.051647415072846516,
           -0.1471492417639848,
           1,
           0.8649816303085824,
           0.8263871247890486,
           0.31441615237605536,
           0.25636524377186826,
           0.23030527702770032,
           0.9335536823834754,
           0.276191101300464
          ],
          [
           -0.10711907881607756,
           0.26403529969541156,
           0.2251389296521709,
           -0.15448887058863828,
           0.24049799907999117,
           -0.3857822152318819,
           0.08958778299759286,
           -0.10667792651255598,
           -0.0794691939728882,
           -0.1894799351577371,
           -0.1648521867672083,
           -0.08217908362558932,
           -0.12474493347142758,
           0.8649816303085824,
           1,
           0.9185480035603523,
           0.31917922986735037,
           0.2785021571206527,
           0.25665269727748724,
           0.9712561048040942,
           0.2960089376354273
          ],
          [
           -0.10650539063847737,
           0.2401507565735952,
           0.2117996791144517,
           -0.12717296675842088,
           0.24978868999886306,
           -0.39331554804199254,
           0.06336112772983052,
           -0.1227049258336979,
           -0.08764072272424255,
           -0.20471939724815694,
           -0.1766188742096644,
           -0.09885124139431797,
           -0.09137905643875596,
           0.8263871247890486,
           0.9185480035603523,
           1,
           0.3137613476632322,
           0.26947678806040265,
           0.24345079080151028,
           0.9618290844108478,
           0.28587258662384646
          ],
          [
           -0.004441255506035604,
           0.124330241573184,
           0.09263737540654556,
           -0.051018357054448335,
           0.09318198979209637,
           -0.12709355529285624,
           -0.022633096560391242,
           0.07101255439192218,
           -0.04094028004649209,
           -0.040995688219275864,
           -0.05782606630759196,
           0.0051792344482610875,
           -0.08111790398746052,
           0.31441615237605536,
           0.31917922986735037,
           0.3137613476632322,
           1,
           0.852118066364806,
           0.8014679320174145,
           0.3306385211108942,
           0.9193861094565478
          ],
          [
           -0.08558757500571967,
           0.18316762665693698,
           0.12880807610053419,
           -0.104805527761895,
           0.09463326005467872,
           -0.13348747235668607,
           0.0006376976311974475,
           0.04953704468282044,
           -0.06053286163112713,
           -0.029706124598108993,
           -0.09692982019662438,
           -0.0070332132365862575,
           -0.07707789681619957,
           0.25636524377186826,
           0.2785021571206527,
           0.26947678806040265,
           0.852118066364806,
           1,
           0.9048679892693002,
           0.28080273086785745,
           0.9679987095183213
          ],
          [
           -0.11013942479591646,
           0.1875792191280063,
           0.13518383831991362,
           -0.07481396526397707,
           0.06651616953938448,
           -0.1354609342917487,
           0.031066668880309727,
           0.05316348164804265,
           -0.0976039607343971,
           -0.03230171946429612,
           -0.09069280373398925,
           0.029884985617145175,
           -0.07361155859881625,
           0.23030527702770032,
           0.25665269727748724,
           0.24345079080151028,
           0.8014679320174145,
           0.9048679892693002,
           1,
           0.2549575656659674,
           0.9598731540608977
          ],
          [
           -0.13349865498491142,
           0.2659049405953288,
           0.2279181142656219,
           -0.15106634045951145,
           0.2616301873284129,
           -0.40581460262949226,
           0.07054974953136514,
           -0.11372322456796603,
           -0.08446692314840866,
           -0.2057921630863975,
           -0.17390583782259927,
           -0.08242043762360211,
           -0.12501524183834162,
           0.9335536823834754,
           0.9712561048040942,
           0.9618290844108478,
           0.3306385211108942,
           0.28080273086785745,
           0.2549575656659674,
           1,
           0.2995185712257315
          ],
          [
           -0.07585661266024131,
           0.17682438910106363,
           0.127257460789051,
           -0.08172164668403246,
           0.08746270609207887,
           -0.13927130668979834,
           0.0062761920395642875,
           0.06001644154953533,
           -0.07310408063580286,
           -0.03568874054096228,
           -0.08764747840795989,
           0.011510158843099407,
           -0.0808289689798165,
           0.276191101300464,
           0.2960089376354273,
           0.28587258662384646,
           0.9193861094565478,
           0.9679987095183213,
           0.9598731540608977,
           0.2995185712257315,
           1
          ]
         ]
        }
       ],
       "layout": {
        "template": {
         "data": {
          "bar": [
           {
            "error_x": {
             "color": "#2a3f5f"
            },
            "error_y": {
             "color": "#2a3f5f"
            },
            "marker": {
             "line": {
              "color": "#E5ECF6",
              "width": 0.5
             },
             "pattern": {
              "fillmode": "overlay",
              "size": 10,
              "solidity": 0.2
             }
            },
            "type": "bar"
           }
          ],
          "barpolar": [
           {
            "marker": {
             "line": {
              "color": "#E5ECF6",
              "width": 0.5
             },
             "pattern": {
              "fillmode": "overlay",
              "size": 10,
              "solidity": 0.2
             }
            },
            "type": "barpolar"
           }
          ],
          "carpet": [
           {
            "aaxis": {
             "endlinecolor": "#2a3f5f",
             "gridcolor": "white",
             "linecolor": "white",
             "minorgridcolor": "white",
             "startlinecolor": "#2a3f5f"
            },
            "baxis": {
             "endlinecolor": "#2a3f5f",
             "gridcolor": "white",
             "linecolor": "white",
             "minorgridcolor": "white",
             "startlinecolor": "#2a3f5f"
            },
            "type": "carpet"
           }
          ],
          "choropleth": [
           {
            "colorbar": {
             "outlinewidth": 0,
             "ticks": ""
            },
            "type": "choropleth"
           }
          ],
          "contour": [
           {
            "colorbar": {
             "outlinewidth": 0,
             "ticks": ""
            },
            "colorscale": [
             [
              0,
              "#0d0887"
             ],
             [
              0.1111111111111111,
              "#46039f"
             ],
             [
              0.2222222222222222,
              "#7201a8"
             ],
             [
              0.3333333333333333,
              "#9c179e"
             ],
             [
              0.4444444444444444,
              "#bd3786"
             ],
             [
              0.5555555555555556,
              "#d8576b"
             ],
             [
              0.6666666666666666,
              "#ed7953"
             ],
             [
              0.7777777777777778,
              "#fb9f3a"
             ],
             [
              0.8888888888888888,
              "#fdca26"
             ],
             [
              1,
              "#f0f921"
             ]
            ],
            "type": "contour"
           }
          ],
          "contourcarpet": [
           {
            "colorbar": {
             "outlinewidth": 0,
             "ticks": ""
            },
            "type": "contourcarpet"
           }
          ],
          "heatmap": [
           {
            "colorbar": {
             "outlinewidth": 0,
             "ticks": ""
            },
            "colorscale": [
             [
              0,
              "#0d0887"
             ],
             [
              0.1111111111111111,
              "#46039f"
             ],
             [
              0.2222222222222222,
              "#7201a8"
             ],
             [
              0.3333333333333333,
              "#9c179e"
             ],
             [
              0.4444444444444444,
              "#bd3786"
             ],
             [
              0.5555555555555556,
              "#d8576b"
             ],
             [
              0.6666666666666666,
              "#ed7953"
             ],
             [
              0.7777777777777778,
              "#fb9f3a"
             ],
             [
              0.8888888888888888,
              "#fdca26"
             ],
             [
              1,
              "#f0f921"
             ]
            ],
            "type": "heatmap"
           }
          ],
          "heatmapgl": [
           {
            "colorbar": {
             "outlinewidth": 0,
             "ticks": ""
            },
            "colorscale": [
             [
              0,
              "#0d0887"
             ],
             [
              0.1111111111111111,
              "#46039f"
             ],
             [
              0.2222222222222222,
              "#7201a8"
             ],
             [
              0.3333333333333333,
              "#9c179e"
             ],
             [
              0.4444444444444444,
              "#bd3786"
             ],
             [
              0.5555555555555556,
              "#d8576b"
             ],
             [
              0.6666666666666666,
              "#ed7953"
             ],
             [
              0.7777777777777778,
              "#fb9f3a"
             ],
             [
              0.8888888888888888,
              "#fdca26"
             ],
             [
              1,
              "#f0f921"
             ]
            ],
            "type": "heatmapgl"
           }
          ],
          "histogram": [
           {
            "marker": {
             "pattern": {
              "fillmode": "overlay",
              "size": 10,
              "solidity": 0.2
             }
            },
            "type": "histogram"
           }
          ],
          "histogram2d": [
           {
            "colorbar": {
             "outlinewidth": 0,
             "ticks": ""
            },
            "colorscale": [
             [
              0,
              "#0d0887"
             ],
             [
              0.1111111111111111,
              "#46039f"
             ],
             [
              0.2222222222222222,
              "#7201a8"
             ],
             [
              0.3333333333333333,
              "#9c179e"
             ],
             [
              0.4444444444444444,
              "#bd3786"
             ],
             [
              0.5555555555555556,
              "#d8576b"
             ],
             [
              0.6666666666666666,
              "#ed7953"
             ],
             [
              0.7777777777777778,
              "#fb9f3a"
             ],
             [
              0.8888888888888888,
              "#fdca26"
             ],
             [
              1,
              "#f0f921"
             ]
            ],
            "type": "histogram2d"
           }
          ],
          "histogram2dcontour": [
           {
            "colorbar": {
             "outlinewidth": 0,
             "ticks": ""
            },
            "colorscale": [
             [
              0,
              "#0d0887"
             ],
             [
              0.1111111111111111,
              "#46039f"
             ],
             [
              0.2222222222222222,
              "#7201a8"
             ],
             [
              0.3333333333333333,
              "#9c179e"
             ],
             [
              0.4444444444444444,
              "#bd3786"
             ],
             [
              0.5555555555555556,
              "#d8576b"
             ],
             [
              0.6666666666666666,
              "#ed7953"
             ],
             [
              0.7777777777777778,
              "#fb9f3a"
             ],
             [
              0.8888888888888888,
              "#fdca26"
             ],
             [
              1,
              "#f0f921"
             ]
            ],
            "type": "histogram2dcontour"
           }
          ],
          "mesh3d": [
           {
            "colorbar": {
             "outlinewidth": 0,
             "ticks": ""
            },
            "type": "mesh3d"
           }
          ],
          "parcoords": [
           {
            "line": {
             "colorbar": {
              "outlinewidth": 0,
              "ticks": ""
             }
            },
            "type": "parcoords"
           }
          ],
          "pie": [
           {
            "automargin": true,
            "type": "pie"
           }
          ],
          "scatter": [
           {
            "fillpattern": {
             "fillmode": "overlay",
             "size": 10,
             "solidity": 0.2
            },
            "type": "scatter"
           }
          ],
          "scatter3d": [
           {
            "line": {
             "colorbar": {
              "outlinewidth": 0,
              "ticks": ""
             }
            },
            "marker": {
             "colorbar": {
              "outlinewidth": 0,
              "ticks": ""
             }
            },
            "type": "scatter3d"
           }
          ],
          "scattercarpet": [
           {
            "marker": {
             "colorbar": {
              "outlinewidth": 0,
              "ticks": ""
             }
            },
            "type": "scattercarpet"
           }
          ],
          "scattergeo": [
           {
            "marker": {
             "colorbar": {
              "outlinewidth": 0,
              "ticks": ""
             }
            },
            "type": "scattergeo"
           }
          ],
          "scattergl": [
           {
            "marker": {
             "colorbar": {
              "outlinewidth": 0,
              "ticks": ""
             }
            },
            "type": "scattergl"
           }
          ],
          "scattermapbox": [
           {
            "marker": {
             "colorbar": {
              "outlinewidth": 0,
              "ticks": ""
             }
            },
            "type": "scattermapbox"
           }
          ],
          "scatterpolar": [
           {
            "marker": {
             "colorbar": {
              "outlinewidth": 0,
              "ticks": ""
             }
            },
            "type": "scatterpolar"
           }
          ],
          "scatterpolargl": [
           {
            "marker": {
             "colorbar": {
              "outlinewidth": 0,
              "ticks": ""
             }
            },
            "type": "scatterpolargl"
           }
          ],
          "scatterternary": [
           {
            "marker": {
             "colorbar": {
              "outlinewidth": 0,
              "ticks": ""
             }
            },
            "type": "scatterternary"
           }
          ],
          "surface": [
           {
            "colorbar": {
             "outlinewidth": 0,
             "ticks": ""
            },
            "colorscale": [
             [
              0,
              "#0d0887"
             ],
             [
              0.1111111111111111,
              "#46039f"
             ],
             [
              0.2222222222222222,
              "#7201a8"
             ],
             [
              0.3333333333333333,
              "#9c179e"
             ],
             [
              0.4444444444444444,
              "#bd3786"
             ],
             [
              0.5555555555555556,
              "#d8576b"
             ],
             [
              0.6666666666666666,
              "#ed7953"
             ],
             [
              0.7777777777777778,
              "#fb9f3a"
             ],
             [
              0.8888888888888888,
              "#fdca26"
             ],
             [
              1,
              "#f0f921"
             ]
            ],
            "type": "surface"
           }
          ],
          "table": [
           {
            "cells": {
             "fill": {
              "color": "#EBF0F8"
             },
             "line": {
              "color": "white"
             }
            },
            "header": {
             "fill": {
              "color": "#C8D4E3"
             },
             "line": {
              "color": "white"
             }
            },
            "type": "table"
           }
          ]
         },
         "layout": {
          "annotationdefaults": {
           "arrowcolor": "#2a3f5f",
           "arrowhead": 0,
           "arrowwidth": 1
          },
          "autotypenumbers": "strict",
          "coloraxis": {
           "colorbar": {
            "outlinewidth": 0,
            "ticks": ""
           }
          },
          "colorscale": {
           "diverging": [
            [
             0,
             "#8e0152"
            ],
            [
             0.1,
             "#c51b7d"
            ],
            [
             0.2,
             "#de77ae"
            ],
            [
             0.3,
             "#f1b6da"
            ],
            [
             0.4,
             "#fde0ef"
            ],
            [
             0.5,
             "#f7f7f7"
            ],
            [
             0.6,
             "#e6f5d0"
            ],
            [
             0.7,
             "#b8e186"
            ],
            [
             0.8,
             "#7fbc41"
            ],
            [
             0.9,
             "#4d9221"
            ],
            [
             1,
             "#276419"
            ]
           ],
           "sequential": [
            [
             0,
             "#0d0887"
            ],
            [
             0.1111111111111111,
             "#46039f"
            ],
            [
             0.2222222222222222,
             "#7201a8"
            ],
            [
             0.3333333333333333,
             "#9c179e"
            ],
            [
             0.4444444444444444,
             "#bd3786"
            ],
            [
             0.5555555555555556,
             "#d8576b"
            ],
            [
             0.6666666666666666,
             "#ed7953"
            ],
            [
             0.7777777777777778,
             "#fb9f3a"
            ],
            [
             0.8888888888888888,
             "#fdca26"
            ],
            [
             1,
             "#f0f921"
            ]
           ],
           "sequentialminus": [
            [
             0,
             "#0d0887"
            ],
            [
             0.1111111111111111,
             "#46039f"
            ],
            [
             0.2222222222222222,
             "#7201a8"
            ],
            [
             0.3333333333333333,
             "#9c179e"
            ],
            [
             0.4444444444444444,
             "#bd3786"
            ],
            [
             0.5555555555555556,
             "#d8576b"
            ],
            [
             0.6666666666666666,
             "#ed7953"
            ],
            [
             0.7777777777777778,
             "#fb9f3a"
            ],
            [
             0.8888888888888888,
             "#fdca26"
            ],
            [
             1,
             "#f0f921"
            ]
           ]
          },
          "colorway": [
           "#636efa",
           "#EF553B",
           "#00cc96",
           "#ab63fa",
           "#FFA15A",
           "#19d3f3",
           "#FF6692",
           "#B6E880",
           "#FF97FF",
           "#FECB52"
          ],
          "font": {
           "color": "#2a3f5f"
          },
          "geo": {
           "bgcolor": "white",
           "lakecolor": "white",
           "landcolor": "#E5ECF6",
           "showlakes": true,
           "showland": true,
           "subunitcolor": "white"
          },
          "hoverlabel": {
           "align": "left"
          },
          "hovermode": "closest",
          "mapbox": {
           "style": "light"
          },
          "paper_bgcolor": "white",
          "plot_bgcolor": "#E5ECF6",
          "polar": {
           "angularaxis": {
            "gridcolor": "white",
            "linecolor": "white",
            "ticks": ""
           },
           "bgcolor": "#E5ECF6",
           "radialaxis": {
            "gridcolor": "white",
            "linecolor": "white",
            "ticks": ""
           }
          },
          "scene": {
           "xaxis": {
            "backgroundcolor": "#E5ECF6",
            "gridcolor": "white",
            "gridwidth": 2,
            "linecolor": "white",
            "showbackground": true,
            "ticks": "",
            "zerolinecolor": "white"
           },
           "yaxis": {
            "backgroundcolor": "#E5ECF6",
            "gridcolor": "white",
            "gridwidth": 2,
            "linecolor": "white",
            "showbackground": true,
            "ticks": "",
            "zerolinecolor": "white"
           },
           "zaxis": {
            "backgroundcolor": "#E5ECF6",
            "gridcolor": "white",
            "gridwidth": 2,
            "linecolor": "white",
            "showbackground": true,
            "ticks": "",
            "zerolinecolor": "white"
           }
          },
          "shapedefaults": {
           "line": {
            "color": "#2a3f5f"
           }
          },
          "ternary": {
           "aaxis": {
            "gridcolor": "white",
            "linecolor": "white",
            "ticks": ""
           },
           "baxis": {
            "gridcolor": "white",
            "linecolor": "white",
            "ticks": ""
           },
           "bgcolor": "#E5ECF6",
           "caxis": {
            "gridcolor": "white",
            "linecolor": "white",
            "ticks": ""
           }
          },
          "title": {
           "x": 0.05
          },
          "xaxis": {
           "automargin": true,
           "gridcolor": "white",
           "linecolor": "white",
           "ticks": "",
           "title": {
            "standoff": 15
           },
           "zerolinecolor": "white",
           "zerolinewidth": 2
          },
          "yaxis": {
           "automargin": true,
           "gridcolor": "white",
           "linecolor": "white",
           "ticks": "",
           "title": {
            "standoff": 15
           },
           "zerolinecolor": "white",
           "zerolinewidth": 2
          }
         }
        }
       }
      }
     },
     "metadata": {},
     "output_type": "display_data"
    }
   ],
   "source": [
    "corr = numeric.corr()\n",
    "\n",
    "fig = go.Figure()\n",
    "fig.add_trace(\n",
    "    go.Heatmap(\n",
    "        x = corr.columns,\n",
    "        y = corr.index,\n",
    "        z = np.array(corr),\n",
    "        text=corr.values,\n",
    "        texttemplate='%{text:.2f}'\n",
    "    )\n",
    ")\n",
    "fig.show()"
   ]
  },
  {
   "cell_type": "code",
   "execution_count": 30,
   "metadata": {},
   "outputs": [
    {
     "data": {
      "text/plain": [
       "0      0\n",
       "1      0\n",
       "2      0\n",
       "3      0\n",
       "4      0\n",
       "      ..\n",
       "644    1\n",
       "645    1\n",
       "646    1\n",
       "647    1\n",
       "648    1\n",
       "Name: school, Length: 649, dtype: object"
      ]
     },
     "execution_count": 30,
     "metadata": {},
     "output_type": "execute_result"
    }
   ],
   "source": [
    "numeric[\"school\"]"
   ]
  }
 ],
 "metadata": {
  "kernelspec": {
   "display_name": "Python 3.10.4 64-bit",
   "language": "python",
   "name": "python3"
  },
  "language_info": {
   "codemirror_mode": {
    "name": "ipython",
    "version": 3
   },
   "file_extension": ".py",
   "mimetype": "text/x-python",
   "name": "python",
   "nbconvert_exporter": "python",
   "pygments_lexer": "ipython3",
   "version": "3.10.4"
  },
  "orig_nbformat": 4,
  "vscode": {
   "interpreter": {
    "hash": "916dbcbb3f70747c44a77c7bcd40155683ae19c65e1c03b4aa3499c5328201f1"
   }
  }
 },
 "nbformat": 4,
 "nbformat_minor": 2
}
