{
 "cells": [
  {
   "cell_type": "code",
   "execution_count": 1,
   "metadata": {},
   "outputs": [],
   "source": [
    "import csv\n",
    "import pandas as pd\n",
    "import matplotlib.pyplot as plt\n",
    "import numpy as np\n",
    "from pandasql import sqldf\n",
    "import plotly.express as plx\n",
    "import plotly.graph_objects as go"
   ]
  },
  {
   "cell_type": "code",
   "execution_count": 2,
   "metadata": {},
   "outputs": [
    {
     "name": "stderr",
     "output_type": "stream",
     "text": [
      "C:\\Users\\matte\\AppData\\Local\\Temp\\ipykernel_24024\\3706423964.py:1: DtypeWarning: Columns (10) have mixed types. Specify dtype option on import or set low_memory=False.\n",
      "  globalPower = pd.read_csv(\"./dataset/global_power_plant_database_last.csv\")\n"
     ]
    }
   ],
   "source": [
    "globalPower = pd.read_csv(\"./dataset/global_power_plant_database_last.csv\")\n",
    "primaryConsumption = pd.read_csv(\"./dataset/Primary-energy-consumption-from-fossilfuels-nuclear-renewables.csv\")\n",
    "prodbysource = pd.read_csv(\"./dataset/share-elec-produc-by-source.csv\")\n",
    "consbysource = pd.read_csv(\"./dataset/share-energy-consum-by-source.csv\")"
   ]
  },
  {
   "cell_type": "code",
   "execution_count": 11,
   "metadata": {},
   "outputs": [],
   "source": [
    "def divideForNation(dataframe):\n",
    "    nations = {}\n",
    "    for entity in dataframe[\"Entity\"]:\n",
    "        if entity not in nations.keys():\n",
    "            nations[entity] = dataframe[dataframe[\"Entity\"] == entity]\n",
    "        pass\n",
    "    return nations\n",
    "nations = divideForNation(prodbysource)"
   ]
  },
  {
   "cell_type": "code",
   "execution_count": 9,
   "metadata": {},
   "outputs": [],
   "source": [
    "def nationStats(nation):\n",
    "    return plx.histogram(nation,x=\"Year\",y=[\"Hydro (% electricity)\", \"Nuclear (% electricity)\", \n",
    "\"Wind (% electricity)\", \"Solar (% electricity)\", \"Coal (% electricity)\", \"Gas (% electricity)\"\n",
    ",\"Oil (% electricity)\"], nbins=100)"
   ]
  },
  {
   "cell_type": "code",
   "execution_count": 5,
   "metadata": {},
   "outputs": [
    {
     "data": {
      "application/vnd.plotly.v1+json": {
       "config": {
        "plotlyServerURL": "https://plot.ly"
       },
       "data": [
        {
         "alignmentgroup": "True",
         "bingroup": "x",
         "histfunc": "sum",
         "hovertemplate": "variable=Hydro (% electricity)<br>Year=%{x}<br>sum of value=%{y}<extra></extra>",
         "legendgroup": "Hydro (% electricity)",
         "marker": {
          "color": "#636efa",
          "pattern": {
           "shape": ""
          }
         },
         "name": "Hydro (% electricity)",
         "nbinsx": 100,
         "offsetgroup": "Hydro (% electricity)",
         "orientation": "v",
         "showlegend": true,
         "type": "histogram",
         "x": [
          1985,
          1986,
          1987,
          1988,
          1989,
          1990,
          1991,
          1992,
          1993,
          1994,
          1995,
          1996,
          1997,
          1998,
          1999,
          2000,
          2001,
          2002,
          2003,
          2004,
          2005,
          2006,
          2007,
          2008,
          2009,
          2010,
          2011,
          2012,
          2013,
          2014,
          2015,
          2016,
          2017,
          2018,
          2019,
          2020
         ],
         "xaxis": "x",
         "y": [
          20.03976843473408,
          19.72248095689467,
          19.070142835670644,
          18.85056289201214,
          17.91296113863136,
          18.05497225269325,
          18.08246389356788,
          17.916434448202725,
          18.593401508326927,
          18.246798986339414,
          18.58387358076919,
          18.278777971401237,
          18.173174893524145,
          17.837652703865658,
          17.467214954069238,
          17.667293529772017,
          16.969094421998534,
          16.63589198576401,
          16.179574151601877,
          16.42888691292807,
          16.467468123247475,
          16.337208241528604,
          15.84751975580814,
          16.237331395214063,
          16.444836041889648,
          16.292769759748424,
          16.06353149405532,
          16.547709298555564,
          16.627931771661007,
          16.771833872024988,
          16.575629113546437,
          16.800174985919803,
          16.58686360101829,
          16.468280178554352,
          16.452791505828404,
          16.847409137588688
         ],
         "yaxis": "y"
        },
        {
         "alignmentgroup": "True",
         "bingroup": "x",
         "histfunc": "sum",
         "hovertemplate": "variable=Nuclear (% electricity)<br>Year=%{x}<br>sum of value=%{y}<extra></extra>",
         "legendgroup": "Nuclear (% electricity)",
         "marker": {
          "color": "#EF553B",
          "pattern": {
           "shape": ""
          }
         },
         "name": "Nuclear (% electricity)",
         "nbinsx": 100,
         "offsetgroup": "Nuclear (% electricity)",
         "orientation": "v",
         "showlegend": true,
         "type": "histogram",
         "x": [
          1985,
          1986,
          1987,
          1988,
          1989,
          1990,
          1991,
          1992,
          1993,
          1994,
          1995,
          1996,
          1997,
          1998,
          1999,
          2000,
          2001,
          2002,
          2003,
          2004,
          2005,
          2006,
          2007,
          2008,
          2009,
          2010,
          2011,
          2012,
          2013,
          2014,
          2015,
          2016,
          2017,
          2018,
          2019,
          2020
         ],
         "xaxis": "x",
         "y": [
          15.071231384259509,
          15.674568698527953,
          16.266658921608094,
          16.987066658144855,
          16.689684084156717,
          16.729900261073023,
          17.155709663152653,
          17.129848196744884,
          17.35117503169202,
          17.232316666921786,
          17.363426589231192,
          17.45423511597042,
          16.92775620501459,
          16.765014232959356,
          16.922118020051737,
          16.897195869337107,
          17.068529913631263,
          16.675164826182197,
          15.961525392926768,
          15.8233827556353,
          15.290486503802525,
          14.874632112816514,
          13.89886729414733,
          13.631737751058056,
          13.481521741682108,
          12.903802323582855,
          11.956703201167056,
          10.92632780236347,
          10.711287703917062,
          10.73093322981236,
          10.706560331787015,
          10.5671347570513,
          10.35389066998084,
          10.22861966268875,
          10.5046134617379,
          10.122323511042284
         ],
         "yaxis": "y"
        },
        {
         "alignmentgroup": "True",
         "bingroup": "x",
         "histfunc": "sum",
         "hovertemplate": "variable=Wind (% electricity)<br>Year=%{x}<br>sum of value=%{y}<extra></extra>",
         "legendgroup": "Wind (% electricity)",
         "marker": {
          "color": "#00cc96",
          "pattern": {
           "shape": ""
          }
         },
         "name": "Wind (% electricity)",
         "nbinsx": 100,
         "offsetgroup": "Wind (% electricity)",
         "orientation": "v",
         "showlegend": true,
         "type": "histogram",
         "x": [
          1985,
          1986,
          1987,
          1988,
          1989,
          1990,
          1991,
          1992,
          1993,
          1994,
          1995,
          1996,
          1997,
          1998,
          1999,
          2000,
          2001,
          2002,
          2003,
          2004,
          2005,
          2006,
          2007,
          2008,
          2009,
          2010,
          2011,
          2012,
          2013,
          2014,
          2015,
          2016,
          2017,
          2018,
          2019,
          2020
         ],
         "xaxis": "x",
         "y": [
          0.0006500526957456,
          0.0013645652422091,
          0.001832055441334,
          0.0029782262070905,
          0.0227371190006766,
          0.0303784169381305,
          0.033446808144156,
          0.0383881540767215,
          0.045248230785169,
          0.0551451785484687,
          0.0617703882389957,
          0.0667521995439574,
          0.0851092592779253,
          0.1097813208248946,
          0.1422231335752603,
          0.2130266647871909,
          0.2554755912875265,
          0.3388311959643256,
          0.4018299306529369,
          0.5025617138807723,
          0.5979321221556558,
          0.7260789483206641,
          0.8951278447945308,
          1.1286810986301652,
          1.4328300456261287,
          1.6672873177310497,
          2.048887244900266,
          2.4218366931195816,
          2.853810685514823,
          3.1395970327959404,
          3.554301803343768,
          4.008043443951022,
          4.619665513626236,
          4.953471420499797,
          5.470879075727184,
          6.15162249512968
         ],
         "yaxis": "y"
        },
        {
         "alignmentgroup": "True",
         "bingroup": "x",
         "histfunc": "sum",
         "hovertemplate": "variable=Solar (% electricity)<br>Year=%{x}<br>sum of value=%{y}<extra></extra>",
         "legendgroup": "Solar (% electricity)",
         "marker": {
          "color": "#ab63fa",
          "pattern": {
           "shape": ""
          }
         },
         "name": "Solar (% electricity)",
         "nbinsx": 100,
         "offsetgroup": "Solar (% electricity)",
         "orientation": "v",
         "showlegend": true,
         "type": "histogram",
         "x": [
          1985,
          1986,
          1987,
          1988,
          1989,
          1990,
          1991,
          1992,
          1993,
          1994,
          1995,
          1996,
          1997,
          1998,
          1999,
          2000,
          2001,
          2002,
          2003,
          2004,
          2005,
          2006,
          2007,
          2008,
          2009,
          2010,
          2011,
          2012,
          2013,
          2014,
          2015,
          2016,
          2017,
          2018,
          2019,
          2020
         ],
         "xaxis": "x",
         "y": [
          0.0001189108341944,
          0.0001492410979224,
          0.0000994250186702,
          0.0000915793889181,
          0.0022500766489949,
          0.0032473177149642,
          0.0041347287463706,
          0.0038004038885521,
          0.0044211099231453,
          0.0046452619568567,
          0.00479105334079,
          0.0051142015825181,
          0.0053580757693217,
          0.0057354059714314,
          0.0061417479836986,
          0.0072328549731957,
          0.0089160015164925,
          0.0110266580026868,
          0.0130301552380669,
          0.0164322309065122,
          0.0219523055624972,
          0.0283303436452744,
          0.0365917110178466,
          0.0588023377801188,
          0.1001963003485066,
          0.1468599765050378,
          0.279095346040958,
          0.436168105124879,
          0.5869172466751521,
          0.8583480585899391,
          1.0923410759391183,
          1.3774634123647191,
          1.804265284462097,
          2.2414612381822594,
          2.7182585916058555,
          3.266493589375951
         ],
         "yaxis": "y"
        },
        {
         "alignmentgroup": "True",
         "bingroup": "x",
         "histfunc": "sum",
         "hovertemplate": "variable=Coal (% electricity)<br>Year=%{x}<br>sum of value=%{y}<extra></extra>",
         "legendgroup": "Coal (% electricity)",
         "marker": {
          "color": "#FFA15A",
          "pattern": {
           "shape": ""
          }
         },
         "name": "Coal (% electricity)",
         "nbinsx": 100,
         "offsetgroup": "Coal (% electricity)",
         "orientation": "v",
         "showlegend": true,
         "type": "histogram",
         "x": [
          1985,
          1986,
          1987,
          1988,
          1989,
          1990,
          1991,
          1992,
          1993,
          1994,
          1995,
          1996,
          1997,
          1998,
          1999,
          2000,
          2001,
          2002,
          2003,
          2004,
          2005,
          2006,
          2007,
          2008,
          2009,
          2010,
          2011,
          2012,
          2013,
          2014,
          2015,
          2016,
          2017,
          2018,
          2019,
          2020
         ],
         "xaxis": "x",
         "y": [
          37.93446962756681,
          37.72614538980499,
          38.04529586052022,
          37.71690205730779,
          37.559033094927976,
          37.30237895351607,
          37.29876285281756,
          37.7177794670188,
          37.54112181615066,
          37.87930970085972,
          37.67729678008902,
          38.290744096046815,
          38.21221343136502,
          37.97436067688849,
          37.72015603208478,
          37.72808188028088,
          37.783042544281706,
          38.047847493001534,
          39.1161488222124,
          38.732095192154695,
          39.00391360125286,
          39.677980740068165,
          40.400485601864816,
          39.82442612180381,
          39.46599195820568,
          39.65377539378611,
          40.27779165468242,
          39.33153016633087,
          40.058332468473246,
          39.33628373171245,
          37.76737882334748,
          36.6881349052289,
          36.66696351943092,
          36.56297967745374,
          35.06444088904937,
          33.79429912643198
         ],
         "yaxis": "y"
        },
        {
         "alignmentgroup": "True",
         "bingroup": "x",
         "histfunc": "sum",
         "hovertemplate": "variable=Gas (% electricity)<br>Year=%{x}<br>sum of value=%{y}<extra></extra>",
         "legendgroup": "Gas (% electricity)",
         "marker": {
          "color": "#19d3f3",
          "pattern": {
           "shape": ""
          }
         },
         "name": "Gas (% electricity)",
         "nbinsx": 100,
         "offsetgroup": "Gas (% electricity)",
         "orientation": "v",
         "showlegend": true,
         "type": "histogram",
         "x": [
          1985,
          1986,
          1987,
          1988,
          1989,
          1990,
          1991,
          1992,
          1993,
          1994,
          1995,
          1996,
          1997,
          1998,
          1999,
          2000,
          2001,
          2002,
          2003,
          2004,
          2005,
          2006,
          2007,
          2008,
          2009,
          2010,
          2011,
          2012,
          2013,
          2014,
          2015,
          2016,
          2017,
          2018,
          2019,
          2020
         ],
         "xaxis": "x",
         "y": [
          14.397493017048005,
          14.04318117466073,
          14.186852422495166,
          13.801174452965896,
          14.796553892628127,
          14.92871038824245,
          14.822333058366704,
          14.784222171021923,
          14.742770353799555,
          14.844370048240512,
          15.162945080182086,
          15.158781433064494,
          15.993153891612003,
          16.510015403858223,
          17.341245560467158,
          18.01434841969932,
          18.72156066229112,
          19.37729894737918,
          19.528654784884885,
          20.06129312154304,
          20.261690036679024,
          20.60379243734538,
          21.243051893765976,
          21.56722668950484,
          21.719361078766465,
          22.300866263458914,
          21.91820698179937,
          22.61681133774838,
          21.553374847035894,
          21.72861827314301,
          22.80503600707808,
          23.05661731823608,
          22.87398800089201,
          22.470470099105302,
          22.946551840880783,
          22.794806056430623
         ],
         "yaxis": "y"
        },
        {
         "alignmentgroup": "True",
         "bingroup": "x",
         "histfunc": "sum",
         "hovertemplate": "variable=Oil (% electricity)<br>Year=%{x}<br>sum of value=%{y}<extra></extra>",
         "legendgroup": "Oil (% electricity)",
         "marker": {
          "color": "#FF6692",
          "pattern": {
           "shape": ""
          }
         },
         "name": "Oil (% electricity)",
         "nbinsx": 100,
         "offsetgroup": "Oil (% electricity)",
         "orientation": "v",
         "showlegend": true,
         "type": "histogram",
         "x": [
          1985,
          1986,
          1987,
          1988,
          1989,
          1990,
          1991,
          1992,
          1993,
          1994,
          1995,
          1996,
          1997,
          1998,
          1999,
          2000,
          2001,
          2002,
          2003,
          2004,
          2005,
          2006,
          2007,
          2008,
          2009,
          2010,
          2011,
          2012,
          2013,
          2014,
          2015,
          2016,
          2017,
          2018,
          2019,
          2020
         ],
         "xaxis": "x",
         "y": [
          11.2231535513803,
          11.462996968980626,
          11.074492166727406,
          11.265927248282772,
          11.555905084167184,
          11.411992335233633,
          11.047040024187272,
          10.767935472716628,
          10.05288424650534,
          10.07527867913295,
          9.411828853055106,
          9.026541124725368,
          8.812082204876889,
          8.928579046855056,
          8.492827453121325,
          7.985519631109347,
          7.743789893806194,
          7.416157693799335,
          7.276546448860058,
          6.89458084946057,
          6.755894836866299,
          6.1346503875684375,
          6.043752969053967,
          5.807208151574094,
          5.51899052683202,
          5.080882653414017,
          5.452089891475212,
          5.589541001124966,
          5.373047943728634,
          5.08240343912862,
          5.102174804669978,
          5.026452319426282,
          4.562144680846296,
          4.477462829641916,
          4.205852972272212,
          4.3651717695667855
         ],
         "yaxis": "y"
        }
       ],
       "layout": {
        "barmode": "relative",
        "legend": {
         "title": {
          "text": "variable"
         },
         "tracegroupgap": 0
        },
        "margin": {
         "t": 60
        },
        "template": {
         "data": {
          "bar": [
           {
            "error_x": {
             "color": "#2a3f5f"
            },
            "error_y": {
             "color": "#2a3f5f"
            },
            "marker": {
             "line": {
              "color": "#E5ECF6",
              "width": 0.5
             },
             "pattern": {
              "fillmode": "overlay",
              "size": 10,
              "solidity": 0.2
             }
            },
            "type": "bar"
           }
          ],
          "barpolar": [
           {
            "marker": {
             "line": {
              "color": "#E5ECF6",
              "width": 0.5
             },
             "pattern": {
              "fillmode": "overlay",
              "size": 10,
              "solidity": 0.2
             }
            },
            "type": "barpolar"
           }
          ],
          "carpet": [
           {
            "aaxis": {
             "endlinecolor": "#2a3f5f",
             "gridcolor": "white",
             "linecolor": "white",
             "minorgridcolor": "white",
             "startlinecolor": "#2a3f5f"
            },
            "baxis": {
             "endlinecolor": "#2a3f5f",
             "gridcolor": "white",
             "linecolor": "white",
             "minorgridcolor": "white",
             "startlinecolor": "#2a3f5f"
            },
            "type": "carpet"
           }
          ],
          "choropleth": [
           {
            "colorbar": {
             "outlinewidth": 0,
             "ticks": ""
            },
            "type": "choropleth"
           }
          ],
          "contour": [
           {
            "colorbar": {
             "outlinewidth": 0,
             "ticks": ""
            },
            "colorscale": [
             [
              0,
              "#0d0887"
             ],
             [
              0.1111111111111111,
              "#46039f"
             ],
             [
              0.2222222222222222,
              "#7201a8"
             ],
             [
              0.3333333333333333,
              "#9c179e"
             ],
             [
              0.4444444444444444,
              "#bd3786"
             ],
             [
              0.5555555555555556,
              "#d8576b"
             ],
             [
              0.6666666666666666,
              "#ed7953"
             ],
             [
              0.7777777777777778,
              "#fb9f3a"
             ],
             [
              0.8888888888888888,
              "#fdca26"
             ],
             [
              1,
              "#f0f921"
             ]
            ],
            "type": "contour"
           }
          ],
          "contourcarpet": [
           {
            "colorbar": {
             "outlinewidth": 0,
             "ticks": ""
            },
            "type": "contourcarpet"
           }
          ],
          "heatmap": [
           {
            "colorbar": {
             "outlinewidth": 0,
             "ticks": ""
            },
            "colorscale": [
             [
              0,
              "#0d0887"
             ],
             [
              0.1111111111111111,
              "#46039f"
             ],
             [
              0.2222222222222222,
              "#7201a8"
             ],
             [
              0.3333333333333333,
              "#9c179e"
             ],
             [
              0.4444444444444444,
              "#bd3786"
             ],
             [
              0.5555555555555556,
              "#d8576b"
             ],
             [
              0.6666666666666666,
              "#ed7953"
             ],
             [
              0.7777777777777778,
              "#fb9f3a"
             ],
             [
              0.8888888888888888,
              "#fdca26"
             ],
             [
              1,
              "#f0f921"
             ]
            ],
            "type": "heatmap"
           }
          ],
          "heatmapgl": [
           {
            "colorbar": {
             "outlinewidth": 0,
             "ticks": ""
            },
            "colorscale": [
             [
              0,
              "#0d0887"
             ],
             [
              0.1111111111111111,
              "#46039f"
             ],
             [
              0.2222222222222222,
              "#7201a8"
             ],
             [
              0.3333333333333333,
              "#9c179e"
             ],
             [
              0.4444444444444444,
              "#bd3786"
             ],
             [
              0.5555555555555556,
              "#d8576b"
             ],
             [
              0.6666666666666666,
              "#ed7953"
             ],
             [
              0.7777777777777778,
              "#fb9f3a"
             ],
             [
              0.8888888888888888,
              "#fdca26"
             ],
             [
              1,
              "#f0f921"
             ]
            ],
            "type": "heatmapgl"
           }
          ],
          "histogram": [
           {
            "marker": {
             "pattern": {
              "fillmode": "overlay",
              "size": 10,
              "solidity": 0.2
             }
            },
            "type": "histogram"
           }
          ],
          "histogram2d": [
           {
            "colorbar": {
             "outlinewidth": 0,
             "ticks": ""
            },
            "colorscale": [
             [
              0,
              "#0d0887"
             ],
             [
              0.1111111111111111,
              "#46039f"
             ],
             [
              0.2222222222222222,
              "#7201a8"
             ],
             [
              0.3333333333333333,
              "#9c179e"
             ],
             [
              0.4444444444444444,
              "#bd3786"
             ],
             [
              0.5555555555555556,
              "#d8576b"
             ],
             [
              0.6666666666666666,
              "#ed7953"
             ],
             [
              0.7777777777777778,
              "#fb9f3a"
             ],
             [
              0.8888888888888888,
              "#fdca26"
             ],
             [
              1,
              "#f0f921"
             ]
            ],
            "type": "histogram2d"
           }
          ],
          "histogram2dcontour": [
           {
            "colorbar": {
             "outlinewidth": 0,
             "ticks": ""
            },
            "colorscale": [
             [
              0,
              "#0d0887"
             ],
             [
              0.1111111111111111,
              "#46039f"
             ],
             [
              0.2222222222222222,
              "#7201a8"
             ],
             [
              0.3333333333333333,
              "#9c179e"
             ],
             [
              0.4444444444444444,
              "#bd3786"
             ],
             [
              0.5555555555555556,
              "#d8576b"
             ],
             [
              0.6666666666666666,
              "#ed7953"
             ],
             [
              0.7777777777777778,
              "#fb9f3a"
             ],
             [
              0.8888888888888888,
              "#fdca26"
             ],
             [
              1,
              "#f0f921"
             ]
            ],
            "type": "histogram2dcontour"
           }
          ],
          "mesh3d": [
           {
            "colorbar": {
             "outlinewidth": 0,
             "ticks": ""
            },
            "type": "mesh3d"
           }
          ],
          "parcoords": [
           {
            "line": {
             "colorbar": {
              "outlinewidth": 0,
              "ticks": ""
             }
            },
            "type": "parcoords"
           }
          ],
          "pie": [
           {
            "automargin": true,
            "type": "pie"
           }
          ],
          "scatter": [
           {
            "fillpattern": {
             "fillmode": "overlay",
             "size": 10,
             "solidity": 0.2
            },
            "type": "scatter"
           }
          ],
          "scatter3d": [
           {
            "line": {
             "colorbar": {
              "outlinewidth": 0,
              "ticks": ""
             }
            },
            "marker": {
             "colorbar": {
              "outlinewidth": 0,
              "ticks": ""
             }
            },
            "type": "scatter3d"
           }
          ],
          "scattercarpet": [
           {
            "marker": {
             "colorbar": {
              "outlinewidth": 0,
              "ticks": ""
             }
            },
            "type": "scattercarpet"
           }
          ],
          "scattergeo": [
           {
            "marker": {
             "colorbar": {
              "outlinewidth": 0,
              "ticks": ""
             }
            },
            "type": "scattergeo"
           }
          ],
          "scattergl": [
           {
            "marker": {
             "colorbar": {
              "outlinewidth": 0,
              "ticks": ""
             }
            },
            "type": "scattergl"
           }
          ],
          "scattermapbox": [
           {
            "marker": {
             "colorbar": {
              "outlinewidth": 0,
              "ticks": ""
             }
            },
            "type": "scattermapbox"
           }
          ],
          "scatterpolar": [
           {
            "marker": {
             "colorbar": {
              "outlinewidth": 0,
              "ticks": ""
             }
            },
            "type": "scatterpolar"
           }
          ],
          "scatterpolargl": [
           {
            "marker": {
             "colorbar": {
              "outlinewidth": 0,
              "ticks": ""
             }
            },
            "type": "scatterpolargl"
           }
          ],
          "scatterternary": [
           {
            "marker": {
             "colorbar": {
              "outlinewidth": 0,
              "ticks": ""
             }
            },
            "type": "scatterternary"
           }
          ],
          "surface": [
           {
            "colorbar": {
             "outlinewidth": 0,
             "ticks": ""
            },
            "colorscale": [
             [
              0,
              "#0d0887"
             ],
             [
              0.1111111111111111,
              "#46039f"
             ],
             [
              0.2222222222222222,
              "#7201a8"
             ],
             [
              0.3333333333333333,
              "#9c179e"
             ],
             [
              0.4444444444444444,
              "#bd3786"
             ],
             [
              0.5555555555555556,
              "#d8576b"
             ],
             [
              0.6666666666666666,
              "#ed7953"
             ],
             [
              0.7777777777777778,
              "#fb9f3a"
             ],
             [
              0.8888888888888888,
              "#fdca26"
             ],
             [
              1,
              "#f0f921"
             ]
            ],
            "type": "surface"
           }
          ],
          "table": [
           {
            "cells": {
             "fill": {
              "color": "#EBF0F8"
             },
             "line": {
              "color": "white"
             }
            },
            "header": {
             "fill": {
              "color": "#C8D4E3"
             },
             "line": {
              "color": "white"
             }
            },
            "type": "table"
           }
          ]
         },
         "layout": {
          "annotationdefaults": {
           "arrowcolor": "#2a3f5f",
           "arrowhead": 0,
           "arrowwidth": 1
          },
          "autotypenumbers": "strict",
          "coloraxis": {
           "colorbar": {
            "outlinewidth": 0,
            "ticks": ""
           }
          },
          "colorscale": {
           "diverging": [
            [
             0,
             "#8e0152"
            ],
            [
             0.1,
             "#c51b7d"
            ],
            [
             0.2,
             "#de77ae"
            ],
            [
             0.3,
             "#f1b6da"
            ],
            [
             0.4,
             "#fde0ef"
            ],
            [
             0.5,
             "#f7f7f7"
            ],
            [
             0.6,
             "#e6f5d0"
            ],
            [
             0.7,
             "#b8e186"
            ],
            [
             0.8,
             "#7fbc41"
            ],
            [
             0.9,
             "#4d9221"
            ],
            [
             1,
             "#276419"
            ]
           ],
           "sequential": [
            [
             0,
             "#0d0887"
            ],
            [
             0.1111111111111111,
             "#46039f"
            ],
            [
             0.2222222222222222,
             "#7201a8"
            ],
            [
             0.3333333333333333,
             "#9c179e"
            ],
            [
             0.4444444444444444,
             "#bd3786"
            ],
            [
             0.5555555555555556,
             "#d8576b"
            ],
            [
             0.6666666666666666,
             "#ed7953"
            ],
            [
             0.7777777777777778,
             "#fb9f3a"
            ],
            [
             0.8888888888888888,
             "#fdca26"
            ],
            [
             1,
             "#f0f921"
            ]
           ],
           "sequentialminus": [
            [
             0,
             "#0d0887"
            ],
            [
             0.1111111111111111,
             "#46039f"
            ],
            [
             0.2222222222222222,
             "#7201a8"
            ],
            [
             0.3333333333333333,
             "#9c179e"
            ],
            [
             0.4444444444444444,
             "#bd3786"
            ],
            [
             0.5555555555555556,
             "#d8576b"
            ],
            [
             0.6666666666666666,
             "#ed7953"
            ],
            [
             0.7777777777777778,
             "#fb9f3a"
            ],
            [
             0.8888888888888888,
             "#fdca26"
            ],
            [
             1,
             "#f0f921"
            ]
           ]
          },
          "colorway": [
           "#636efa",
           "#EF553B",
           "#00cc96",
           "#ab63fa",
           "#FFA15A",
           "#19d3f3",
           "#FF6692",
           "#B6E880",
           "#FF97FF",
           "#FECB52"
          ],
          "font": {
           "color": "#2a3f5f"
          },
          "geo": {
           "bgcolor": "white",
           "lakecolor": "white",
           "landcolor": "#E5ECF6",
           "showlakes": true,
           "showland": true,
           "subunitcolor": "white"
          },
          "hoverlabel": {
           "align": "left"
          },
          "hovermode": "closest",
          "mapbox": {
           "style": "light"
          },
          "paper_bgcolor": "white",
          "plot_bgcolor": "#E5ECF6",
          "polar": {
           "angularaxis": {
            "gridcolor": "white",
            "linecolor": "white",
            "ticks": ""
           },
           "bgcolor": "#E5ECF6",
           "radialaxis": {
            "gridcolor": "white",
            "linecolor": "white",
            "ticks": ""
           }
          },
          "scene": {
           "xaxis": {
            "backgroundcolor": "#E5ECF6",
            "gridcolor": "white",
            "gridwidth": 2,
            "linecolor": "white",
            "showbackground": true,
            "ticks": "",
            "zerolinecolor": "white"
           },
           "yaxis": {
            "backgroundcolor": "#E5ECF6",
            "gridcolor": "white",
            "gridwidth": 2,
            "linecolor": "white",
            "showbackground": true,
            "ticks": "",
            "zerolinecolor": "white"
           },
           "zaxis": {
            "backgroundcolor": "#E5ECF6",
            "gridcolor": "white",
            "gridwidth": 2,
            "linecolor": "white",
            "showbackground": true,
            "ticks": "",
            "zerolinecolor": "white"
           }
          },
          "shapedefaults": {
           "line": {
            "color": "#2a3f5f"
           }
          },
          "ternary": {
           "aaxis": {
            "gridcolor": "white",
            "linecolor": "white",
            "ticks": ""
           },
           "baxis": {
            "gridcolor": "white",
            "linecolor": "white",
            "ticks": ""
           },
           "bgcolor": "#E5ECF6",
           "caxis": {
            "gridcolor": "white",
            "linecolor": "white",
            "ticks": ""
           }
          },
          "title": {
           "x": 0.05
          },
          "xaxis": {
           "automargin": true,
           "gridcolor": "white",
           "linecolor": "white",
           "ticks": "",
           "title": {
            "standoff": 15
           },
           "zerolinecolor": "white",
           "zerolinewidth": 2
          },
          "yaxis": {
           "automargin": true,
           "gridcolor": "white",
           "linecolor": "white",
           "ticks": "",
           "title": {
            "standoff": 15
           },
           "zerolinecolor": "white",
           "zerolinewidth": 2
          }
         }
        },
        "xaxis": {
         "anchor": "y",
         "domain": [
          0,
          1
         ],
         "title": {
          "text": "Year"
         }
        },
        "yaxis": {
         "anchor": "x",
         "domain": [
          0,
          1
         ],
         "title": {
          "text": "sum of value"
         }
        }
       }
      }
     },
     "metadata": {},
     "output_type": "display_data"
    }
   ],
   "source": [
    "worldprod = prodbysource[prodbysource[\"Entity\"] == \"World\"]\n",
    "worldprod[\"Hydro (% electricity)\"]\n",
    "plx.histogram(worldprod,x=\"Year\",y=[\"Hydro (% electricity)\", \"Nuclear (% electricity)\", \n",
    "\"Wind (% electricity)\", \"Solar (% electricity)\", \"Coal (% electricity)\", \"Gas (% electricity)\"\n",
    ",\"Oil (% electricity)\"], nbins=100)\n"
   ]
  },
  {
   "cell_type": "code",
   "execution_count": 10,
   "metadata": {},
   "outputs": [
    {
     "data": {
      "application/vnd.plotly.v1+json": {
       "config": {
        "plotlyServerURL": "https://plot.ly"
       },
       "data": [
        {
         "alignmentgroup": "True",
         "bingroup": "x",
         "histfunc": "sum",
         "hovertemplate": "variable=Hydro (% electricity)<br>Year=%{x}<br>sum of value=%{y}<extra></extra>",
         "legendgroup": "Hydro (% electricity)",
         "marker": {
          "color": "#636efa",
          "pattern": {
           "shape": ""
          }
         },
         "name": "Hydro (% electricity)",
         "nbinsx": 100,
         "offsetgroup": "Hydro (% electricity)",
         "orientation": "v",
         "showlegend": true,
         "type": "histogram",
         "x": [
          1985,
          1986,
          1987,
          1988,
          1989,
          1990,
          1991,
          1992,
          1993,
          1994,
          1995,
          1996,
          1997,
          1998,
          1999,
          2000,
          2001,
          2002,
          2003,
          2004,
          2005,
          2006,
          2007,
          2008,
          2009,
          2010,
          2011,
          2012,
          2013,
          2014,
          2015,
          2016,
          2017,
          2018,
          2019,
          2020
         ],
         "xaxis": "x",
         "y": [
          22.123398298697104,
          21.367441376800294,
          19.617921061517983,
          19.982216632852072,
          16.159905100830365,
          14.581517905307273,
          19.023063308127774,
          18.65251079591413,
          18.5939099053809,
          19.265496995293415,
          15.646016233228424,
          17.193679930958606,
          16.544448067700092,
          15.868432905632488,
          17.07653101555766,
          16.42155577495659,
          17.26853416332682,
          14.279086150811654,
          12.849057887886426,
          14.360228946495972,
          12.196020304321117,
          12.06346686762146,
          10.681996226187357,
          13.319039604771794,
          17.08698960995556,
          17.15934631212571,
          15.287567474113125,
          14.12397514361556,
          18.38296642545069,
          21.102801346670468,
          16.20812535658019,
          14.77450410530892,
          12.340530333690362,
          16.97635061249673,
          16.156078259170744,
          17.461924301013664
         ],
         "yaxis": "y"
        },
        {
         "alignmentgroup": "True",
         "bingroup": "x",
         "histfunc": "sum",
         "hovertemplate": "variable=Nuclear (% electricity)<br>Year=%{x}<br>sum of value=%{y}<extra></extra>",
         "legendgroup": "Nuclear (% electricity)",
         "marker": {
          "color": "#EF553B",
          "pattern": {
           "shape": ""
          }
         },
         "name": "Nuclear (% electricity)",
         "nbinsx": 100,
         "offsetgroup": "Nuclear (% electricity)",
         "orientation": "v",
         "showlegend": true,
         "type": "histogram",
         "x": [
          1985,
          1986,
          1987,
          1988,
          1989,
          1990,
          1991,
          1992,
          1993,
          1994,
          1995,
          1996,
          1997,
          1998,
          1999,
          2000,
          2001,
          2002,
          2003,
          2004,
          2005,
          2006,
          2007,
          2008,
          2009,
          2010,
          2011,
          2012,
          2013,
          2014,
          2015,
          2016,
          2017,
          2018,
          2019,
          2020
         ],
         "xaxis": "x",
         "y": [
          3.7816302358135023,
          4.553631778713668,
          0.0864072462904475,
          0,
          0,
          0,
          0,
          0,
          0,
          0,
          0,
          0,
          0,
          0,
          0,
          0,
          0,
          0,
          0,
          0,
          0,
          0,
          0,
          0,
          0,
          0,
          0,
          0,
          0,
          0,
          0,
          0,
          0,
          0,
          0,
          0
         ],
         "yaxis": "y"
        },
        {
         "alignmentgroup": "True",
         "bingroup": "x",
         "histfunc": "sum",
         "hovertemplate": "variable=Wind (% electricity)<br>Year=%{x}<br>sum of value=%{y}<extra></extra>",
         "legendgroup": "Wind (% electricity)",
         "marker": {
          "color": "#00cc96",
          "pattern": {
           "shape": ""
          }
         },
         "name": "Wind (% electricity)",
         "nbinsx": 100,
         "offsetgroup": "Wind (% electricity)",
         "orientation": "v",
         "showlegend": true,
         "type": "histogram",
         "x": [
          1985,
          1986,
          1987,
          1988,
          1989,
          1990,
          1991,
          1992,
          1993,
          1994,
          1995,
          1996,
          1997,
          1998,
          1999,
          2000,
          2001,
          2002,
          2003,
          2004,
          2005,
          2006,
          2007,
          2008,
          2009,
          2010,
          2011,
          2012,
          2013,
          2014,
          2015,
          2016,
          2017,
          2018,
          2019,
          2020
         ],
         "xaxis": "x",
         "y": [
          0,
          0,
          0,
          0,
          0.0009489916963226,
          0.0008848647477304,
          0.0012965119054589,
          0.0008482879028301,
          0.0017228863314002,
          0.0028977933849001,
          0.0035764303461984,
          0.0129520788086269,
          0.0469255792127637,
          0.0893128683674608,
          0.1516993717462743,
          0.209173117267139,
          0.4349387532638898,
          0.5072915646994964,
          0.5108816083136112,
          0.6263140912806613,
          0.7924239155546969,
          0.9687263332187354,
          1.3132625172175405,
          1.5555855146858946,
          2.275203351942295,
          3.063472237367411,
          3.2883249744741603,
          4.522087459311169,
          5.189174436990747,
          5.471047023254669,
          5.283391273371326,
          6.159097623309644,
          6.048407973435353,
          6.164839153522504,
          7.002777680223213,
          6.879950160622264
         ],
         "yaxis": "y"
        },
        {
         "alignmentgroup": "True",
         "bingroup": "x",
         "histfunc": "sum",
         "hovertemplate": "variable=Solar (% electricity)<br>Year=%{x}<br>sum of value=%{y}<extra></extra>",
         "legendgroup": "Solar (% electricity)",
         "marker": {
          "color": "#ab63fa",
          "pattern": {
           "shape": ""
          }
         },
         "name": "Solar (% electricity)",
         "nbinsx": 100,
         "offsetgroup": "Solar (% electricity)",
         "orientation": "v",
         "showlegend": true,
         "type": "histogram",
         "x": [
          1985,
          1986,
          1987,
          1988,
          1989,
          1990,
          1991,
          1992,
          1993,
          1994,
          1995,
          1996,
          1997,
          1998,
          1999,
          2000,
          2001,
          2002,
          2003,
          2004,
          2005,
          2006,
          2007,
          2008,
          2009,
          2010,
          2011,
          2012,
          2013,
          2014,
          2015,
          2016,
          2017,
          2018,
          2019,
          2020
         ],
         "xaxis": "x",
         "y": [
          0,
          0,
          0,
          0,
          0.0009585774614472,
          0.0018442443439331,
          0.0022518363725618,
          0.0039780236294603,
          0.0049374293049894,
          0.0047454088169695,
          0.0053834686102368,
          0.0057261821498541,
          0.0059651160016225,
          0.0061595081632731,
          0.0063992290811083,
          0.0066875952234609,
          0.0070091911043374,
          0.0075876943437958,
          0.008409573799401,
          0.0098362664582445,
          0.0104826968784213,
          0.0114131424252435,
          0.0126799610131807,
          0.0617473739814465,
          0.2352384238641358,
          0.6397098425970722,
          3.6017141756888456,
          6.361870200684172,
          7.52013232041916,
          8.04036627482784,
          8.165827308840793,
          7.696581431612483,
          8.310624385825793,
          7.882922007891427,
          8.50250305378171,
          9.66256539409391
         ],
         "yaxis": "y"
        },
        {
         "alignmentgroup": "True",
         "bingroup": "x",
         "histfunc": "sum",
         "hovertemplate": "variable=Coal (% electricity)<br>Year=%{x}<br>sum of value=%{y}<extra></extra>",
         "legendgroup": "Coal (% electricity)",
         "marker": {
          "color": "#FFA15A",
          "pattern": {
           "shape": ""
          }
         },
         "name": "Coal (% electricity)",
         "nbinsx": 100,
         "offsetgroup": "Coal (% electricity)",
         "orientation": "v",
         "showlegend": true,
         "type": "histogram",
         "x": [
          1985,
          1986,
          1987,
          1988,
          1989,
          1990,
          1991,
          1992,
          1993,
          1994,
          1995,
          1996,
          1997,
          1998,
          1999,
          2000,
          2001,
          2002,
          2003,
          2004,
          2005,
          2006,
          2007,
          2008,
          2009,
          2010,
          2011,
          2012,
          2013,
          2014,
          2015,
          2016,
          2017,
          2018,
          2019,
          2020
         ],
         "xaxis": "x",
         "y": [
          16.163992677936903,
          16.120210055633546,
          16.404961960947894,
          16.652010945122104,
          15.120759193357056,
          16.411008294488937,
          14.416706824415307,
          10.967853149047706,
          8.246853510961094,
          9.87174454170136,
          11.415024018552264,
          10.357436470054113,
          9.8499972162792,
          10.712539603712644,
          10.624602400840184,
          9.760916761709195,
          11.705349144243616,
          12.807666733549183,
          13.60003282817297,
          15.438868160219837,
          14.745434841304498,
          14.415777152433272,
          14.359316104367542,
          13.783041688922063,
          13.820862901515458,
          13.338275215661232,
          14.921674835660315,
          16.574759069412124,
          15.711774855871123,
          15.663066398598287,
          15.376556240538442,
          12.398161595709936,
          11.123041132218182,
          9.906742911243734,
          6.778401615393073,
          5.435050016728122
         ],
         "yaxis": "y"
        },
        {
         "alignmentgroup": "True",
         "bingroup": "x",
         "histfunc": "sum",
         "hovertemplate": "variable=Gas (% electricity)<br>Year=%{x}<br>sum of value=%{y}<extra></extra>",
         "legendgroup": "Gas (% electricity)",
         "marker": {
          "color": "#19d3f3",
          "pattern": {
           "shape": ""
          }
         },
         "name": "Gas (% electricity)",
         "nbinsx": 100,
         "offsetgroup": "Gas (% electricity)",
         "orientation": "v",
         "showlegend": true,
         "type": "histogram",
         "x": [
          1985,
          1986,
          1987,
          1988,
          1989,
          1990,
          1991,
          1992,
          1993,
          1994,
          1995,
          1996,
          1997,
          1998,
          1999,
          2000,
          2001,
          2002,
          2003,
          2004,
          2005,
          2006,
          2007,
          2008,
          2009,
          2010,
          2011,
          2012,
          2013,
          2014,
          2015,
          2016,
          2017,
          2018,
          2019,
          2020
         ],
         "xaxis": "x",
         "y": [
          13.304619360396252,
          13.971299329277803,
          15.757900800508509,
          15.92642991535707,
          16.32597864768683,
          18.019189362398624,
          16.154674136758526,
          15.5443483334291,
          17.77295006912401,
          17.43031798553082,
          19.23223455358622,
          20.33817195724996,
          24.118554692160245,
          27.02984666674367,
          32.45425492270108,
          37.65859176944444,
          38.435452777827095,
          35.920145023529734,
          41.10179194457242,
          44.04035674958092,
          50.49515086335542,
          51.56751228530233,
          56.22014701371994,
          55.28416324542052,
          51.24168812627031,
          51.29700442896281,
          48.24138840689556,
          43.55828199959343,
          37.93642088966537,
          33.758460593434926,
          39.46486893447887,
          43.93239657522156,
          47.85145943375016,
          44.7338760574072,
          47.37355546902221,
          45.62895658516034
         ],
         "yaxis": "y"
        },
        {
         "alignmentgroup": "True",
         "bingroup": "x",
         "histfunc": "sum",
         "hovertemplate": "variable=Oil (% electricity)<br>Year=%{x}<br>sum of value=%{y}<extra></extra>",
         "legendgroup": "Oil (% electricity)",
         "marker": {
          "color": "#FF6692",
          "pattern": {
           "shape": ""
          }
         },
         "name": "Oil (% electricity)",
         "nbinsx": 100,
         "offsetgroup": "Oil (% electricity)",
         "orientation": "v",
         "showlegend": true,
         "type": "histogram",
         "x": [
          1985,
          1986,
          1987,
          1988,
          1989,
          1990,
          1991,
          1992,
          1993,
          1994,
          1995,
          1996,
          1997,
          1998,
          1999,
          2000,
          2001,
          2002,
          2003,
          2004,
          2005,
          2006,
          2007,
          2008,
          2009,
          2010,
          2011,
          2012,
          2013,
          2014,
          2015,
          2016,
          2017,
          2018,
          2019,
          2020
         ],
         "xaxis": "x",
         "y": [
          41.01109077204694,
          40.28648676753497,
          44.66410424488012,
          44.06639778739543,
          48.29655990510083,
          47.35973369111674,
          46.96745195707099,
          51.28114460999898,
          51.13336445409986,
          50.17709002903328,
          50.024846778201095,
          47.890515397294784,
          45.06128162505667,
          41.30912646625168,
          34.39736201191762,
          33.677199572175304,
          29.810143995752224,
          33.81488611398315,
          28.876564650699294,
          22.24854086788269,
          18.379373980511264,
          17.505400894649554,
          13.888419272759494,
          12.32079001874703,
          10.855148444256804,
          9.5290858389143,
          9.159549626180617,
          8.761764512942655,
          7.337653840935235,
          7.082780664819347,
          6.3999354826025,
          6.060778986656857,
          5.609477848679701,
          5.550425816193976,
          5.4973618034240745,
          5.769064559084343
         ],
         "yaxis": "y"
        }
       ],
       "layout": {
        "barmode": "relative",
        "legend": {
         "title": {
          "text": "variable"
         },
         "tracegroupgap": 0
        },
        "margin": {
         "t": 60
        },
        "template": {
         "data": {
          "bar": [
           {
            "error_x": {
             "color": "#2a3f5f"
            },
            "error_y": {
             "color": "#2a3f5f"
            },
            "marker": {
             "line": {
              "color": "#E5ECF6",
              "width": 0.5
             },
             "pattern": {
              "fillmode": "overlay",
              "size": 10,
              "solidity": 0.2
             }
            },
            "type": "bar"
           }
          ],
          "barpolar": [
           {
            "marker": {
             "line": {
              "color": "#E5ECF6",
              "width": 0.5
             },
             "pattern": {
              "fillmode": "overlay",
              "size": 10,
              "solidity": 0.2
             }
            },
            "type": "barpolar"
           }
          ],
          "carpet": [
           {
            "aaxis": {
             "endlinecolor": "#2a3f5f",
             "gridcolor": "white",
             "linecolor": "white",
             "minorgridcolor": "white",
             "startlinecolor": "#2a3f5f"
            },
            "baxis": {
             "endlinecolor": "#2a3f5f",
             "gridcolor": "white",
             "linecolor": "white",
             "minorgridcolor": "white",
             "startlinecolor": "#2a3f5f"
            },
            "type": "carpet"
           }
          ],
          "choropleth": [
           {
            "colorbar": {
             "outlinewidth": 0,
             "ticks": ""
            },
            "type": "choropleth"
           }
          ],
          "contour": [
           {
            "colorbar": {
             "outlinewidth": 0,
             "ticks": ""
            },
            "colorscale": [
             [
              0,
              "#0d0887"
             ],
             [
              0.1111111111111111,
              "#46039f"
             ],
             [
              0.2222222222222222,
              "#7201a8"
             ],
             [
              0.3333333333333333,
              "#9c179e"
             ],
             [
              0.4444444444444444,
              "#bd3786"
             ],
             [
              0.5555555555555556,
              "#d8576b"
             ],
             [
              0.6666666666666666,
              "#ed7953"
             ],
             [
              0.7777777777777778,
              "#fb9f3a"
             ],
             [
              0.8888888888888888,
              "#fdca26"
             ],
             [
              1,
              "#f0f921"
             ]
            ],
            "type": "contour"
           }
          ],
          "contourcarpet": [
           {
            "colorbar": {
             "outlinewidth": 0,
             "ticks": ""
            },
            "type": "contourcarpet"
           }
          ],
          "heatmap": [
           {
            "colorbar": {
             "outlinewidth": 0,
             "ticks": ""
            },
            "colorscale": [
             [
              0,
              "#0d0887"
             ],
             [
              0.1111111111111111,
              "#46039f"
             ],
             [
              0.2222222222222222,
              "#7201a8"
             ],
             [
              0.3333333333333333,
              "#9c179e"
             ],
             [
              0.4444444444444444,
              "#bd3786"
             ],
             [
              0.5555555555555556,
              "#d8576b"
             ],
             [
              0.6666666666666666,
              "#ed7953"
             ],
             [
              0.7777777777777778,
              "#fb9f3a"
             ],
             [
              0.8888888888888888,
              "#fdca26"
             ],
             [
              1,
              "#f0f921"
             ]
            ],
            "type": "heatmap"
           }
          ],
          "heatmapgl": [
           {
            "colorbar": {
             "outlinewidth": 0,
             "ticks": ""
            },
            "colorscale": [
             [
              0,
              "#0d0887"
             ],
             [
              0.1111111111111111,
              "#46039f"
             ],
             [
              0.2222222222222222,
              "#7201a8"
             ],
             [
              0.3333333333333333,
              "#9c179e"
             ],
             [
              0.4444444444444444,
              "#bd3786"
             ],
             [
              0.5555555555555556,
              "#d8576b"
             ],
             [
              0.6666666666666666,
              "#ed7953"
             ],
             [
              0.7777777777777778,
              "#fb9f3a"
             ],
             [
              0.8888888888888888,
              "#fdca26"
             ],
             [
              1,
              "#f0f921"
             ]
            ],
            "type": "heatmapgl"
           }
          ],
          "histogram": [
           {
            "marker": {
             "pattern": {
              "fillmode": "overlay",
              "size": 10,
              "solidity": 0.2
             }
            },
            "type": "histogram"
           }
          ],
          "histogram2d": [
           {
            "colorbar": {
             "outlinewidth": 0,
             "ticks": ""
            },
            "colorscale": [
             [
              0,
              "#0d0887"
             ],
             [
              0.1111111111111111,
              "#46039f"
             ],
             [
              0.2222222222222222,
              "#7201a8"
             ],
             [
              0.3333333333333333,
              "#9c179e"
             ],
             [
              0.4444444444444444,
              "#bd3786"
             ],
             [
              0.5555555555555556,
              "#d8576b"
             ],
             [
              0.6666666666666666,
              "#ed7953"
             ],
             [
              0.7777777777777778,
              "#fb9f3a"
             ],
             [
              0.8888888888888888,
              "#fdca26"
             ],
             [
              1,
              "#f0f921"
             ]
            ],
            "type": "histogram2d"
           }
          ],
          "histogram2dcontour": [
           {
            "colorbar": {
             "outlinewidth": 0,
             "ticks": ""
            },
            "colorscale": [
             [
              0,
              "#0d0887"
             ],
             [
              0.1111111111111111,
              "#46039f"
             ],
             [
              0.2222222222222222,
              "#7201a8"
             ],
             [
              0.3333333333333333,
              "#9c179e"
             ],
             [
              0.4444444444444444,
              "#bd3786"
             ],
             [
              0.5555555555555556,
              "#d8576b"
             ],
             [
              0.6666666666666666,
              "#ed7953"
             ],
             [
              0.7777777777777778,
              "#fb9f3a"
             ],
             [
              0.8888888888888888,
              "#fdca26"
             ],
             [
              1,
              "#f0f921"
             ]
            ],
            "type": "histogram2dcontour"
           }
          ],
          "mesh3d": [
           {
            "colorbar": {
             "outlinewidth": 0,
             "ticks": ""
            },
            "type": "mesh3d"
           }
          ],
          "parcoords": [
           {
            "line": {
             "colorbar": {
              "outlinewidth": 0,
              "ticks": ""
             }
            },
            "type": "parcoords"
           }
          ],
          "pie": [
           {
            "automargin": true,
            "type": "pie"
           }
          ],
          "scatter": [
           {
            "fillpattern": {
             "fillmode": "overlay",
             "size": 10,
             "solidity": 0.2
            },
            "type": "scatter"
           }
          ],
          "scatter3d": [
           {
            "line": {
             "colorbar": {
              "outlinewidth": 0,
              "ticks": ""
             }
            },
            "marker": {
             "colorbar": {
              "outlinewidth": 0,
              "ticks": ""
             }
            },
            "type": "scatter3d"
           }
          ],
          "scattercarpet": [
           {
            "marker": {
             "colorbar": {
              "outlinewidth": 0,
              "ticks": ""
             }
            },
            "type": "scattercarpet"
           }
          ],
          "scattergeo": [
           {
            "marker": {
             "colorbar": {
              "outlinewidth": 0,
              "ticks": ""
             }
            },
            "type": "scattergeo"
           }
          ],
          "scattergl": [
           {
            "marker": {
             "colorbar": {
              "outlinewidth": 0,
              "ticks": ""
             }
            },
            "type": "scattergl"
           }
          ],
          "scattermapbox": [
           {
            "marker": {
             "colorbar": {
              "outlinewidth": 0,
              "ticks": ""
             }
            },
            "type": "scattermapbox"
           }
          ],
          "scatterpolar": [
           {
            "marker": {
             "colorbar": {
              "outlinewidth": 0,
              "ticks": ""
             }
            },
            "type": "scatterpolar"
           }
          ],
          "scatterpolargl": [
           {
            "marker": {
             "colorbar": {
              "outlinewidth": 0,
              "ticks": ""
             }
            },
            "type": "scatterpolargl"
           }
          ],
          "scatterternary": [
           {
            "marker": {
             "colorbar": {
              "outlinewidth": 0,
              "ticks": ""
             }
            },
            "type": "scatterternary"
           }
          ],
          "surface": [
           {
            "colorbar": {
             "outlinewidth": 0,
             "ticks": ""
            },
            "colorscale": [
             [
              0,
              "#0d0887"
             ],
             [
              0.1111111111111111,
              "#46039f"
             ],
             [
              0.2222222222222222,
              "#7201a8"
             ],
             [
              0.3333333333333333,
              "#9c179e"
             ],
             [
              0.4444444444444444,
              "#bd3786"
             ],
             [
              0.5555555555555556,
              "#d8576b"
             ],
             [
              0.6666666666666666,
              "#ed7953"
             ],
             [
              0.7777777777777778,
              "#fb9f3a"
             ],
             [
              0.8888888888888888,
              "#fdca26"
             ],
             [
              1,
              "#f0f921"
             ]
            ],
            "type": "surface"
           }
          ],
          "table": [
           {
            "cells": {
             "fill": {
              "color": "#EBF0F8"
             },
             "line": {
              "color": "white"
             }
            },
            "header": {
             "fill": {
              "color": "#C8D4E3"
             },
             "line": {
              "color": "white"
             }
            },
            "type": "table"
           }
          ]
         },
         "layout": {
          "annotationdefaults": {
           "arrowcolor": "#2a3f5f",
           "arrowhead": 0,
           "arrowwidth": 1
          },
          "autotypenumbers": "strict",
          "coloraxis": {
           "colorbar": {
            "outlinewidth": 0,
            "ticks": ""
           }
          },
          "colorscale": {
           "diverging": [
            [
             0,
             "#8e0152"
            ],
            [
             0.1,
             "#c51b7d"
            ],
            [
             0.2,
             "#de77ae"
            ],
            [
             0.3,
             "#f1b6da"
            ],
            [
             0.4,
             "#fde0ef"
            ],
            [
             0.5,
             "#f7f7f7"
            ],
            [
             0.6,
             "#e6f5d0"
            ],
            [
             0.7,
             "#b8e186"
            ],
            [
             0.8,
             "#7fbc41"
            ],
            [
             0.9,
             "#4d9221"
            ],
            [
             1,
             "#276419"
            ]
           ],
           "sequential": [
            [
             0,
             "#0d0887"
            ],
            [
             0.1111111111111111,
             "#46039f"
            ],
            [
             0.2222222222222222,
             "#7201a8"
            ],
            [
             0.3333333333333333,
             "#9c179e"
            ],
            [
             0.4444444444444444,
             "#bd3786"
            ],
            [
             0.5555555555555556,
             "#d8576b"
            ],
            [
             0.6666666666666666,
             "#ed7953"
            ],
            [
             0.7777777777777778,
             "#fb9f3a"
            ],
            [
             0.8888888888888888,
             "#fdca26"
            ],
            [
             1,
             "#f0f921"
            ]
           ],
           "sequentialminus": [
            [
             0,
             "#0d0887"
            ],
            [
             0.1111111111111111,
             "#46039f"
            ],
            [
             0.2222222222222222,
             "#7201a8"
            ],
            [
             0.3333333333333333,
             "#9c179e"
            ],
            [
             0.4444444444444444,
             "#bd3786"
            ],
            [
             0.5555555555555556,
             "#d8576b"
            ],
            [
             0.6666666666666666,
             "#ed7953"
            ],
            [
             0.7777777777777778,
             "#fb9f3a"
            ],
            [
             0.8888888888888888,
             "#fdca26"
            ],
            [
             1,
             "#f0f921"
            ]
           ]
          },
          "colorway": [
           "#636efa",
           "#EF553B",
           "#00cc96",
           "#ab63fa",
           "#FFA15A",
           "#19d3f3",
           "#FF6692",
           "#B6E880",
           "#FF97FF",
           "#FECB52"
          ],
          "font": {
           "color": "#2a3f5f"
          },
          "geo": {
           "bgcolor": "white",
           "lakecolor": "white",
           "landcolor": "#E5ECF6",
           "showlakes": true,
           "showland": true,
           "subunitcolor": "white"
          },
          "hoverlabel": {
           "align": "left"
          },
          "hovermode": "closest",
          "mapbox": {
           "style": "light"
          },
          "paper_bgcolor": "white",
          "plot_bgcolor": "#E5ECF6",
          "polar": {
           "angularaxis": {
            "gridcolor": "white",
            "linecolor": "white",
            "ticks": ""
           },
           "bgcolor": "#E5ECF6",
           "radialaxis": {
            "gridcolor": "white",
            "linecolor": "white",
            "ticks": ""
           }
          },
          "scene": {
           "xaxis": {
            "backgroundcolor": "#E5ECF6",
            "gridcolor": "white",
            "gridwidth": 2,
            "linecolor": "white",
            "showbackground": true,
            "ticks": "",
            "zerolinecolor": "white"
           },
           "yaxis": {
            "backgroundcolor": "#E5ECF6",
            "gridcolor": "white",
            "gridwidth": 2,
            "linecolor": "white",
            "showbackground": true,
            "ticks": "",
            "zerolinecolor": "white"
           },
           "zaxis": {
            "backgroundcolor": "#E5ECF6",
            "gridcolor": "white",
            "gridwidth": 2,
            "linecolor": "white",
            "showbackground": true,
            "ticks": "",
            "zerolinecolor": "white"
           }
          },
          "shapedefaults": {
           "line": {
            "color": "#2a3f5f"
           }
          },
          "ternary": {
           "aaxis": {
            "gridcolor": "white",
            "linecolor": "white",
            "ticks": ""
           },
           "baxis": {
            "gridcolor": "white",
            "linecolor": "white",
            "ticks": ""
           },
           "bgcolor": "#E5ECF6",
           "caxis": {
            "gridcolor": "white",
            "linecolor": "white",
            "ticks": ""
           }
          },
          "title": {
           "x": 0.05
          },
          "xaxis": {
           "automargin": true,
           "gridcolor": "white",
           "linecolor": "white",
           "ticks": "",
           "title": {
            "standoff": 15
           },
           "zerolinecolor": "white",
           "zerolinewidth": 2
          },
          "yaxis": {
           "automargin": true,
           "gridcolor": "white",
           "linecolor": "white",
           "ticks": "",
           "title": {
            "standoff": 15
           },
           "zerolinecolor": "white",
           "zerolinewidth": 2
          }
         }
        },
        "xaxis": {
         "anchor": "y",
         "domain": [
          0,
          1
         ],
         "title": {
          "text": "Year"
         }
        },
        "yaxis": {
         "anchor": "x",
         "domain": [
          0,
          1
         ],
         "title": {
          "text": "sum of value"
         }
        }
       }
      }
     },
     "metadata": {},
     "output_type": "display_data"
    }
   ],
   "source": [
    "nationStats(nations[\"Italy\"])"
   ]
  },
  {
   "cell_type": "code",
   "execution_count": 7,
   "metadata": {},
   "outputs": [
    {
     "data": {
      "application/vnd.plotly.v1+json": {
       "config": {
        "plotlyServerURL": "https://plot.ly"
       },
       "data": [
        {
         "alignmentgroup": "True",
         "bingroup": "x",
         "histfunc": "sum",
         "hovertemplate": "variable=Hydro (% electricity)<br>Year=%{x}<br>sum of value=%{y}<extra></extra>",
         "legendgroup": "Hydro (% electricity)",
         "marker": {
          "color": "#636efa",
          "pattern": {
           "shape": ""
          }
         },
         "name": "Hydro (% electricity)",
         "nbinsx": 100,
         "offsetgroup": "Hydro (% electricity)",
         "orientation": "v",
         "showlegend": true,
         "type": "histogram",
         "x": [
          2000,
          2001,
          2002,
          2003,
          2004,
          2005,
          2006,
          2007,
          2008,
          2009,
          2010,
          2011,
          2012,
          2013,
          2014,
          2015,
          2016,
          2017,
          2018,
          2019,
          2020,
          1985,
          1986,
          1987,
          1988,
          1989,
          1990,
          1991,
          1992,
          1993,
          1994,
          1995,
          1996,
          1997,
          1998,
          1999
         ],
         "xaxis": "x",
         "y": [
          54.10950404684475,
          48.92492671734763,
          45.235275272021575,
          39.54828207582041,
          39.63718988921855,
          45.97244231095666,
          43.07702694856786,
          44.45599666628354,
          46.07831128236256,
          48.20461047703234,
          44.72963169377829,
          44.20578763645818,
          47.42540586658976,
          40.09705088051448,
          41.52506346555994,
          46.49335302777342,
          39.782735381453946,
          39.66692038362004,
          38.08177082376851,
          39.01981464124665,
          44.559312009743344,
          51.7631617325361,
          43.94703247722699,
          49.02334022419169,
          47.78978321821788,
          50.14291604643199,
          49.4914953449641,
          42.91442761765185,
          50.779473522482846,
          51.19400323704495,
          41.315594457416914,
          45.90225817323896,
          36.79079590138873,
          46.22005662385296,
          47.007289170644576,
          46.20486082019091
         ],
         "yaxis": "y"
        },
        {
         "alignmentgroup": "True",
         "bingroup": "x",
         "histfunc": "sum",
         "hovertemplate": "variable=Nuclear (% electricity)<br>Year=%{x}<br>sum of value=%{y}<extra></extra>",
         "legendgroup": "Nuclear (% electricity)",
         "marker": {
          "color": "#EF553B",
          "pattern": {
           "shape": ""
          }
         },
         "name": "Nuclear (% electricity)",
         "nbinsx": 100,
         "offsetgroup": "Nuclear (% electricity)",
         "orientation": "v",
         "showlegend": true,
         "type": "histogram",
         "x": [
          2000,
          2001,
          2002,
          2003,
          2004,
          2005,
          2006,
          2007,
          2008,
          2009,
          2010,
          2011,
          2012,
          2013,
          2014,
          2015,
          2016,
          2017,
          2018,
          2019,
          2020,
          1985,
          1986,
          1987,
          1988,
          1989,
          1990,
          1991,
          1992,
          1993,
          1994,
          1995,
          1996,
          1997,
          1998,
          1999
         ],
         "xaxis": "x",
         "y": [
          39.465289803890784,
          44.6234194366459,
          46.42887031423541,
          49.79730175076648,
          51.08378469176945,
          45.70343882999478,
          46.74444127830152,
          45.0003341309583,
          42.6223559790968,
          38.19156913919176,
          38.95649568307624,
          40.24061485556806,
          38.47591237367365,
          43.42718762554481,
          42.25056751915475,
          34.78583346129769,
          40.477735423727246,
          40.00365352412848,
          41.96218145311859,
          39.376119544077085,
          30.1807180491256,
          42.70161878372467,
          50.45113270008872,
          45.97430596775624,
          47.47589413936949,
          45.847048381799,
          46.54012067600405,
          52.08231558378116,
          43.39103417665336,
          42.10558801744712,
          51.14445112487592,
          47.14189416919447,
          52.8140621333542,
          46.803697283259815,
          46.277743187235465,
          47.169677556571
         ],
         "yaxis": "y"
        },
        {
         "alignmentgroup": "True",
         "bingroup": "x",
         "histfunc": "sum",
         "hovertemplate": "variable=Wind (% electricity)<br>Year=%{x}<br>sum of value=%{y}<extra></extra>",
         "legendgroup": "Wind (% electricity)",
         "marker": {
          "color": "#00cc96",
          "pattern": {
           "shape": ""
          }
         },
         "name": "Wind (% electricity)",
         "nbinsx": 100,
         "offsetgroup": "Wind (% electricity)",
         "orientation": "v",
         "showlegend": true,
         "type": "histogram",
         "x": [
          2000,
          2001,
          2002,
          2003,
          2004,
          2005,
          2006,
          2007,
          2008,
          2009,
          2010,
          2011,
          2012,
          2013,
          2014,
          2015,
          2016,
          2017,
          2018,
          2019,
          2020,
          1985,
          1986,
          1987,
          1988,
          1989,
          1990,
          1991,
          1992,
          1993,
          1994,
          1995,
          1996,
          1997,
          1998,
          1999
         ],
         "xaxis": "x",
         "y": [
          0.3146702044870209,
          0.2982774434323499,
          0.4144521905574008,
          0.5015555572019645,
          0.5669676436378408,
          0.590418438261397,
          0.686751126772604,
          0.9582116571958152,
          1.3329284735437303,
          1.8234565527327675,
          2.3490575577036528,
          4.063653326547403,
          4.304408954901041,
          6.431382406828658,
          7.316693528950225,
          10.07621164469548,
          9.929396786483162,
          10.722484396407369,
          10.17574789267809,
          11.676272919425031,
          16.394814319489345,
          0.0043750911477322,
          0.0043274119912586,
          0.0040935792209918,
          0.0034192710114203,
          0.0034942798638628,
          0.0040953395036448,
          0.0088204961189817,
          0.0211683567209532,
          0.0356623597509121,
          0.0524336190382975,
          0.0707785642062689,
          0.1023941749091607,
          0.1358704746096233,
          0.1937070369741451,
          0.2307310565291088
         ],
         "yaxis": "y"
        },
        {
         "alignmentgroup": "True",
         "bingroup": "x",
         "histfunc": "sum",
         "hovertemplate": "variable=Solar (% electricity)<br>Year=%{x}<br>sum of value=%{y}<extra></extra>",
         "legendgroup": "Solar (% electricity)",
         "marker": {
          "color": "#ab63fa",
          "pattern": {
           "shape": ""
          }
         },
         "name": "Solar (% electricity)",
         "nbinsx": 100,
         "offsetgroup": "Solar (% electricity)",
         "orientation": "v",
         "showlegend": true,
         "type": "histogram",
         "x": [
          2000,
          2001,
          2002,
          2003,
          2004,
          2005,
          2006,
          2007,
          2008,
          2009,
          2010,
          2011,
          2012,
          2013,
          2014,
          2015,
          2016,
          2017,
          2018,
          2019,
          2020,
          1985,
          1986,
          1987,
          1988,
          1989,
          1990,
          1991,
          1992,
          1993,
          1994,
          1995,
          1996,
          1997,
          1998,
          1999
         ],
         "xaxis": "x",
         "y": [
          0.0009763727570297,
          0.000940007129821,
          0.0011390618592457,
          0.0013465917242697,
          0.0013020477862613,
          0.0013431230140983,
          0.0016959402825786,
          0.0021092751696617,
          0.00266852547256,
          0.0051241251983658,
          0.005793488671136,
          0.0073195000150681,
          0.0114159366475599,
          0.0228712034382242,
          0.0306083307397116,
          0.0598819096639787,
          0.0917309736072803,
          0.1400517582584868,
          0.2491445221873297,
          0.2385678405882952,
          0.2445682589307797,
          0,
          0,
          0,
          0,
          0,
          0,
          0,
          0,
          0.0006858146105944,
          0.0006991149205106,
          0.0006740815638692,
          0.0007110706590913,
          0.000669312682806,
          0.0006289189512147,
          0.0006445001579025
         ],
         "yaxis": "y"
        },
        {
         "alignmentgroup": "True",
         "bingroup": "x",
         "histfunc": "sum",
         "hovertemplate": "variable=Coal (% electricity)<br>Year=%{x}<br>sum of value=%{y}<extra></extra>",
         "legendgroup": "Coal (% electricity)",
         "marker": {
          "color": "#FFA15A",
          "pattern": {
           "shape": ""
          }
         },
         "name": "Coal (% electricity)",
         "nbinsx": 100,
         "offsetgroup": "Coal (% electricity)",
         "orientation": "v",
         "showlegend": true,
         "type": "histogram",
         "x": [
          2000,
          2001,
          2002,
          2003,
          2004,
          2005,
          2006,
          2007,
          2008,
          2009,
          2010,
          2011,
          2012,
          2013,
          2014,
          2015,
          2016,
          2017,
          2018,
          2019,
          2020,
          1985,
          1986,
          1987,
          1988,
          1989,
          1990,
          1991,
          1992,
          1993,
          1994,
          1995,
          1996,
          1997,
          1998,
          1999
         ],
         "xaxis": "x",
         "y": [
          1.126478018688766,
          1.1627869630900116,
          1.6175905397906452,
          2.102249065974655,
          0.6658573489235107,
          0.4091883935758131,
          0.6134697565377225,
          0.4361005368303534,
          0.3429055232239626,
          0.3769892110226316,
          0.6884820258024471,
          0.4371737736272546,
          0.2902051263563935,
          0.4267113098617265,
          0.2416104405198516,
          0.2389102993810287,
          0.1687080143966065,
          0.1960724615618816,
          0.2050698155595957,
          0.196364193113216,
          0.2013031123877426,
          null,
          null,
          null,
          null,
          null,
          null,
          null,
          null,
          null,
          null,
          null,
          null,
          null,
          null,
          null
         ],
         "yaxis": "y"
        },
        {
         "alignmentgroup": "True",
         "bingroup": "x",
         "histfunc": "sum",
         "hovertemplate": "variable=Gas (% electricity)<br>Year=%{x}<br>sum of value=%{y}<extra></extra>",
         "legendgroup": "Gas (% electricity)",
         "marker": {
          "color": "#19d3f3",
          "pattern": {
           "shape": ""
          }
         },
         "name": "Gas (% electricity)",
         "nbinsx": 100,
         "offsetgroup": "Gas (% electricity)",
         "orientation": "v",
         "showlegend": true,
         "type": "histogram",
         "x": [
          2000,
          2001,
          2002,
          2003,
          2004,
          2005,
          2006,
          2007,
          2008,
          2009,
          2010,
          2011,
          2012,
          2013,
          2014,
          2015,
          2016,
          2017,
          2018,
          2019,
          2020,
          1985,
          1986,
          1987,
          1988,
          1989,
          1990,
          1991,
          1992,
          1993,
          1994,
          1995,
          1996,
          1997,
          1998,
          1999
         ],
         "xaxis": "x",
         "y": [
          0.3332612231328623,
          0.2444389837256809,
          0.3790056216281494,
          0.5392276240904772,
          0.5115894086778656,
          0.3769837514888277,
          0.4159590158094227,
          0.5604127083459395,
          0.4122871855105232,
          1.1441439550065498,
          1.9596812260854384,
          1.0526771839852611,
          0.5497674753956523,
          0.5580573638926716,
          0.2748237355778366,
          0.2753333165993251,
          0.4355617557996038,
          0.1997259856903638,
          0.2356772507177443,
          0.2256722816375766,
          0.2313483530426295,
          null,
          null,
          null,
          null,
          null,
          null,
          null,
          null,
          null,
          null,
          null,
          null,
          null,
          null,
          null
         ],
         "yaxis": "y"
        },
        {
         "alignmentgroup": "True",
         "bingroup": "x",
         "histfunc": "sum",
         "hovertemplate": "variable=Oil (% electricity)<br>Year=%{x}<br>sum of value=%{y}<extra></extra>",
         "legendgroup": "Oil (% electricity)",
         "marker": {
          "color": "#FF6692",
          "pattern": {
           "shape": ""
          }
         },
         "name": "Oil (% electricity)",
         "nbinsx": 100,
         "offsetgroup": "Oil (% electricity)",
         "orientation": "v",
         "showlegend": true,
         "type": "histogram",
         "x": [
          2000,
          2001,
          2002,
          2003,
          2004,
          2005,
          2006,
          2007,
          2008,
          2009,
          2010,
          2011,
          2012,
          2013,
          2014,
          2015,
          2016,
          2017,
          2018,
          2019,
          2020,
          1985,
          1986,
          1987,
          1988,
          1989,
          1990,
          1991,
          1992,
          1993,
          1994,
          1995,
          1996,
          1997,
          1998,
          1999
         ],
         "xaxis": "x",
         "y": [
          1.828116833507747,
          2.4078786979155056,
          3.077716513760961,
          4.178644752712096,
          2.785699264368052,
          2.216642988992916,
          2.626626945000098,
          1.9775714636236208,
          2.312284660418308,
          1.8648814448721285,
          3.0980943396874654,
          2.3162890502229425,
          1.6162562937861256,
          1.5545883708438706,
          1.3949583924353697,
          1.424819046437763,
          1.7454543998979704,
          1.7177652610747451,
          1.7978807411896496,
          1.7215571199209412,
          1.7648574360680591,
          null,
          null,
          null,
          null,
          null,
          null,
          null,
          null,
          null,
          null,
          null,
          null,
          null,
          null,
          null
         ],
         "yaxis": "y"
        }
       ],
       "layout": {
        "barmode": "relative",
        "legend": {
         "title": {
          "text": "variable"
         },
         "tracegroupgap": 0
        },
        "margin": {
         "t": 60
        },
        "template": {
         "data": {
          "bar": [
           {
            "error_x": {
             "color": "#2a3f5f"
            },
            "error_y": {
             "color": "#2a3f5f"
            },
            "marker": {
             "line": {
              "color": "#E5ECF6",
              "width": 0.5
             },
             "pattern": {
              "fillmode": "overlay",
              "size": 10,
              "solidity": 0.2
             }
            },
            "type": "bar"
           }
          ],
          "barpolar": [
           {
            "marker": {
             "line": {
              "color": "#E5ECF6",
              "width": 0.5
             },
             "pattern": {
              "fillmode": "overlay",
              "size": 10,
              "solidity": 0.2
             }
            },
            "type": "barpolar"
           }
          ],
          "carpet": [
           {
            "aaxis": {
             "endlinecolor": "#2a3f5f",
             "gridcolor": "white",
             "linecolor": "white",
             "minorgridcolor": "white",
             "startlinecolor": "#2a3f5f"
            },
            "baxis": {
             "endlinecolor": "#2a3f5f",
             "gridcolor": "white",
             "linecolor": "white",
             "minorgridcolor": "white",
             "startlinecolor": "#2a3f5f"
            },
            "type": "carpet"
           }
          ],
          "choropleth": [
           {
            "colorbar": {
             "outlinewidth": 0,
             "ticks": ""
            },
            "type": "choropleth"
           }
          ],
          "contour": [
           {
            "colorbar": {
             "outlinewidth": 0,
             "ticks": ""
            },
            "colorscale": [
             [
              0,
              "#0d0887"
             ],
             [
              0.1111111111111111,
              "#46039f"
             ],
             [
              0.2222222222222222,
              "#7201a8"
             ],
             [
              0.3333333333333333,
              "#9c179e"
             ],
             [
              0.4444444444444444,
              "#bd3786"
             ],
             [
              0.5555555555555556,
              "#d8576b"
             ],
             [
              0.6666666666666666,
              "#ed7953"
             ],
             [
              0.7777777777777778,
              "#fb9f3a"
             ],
             [
              0.8888888888888888,
              "#fdca26"
             ],
             [
              1,
              "#f0f921"
             ]
            ],
            "type": "contour"
           }
          ],
          "contourcarpet": [
           {
            "colorbar": {
             "outlinewidth": 0,
             "ticks": ""
            },
            "type": "contourcarpet"
           }
          ],
          "heatmap": [
           {
            "colorbar": {
             "outlinewidth": 0,
             "ticks": ""
            },
            "colorscale": [
             [
              0,
              "#0d0887"
             ],
             [
              0.1111111111111111,
              "#46039f"
             ],
             [
              0.2222222222222222,
              "#7201a8"
             ],
             [
              0.3333333333333333,
              "#9c179e"
             ],
             [
              0.4444444444444444,
              "#bd3786"
             ],
             [
              0.5555555555555556,
              "#d8576b"
             ],
             [
              0.6666666666666666,
              "#ed7953"
             ],
             [
              0.7777777777777778,
              "#fb9f3a"
             ],
             [
              0.8888888888888888,
              "#fdca26"
             ],
             [
              1,
              "#f0f921"
             ]
            ],
            "type": "heatmap"
           }
          ],
          "heatmapgl": [
           {
            "colorbar": {
             "outlinewidth": 0,
             "ticks": ""
            },
            "colorscale": [
             [
              0,
              "#0d0887"
             ],
             [
              0.1111111111111111,
              "#46039f"
             ],
             [
              0.2222222222222222,
              "#7201a8"
             ],
             [
              0.3333333333333333,
              "#9c179e"
             ],
             [
              0.4444444444444444,
              "#bd3786"
             ],
             [
              0.5555555555555556,
              "#d8576b"
             ],
             [
              0.6666666666666666,
              "#ed7953"
             ],
             [
              0.7777777777777778,
              "#fb9f3a"
             ],
             [
              0.8888888888888888,
              "#fdca26"
             ],
             [
              1,
              "#f0f921"
             ]
            ],
            "type": "heatmapgl"
           }
          ],
          "histogram": [
           {
            "marker": {
             "pattern": {
              "fillmode": "overlay",
              "size": 10,
              "solidity": 0.2
             }
            },
            "type": "histogram"
           }
          ],
          "histogram2d": [
           {
            "colorbar": {
             "outlinewidth": 0,
             "ticks": ""
            },
            "colorscale": [
             [
              0,
              "#0d0887"
             ],
             [
              0.1111111111111111,
              "#46039f"
             ],
             [
              0.2222222222222222,
              "#7201a8"
             ],
             [
              0.3333333333333333,
              "#9c179e"
             ],
             [
              0.4444444444444444,
              "#bd3786"
             ],
             [
              0.5555555555555556,
              "#d8576b"
             ],
             [
              0.6666666666666666,
              "#ed7953"
             ],
             [
              0.7777777777777778,
              "#fb9f3a"
             ],
             [
              0.8888888888888888,
              "#fdca26"
             ],
             [
              1,
              "#f0f921"
             ]
            ],
            "type": "histogram2d"
           }
          ],
          "histogram2dcontour": [
           {
            "colorbar": {
             "outlinewidth": 0,
             "ticks": ""
            },
            "colorscale": [
             [
              0,
              "#0d0887"
             ],
             [
              0.1111111111111111,
              "#46039f"
             ],
             [
              0.2222222222222222,
              "#7201a8"
             ],
             [
              0.3333333333333333,
              "#9c179e"
             ],
             [
              0.4444444444444444,
              "#bd3786"
             ],
             [
              0.5555555555555556,
              "#d8576b"
             ],
             [
              0.6666666666666666,
              "#ed7953"
             ],
             [
              0.7777777777777778,
              "#fb9f3a"
             ],
             [
              0.8888888888888888,
              "#fdca26"
             ],
             [
              1,
              "#f0f921"
             ]
            ],
            "type": "histogram2dcontour"
           }
          ],
          "mesh3d": [
           {
            "colorbar": {
             "outlinewidth": 0,
             "ticks": ""
            },
            "type": "mesh3d"
           }
          ],
          "parcoords": [
           {
            "line": {
             "colorbar": {
              "outlinewidth": 0,
              "ticks": ""
             }
            },
            "type": "parcoords"
           }
          ],
          "pie": [
           {
            "automargin": true,
            "type": "pie"
           }
          ],
          "scatter": [
           {
            "fillpattern": {
             "fillmode": "overlay",
             "size": 10,
             "solidity": 0.2
            },
            "type": "scatter"
           }
          ],
          "scatter3d": [
           {
            "line": {
             "colorbar": {
              "outlinewidth": 0,
              "ticks": ""
             }
            },
            "marker": {
             "colorbar": {
              "outlinewidth": 0,
              "ticks": ""
             }
            },
            "type": "scatter3d"
           }
          ],
          "scattercarpet": [
           {
            "marker": {
             "colorbar": {
              "outlinewidth": 0,
              "ticks": ""
             }
            },
            "type": "scattercarpet"
           }
          ],
          "scattergeo": [
           {
            "marker": {
             "colorbar": {
              "outlinewidth": 0,
              "ticks": ""
             }
            },
            "type": "scattergeo"
           }
          ],
          "scattergl": [
           {
            "marker": {
             "colorbar": {
              "outlinewidth": 0,
              "ticks": ""
             }
            },
            "type": "scattergl"
           }
          ],
          "scattermapbox": [
           {
            "marker": {
             "colorbar": {
              "outlinewidth": 0,
              "ticks": ""
             }
            },
            "type": "scattermapbox"
           }
          ],
          "scatterpolar": [
           {
            "marker": {
             "colorbar": {
              "outlinewidth": 0,
              "ticks": ""
             }
            },
            "type": "scatterpolar"
           }
          ],
          "scatterpolargl": [
           {
            "marker": {
             "colorbar": {
              "outlinewidth": 0,
              "ticks": ""
             }
            },
            "type": "scatterpolargl"
           }
          ],
          "scatterternary": [
           {
            "marker": {
             "colorbar": {
              "outlinewidth": 0,
              "ticks": ""
             }
            },
            "type": "scatterternary"
           }
          ],
          "surface": [
           {
            "colorbar": {
             "outlinewidth": 0,
             "ticks": ""
            },
            "colorscale": [
             [
              0,
              "#0d0887"
             ],
             [
              0.1111111111111111,
              "#46039f"
             ],
             [
              0.2222222222222222,
              "#7201a8"
             ],
             [
              0.3333333333333333,
              "#9c179e"
             ],
             [
              0.4444444444444444,
              "#bd3786"
             ],
             [
              0.5555555555555556,
              "#d8576b"
             ],
             [
              0.6666666666666666,
              "#ed7953"
             ],
             [
              0.7777777777777778,
              "#fb9f3a"
             ],
             [
              0.8888888888888888,
              "#fdca26"
             ],
             [
              1,
              "#f0f921"
             ]
            ],
            "type": "surface"
           }
          ],
          "table": [
           {
            "cells": {
             "fill": {
              "color": "#EBF0F8"
             },
             "line": {
              "color": "white"
             }
            },
            "header": {
             "fill": {
              "color": "#C8D4E3"
             },
             "line": {
              "color": "white"
             }
            },
            "type": "table"
           }
          ]
         },
         "layout": {
          "annotationdefaults": {
           "arrowcolor": "#2a3f5f",
           "arrowhead": 0,
           "arrowwidth": 1
          },
          "autotypenumbers": "strict",
          "coloraxis": {
           "colorbar": {
            "outlinewidth": 0,
            "ticks": ""
           }
          },
          "colorscale": {
           "diverging": [
            [
             0,
             "#8e0152"
            ],
            [
             0.1,
             "#c51b7d"
            ],
            [
             0.2,
             "#de77ae"
            ],
            [
             0.3,
             "#f1b6da"
            ],
            [
             0.4,
             "#fde0ef"
            ],
            [
             0.5,
             "#f7f7f7"
            ],
            [
             0.6,
             "#e6f5d0"
            ],
            [
             0.7,
             "#b8e186"
            ],
            [
             0.8,
             "#7fbc41"
            ],
            [
             0.9,
             "#4d9221"
            ],
            [
             1,
             "#276419"
            ]
           ],
           "sequential": [
            [
             0,
             "#0d0887"
            ],
            [
             0.1111111111111111,
             "#46039f"
            ],
            [
             0.2222222222222222,
             "#7201a8"
            ],
            [
             0.3333333333333333,
             "#9c179e"
            ],
            [
             0.4444444444444444,
             "#bd3786"
            ],
            [
             0.5555555555555556,
             "#d8576b"
            ],
            [
             0.6666666666666666,
             "#ed7953"
            ],
            [
             0.7777777777777778,
             "#fb9f3a"
            ],
            [
             0.8888888888888888,
             "#fdca26"
            ],
            [
             1,
             "#f0f921"
            ]
           ],
           "sequentialminus": [
            [
             0,
             "#0d0887"
            ],
            [
             0.1111111111111111,
             "#46039f"
            ],
            [
             0.2222222222222222,
             "#7201a8"
            ],
            [
             0.3333333333333333,
             "#9c179e"
            ],
            [
             0.4444444444444444,
             "#bd3786"
            ],
            [
             0.5555555555555556,
             "#d8576b"
            ],
            [
             0.6666666666666666,
             "#ed7953"
            ],
            [
             0.7777777777777778,
             "#fb9f3a"
            ],
            [
             0.8888888888888888,
             "#fdca26"
            ],
            [
             1,
             "#f0f921"
            ]
           ]
          },
          "colorway": [
           "#636efa",
           "#EF553B",
           "#00cc96",
           "#ab63fa",
           "#FFA15A",
           "#19d3f3",
           "#FF6692",
           "#B6E880",
           "#FF97FF",
           "#FECB52"
          ],
          "font": {
           "color": "#2a3f5f"
          },
          "geo": {
           "bgcolor": "white",
           "lakecolor": "white",
           "landcolor": "#E5ECF6",
           "showlakes": true,
           "showland": true,
           "subunitcolor": "white"
          },
          "hoverlabel": {
           "align": "left"
          },
          "hovermode": "closest",
          "mapbox": {
           "style": "light"
          },
          "paper_bgcolor": "white",
          "plot_bgcolor": "#E5ECF6",
          "polar": {
           "angularaxis": {
            "gridcolor": "white",
            "linecolor": "white",
            "ticks": ""
           },
           "bgcolor": "#E5ECF6",
           "radialaxis": {
            "gridcolor": "white",
            "linecolor": "white",
            "ticks": ""
           }
          },
          "scene": {
           "xaxis": {
            "backgroundcolor": "#E5ECF6",
            "gridcolor": "white",
            "gridwidth": 2,
            "linecolor": "white",
            "showbackground": true,
            "ticks": "",
            "zerolinecolor": "white"
           },
           "yaxis": {
            "backgroundcolor": "#E5ECF6",
            "gridcolor": "white",
            "gridwidth": 2,
            "linecolor": "white",
            "showbackground": true,
            "ticks": "",
            "zerolinecolor": "white"
           },
           "zaxis": {
            "backgroundcolor": "#E5ECF6",
            "gridcolor": "white",
            "gridwidth": 2,
            "linecolor": "white",
            "showbackground": true,
            "ticks": "",
            "zerolinecolor": "white"
           }
          },
          "shapedefaults": {
           "line": {
            "color": "#2a3f5f"
           }
          },
          "ternary": {
           "aaxis": {
            "gridcolor": "white",
            "linecolor": "white",
            "ticks": ""
           },
           "baxis": {
            "gridcolor": "white",
            "linecolor": "white",
            "ticks": ""
           },
           "bgcolor": "#E5ECF6",
           "caxis": {
            "gridcolor": "white",
            "linecolor": "white",
            "ticks": ""
           }
          },
          "title": {
           "x": 0.05
          },
          "xaxis": {
           "automargin": true,
           "gridcolor": "white",
           "linecolor": "white",
           "ticks": "",
           "title": {
            "standoff": 15
           },
           "zerolinecolor": "white",
           "zerolinewidth": 2
          },
          "yaxis": {
           "automargin": true,
           "gridcolor": "white",
           "linecolor": "white",
           "ticks": "",
           "title": {
            "standoff": 15
           },
           "zerolinecolor": "white",
           "zerolinewidth": 2
          }
         }
        },
        "xaxis": {
         "anchor": "y",
         "domain": [
          0,
          1
         ],
         "title": {
          "text": "Year"
         }
        },
        "yaxis": {
         "anchor": "x",
         "domain": [
          0,
          1
         ],
         "title": {
          "text": "sum of value"
         }
        }
       }
      }
     },
     "metadata": {},
     "output_type": "display_data"
    }
   ],
   "source": [
    "nationStats(nations[\"Sweden\"])"
   ]
  },
  {
   "cell_type": "code",
   "execution_count": 12,
   "metadata": {},
   "outputs": [],
   "source": [
    "nationsCon = divideForNation(consbysource)"
   ]
  },
  {
   "cell_type": "code",
   "execution_count": 15,
   "metadata": {},
   "outputs": [
    {
     "data": {
      "text/html": [
       "<div>\n",
       "<style scoped>\n",
       "    .dataframe tbody tr th:only-of-type {\n",
       "        vertical-align: middle;\n",
       "    }\n",
       "\n",
       "    .dataframe tbody tr th {\n",
       "        vertical-align: top;\n",
       "    }\n",
       "\n",
       "    .dataframe thead th {\n",
       "        text-align: right;\n",
       "    }\n",
       "</style>\n",
       "<table border=\"1\" class=\"dataframe\">\n",
       "  <thead>\n",
       "    <tr style=\"text-align: right;\">\n",
       "      <th></th>\n",
       "      <th>Entity</th>\n",
       "      <th>Code</th>\n",
       "      <th>Year</th>\n",
       "      <th>Oil (% sub energy)</th>\n",
       "      <th>Coal (% sub energy)</th>\n",
       "      <th>Solar (% sub energy)</th>\n",
       "      <th>Nuclear (% sub energy)</th>\n",
       "      <th>Hydro (% sub energy)</th>\n",
       "      <th>Wind (% sub energy)</th>\n",
       "      <th>Gas (% sub energy)</th>\n",
       "      <th>Other renewables (% sub energy)</th>\n",
       "    </tr>\n",
       "  </thead>\n",
       "  <tbody>\n",
       "    <tr>\n",
       "      <th>1889</th>\n",
       "      <td>Italy</td>\n",
       "      <td>ITA</td>\n",
       "      <td>1965</td>\n",
       "      <td>66.355</td>\n",
       "      <td>10.899</td>\n",
       "      <td>0.000</td>\n",
       "      <td>1.059</td>\n",
       "      <td>12.867</td>\n",
       "      <td>0.000</td>\n",
       "      <td>8.012</td>\n",
       "      <td>0.808</td>\n",
       "    </tr>\n",
       "    <tr>\n",
       "      <th>1890</th>\n",
       "      <td>Italy</td>\n",
       "      <td>ITA</td>\n",
       "      <td>1966</td>\n",
       "      <td>67.358</td>\n",
       "      <td>10.437</td>\n",
       "      <td>0.000</td>\n",
       "      <td>1.073</td>\n",
       "      <td>12.147</td>\n",
       "      <td>0.000</td>\n",
       "      <td>8.054</td>\n",
       "      <td>0.931</td>\n",
       "    </tr>\n",
       "    <tr>\n",
       "      <th>1891</th>\n",
       "      <td>Italy</td>\n",
       "      <td>ITA</td>\n",
       "      <td>1967</td>\n",
       "      <td>68.781</td>\n",
       "      <td>10.552</td>\n",
       "      <td>0.000</td>\n",
       "      <td>0.808</td>\n",
       "      <td>10.853</td>\n",
       "      <td>0.000</td>\n",
       "      <td>8.116</td>\n",
       "      <td>0.891</td>\n",
       "    </tr>\n",
       "    <tr>\n",
       "      <th>1892</th>\n",
       "      <td>Italy</td>\n",
       "      <td>ITA</td>\n",
       "      <td>1968</td>\n",
       "      <td>70.146</td>\n",
       "      <td>9.452</td>\n",
       "      <td>0.000</td>\n",
       "      <td>0.611</td>\n",
       "      <td>10.118</td>\n",
       "      <td>0.000</td>\n",
       "      <td>8.816</td>\n",
       "      <td>0.858</td>\n",
       "    </tr>\n",
       "    <tr>\n",
       "      <th>1893</th>\n",
       "      <td>Italy</td>\n",
       "      <td>ITA</td>\n",
       "      <td>1969</td>\n",
       "      <td>71.735</td>\n",
       "      <td>9.008</td>\n",
       "      <td>0.000</td>\n",
       "      <td>0.370</td>\n",
       "      <td>9.061</td>\n",
       "      <td>0.000</td>\n",
       "      <td>8.987</td>\n",
       "      <td>0.839</td>\n",
       "    </tr>\n",
       "    <tr>\n",
       "      <th>1894</th>\n",
       "      <td>Italy</td>\n",
       "      <td>ITA</td>\n",
       "      <td>1970</td>\n",
       "      <td>73.466</td>\n",
       "      <td>8.235</td>\n",
       "      <td>0.000</td>\n",
       "      <td>0.633</td>\n",
       "      <td>8.045</td>\n",
       "      <td>0.000</td>\n",
       "      <td>8.778</td>\n",
       "      <td>0.843</td>\n",
       "    </tr>\n",
       "    <tr>\n",
       "      <th>1895</th>\n",
       "      <td>Italy</td>\n",
       "      <td>ITA</td>\n",
       "      <td>1971</td>\n",
       "      <td>75.012</td>\n",
       "      <td>7.553</td>\n",
       "      <td>0.000</td>\n",
       "      <td>0.637</td>\n",
       "      <td>7.393</td>\n",
       "      <td>0.000</td>\n",
       "      <td>8.609</td>\n",
       "      <td>0.796</td>\n",
       "    </tr>\n",
       "    <tr>\n",
       "      <th>1896</th>\n",
       "      <td>Italy</td>\n",
       "      <td>ITA</td>\n",
       "      <td>1972</td>\n",
       "      <td>75.086</td>\n",
       "      <td>6.701</td>\n",
       "      <td>0.000</td>\n",
       "      <td>0.654</td>\n",
       "      <td>7.459</td>\n",
       "      <td>0.000</td>\n",
       "      <td>9.413</td>\n",
       "      <td>0.687</td>\n",
       "    </tr>\n",
       "    <tr>\n",
       "      <th>1897</th>\n",
       "      <td>Italy</td>\n",
       "      <td>ITA</td>\n",
       "      <td>1973</td>\n",
       "      <td>75.676</td>\n",
       "      <td>6.511</td>\n",
       "      <td>0.000</td>\n",
       "      <td>0.543</td>\n",
       "      <td>6.481</td>\n",
       "      <td>0.000</td>\n",
       "      <td>10.125</td>\n",
       "      <td>0.664</td>\n",
       "    </tr>\n",
       "    <tr>\n",
       "      <th>1898</th>\n",
       "      <td>Italy</td>\n",
       "      <td>ITA</td>\n",
       "      <td>1974</td>\n",
       "      <td>73.660</td>\n",
       "      <td>7.093</td>\n",
       "      <td>0.000</td>\n",
       "      <td>0.589</td>\n",
       "      <td>6.531</td>\n",
       "      <td>0.000</td>\n",
       "      <td>11.393</td>\n",
       "      <td>0.734</td>\n",
       "    </tr>\n",
       "    <tr>\n",
       "      <th>1899</th>\n",
       "      <td>Italy</td>\n",
       "      <td>ITA</td>\n",
       "      <td>1975</td>\n",
       "      <td>70.697</td>\n",
       "      <td>7.268</td>\n",
       "      <td>0.000</td>\n",
       "      <td>0.671</td>\n",
       "      <td>7.244</td>\n",
       "      <td>0.000</td>\n",
       "      <td>13.416</td>\n",
       "      <td>0.704</td>\n",
       "    </tr>\n",
       "    <tr>\n",
       "      <th>1900</th>\n",
       "      <td>Italy</td>\n",
       "      <td>ITA</td>\n",
       "      <td>1976</td>\n",
       "      <td>69.966</td>\n",
       "      <td>6.825</td>\n",
       "      <td>0.000</td>\n",
       "      <td>0.637</td>\n",
       "      <td>6.552</td>\n",
       "      <td>0.000</td>\n",
       "      <td>15.384</td>\n",
       "      <td>0.638</td>\n",
       "    </tr>\n",
       "    <tr>\n",
       "      <th>1901</th>\n",
       "      <td>Italy</td>\n",
       "      <td>ITA</td>\n",
       "      <td>1977</td>\n",
       "      <td>67.900</td>\n",
       "      <td>6.698</td>\n",
       "      <td>0.000</td>\n",
       "      <td>0.565</td>\n",
       "      <td>8.535</td>\n",
       "      <td>0.000</td>\n",
       "      <td>15.679</td>\n",
       "      <td>0.623</td>\n",
       "    </tr>\n",
       "    <tr>\n",
       "      <th>1902</th>\n",
       "      <td>Italy</td>\n",
       "      <td>ITA</td>\n",
       "      <td>1978</td>\n",
       "      <td>69.542</td>\n",
       "      <td>6.645</td>\n",
       "      <td>0.000</td>\n",
       "      <td>0.721</td>\n",
       "      <td>7.405</td>\n",
       "      <td>0.000</td>\n",
       "      <td>15.066</td>\n",
       "      <td>0.620</td>\n",
       "    </tr>\n",
       "    <tr>\n",
       "      <th>1903</th>\n",
       "      <td>Italy</td>\n",
       "      <td>ITA</td>\n",
       "      <td>1979</td>\n",
       "      <td>69.653</td>\n",
       "      <td>7.070</td>\n",
       "      <td>0.000</td>\n",
       "      <td>0.415</td>\n",
       "      <td>7.251</td>\n",
       "      <td>0.000</td>\n",
       "      <td>15.007</td>\n",
       "      <td>0.604</td>\n",
       "    </tr>\n",
       "    <tr>\n",
       "      <th>1904</th>\n",
       "      <td>Italy</td>\n",
       "      <td>ITA</td>\n",
       "      <td>1980</td>\n",
       "      <td>67.870</td>\n",
       "      <td>8.514</td>\n",
       "      <td>0.000</td>\n",
       "      <td>0.358</td>\n",
       "      <td>7.329</td>\n",
       "      <td>0.000</td>\n",
       "      <td>15.288</td>\n",
       "      <td>0.641</td>\n",
       "    </tr>\n",
       "    <tr>\n",
       "      <th>1905</th>\n",
       "      <td>Italy</td>\n",
       "      <td>ITA</td>\n",
       "      <td>1981</td>\n",
       "      <td>67.812</td>\n",
       "      <td>8.911</td>\n",
       "      <td>0.000</td>\n",
       "      <td>0.448</td>\n",
       "      <td>7.119</td>\n",
       "      <td>0.000</td>\n",
       "      <td>15.138</td>\n",
       "      <td>0.574</td>\n",
       "    </tr>\n",
       "    <tr>\n",
       "      <th>1906</th>\n",
       "      <td>Italy</td>\n",
       "      <td>ITA</td>\n",
       "      <td>1982</td>\n",
       "      <td>65.702</td>\n",
       "      <td>10.165</td>\n",
       "      <td>0.000</td>\n",
       "      <td>1.148</td>\n",
       "      <td>6.998</td>\n",
       "      <td>0.000</td>\n",
       "      <td>15.392</td>\n",
       "      <td>0.594</td>\n",
       "    </tr>\n",
       "    <tr>\n",
       "      <th>1907</th>\n",
       "      <td>Italy</td>\n",
       "      <td>ITA</td>\n",
       "      <td>1983</td>\n",
       "      <td>65.385</td>\n",
       "      <td>9.719</td>\n",
       "      <td>0.000</td>\n",
       "      <td>0.997</td>\n",
       "      <td>7.146</td>\n",
       "      <td>0.000</td>\n",
       "      <td>16.168</td>\n",
       "      <td>0.585</td>\n",
       "    </tr>\n",
       "    <tr>\n",
       "      <th>1908</th>\n",
       "      <td>Italy</td>\n",
       "      <td>ITA</td>\n",
       "      <td>1984</td>\n",
       "      <td>61.432</td>\n",
       "      <td>10.854</td>\n",
       "      <td>0.000</td>\n",
       "      <td>1.169</td>\n",
       "      <td>7.199</td>\n",
       "      <td>0.000</td>\n",
       "      <td>18.756</td>\n",
       "      <td>0.589</td>\n",
       "    </tr>\n",
       "    <tr>\n",
       "      <th>1909</th>\n",
       "      <td>Italy</td>\n",
       "      <td>ITA</td>\n",
       "      <td>1985</td>\n",
       "      <td>61.354</td>\n",
       "      <td>10.759</td>\n",
       "      <td>0.000</td>\n",
       "      <td>1.197</td>\n",
       "      <td>7.004</td>\n",
       "      <td>0.000</td>\n",
       "      <td>19.139</td>\n",
       "      <td>0.547</td>\n",
       "    </tr>\n",
       "    <tr>\n",
       "      <th>1910</th>\n",
       "      <td>Italy</td>\n",
       "      <td>ITA</td>\n",
       "      <td>1986</td>\n",
       "      <td>61.155</td>\n",
       "      <td>10.294</td>\n",
       "      <td>0.000</td>\n",
       "      <td>1.453</td>\n",
       "      <td>6.819</td>\n",
       "      <td>0.000</td>\n",
       "      <td>19.698</td>\n",
       "      <td>0.581</td>\n",
       "    </tr>\n",
       "    <tr>\n",
       "      <th>1911</th>\n",
       "      <td>Italy</td>\n",
       "      <td>ITA</td>\n",
       "      <td>1987</td>\n",
       "      <td>61.891</td>\n",
       "      <td>9.918</td>\n",
       "      <td>0.000</td>\n",
       "      <td>0.028</td>\n",
       "      <td>6.362</td>\n",
       "      <td>0.000</td>\n",
       "      <td>21.207</td>\n",
       "      <td>0.595</td>\n",
       "    </tr>\n",
       "    <tr>\n",
       "      <th>1912</th>\n",
       "      <td>Italy</td>\n",
       "      <td>ITA</td>\n",
       "      <td>1988</td>\n",
       "      <td>61.485</td>\n",
       "      <td>9.073</td>\n",
       "      <td>0.000</td>\n",
       "      <td>0.000</td>\n",
       "      <td>6.393</td>\n",
       "      <td>0.000</td>\n",
       "      <td>22.454</td>\n",
       "      <td>0.595</td>\n",
       "    </tr>\n",
       "    <tr>\n",
       "      <th>1913</th>\n",
       "      <td>Italy</td>\n",
       "      <td>ITA</td>\n",
       "      <td>1989</td>\n",
       "      <td>61.496</td>\n",
       "      <td>9.202</td>\n",
       "      <td>0.000</td>\n",
       "      <td>0.000</td>\n",
       "      <td>5.203</td>\n",
       "      <td>0.000</td>\n",
       "      <td>23.610</td>\n",
       "      <td>0.488</td>\n",
       "    </tr>\n",
       "    <tr>\n",
       "      <th>1914</th>\n",
       "      <td>Italy</td>\n",
       "      <td>ITA</td>\n",
       "      <td>1990</td>\n",
       "      <td>60.495</td>\n",
       "      <td>9.323</td>\n",
       "      <td>0.001</td>\n",
       "      <td>0.000</td>\n",
       "      <td>4.810</td>\n",
       "      <td>0.000</td>\n",
       "      <td>24.874</td>\n",
       "      <td>0.498</td>\n",
       "    </tr>\n",
       "    <tr>\n",
       "      <th>1915</th>\n",
       "      <td>Italy</td>\n",
       "      <td>ITA</td>\n",
       "      <td>1991</td>\n",
       "      <td>58.727</td>\n",
       "      <td>8.660</td>\n",
       "      <td>0.001</td>\n",
       "      <td>0.000</td>\n",
       "      <td>6.282</td>\n",
       "      <td>0.000</td>\n",
       "      <td>25.840</td>\n",
       "      <td>0.490</td>\n",
       "    </tr>\n",
       "    <tr>\n",
       "      <th>1916</th>\n",
       "      <td>Italy</td>\n",
       "      <td>ITA</td>\n",
       "      <td>1992</td>\n",
       "      <td>59.968</td>\n",
       "      <td>7.601</td>\n",
       "      <td>0.001</td>\n",
       "      <td>0.000</td>\n",
       "      <td>6.281</td>\n",
       "      <td>0.000</td>\n",
       "      <td>25.619</td>\n",
       "      <td>0.529</td>\n",
       "    </tr>\n",
       "    <tr>\n",
       "      <th>1917</th>\n",
       "      <td>Italy</td>\n",
       "      <td>ITA</td>\n",
       "      <td>1993</td>\n",
       "      <td>59.838</td>\n",
       "      <td>6.756</td>\n",
       "      <td>0.002</td>\n",
       "      <td>0.000</td>\n",
       "      <td>6.266</td>\n",
       "      <td>0.001</td>\n",
       "      <td>26.566</td>\n",
       "      <td>0.572</td>\n",
       "    </tr>\n",
       "    <tr>\n",
       "      <th>1918</th>\n",
       "      <td>Italy</td>\n",
       "      <td>ITA</td>\n",
       "      <td>1994</td>\n",
       "      <td>59.825</td>\n",
       "      <td>7.147</td>\n",
       "      <td>0.002</td>\n",
       "      <td>0.000</td>\n",
       "      <td>6.767</td>\n",
       "      <td>0.001</td>\n",
       "      <td>25.718</td>\n",
       "      <td>0.540</td>\n",
       "    </tr>\n",
       "    <tr>\n",
       "      <th>1919</th>\n",
       "      <td>Italy</td>\n",
       "      <td>ITA</td>\n",
       "      <td>1995</td>\n",
       "      <td>59.372</td>\n",
       "      <td>7.383</td>\n",
       "      <td>0.002</td>\n",
       "      <td>0.000</td>\n",
       "      <td>5.499</td>\n",
       "      <td>0.001</td>\n",
       "      <td>27.210</td>\n",
       "      <td>0.532</td>\n",
       "    </tr>\n",
       "    <tr>\n",
       "      <th>1920</th>\n",
       "      <td>Italy</td>\n",
       "      <td>ITA</td>\n",
       "      <td>1996</td>\n",
       "      <td>58.463</td>\n",
       "      <td>6.784</td>\n",
       "      <td>0.002</td>\n",
       "      <td>0.000</td>\n",
       "      <td>6.110</td>\n",
       "      <td>0.005</td>\n",
       "      <td>28.034</td>\n",
       "      <td>0.602</td>\n",
       "    </tr>\n",
       "    <tr>\n",
       "      <th>1921</th>\n",
       "      <td>Italy</td>\n",
       "      <td>ITA</td>\n",
       "      <td>1997</td>\n",
       "      <td>57.882</td>\n",
       "      <td>6.788</td>\n",
       "      <td>0.002</td>\n",
       "      <td>0.000</td>\n",
       "      <td>5.963</td>\n",
       "      <td>0.017</td>\n",
       "      <td>28.706</td>\n",
       "      <td>0.641</td>\n",
       "    </tr>\n",
       "    <tr>\n",
       "      <th>1922</th>\n",
       "      <td>Italy</td>\n",
       "      <td>ITA</td>\n",
       "      <td>1998</td>\n",
       "      <td>56.540</td>\n",
       "      <td>6.864</td>\n",
       "      <td>0.002</td>\n",
       "      <td>0.000</td>\n",
       "      <td>5.755</td>\n",
       "      <td>0.032</td>\n",
       "      <td>30.106</td>\n",
       "      <td>0.699</td>\n",
       "    </tr>\n",
       "    <tr>\n",
       "      <th>1923</th>\n",
       "      <td>Italy</td>\n",
       "      <td>ITA</td>\n",
       "      <td>1999</td>\n",
       "      <td>54.686</td>\n",
       "      <td>6.646</td>\n",
       "      <td>0.002</td>\n",
       "      <td>0.000</td>\n",
       "      <td>6.140</td>\n",
       "      <td>0.055</td>\n",
       "      <td>31.722</td>\n",
       "      <td>0.749</td>\n",
       "    </tr>\n",
       "    <tr>\n",
       "      <th>1924</th>\n",
       "      <td>Italy</td>\n",
       "      <td>ITA</td>\n",
       "      <td>2000</td>\n",
       "      <td>53.601</td>\n",
       "      <td>6.995</td>\n",
       "      <td>0.002</td>\n",
       "      <td>0.000</td>\n",
       "      <td>5.899</td>\n",
       "      <td>0.075</td>\n",
       "      <td>32.613</td>\n",
       "      <td>0.814</td>\n",
       "    </tr>\n",
       "    <tr>\n",
       "      <th>1925</th>\n",
       "      <td>Italy</td>\n",
       "      <td>ITA</td>\n",
       "      <td>2001</td>\n",
       "      <td>52.900</td>\n",
       "      <td>7.395</td>\n",
       "      <td>0.003</td>\n",
       "      <td>0.000</td>\n",
       "      <td>6.175</td>\n",
       "      <td>0.156</td>\n",
       "      <td>32.536</td>\n",
       "      <td>0.836</td>\n",
       "    </tr>\n",
       "    <tr>\n",
       "      <th>1926</th>\n",
       "      <td>Italy</td>\n",
       "      <td>ITA</td>\n",
       "      <td>2002</td>\n",
       "      <td>53.346</td>\n",
       "      <td>7.694</td>\n",
       "      <td>0.003</td>\n",
       "      <td>0.000</td>\n",
       "      <td>5.222</td>\n",
       "      <td>0.186</td>\n",
       "      <td>32.576</td>\n",
       "      <td>0.974</td>\n",
       "    </tr>\n",
       "    <tr>\n",
       "      <th>1927</th>\n",
       "      <td>Italy</td>\n",
       "      <td>ITA</td>\n",
       "      <td>2003</td>\n",
       "      <td>51.227</td>\n",
       "      <td>8.039</td>\n",
       "      <td>0.003</td>\n",
       "      <td>0.000</td>\n",
       "      <td>4.661</td>\n",
       "      <td>0.185</td>\n",
       "      <td>34.777</td>\n",
       "      <td>1.108</td>\n",
       "    </tr>\n",
       "    <tr>\n",
       "      <th>1928</th>\n",
       "      <td>Italy</td>\n",
       "      <td>ITA</td>\n",
       "      <td>2004</td>\n",
       "      <td>48.902</td>\n",
       "      <td>8.845</td>\n",
       "      <td>0.004</td>\n",
       "      <td>0.000</td>\n",
       "      <td>5.252</td>\n",
       "      <td>0.229</td>\n",
       "      <td>35.444</td>\n",
       "      <td>1.198</td>\n",
       "    </tr>\n",
       "    <tr>\n",
       "      <th>1929</th>\n",
       "      <td>Italy</td>\n",
       "      <td>ITA</td>\n",
       "      <td>2005</td>\n",
       "      <td>47.288</td>\n",
       "      <td>8.768</td>\n",
       "      <td>0.004</td>\n",
       "      <td>0.000</td>\n",
       "      <td>4.441</td>\n",
       "      <td>0.289</td>\n",
       "      <td>37.891</td>\n",
       "      <td>1.231</td>\n",
       "    </tr>\n",
       "    <tr>\n",
       "      <th>1930</th>\n",
       "      <td>Italy</td>\n",
       "      <td>ITA</td>\n",
       "      <td>2006</td>\n",
       "      <td>47.472</td>\n",
       "      <td>8.919</td>\n",
       "      <td>0.004</td>\n",
       "      <td>0.000</td>\n",
       "      <td>4.548</td>\n",
       "      <td>0.365</td>\n",
       "      <td>37.283</td>\n",
       "      <td>1.308</td>\n",
       "    </tr>\n",
       "    <tr>\n",
       "      <th>1931</th>\n",
       "      <td>Italy</td>\n",
       "      <td>ITA</td>\n",
       "      <td>2007</td>\n",
       "      <td>46.887</td>\n",
       "      <td>8.899</td>\n",
       "      <td>0.005</td>\n",
       "      <td>0.000</td>\n",
       "      <td>4.086</td>\n",
       "      <td>0.502</td>\n",
       "      <td>38.181</td>\n",
       "      <td>1.348</td>\n",
       "    </tr>\n",
       "    <tr>\n",
       "      <th>1932</th>\n",
       "      <td>Italy</td>\n",
       "      <td>ITA</td>\n",
       "      <td>2008</td>\n",
       "      <td>45.160</td>\n",
       "      <td>8.732</td>\n",
       "      <td>0.024</td>\n",
       "      <td>0.000</td>\n",
       "      <td>5.222</td>\n",
       "      <td>0.610</td>\n",
       "      <td>38.430</td>\n",
       "      <td>1.441</td>\n",
       "    </tr>\n",
       "    <tr>\n",
       "      <th>1933</th>\n",
       "      <td>Italy</td>\n",
       "      <td>ITA</td>\n",
       "      <td>2009</td>\n",
       "      <td>44.930</td>\n",
       "      <td>7.323</td>\n",
       "      <td>0.090</td>\n",
       "      <td>0.000</td>\n",
       "      <td>6.563</td>\n",
       "      <td>0.874</td>\n",
       "      <td>37.838</td>\n",
       "      <td>1.723</td>\n",
       "    </tr>\n",
       "    <tr>\n",
       "      <th>1934</th>\n",
       "      <td>Italy</td>\n",
       "      <td>ITA</td>\n",
       "      <td>2010</td>\n",
       "      <td>42.321</td>\n",
       "      <td>7.859</td>\n",
       "      <td>0.246</td>\n",
       "      <td>0.000</td>\n",
       "      <td>6.587</td>\n",
       "      <td>1.176</td>\n",
       "      <td>39.116</td>\n",
       "      <td>1.909</td>\n",
       "    </tr>\n",
       "    <tr>\n",
       "      <th>1935</th>\n",
       "      <td>Italy</td>\n",
       "      <td>ITA</td>\n",
       "      <td>2011</td>\n",
       "      <td>41.757</td>\n",
       "      <td>9.020</td>\n",
       "      <td>1.415</td>\n",
       "      <td>0.000</td>\n",
       "      <td>6.008</td>\n",
       "      <td>1.292</td>\n",
       "      <td>37.550</td>\n",
       "      <td>2.162</td>\n",
       "    </tr>\n",
       "    <tr>\n",
       "      <th>1936</th>\n",
       "      <td>Italy</td>\n",
       "      <td>ITA</td>\n",
       "      <td>2012</td>\n",
       "      <td>40.113</td>\n",
       "      <td>9.504</td>\n",
       "      <td>2.527</td>\n",
       "      <td>0.000</td>\n",
       "      <td>5.610</td>\n",
       "      <td>1.796</td>\n",
       "      <td>37.115</td>\n",
       "      <td>2.422</td>\n",
       "    </tr>\n",
       "    <tr>\n",
       "      <th>1937</th>\n",
       "      <td>Italy</td>\n",
       "      <td>ITA</td>\n",
       "      <td>2013</td>\n",
       "      <td>38.508</td>\n",
       "      <td>8.594</td>\n",
       "      <td>3.018</td>\n",
       "      <td>0.000</td>\n",
       "      <td>7.377</td>\n",
       "      <td>2.082</td>\n",
       "      <td>36.438</td>\n",
       "      <td>3.180</td>\n",
       "    </tr>\n",
       "    <tr>\n",
       "      <th>1938</th>\n",
       "      <td>Italy</td>\n",
       "      <td>ITA</td>\n",
       "      <td>2014</td>\n",
       "      <td>38.592</td>\n",
       "      <td>8.866</td>\n",
       "      <td>3.280</td>\n",
       "      <td>0.000</td>\n",
       "      <td>8.608</td>\n",
       "      <td>2.232</td>\n",
       "      <td>34.072</td>\n",
       "      <td>3.624</td>\n",
       "    </tr>\n",
       "    <tr>\n",
       "      <th>1939</th>\n",
       "      <td>Italy</td>\n",
       "      <td>ITA</td>\n",
       "      <td>2015</td>\n",
       "      <td>39.295</td>\n",
       "      <td>8.106</td>\n",
       "      <td>3.281</td>\n",
       "      <td>0.000</td>\n",
       "      <td>6.307</td>\n",
       "      <td>2.123</td>\n",
       "      <td>36.355</td>\n",
       "      <td>3.658</td>\n",
       "    </tr>\n",
       "    <tr>\n",
       "      <th>1940</th>\n",
       "      <td>Italy</td>\n",
       "      <td>ITA</td>\n",
       "      <td>2016</td>\n",
       "      <td>39.221</td>\n",
       "      <td>7.151</td>\n",
       "      <td>3.112</td>\n",
       "      <td>0.000</td>\n",
       "      <td>5.717</td>\n",
       "      <td>2.490</td>\n",
       "      <td>37.814</td>\n",
       "      <td>3.632</td>\n",
       "    </tr>\n",
       "    <tr>\n",
       "      <th>1941</th>\n",
       "      <td>Italy</td>\n",
       "      <td>ITA</td>\n",
       "      <td>2017</td>\n",
       "      <td>39.103</td>\n",
       "      <td>6.204</td>\n",
       "      <td>3.379</td>\n",
       "      <td>0.000</td>\n",
       "      <td>4.764</td>\n",
       "      <td>2.459</td>\n",
       "      <td>39.681</td>\n",
       "      <td>3.545</td>\n",
       "    </tr>\n",
       "    <tr>\n",
       "      <th>1942</th>\n",
       "      <td>Italy</td>\n",
       "      <td>ITA</td>\n",
       "      <td>2018</td>\n",
       "      <td>39.854</td>\n",
       "      <td>5.657</td>\n",
       "      <td>3.104</td>\n",
       "      <td>0.000</td>\n",
       "      <td>6.450</td>\n",
       "      <td>2.428</td>\n",
       "      <td>38.162</td>\n",
       "      <td>3.461</td>\n",
       "    </tr>\n",
       "    <tr>\n",
       "      <th>1943</th>\n",
       "      <td>Italy</td>\n",
       "      <td>ITA</td>\n",
       "      <td>2019</td>\n",
       "      <td>39.050</td>\n",
       "      <td>4.675</td>\n",
       "      <td>3.402</td>\n",
       "      <td>0.000</td>\n",
       "      <td>6.314</td>\n",
       "      <td>2.806</td>\n",
       "      <td>39.985</td>\n",
       "      <td>3.250</td>\n",
       "    </tr>\n",
       "  </tbody>\n",
       "</table>\n",
       "</div>"
      ],
      "text/plain": [
       "     Entity Code  Year  Oil (% sub energy)  Coal (% sub energy)  \\\n",
       "1889  Italy  ITA  1965              66.355               10.899   \n",
       "1890  Italy  ITA  1966              67.358               10.437   \n",
       "1891  Italy  ITA  1967              68.781               10.552   \n",
       "1892  Italy  ITA  1968              70.146                9.452   \n",
       "1893  Italy  ITA  1969              71.735                9.008   \n",
       "1894  Italy  ITA  1970              73.466                8.235   \n",
       "1895  Italy  ITA  1971              75.012                7.553   \n",
       "1896  Italy  ITA  1972              75.086                6.701   \n",
       "1897  Italy  ITA  1973              75.676                6.511   \n",
       "1898  Italy  ITA  1974              73.660                7.093   \n",
       "1899  Italy  ITA  1975              70.697                7.268   \n",
       "1900  Italy  ITA  1976              69.966                6.825   \n",
       "1901  Italy  ITA  1977              67.900                6.698   \n",
       "1902  Italy  ITA  1978              69.542                6.645   \n",
       "1903  Italy  ITA  1979              69.653                7.070   \n",
       "1904  Italy  ITA  1980              67.870                8.514   \n",
       "1905  Italy  ITA  1981              67.812                8.911   \n",
       "1906  Italy  ITA  1982              65.702               10.165   \n",
       "1907  Italy  ITA  1983              65.385                9.719   \n",
       "1908  Italy  ITA  1984              61.432               10.854   \n",
       "1909  Italy  ITA  1985              61.354               10.759   \n",
       "1910  Italy  ITA  1986              61.155               10.294   \n",
       "1911  Italy  ITA  1987              61.891                9.918   \n",
       "1912  Italy  ITA  1988              61.485                9.073   \n",
       "1913  Italy  ITA  1989              61.496                9.202   \n",
       "1914  Italy  ITA  1990              60.495                9.323   \n",
       "1915  Italy  ITA  1991              58.727                8.660   \n",
       "1916  Italy  ITA  1992              59.968                7.601   \n",
       "1917  Italy  ITA  1993              59.838                6.756   \n",
       "1918  Italy  ITA  1994              59.825                7.147   \n",
       "1919  Italy  ITA  1995              59.372                7.383   \n",
       "1920  Italy  ITA  1996              58.463                6.784   \n",
       "1921  Italy  ITA  1997              57.882                6.788   \n",
       "1922  Italy  ITA  1998              56.540                6.864   \n",
       "1923  Italy  ITA  1999              54.686                6.646   \n",
       "1924  Italy  ITA  2000              53.601                6.995   \n",
       "1925  Italy  ITA  2001              52.900                7.395   \n",
       "1926  Italy  ITA  2002              53.346                7.694   \n",
       "1927  Italy  ITA  2003              51.227                8.039   \n",
       "1928  Italy  ITA  2004              48.902                8.845   \n",
       "1929  Italy  ITA  2005              47.288                8.768   \n",
       "1930  Italy  ITA  2006              47.472                8.919   \n",
       "1931  Italy  ITA  2007              46.887                8.899   \n",
       "1932  Italy  ITA  2008              45.160                8.732   \n",
       "1933  Italy  ITA  2009              44.930                7.323   \n",
       "1934  Italy  ITA  2010              42.321                7.859   \n",
       "1935  Italy  ITA  2011              41.757                9.020   \n",
       "1936  Italy  ITA  2012              40.113                9.504   \n",
       "1937  Italy  ITA  2013              38.508                8.594   \n",
       "1938  Italy  ITA  2014              38.592                8.866   \n",
       "1939  Italy  ITA  2015              39.295                8.106   \n",
       "1940  Italy  ITA  2016              39.221                7.151   \n",
       "1941  Italy  ITA  2017              39.103                6.204   \n",
       "1942  Italy  ITA  2018              39.854                5.657   \n",
       "1943  Italy  ITA  2019              39.050                4.675   \n",
       "\n",
       "      Solar (% sub energy)  Nuclear (% sub energy)  Hydro (% sub energy)  \\\n",
       "1889                 0.000                   1.059                12.867   \n",
       "1890                 0.000                   1.073                12.147   \n",
       "1891                 0.000                   0.808                10.853   \n",
       "1892                 0.000                   0.611                10.118   \n",
       "1893                 0.000                   0.370                 9.061   \n",
       "1894                 0.000                   0.633                 8.045   \n",
       "1895                 0.000                   0.637                 7.393   \n",
       "1896                 0.000                   0.654                 7.459   \n",
       "1897                 0.000                   0.543                 6.481   \n",
       "1898                 0.000                   0.589                 6.531   \n",
       "1899                 0.000                   0.671                 7.244   \n",
       "1900                 0.000                   0.637                 6.552   \n",
       "1901                 0.000                   0.565                 8.535   \n",
       "1902                 0.000                   0.721                 7.405   \n",
       "1903                 0.000                   0.415                 7.251   \n",
       "1904                 0.000                   0.358                 7.329   \n",
       "1905                 0.000                   0.448                 7.119   \n",
       "1906                 0.000                   1.148                 6.998   \n",
       "1907                 0.000                   0.997                 7.146   \n",
       "1908                 0.000                   1.169                 7.199   \n",
       "1909                 0.000                   1.197                 7.004   \n",
       "1910                 0.000                   1.453                 6.819   \n",
       "1911                 0.000                   0.028                 6.362   \n",
       "1912                 0.000                   0.000                 6.393   \n",
       "1913                 0.000                   0.000                 5.203   \n",
       "1914                 0.001                   0.000                 4.810   \n",
       "1915                 0.001                   0.000                 6.282   \n",
       "1916                 0.001                   0.000                 6.281   \n",
       "1917                 0.002                   0.000                 6.266   \n",
       "1918                 0.002                   0.000                 6.767   \n",
       "1919                 0.002                   0.000                 5.499   \n",
       "1920                 0.002                   0.000                 6.110   \n",
       "1921                 0.002                   0.000                 5.963   \n",
       "1922                 0.002                   0.000                 5.755   \n",
       "1923                 0.002                   0.000                 6.140   \n",
       "1924                 0.002                   0.000                 5.899   \n",
       "1925                 0.003                   0.000                 6.175   \n",
       "1926                 0.003                   0.000                 5.222   \n",
       "1927                 0.003                   0.000                 4.661   \n",
       "1928                 0.004                   0.000                 5.252   \n",
       "1929                 0.004                   0.000                 4.441   \n",
       "1930                 0.004                   0.000                 4.548   \n",
       "1931                 0.005                   0.000                 4.086   \n",
       "1932                 0.024                   0.000                 5.222   \n",
       "1933                 0.090                   0.000                 6.563   \n",
       "1934                 0.246                   0.000                 6.587   \n",
       "1935                 1.415                   0.000                 6.008   \n",
       "1936                 2.527                   0.000                 5.610   \n",
       "1937                 3.018                   0.000                 7.377   \n",
       "1938                 3.280                   0.000                 8.608   \n",
       "1939                 3.281                   0.000                 6.307   \n",
       "1940                 3.112                   0.000                 5.717   \n",
       "1941                 3.379                   0.000                 4.764   \n",
       "1942                 3.104                   0.000                 6.450   \n",
       "1943                 3.402                   0.000                 6.314   \n",
       "\n",
       "      Wind (% sub energy)  Gas (% sub energy)  Other renewables (% sub energy)  \n",
       "1889                0.000               8.012                            0.808  \n",
       "1890                0.000               8.054                            0.931  \n",
       "1891                0.000               8.116                            0.891  \n",
       "1892                0.000               8.816                            0.858  \n",
       "1893                0.000               8.987                            0.839  \n",
       "1894                0.000               8.778                            0.843  \n",
       "1895                0.000               8.609                            0.796  \n",
       "1896                0.000               9.413                            0.687  \n",
       "1897                0.000              10.125                            0.664  \n",
       "1898                0.000              11.393                            0.734  \n",
       "1899                0.000              13.416                            0.704  \n",
       "1900                0.000              15.384                            0.638  \n",
       "1901                0.000              15.679                            0.623  \n",
       "1902                0.000              15.066                            0.620  \n",
       "1903                0.000              15.007                            0.604  \n",
       "1904                0.000              15.288                            0.641  \n",
       "1905                0.000              15.138                            0.574  \n",
       "1906                0.000              15.392                            0.594  \n",
       "1907                0.000              16.168                            0.585  \n",
       "1908                0.000              18.756                            0.589  \n",
       "1909                0.000              19.139                            0.547  \n",
       "1910                0.000              19.698                            0.581  \n",
       "1911                0.000              21.207                            0.595  \n",
       "1912                0.000              22.454                            0.595  \n",
       "1913                0.000              23.610                            0.488  \n",
       "1914                0.000              24.874                            0.498  \n",
       "1915                0.000              25.840                            0.490  \n",
       "1916                0.000              25.619                            0.529  \n",
       "1917                0.001              26.566                            0.572  \n",
       "1918                0.001              25.718                            0.540  \n",
       "1919                0.001              27.210                            0.532  \n",
       "1920                0.005              28.034                            0.602  \n",
       "1921                0.017              28.706                            0.641  \n",
       "1922                0.032              30.106                            0.699  \n",
       "1923                0.055              31.722                            0.749  \n",
       "1924                0.075              32.613                            0.814  \n",
       "1925                0.156              32.536                            0.836  \n",
       "1926                0.186              32.576                            0.974  \n",
       "1927                0.185              34.777                            1.108  \n",
       "1928                0.229              35.444                            1.198  \n",
       "1929                0.289              37.891                            1.231  \n",
       "1930                0.365              37.283                            1.308  \n",
       "1931                0.502              38.181                            1.348  \n",
       "1932                0.610              38.430                            1.441  \n",
       "1933                0.874              37.838                            1.723  \n",
       "1934                1.176              39.116                            1.909  \n",
       "1935                1.292              37.550                            2.162  \n",
       "1936                1.796              37.115                            2.422  \n",
       "1937                2.082              36.438                            3.180  \n",
       "1938                2.232              34.072                            3.624  \n",
       "1939                2.123              36.355                            3.658  \n",
       "1940                2.490              37.814                            3.632  \n",
       "1941                2.459              39.681                            3.545  \n",
       "1942                2.428              38.162                            3.461  \n",
       "1943                2.806              39.985                            3.250  "
      ]
     },
     "execution_count": 15,
     "metadata": {},
     "output_type": "execute_result"
    }
   ],
   "source": [
    "nationsCon[\"Italy\"]"
   ]
  }
 ],
 "metadata": {
  "kernelspec": {
   "display_name": "Python 3.10.4 64-bit",
   "language": "python",
   "name": "python3"
  },
  "language_info": {
   "codemirror_mode": {
    "name": "ipython",
    "version": 3
   },
   "file_extension": ".py",
   "mimetype": "text/x-python",
   "name": "python",
   "nbconvert_exporter": "python",
   "pygments_lexer": "ipython3",
   "version": "3.10.4"
  },
  "orig_nbformat": 4,
  "vscode": {
   "interpreter": {
    "hash": "883bf3196445a25e6ef0b83fe1b0217ce28953988b66f135da5aaeedac26c0c3"
   }
  }
 },
 "nbformat": 4,
 "nbformat_minor": 2
}
