{
 "cells": [
  {
   "cell_type": "code",
   "execution_count": 2,
   "metadata": {},
   "outputs": [],
   "source": [
    "import csv\n",
    "import pandas as pd\n",
    "import matplotlib.pyplot as plt\n",
    "import numpy as np\n",
    "from pandasql import sqldf\n",
    "import plotly.express as plx\n",
    "import plotly.graph_objects as go"
   ]
  },
  {
   "cell_type": "code",
   "execution_count": 3,
   "metadata": {},
   "outputs": [
    {
     "name": "stderr",
     "output_type": "stream",
     "text": [
      "C:\\Users\\matte\\AppData\\Local\\Temp\\ipykernel_18860\\3706423964.py:1: DtypeWarning: Columns (10) have mixed types. Specify dtype option on import or set low_memory=False.\n",
      "  globalPower = pd.read_csv(\"./dataset/global_power_plant_database_last.csv\")\n"
     ]
    }
   ],
   "source": [
    "globalPower = pd.read_csv(\"./dataset/global_power_plant_database_last.csv\")\n",
    "primaryConsumption = pd.read_csv(\"./dataset/Primary-energy-consumption-from-fossilfuels-nuclear-renewables.csv\")\n",
    "prodbysource = pd.read_csv(\"./dataset/share-elec-produc-by-source.csv\")\n",
    "consbysource = pd.read_csv(\"./dataset/share-energy-consum-by-source.csv\")"
   ]
  },
  {
   "cell_type": "code",
   "execution_count": 4,
   "metadata": {},
   "outputs": [
    {
     "data": {
      "text/html": [
       "<div>\n",
       "<style scoped>\n",
       "    .dataframe tbody tr th:only-of-type {\n",
       "        vertical-align: middle;\n",
       "    }\n",
       "\n",
       "    .dataframe tbody tr th {\n",
       "        vertical-align: top;\n",
       "    }\n",
       "\n",
       "    .dataframe thead th {\n",
       "        text-align: right;\n",
       "    }\n",
       "</style>\n",
       "<table border=\"1\" class=\"dataframe\">\n",
       "  <thead>\n",
       "    <tr style=\"text-align: right;\">\n",
       "      <th></th>\n",
       "      <th>Entity</th>\n",
       "      <th>Code</th>\n",
       "      <th>Year</th>\n",
       "      <th>Coal (% electricity)</th>\n",
       "      <th>Gas (% electricity)</th>\n",
       "      <th>Hydro (% electricity)</th>\n",
       "      <th>Solar (% electricity)</th>\n",
       "      <th>Wind (% electricity)</th>\n",
       "      <th>Oil (% electricity)</th>\n",
       "      <th>Nuclear (% electricity)</th>\n",
       "      <th>Other renewables (% electricity)</th>\n",
       "    </tr>\n",
       "  </thead>\n",
       "  <tbody>\n",
       "    <tr>\n",
       "      <th>0</th>\n",
       "      <td>Afghanistan</td>\n",
       "      <td>AFG</td>\n",
       "      <td>2000</td>\n",
       "      <td>0.0</td>\n",
       "      <td>33.190578</td>\n",
       "      <td>66.809422</td>\n",
       "      <td>0.0</td>\n",
       "      <td>0.0</td>\n",
       "      <td>0.0</td>\n",
       "      <td>0.0</td>\n",
       "      <td>0.0</td>\n",
       "    </tr>\n",
       "    <tr>\n",
       "      <th>1</th>\n",
       "      <td>Afghanistan</td>\n",
       "      <td>AFG</td>\n",
       "      <td>2001</td>\n",
       "      <td>0.0</td>\n",
       "      <td>15.878378</td>\n",
       "      <td>84.121622</td>\n",
       "      <td>0.0</td>\n",
       "      <td>0.0</td>\n",
       "      <td>0.0</td>\n",
       "      <td>0.0</td>\n",
       "      <td>0.0</td>\n",
       "    </tr>\n",
       "    <tr>\n",
       "      <th>2</th>\n",
       "      <td>Afghanistan</td>\n",
       "      <td>AFG</td>\n",
       "      <td>2002</td>\n",
       "      <td>0.0</td>\n",
       "      <td>19.213974</td>\n",
       "      <td>80.786026</td>\n",
       "      <td>0.0</td>\n",
       "      <td>0.0</td>\n",
       "      <td>0.0</td>\n",
       "      <td>0.0</td>\n",
       "      <td>0.0</td>\n",
       "    </tr>\n",
       "    <tr>\n",
       "      <th>3</th>\n",
       "      <td>Afghanistan</td>\n",
       "      <td>AFG</td>\n",
       "      <td>2003</td>\n",
       "      <td>0.0</td>\n",
       "      <td>32.907348</td>\n",
       "      <td>67.092652</td>\n",
       "      <td>0.0</td>\n",
       "      <td>0.0</td>\n",
       "      <td>0.0</td>\n",
       "      <td>0.0</td>\n",
       "      <td>0.0</td>\n",
       "    </tr>\n",
       "    <tr>\n",
       "      <th>4</th>\n",
       "      <td>Afghanistan</td>\n",
       "      <td>AFG</td>\n",
       "      <td>2004</td>\n",
       "      <td>0.0</td>\n",
       "      <td>36.800895</td>\n",
       "      <td>63.199105</td>\n",
       "      <td>0.0</td>\n",
       "      <td>0.0</td>\n",
       "      <td>0.0</td>\n",
       "      <td>0.0</td>\n",
       "      <td>0.0</td>\n",
       "    </tr>\n",
       "  </tbody>\n",
       "</table>\n",
       "</div>"
      ],
      "text/plain": [
       "        Entity Code  Year  Coal (% electricity)  Gas (% electricity)  \\\n",
       "0  Afghanistan  AFG  2000                   0.0            33.190578   \n",
       "1  Afghanistan  AFG  2001                   0.0            15.878378   \n",
       "2  Afghanistan  AFG  2002                   0.0            19.213974   \n",
       "3  Afghanistan  AFG  2003                   0.0            32.907348   \n",
       "4  Afghanistan  AFG  2004                   0.0            36.800895   \n",
       "\n",
       "   Hydro (% electricity)  Solar (% electricity)  Wind (% electricity)  \\\n",
       "0              66.809422                    0.0                   0.0   \n",
       "1              84.121622                    0.0                   0.0   \n",
       "2              80.786026                    0.0                   0.0   \n",
       "3              67.092652                    0.0                   0.0   \n",
       "4              63.199105                    0.0                   0.0   \n",
       "\n",
       "   Oil (% electricity)  Nuclear (% electricity)  \\\n",
       "0                  0.0                      0.0   \n",
       "1                  0.0                      0.0   \n",
       "2                  0.0                      0.0   \n",
       "3                  0.0                      0.0   \n",
       "4                  0.0                      0.0   \n",
       "\n",
       "   Other renewables (% electricity)  \n",
       "0                               0.0  \n",
       "1                               0.0  \n",
       "2                               0.0  \n",
       "3                               0.0  \n",
       "4                               0.0  "
      ]
     },
     "execution_count": 4,
     "metadata": {},
     "output_type": "execute_result"
    }
   ],
   "source": [
    "nations = {}\n",
    "for entity in prodbysource[\"Entity\"]:\n",
    "    if entity not in nations.keys():\n",
    "        nations[entity] = prodbysource[prodbysource[\"Entity\"] == entity]\n",
    "    pass\n"
   ]
  },
  {
   "cell_type": "code",
   "execution_count": 21,
   "metadata": {},
   "outputs": [],
   "source": [
    "def nationProdStats(nation):\n",
    "    return plx.histogram(nation,x=\"Year\",y=[\"Hydro (% electricity)\", \"Nuclear (% electricity)\", \n",
    "\"Wind (% electricity)\", \"Solar (% electricity)\", \"Coal (% electricity)\", \"Gas (% electricity)\"\n",
    ",\"Oil (% electricity)\"], nbins=100)"
   ]
  },
  {
   "cell_type": "code",
   "execution_count": 5,
   "metadata": {},
   "outputs": [
    {
     "data": {
      "application/vnd.plotly.v1+json": {
       "config": {
        "plotlyServerURL": "https://plot.ly"
       },
       "data": [
        {
         "alignmentgroup": "True",
         "bingroup": "x",
         "histfunc": "sum",
         "hovertemplate": "variable=Hydro (% electricity)<br>Year=%{x}<br>sum of value=%{y}<extra></extra>",
         "legendgroup": "Hydro (% electricity)",
         "marker": {
          "color": "#636efa",
          "pattern": {
           "shape": ""
          }
         },
         "name": "Hydro (% electricity)",
         "nbinsx": 100,
         "offsetgroup": "Hydro (% electricity)",
         "orientation": "v",
         "showlegend": true,
         "type": "histogram",
         "x": [
          1985,
          1986,
          1987,
          1988,
          1989,
          1990,
          1991,
          1992,
          1993,
          1994,
          1995,
          1996,
          1997,
          1998,
          1999,
          2000,
          2001,
          2002,
          2003,
          2004,
          2005,
          2006,
          2007,
          2008,
          2009,
          2010,
          2011,
          2012,
          2013,
          2014,
          2015,
          2016,
          2017,
          2018,
          2019,
          2020
         ],
         "xaxis": "x",
         "y": [
          20.03976843473408,
          19.72248095689467,
          19.070142835670644,
          18.85056289201214,
          17.91296113863136,
          18.05497225269325,
          18.08246389356788,
          17.916434448202725,
          18.593401508326927,
          18.246798986339414,
          18.58387358076919,
          18.278777971401237,
          18.173174893524145,
          17.837652703865658,
          17.467214954069238,
          17.667293529772017,
          16.969094421998534,
          16.63589198576401,
          16.179574151601877,
          16.42888691292807,
          16.467468123247475,
          16.337208241528604,
          15.84751975580814,
          16.237331395214063,
          16.444836041889648,
          16.292769759748424,
          16.06353149405532,
          16.547709298555564,
          16.627931771661007,
          16.771833872024988,
          16.575629113546437,
          16.800174985919803,
          16.58686360101829,
          16.468280178554352,
          16.452791505828404,
          16.847409137588688
         ],
         "yaxis": "y"
        },
        {
         "alignmentgroup": "True",
         "bingroup": "x",
         "histfunc": "sum",
         "hovertemplate": "variable=Nuclear (% electricity)<br>Year=%{x}<br>sum of value=%{y}<extra></extra>",
         "legendgroup": "Nuclear (% electricity)",
         "marker": {
          "color": "#EF553B",
          "pattern": {
           "shape": ""
          }
         },
         "name": "Nuclear (% electricity)",
         "nbinsx": 100,
         "offsetgroup": "Nuclear (% electricity)",
         "orientation": "v",
         "showlegend": true,
         "type": "histogram",
         "x": [
          1985,
          1986,
          1987,
          1988,
          1989,
          1990,
          1991,
          1992,
          1993,
          1994,
          1995,
          1996,
          1997,
          1998,
          1999,
          2000,
          2001,
          2002,
          2003,
          2004,
          2005,
          2006,
          2007,
          2008,
          2009,
          2010,
          2011,
          2012,
          2013,
          2014,
          2015,
          2016,
          2017,
          2018,
          2019,
          2020
         ],
         "xaxis": "x",
         "y": [
          15.071231384259509,
          15.674568698527953,
          16.266658921608094,
          16.987066658144855,
          16.689684084156717,
          16.729900261073023,
          17.155709663152653,
          17.129848196744884,
          17.35117503169202,
          17.232316666921786,
          17.363426589231192,
          17.45423511597042,
          16.92775620501459,
          16.765014232959356,
          16.922118020051737,
          16.897195869337107,
          17.068529913631263,
          16.675164826182197,
          15.961525392926768,
          15.8233827556353,
          15.290486503802525,
          14.874632112816514,
          13.89886729414733,
          13.631737751058056,
          13.481521741682108,
          12.903802323582855,
          11.956703201167056,
          10.92632780236347,
          10.711287703917062,
          10.73093322981236,
          10.706560331787015,
          10.5671347570513,
          10.35389066998084,
          10.22861966268875,
          10.5046134617379,
          10.122323511042284
         ],
         "yaxis": "y"
        },
        {
         "alignmentgroup": "True",
         "bingroup": "x",
         "histfunc": "sum",
         "hovertemplate": "variable=Wind (% electricity)<br>Year=%{x}<br>sum of value=%{y}<extra></extra>",
         "legendgroup": "Wind (% electricity)",
         "marker": {
          "color": "#00cc96",
          "pattern": {
           "shape": ""
          }
         },
         "name": "Wind (% electricity)",
         "nbinsx": 100,
         "offsetgroup": "Wind (% electricity)",
         "orientation": "v",
         "showlegend": true,
         "type": "histogram",
         "x": [
          1985,
          1986,
          1987,
          1988,
          1989,
          1990,
          1991,
          1992,
          1993,
          1994,
          1995,
          1996,
          1997,
          1998,
          1999,
          2000,
          2001,
          2002,
          2003,
          2004,
          2005,
          2006,
          2007,
          2008,
          2009,
          2010,
          2011,
          2012,
          2013,
          2014,
          2015,
          2016,
          2017,
          2018,
          2019,
          2020
         ],
         "xaxis": "x",
         "y": [
          0.0006500526957456,
          0.0013645652422091,
          0.001832055441334,
          0.0029782262070905,
          0.0227371190006766,
          0.0303784169381305,
          0.033446808144156,
          0.0383881540767215,
          0.045248230785169,
          0.0551451785484687,
          0.0617703882389957,
          0.0667521995439574,
          0.0851092592779253,
          0.1097813208248946,
          0.1422231335752603,
          0.2130266647871909,
          0.2554755912875265,
          0.3388311959643256,
          0.4018299306529369,
          0.5025617138807723,
          0.5979321221556558,
          0.7260789483206641,
          0.8951278447945308,
          1.1286810986301652,
          1.4328300456261287,
          1.6672873177310497,
          2.048887244900266,
          2.4218366931195816,
          2.853810685514823,
          3.1395970327959404,
          3.554301803343768,
          4.008043443951022,
          4.619665513626236,
          4.953471420499797,
          5.470879075727184,
          6.15162249512968
         ],
         "yaxis": "y"
        },
        {
         "alignmentgroup": "True",
         "bingroup": "x",
         "histfunc": "sum",
         "hovertemplate": "variable=Solar (% electricity)<br>Year=%{x}<br>sum of value=%{y}<extra></extra>",
         "legendgroup": "Solar (% electricity)",
         "marker": {
          "color": "#ab63fa",
          "pattern": {
           "shape": ""
          }
         },
         "name": "Solar (% electricity)",
         "nbinsx": 100,
         "offsetgroup": "Solar (% electricity)",
         "orientation": "v",
         "showlegend": true,
         "type": "histogram",
         "x": [
          1985,
          1986,
          1987,
          1988,
          1989,
          1990,
          1991,
          1992,
          1993,
          1994,
          1995,
          1996,
          1997,
          1998,
          1999,
          2000,
          2001,
          2002,
          2003,
          2004,
          2005,
          2006,
          2007,
          2008,
          2009,
          2010,
          2011,
          2012,
          2013,
          2014,
          2015,
          2016,
          2017,
          2018,
          2019,
          2020
         ],
         "xaxis": "x",
         "y": [
          0.0001189108341944,
          0.0001492410979224,
          0.0000994250186702,
          0.0000915793889181,
          0.0022500766489949,
          0.0032473177149642,
          0.0041347287463706,
          0.0038004038885521,
          0.0044211099231453,
          0.0046452619568567,
          0.00479105334079,
          0.0051142015825181,
          0.0053580757693217,
          0.0057354059714314,
          0.0061417479836986,
          0.0072328549731957,
          0.0089160015164925,
          0.0110266580026868,
          0.0130301552380669,
          0.0164322309065122,
          0.0219523055624972,
          0.0283303436452744,
          0.0365917110178466,
          0.0588023377801188,
          0.1001963003485066,
          0.1468599765050378,
          0.279095346040958,
          0.436168105124879,
          0.5869172466751521,
          0.8583480585899391,
          1.0923410759391183,
          1.3774634123647191,
          1.804265284462097,
          2.2414612381822594,
          2.7182585916058555,
          3.266493589375951
         ],
         "yaxis": "y"
        },
        {
         "alignmentgroup": "True",
         "bingroup": "x",
         "histfunc": "sum",
         "hovertemplate": "variable=Coal (% electricity)<br>Year=%{x}<br>sum of value=%{y}<extra></extra>",
         "legendgroup": "Coal (% electricity)",
         "marker": {
          "color": "#FFA15A",
          "pattern": {
           "shape": ""
          }
         },
         "name": "Coal (% electricity)",
         "nbinsx": 100,
         "offsetgroup": "Coal (% electricity)",
         "orientation": "v",
         "showlegend": true,
         "type": "histogram",
         "x": [
          1985,
          1986,
          1987,
          1988,
          1989,
          1990,
          1991,
          1992,
          1993,
          1994,
          1995,
          1996,
          1997,
          1998,
          1999,
          2000,
          2001,
          2002,
          2003,
          2004,
          2005,
          2006,
          2007,
          2008,
          2009,
          2010,
          2011,
          2012,
          2013,
          2014,
          2015,
          2016,
          2017,
          2018,
          2019,
          2020
         ],
         "xaxis": "x",
         "y": [
          37.93446962756681,
          37.72614538980499,
          38.04529586052022,
          37.71690205730779,
          37.559033094927976,
          37.30237895351607,
          37.29876285281756,
          37.7177794670188,
          37.54112181615066,
          37.87930970085972,
          37.67729678008902,
          38.290744096046815,
          38.21221343136502,
          37.97436067688849,
          37.72015603208478,
          37.72808188028088,
          37.783042544281706,
          38.047847493001534,
          39.1161488222124,
          38.732095192154695,
          39.00391360125286,
          39.677980740068165,
          40.400485601864816,
          39.82442612180381,
          39.46599195820568,
          39.65377539378611,
          40.27779165468242,
          39.33153016633087,
          40.058332468473246,
          39.33628373171245,
          37.76737882334748,
          36.6881349052289,
          36.66696351943092,
          36.56297967745374,
          35.06444088904937,
          33.79429912643198
         ],
         "yaxis": "y"
        },
        {
         "alignmentgroup": "True",
         "bingroup": "x",
         "histfunc": "sum",
         "hovertemplate": "variable=Gas (% electricity)<br>Year=%{x}<br>sum of value=%{y}<extra></extra>",
         "legendgroup": "Gas (% electricity)",
         "marker": {
          "color": "#19d3f3",
          "pattern": {
           "shape": ""
          }
         },
         "name": "Gas (% electricity)",
         "nbinsx": 100,
         "offsetgroup": "Gas (% electricity)",
         "orientation": "v",
         "showlegend": true,
         "type": "histogram",
         "x": [
          1985,
          1986,
          1987,
          1988,
          1989,
          1990,
          1991,
          1992,
          1993,
          1994,
          1995,
          1996,
          1997,
          1998,
          1999,
          2000,
          2001,
          2002,
          2003,
          2004,
          2005,
          2006,
          2007,
          2008,
          2009,
          2010,
          2011,
          2012,
          2013,
          2014,
          2015,
          2016,
          2017,
          2018,
          2019,
          2020
         ],
         "xaxis": "x",
         "y": [
          14.397493017048005,
          14.04318117466073,
          14.186852422495166,
          13.801174452965896,
          14.796553892628127,
          14.92871038824245,
          14.822333058366704,
          14.784222171021923,
          14.742770353799555,
          14.844370048240512,
          15.162945080182086,
          15.158781433064494,
          15.993153891612003,
          16.510015403858223,
          17.341245560467158,
          18.01434841969932,
          18.72156066229112,
          19.37729894737918,
          19.528654784884885,
          20.06129312154304,
          20.261690036679024,
          20.60379243734538,
          21.243051893765976,
          21.56722668950484,
          21.719361078766465,
          22.300866263458914,
          21.91820698179937,
          22.61681133774838,
          21.553374847035894,
          21.72861827314301,
          22.80503600707808,
          23.05661731823608,
          22.87398800089201,
          22.470470099105302,
          22.946551840880783,
          22.794806056430623
         ],
         "yaxis": "y"
        },
        {
         "alignmentgroup": "True",
         "bingroup": "x",
         "histfunc": "sum",
         "hovertemplate": "variable=Oil (% electricity)<br>Year=%{x}<br>sum of value=%{y}<extra></extra>",
         "legendgroup": "Oil (% electricity)",
         "marker": {
          "color": "#FF6692",
          "pattern": {
           "shape": ""
          }
         },
         "name": "Oil (% electricity)",
         "nbinsx": 100,
         "offsetgroup": "Oil (% electricity)",
         "orientation": "v",
         "showlegend": true,
         "type": "histogram",
         "x": [
          1985,
          1986,
          1987,
          1988,
          1989,
          1990,
          1991,
          1992,
          1993,
          1994,
          1995,
          1996,
          1997,
          1998,
          1999,
          2000,
          2001,
          2002,
          2003,
          2004,
          2005,
          2006,
          2007,
          2008,
          2009,
          2010,
          2011,
          2012,
          2013,
          2014,
          2015,
          2016,
          2017,
          2018,
          2019,
          2020
         ],
         "xaxis": "x",
         "y": [
          11.2231535513803,
          11.462996968980626,
          11.074492166727406,
          11.265927248282772,
          11.555905084167184,
          11.411992335233633,
          11.047040024187272,
          10.767935472716628,
          10.05288424650534,
          10.07527867913295,
          9.411828853055106,
          9.026541124725368,
          8.812082204876889,
          8.928579046855056,
          8.492827453121325,
          7.985519631109347,
          7.743789893806194,
          7.416157693799335,
          7.276546448860058,
          6.89458084946057,
          6.755894836866299,
          6.1346503875684375,
          6.043752969053967,
          5.807208151574094,
          5.51899052683202,
          5.080882653414017,
          5.452089891475212,
          5.589541001124966,
          5.373047943728634,
          5.08240343912862,
          5.102174804669978,
          5.026452319426282,
          4.562144680846296,
          4.477462829641916,
          4.205852972272212,
          4.3651717695667855
         ],
         "yaxis": "y"
        }
       ],
       "layout": {
        "barmode": "relative",
        "legend": {
         "title": {
          "text": "variable"
         },
         "tracegroupgap": 0
        },
        "margin": {
         "t": 60
        },
        "template": {
         "data": {
          "bar": [
           {
            "error_x": {
             "color": "#2a3f5f"
            },
            "error_y": {
             "color": "#2a3f5f"
            },
            "marker": {
             "line": {
              "color": "#E5ECF6",
              "width": 0.5
             },
             "pattern": {
              "fillmode": "overlay",
              "size": 10,
              "solidity": 0.2
             }
            },
            "type": "bar"
           }
          ],
          "barpolar": [
           {
            "marker": {
             "line": {
              "color": "#E5ECF6",
              "width": 0.5
             },
             "pattern": {
              "fillmode": "overlay",
              "size": 10,
              "solidity": 0.2
             }
            },
            "type": "barpolar"
           }
          ],
          "carpet": [
           {
            "aaxis": {
             "endlinecolor": "#2a3f5f",
             "gridcolor": "white",
             "linecolor": "white",
             "minorgridcolor": "white",
             "startlinecolor": "#2a3f5f"
            },
            "baxis": {
             "endlinecolor": "#2a3f5f",
             "gridcolor": "white",
             "linecolor": "white",
             "minorgridcolor": "white",
             "startlinecolor": "#2a3f5f"
            },
            "type": "carpet"
           }
          ],
          "choropleth": [
           {
            "colorbar": {
             "outlinewidth": 0,
             "ticks": ""
            },
            "type": "choropleth"
           }
          ],
          "contour": [
           {
            "colorbar": {
             "outlinewidth": 0,
             "ticks": ""
            },
            "colorscale": [
             [
              0,
              "#0d0887"
             ],
             [
              0.1111111111111111,
              "#46039f"
             ],
             [
              0.2222222222222222,
              "#7201a8"
             ],
             [
              0.3333333333333333,
              "#9c179e"
             ],
             [
              0.4444444444444444,
              "#bd3786"
             ],
             [
              0.5555555555555556,
              "#d8576b"
             ],
             [
              0.6666666666666666,
              "#ed7953"
             ],
             [
              0.7777777777777778,
              "#fb9f3a"
             ],
             [
              0.8888888888888888,
              "#fdca26"
             ],
             [
              1,
              "#f0f921"
             ]
            ],
            "type": "contour"
           }
          ],
          "contourcarpet": [
           {
            "colorbar": {
             "outlinewidth": 0,
             "ticks": ""
            },
            "type": "contourcarpet"
           }
          ],
          "heatmap": [
           {
            "colorbar": {
             "outlinewidth": 0,
             "ticks": ""
            },
            "colorscale": [
             [
              0,
              "#0d0887"
             ],
             [
              0.1111111111111111,
              "#46039f"
             ],
             [
              0.2222222222222222,
              "#7201a8"
             ],
             [
              0.3333333333333333,
              "#9c179e"
             ],
             [
              0.4444444444444444,
              "#bd3786"
             ],
             [
              0.5555555555555556,
              "#d8576b"
             ],
             [
              0.6666666666666666,
              "#ed7953"
             ],
             [
              0.7777777777777778,
              "#fb9f3a"
             ],
             [
              0.8888888888888888,
              "#fdca26"
             ],
             [
              1,
              "#f0f921"
             ]
            ],
            "type": "heatmap"
           }
          ],
          "heatmapgl": [
           {
            "colorbar": {
             "outlinewidth": 0,
             "ticks": ""
            },
            "colorscale": [
             [
              0,
              "#0d0887"
             ],
             [
              0.1111111111111111,
              "#46039f"
             ],
             [
              0.2222222222222222,
              "#7201a8"
             ],
             [
              0.3333333333333333,
              "#9c179e"
             ],
             [
              0.4444444444444444,
              "#bd3786"
             ],
             [
              0.5555555555555556,
              "#d8576b"
             ],
             [
              0.6666666666666666,
              "#ed7953"
             ],
             [
              0.7777777777777778,
              "#fb9f3a"
             ],
             [
              0.8888888888888888,
              "#fdca26"
             ],
             [
              1,
              "#f0f921"
             ]
            ],
            "type": "heatmapgl"
           }
          ],
          "histogram": [
           {
            "marker": {
             "pattern": {
              "fillmode": "overlay",
              "size": 10,
              "solidity": 0.2
             }
            },
            "type": "histogram"
           }
          ],
          "histogram2d": [
           {
            "colorbar": {
             "outlinewidth": 0,
             "ticks": ""
            },
            "colorscale": [
             [
              0,
              "#0d0887"
             ],
             [
              0.1111111111111111,
              "#46039f"
             ],
             [
              0.2222222222222222,
              "#7201a8"
             ],
             [
              0.3333333333333333,
              "#9c179e"
             ],
             [
              0.4444444444444444,
              "#bd3786"
             ],
             [
              0.5555555555555556,
              "#d8576b"
             ],
             [
              0.6666666666666666,
              "#ed7953"
             ],
             [
              0.7777777777777778,
              "#fb9f3a"
             ],
             [
              0.8888888888888888,
              "#fdca26"
             ],
             [
              1,
              "#f0f921"
             ]
            ],
            "type": "histogram2d"
           }
          ],
          "histogram2dcontour": [
           {
            "colorbar": {
             "outlinewidth": 0,
             "ticks": ""
            },
            "colorscale": [
             [
              0,
              "#0d0887"
             ],
             [
              0.1111111111111111,
              "#46039f"
             ],
             [
              0.2222222222222222,
              "#7201a8"
             ],
             [
              0.3333333333333333,
              "#9c179e"
             ],
             [
              0.4444444444444444,
              "#bd3786"
             ],
             [
              0.5555555555555556,
              "#d8576b"
             ],
             [
              0.6666666666666666,
              "#ed7953"
             ],
             [
              0.7777777777777778,
              "#fb9f3a"
             ],
             [
              0.8888888888888888,
              "#fdca26"
             ],
             [
              1,
              "#f0f921"
             ]
            ],
            "type": "histogram2dcontour"
           }
          ],
          "mesh3d": [
           {
            "colorbar": {
             "outlinewidth": 0,
             "ticks": ""
            },
            "type": "mesh3d"
           }
          ],
          "parcoords": [
           {
            "line": {
             "colorbar": {
              "outlinewidth": 0,
              "ticks": ""
             }
            },
            "type": "parcoords"
           }
          ],
          "pie": [
           {
            "automargin": true,
            "type": "pie"
           }
          ],
          "scatter": [
           {
            "fillpattern": {
             "fillmode": "overlay",
             "size": 10,
             "solidity": 0.2
            },
            "type": "scatter"
           }
          ],
          "scatter3d": [
           {
            "line": {
             "colorbar": {
              "outlinewidth": 0,
              "ticks": ""
             }
            },
            "marker": {
             "colorbar": {
              "outlinewidth": 0,
              "ticks": ""
             }
            },
            "type": "scatter3d"
           }
          ],
          "scattercarpet": [
           {
            "marker": {
             "colorbar": {
              "outlinewidth": 0,
              "ticks": ""
             }
            },
            "type": "scattercarpet"
           }
          ],
          "scattergeo": [
           {
            "marker": {
             "colorbar": {
              "outlinewidth": 0,
              "ticks": ""
             }
            },
            "type": "scattergeo"
           }
          ],
          "scattergl": [
           {
            "marker": {
             "colorbar": {
              "outlinewidth": 0,
              "ticks": ""
             }
            },
            "type": "scattergl"
           }
          ],
          "scattermapbox": [
           {
            "marker": {
             "colorbar": {
              "outlinewidth": 0,
              "ticks": ""
             }
            },
            "type": "scattermapbox"
           }
          ],
          "scatterpolar": [
           {
            "marker": {
             "colorbar": {
              "outlinewidth": 0,
              "ticks": ""
             }
            },
            "type": "scatterpolar"
           }
          ],
          "scatterpolargl": [
           {
            "marker": {
             "colorbar": {
              "outlinewidth": 0,
              "ticks": ""
             }
            },
            "type": "scatterpolargl"
           }
          ],
          "scatterternary": [
           {
            "marker": {
             "colorbar": {
              "outlinewidth": 0,
              "ticks": ""
             }
            },
            "type": "scatterternary"
           }
          ],
          "surface": [
           {
            "colorbar": {
             "outlinewidth": 0,
             "ticks": ""
            },
            "colorscale": [
             [
              0,
              "#0d0887"
             ],
             [
              0.1111111111111111,
              "#46039f"
             ],
             [
              0.2222222222222222,
              "#7201a8"
             ],
             [
              0.3333333333333333,
              "#9c179e"
             ],
             [
              0.4444444444444444,
              "#bd3786"
             ],
             [
              0.5555555555555556,
              "#d8576b"
             ],
             [
              0.6666666666666666,
              "#ed7953"
             ],
             [
              0.7777777777777778,
              "#fb9f3a"
             ],
             [
              0.8888888888888888,
              "#fdca26"
             ],
             [
              1,
              "#f0f921"
             ]
            ],
            "type": "surface"
           }
          ],
          "table": [
           {
            "cells": {
             "fill": {
              "color": "#EBF0F8"
             },
             "line": {
              "color": "white"
             }
            },
            "header": {
             "fill": {
              "color": "#C8D4E3"
             },
             "line": {
              "color": "white"
             }
            },
            "type": "table"
           }
          ]
         },
         "layout": {
          "annotationdefaults": {
           "arrowcolor": "#2a3f5f",
           "arrowhead": 0,
           "arrowwidth": 1
          },
          "autotypenumbers": "strict",
          "coloraxis": {
           "colorbar": {
            "outlinewidth": 0,
            "ticks": ""
           }
          },
          "colorscale": {
           "diverging": [
            [
             0,
             "#8e0152"
            ],
            [
             0.1,
             "#c51b7d"
            ],
            [
             0.2,
             "#de77ae"
            ],
            [
             0.3,
             "#f1b6da"
            ],
            [
             0.4,
             "#fde0ef"
            ],
            [
             0.5,
             "#f7f7f7"
            ],
            [
             0.6,
             "#e6f5d0"
            ],
            [
             0.7,
             "#b8e186"
            ],
            [
             0.8,
             "#7fbc41"
            ],
            [
             0.9,
             "#4d9221"
            ],
            [
             1,
             "#276419"
            ]
           ],
           "sequential": [
            [
             0,
             "#0d0887"
            ],
            [
             0.1111111111111111,
             "#46039f"
            ],
            [
             0.2222222222222222,
             "#7201a8"
            ],
            [
             0.3333333333333333,
             "#9c179e"
            ],
            [
             0.4444444444444444,
             "#bd3786"
            ],
            [
             0.5555555555555556,
             "#d8576b"
            ],
            [
             0.6666666666666666,
             "#ed7953"
            ],
            [
             0.7777777777777778,
             "#fb9f3a"
            ],
            [
             0.8888888888888888,
             "#fdca26"
            ],
            [
             1,
             "#f0f921"
            ]
           ],
           "sequentialminus": [
            [
             0,
             "#0d0887"
            ],
            [
             0.1111111111111111,
             "#46039f"
            ],
            [
             0.2222222222222222,
             "#7201a8"
            ],
            [
             0.3333333333333333,
             "#9c179e"
            ],
            [
             0.4444444444444444,
             "#bd3786"
            ],
            [
             0.5555555555555556,
             "#d8576b"
            ],
            [
             0.6666666666666666,
             "#ed7953"
            ],
            [
             0.7777777777777778,
             "#fb9f3a"
            ],
            [
             0.8888888888888888,
             "#fdca26"
            ],
            [
             1,
             "#f0f921"
            ]
           ]
          },
          "colorway": [
           "#636efa",
           "#EF553B",
           "#00cc96",
           "#ab63fa",
           "#FFA15A",
           "#19d3f3",
           "#FF6692",
           "#B6E880",
           "#FF97FF",
           "#FECB52"
          ],
          "font": {
           "color": "#2a3f5f"
          },
          "geo": {
           "bgcolor": "white",
           "lakecolor": "white",
           "landcolor": "#E5ECF6",
           "showlakes": true,
           "showland": true,
           "subunitcolor": "white"
          },
          "hoverlabel": {
           "align": "left"
          },
          "hovermode": "closest",
          "mapbox": {
           "style": "light"
          },
          "paper_bgcolor": "white",
          "plot_bgcolor": "#E5ECF6",
          "polar": {
           "angularaxis": {
            "gridcolor": "white",
            "linecolor": "white",
            "ticks": ""
           },
           "bgcolor": "#E5ECF6",
           "radialaxis": {
            "gridcolor": "white",
            "linecolor": "white",
            "ticks": ""
           }
          },
          "scene": {
           "xaxis": {
            "backgroundcolor": "#E5ECF6",
            "gridcolor": "white",
            "gridwidth": 2,
            "linecolor": "white",
            "showbackground": true,
            "ticks": "",
            "zerolinecolor": "white"
           },
           "yaxis": {
            "backgroundcolor": "#E5ECF6",
            "gridcolor": "white",
            "gridwidth": 2,
            "linecolor": "white",
            "showbackground": true,
            "ticks": "",
            "zerolinecolor": "white"
           },
           "zaxis": {
            "backgroundcolor": "#E5ECF6",
            "gridcolor": "white",
            "gridwidth": 2,
            "linecolor": "white",
            "showbackground": true,
            "ticks": "",
            "zerolinecolor": "white"
           }
          },
          "shapedefaults": {
           "line": {
            "color": "#2a3f5f"
           }
          },
          "ternary": {
           "aaxis": {
            "gridcolor": "white",
            "linecolor": "white",
            "ticks": ""
           },
           "baxis": {
            "gridcolor": "white",
            "linecolor": "white",
            "ticks": ""
           },
           "bgcolor": "#E5ECF6",
           "caxis": {
            "gridcolor": "white",
            "linecolor": "white",
            "ticks": ""
           }
          },
          "title": {
           "x": 0.05
          },
          "xaxis": {
           "automargin": true,
           "gridcolor": "white",
           "linecolor": "white",
           "ticks": "",
           "title": {
            "standoff": 15
           },
           "zerolinecolor": "white",
           "zerolinewidth": 2
          },
          "yaxis": {
           "automargin": true,
           "gridcolor": "white",
           "linecolor": "white",
           "ticks": "",
           "title": {
            "standoff": 15
           },
           "zerolinecolor": "white",
           "zerolinewidth": 2
          }
         }
        },
        "xaxis": {
         "anchor": "y",
         "domain": [
          0,
          1
         ],
         "title": {
          "text": "Year"
         }
        },
        "yaxis": {
         "anchor": "x",
         "domain": [
          0,
          1
         ],
         "title": {
          "text": "sum of value"
         }
        }
       }
      }
     },
     "metadata": {},
     "output_type": "display_data"
    }
   ],
   "source": [
    "worldprod = prodbysource[prodbysource[\"Entity\"] == \"World\"]\n",
    "worldprod[\"Hydro (% electricity)\"]\n",
    "plx.histogram(worldprod,x=\"Year\",y=[\"Hydro (% electricity)\", \"Nuclear (% electricity)\", \n",
    "\"Wind (% electricity)\", \"Solar (% electricity)\", \"Coal (% electricity)\", \"Gas (% electricity)\"\n",
    ",\"Oil (% electricity)\"], nbins=100)\n"
   ]
  },
  {
   "cell_type": "code",
   "execution_count": 23,
   "metadata": {},
   "outputs": [
    {
     "data": {
      "application/vnd.plotly.v1+json": {
       "config": {
        "plotlyServerURL": "https://plot.ly"
       },
       "data": [
        {
         "alignmentgroup": "True",
         "bingroup": "x",
         "histfunc": "sum",
         "hovertemplate": "variable=Hydro (% electricity)<br>Year=%{x}<br>sum of value=%{y}<extra></extra>",
         "legendgroup": "Hydro (% electricity)",
         "marker": {
          "color": "#636efa",
          "pattern": {
           "shape": ""
          }
         },
         "name": "Hydro (% electricity)",
         "nbinsx": 100,
         "offsetgroup": "Hydro (% electricity)",
         "orientation": "v",
         "showlegend": true,
         "type": "histogram",
         "x": [
          1985,
          1986,
          1987,
          1988,
          1989,
          1990,
          1991,
          1992,
          1993,
          1994,
          1995,
          1996,
          1997,
          1998,
          1999,
          2000,
          2001,
          2002,
          2003,
          2004,
          2005,
          2006,
          2007,
          2008,
          2009,
          2010,
          2011,
          2012,
          2013,
          2014,
          2015,
          2016,
          2017,
          2018,
          2019,
          2020
         ],
         "xaxis": "x",
         "y": [
          22.123398298697104,
          21.367441376800294,
          19.617921061517983,
          19.982216632852072,
          16.159905100830365,
          14.581517905307273,
          19.023063308127774,
          18.65251079591413,
          18.5939099053809,
          19.265496995293415,
          15.646016233228424,
          17.193679930958606,
          16.544448067700092,
          15.868432905632488,
          17.07653101555766,
          16.42155577495659,
          17.26853416332682,
          14.279086150811654,
          12.849057887886426,
          14.360228946495972,
          12.196020304321117,
          12.06346686762146,
          10.681996226187357,
          13.319039604771794,
          17.08698960995556,
          17.15934631212571,
          15.287567474113125,
          14.12397514361556,
          18.38296642545069,
          21.102801346670468,
          16.20812535658019,
          14.77450410530892,
          12.340530333690362,
          16.97635061249673,
          16.156078259170744,
          17.461924301013664
         ],
         "yaxis": "y"
        },
        {
         "alignmentgroup": "True",
         "bingroup": "x",
         "histfunc": "sum",
         "hovertemplate": "variable=Nuclear (% electricity)<br>Year=%{x}<br>sum of value=%{y}<extra></extra>",
         "legendgroup": "Nuclear (% electricity)",
         "marker": {
          "color": "#EF553B",
          "pattern": {
           "shape": ""
          }
         },
         "name": "Nuclear (% electricity)",
         "nbinsx": 100,
         "offsetgroup": "Nuclear (% electricity)",
         "orientation": "v",
         "showlegend": true,
         "type": "histogram",
         "x": [
          1985,
          1986,
          1987,
          1988,
          1989,
          1990,
          1991,
          1992,
          1993,
          1994,
          1995,
          1996,
          1997,
          1998,
          1999,
          2000,
          2001,
          2002,
          2003,
          2004,
          2005,
          2006,
          2007,
          2008,
          2009,
          2010,
          2011,
          2012,
          2013,
          2014,
          2015,
          2016,
          2017,
          2018,
          2019,
          2020
         ],
         "xaxis": "x",
         "y": [
          3.7816302358135023,
          4.553631778713668,
          0.0864072462904475,
          0,
          0,
          0,
          0,
          0,
          0,
          0,
          0,
          0,
          0,
          0,
          0,
          0,
          0,
          0,
          0,
          0,
          0,
          0,
          0,
          0,
          0,
          0,
          0,
          0,
          0,
          0,
          0,
          0,
          0,
          0,
          0,
          0
         ],
         "yaxis": "y"
        },
        {
         "alignmentgroup": "True",
         "bingroup": "x",
         "histfunc": "sum",
         "hovertemplate": "variable=Wind (% electricity)<br>Year=%{x}<br>sum of value=%{y}<extra></extra>",
         "legendgroup": "Wind (% electricity)",
         "marker": {
          "color": "#00cc96",
          "pattern": {
           "shape": ""
          }
         },
         "name": "Wind (% electricity)",
         "nbinsx": 100,
         "offsetgroup": "Wind (% electricity)",
         "orientation": "v",
         "showlegend": true,
         "type": "histogram",
         "x": [
          1985,
          1986,
          1987,
          1988,
          1989,
          1990,
          1991,
          1992,
          1993,
          1994,
          1995,
          1996,
          1997,
          1998,
          1999,
          2000,
          2001,
          2002,
          2003,
          2004,
          2005,
          2006,
          2007,
          2008,
          2009,
          2010,
          2011,
          2012,
          2013,
          2014,
          2015,
          2016,
          2017,
          2018,
          2019,
          2020
         ],
         "xaxis": "x",
         "y": [
          0,
          0,
          0,
          0,
          0.0009489916963226,
          0.0008848647477304,
          0.0012965119054589,
          0.0008482879028301,
          0.0017228863314002,
          0.0028977933849001,
          0.0035764303461984,
          0.0129520788086269,
          0.0469255792127637,
          0.0893128683674608,
          0.1516993717462743,
          0.209173117267139,
          0.4349387532638898,
          0.5072915646994964,
          0.5108816083136112,
          0.6263140912806613,
          0.7924239155546969,
          0.9687263332187354,
          1.3132625172175405,
          1.5555855146858946,
          2.275203351942295,
          3.063472237367411,
          3.2883249744741603,
          4.522087459311169,
          5.189174436990747,
          5.471047023254669,
          5.283391273371326,
          6.159097623309644,
          6.048407973435353,
          6.164839153522504,
          7.002777680223213,
          6.879950160622264
         ],
         "yaxis": "y"
        },
        {
         "alignmentgroup": "True",
         "bingroup": "x",
         "histfunc": "sum",
         "hovertemplate": "variable=Solar (% electricity)<br>Year=%{x}<br>sum of value=%{y}<extra></extra>",
         "legendgroup": "Solar (% electricity)",
         "marker": {
          "color": "#ab63fa",
          "pattern": {
           "shape": ""
          }
         },
         "name": "Solar (% electricity)",
         "nbinsx": 100,
         "offsetgroup": "Solar (% electricity)",
         "orientation": "v",
         "showlegend": true,
         "type": "histogram",
         "x": [
          1985,
          1986,
          1987,
          1988,
          1989,
          1990,
          1991,
          1992,
          1993,
          1994,
          1995,
          1996,
          1997,
          1998,
          1999,
          2000,
          2001,
          2002,
          2003,
          2004,
          2005,
          2006,
          2007,
          2008,
          2009,
          2010,
          2011,
          2012,
          2013,
          2014,
          2015,
          2016,
          2017,
          2018,
          2019,
          2020
         ],
         "xaxis": "x",
         "y": [
          0,
          0,
          0,
          0,
          0.0009585774614472,
          0.0018442443439331,
          0.0022518363725618,
          0.0039780236294603,
          0.0049374293049894,
          0.0047454088169695,
          0.0053834686102368,
          0.0057261821498541,
          0.0059651160016225,
          0.0061595081632731,
          0.0063992290811083,
          0.0066875952234609,
          0.0070091911043374,
          0.0075876943437958,
          0.008409573799401,
          0.0098362664582445,
          0.0104826968784213,
          0.0114131424252435,
          0.0126799610131807,
          0.0617473739814465,
          0.2352384238641358,
          0.6397098425970722,
          3.6017141756888456,
          6.361870200684172,
          7.52013232041916,
          8.04036627482784,
          8.165827308840793,
          7.696581431612483,
          8.310624385825793,
          7.882922007891427,
          8.50250305378171,
          9.66256539409391
         ],
         "yaxis": "y"
        },
        {
         "alignmentgroup": "True",
         "bingroup": "x",
         "histfunc": "sum",
         "hovertemplate": "variable=Coal (% electricity)<br>Year=%{x}<br>sum of value=%{y}<extra></extra>",
         "legendgroup": "Coal (% electricity)",
         "marker": {
          "color": "#FFA15A",
          "pattern": {
           "shape": ""
          }
         },
         "name": "Coal (% electricity)",
         "nbinsx": 100,
         "offsetgroup": "Coal (% electricity)",
         "orientation": "v",
         "showlegend": true,
         "type": "histogram",
         "x": [
          1985,
          1986,
          1987,
          1988,
          1989,
          1990,
          1991,
          1992,
          1993,
          1994,
          1995,
          1996,
          1997,
          1998,
          1999,
          2000,
          2001,
          2002,
          2003,
          2004,
          2005,
          2006,
          2007,
          2008,
          2009,
          2010,
          2011,
          2012,
          2013,
          2014,
          2015,
          2016,
          2017,
          2018,
          2019,
          2020
         ],
         "xaxis": "x",
         "y": [
          16.163992677936903,
          16.120210055633546,
          16.404961960947894,
          16.652010945122104,
          15.120759193357056,
          16.411008294488937,
          14.416706824415307,
          10.967853149047706,
          8.246853510961094,
          9.87174454170136,
          11.415024018552264,
          10.357436470054113,
          9.8499972162792,
          10.712539603712644,
          10.624602400840184,
          9.760916761709195,
          11.705349144243616,
          12.807666733549183,
          13.60003282817297,
          15.438868160219837,
          14.745434841304498,
          14.415777152433272,
          14.359316104367542,
          13.783041688922063,
          13.820862901515458,
          13.338275215661232,
          14.921674835660315,
          16.574759069412124,
          15.711774855871123,
          15.663066398598287,
          15.376556240538442,
          12.398161595709936,
          11.123041132218182,
          9.906742911243734,
          6.778401615393073,
          5.435050016728122
         ],
         "yaxis": "y"
        },
        {
         "alignmentgroup": "True",
         "bingroup": "x",
         "histfunc": "sum",
         "hovertemplate": "variable=Gas (% electricity)<br>Year=%{x}<br>sum of value=%{y}<extra></extra>",
         "legendgroup": "Gas (% electricity)",
         "marker": {
          "color": "#19d3f3",
          "pattern": {
           "shape": ""
          }
         },
         "name": "Gas (% electricity)",
         "nbinsx": 100,
         "offsetgroup": "Gas (% electricity)",
         "orientation": "v",
         "showlegend": true,
         "type": "histogram",
         "x": [
          1985,
          1986,
          1987,
          1988,
          1989,
          1990,
          1991,
          1992,
          1993,
          1994,
          1995,
          1996,
          1997,
          1998,
          1999,
          2000,
          2001,
          2002,
          2003,
          2004,
          2005,
          2006,
          2007,
          2008,
          2009,
          2010,
          2011,
          2012,
          2013,
          2014,
          2015,
          2016,
          2017,
          2018,
          2019,
          2020
         ],
         "xaxis": "x",
         "y": [
          13.304619360396252,
          13.971299329277803,
          15.757900800508509,
          15.92642991535707,
          16.32597864768683,
          18.019189362398624,
          16.154674136758526,
          15.5443483334291,
          17.77295006912401,
          17.43031798553082,
          19.23223455358622,
          20.33817195724996,
          24.118554692160245,
          27.02984666674367,
          32.45425492270108,
          37.65859176944444,
          38.435452777827095,
          35.920145023529734,
          41.10179194457242,
          44.04035674958092,
          50.49515086335542,
          51.56751228530233,
          56.22014701371994,
          55.28416324542052,
          51.24168812627031,
          51.29700442896281,
          48.24138840689556,
          43.55828199959343,
          37.93642088966537,
          33.758460593434926,
          39.46486893447887,
          43.93239657522156,
          47.85145943375016,
          44.7338760574072,
          47.37355546902221,
          45.62895658516034
         ],
         "yaxis": "y"
        },
        {
         "alignmentgroup": "True",
         "bingroup": "x",
         "histfunc": "sum",
         "hovertemplate": "variable=Oil (% electricity)<br>Year=%{x}<br>sum of value=%{y}<extra></extra>",
         "legendgroup": "Oil (% electricity)",
         "marker": {
          "color": "#FF6692",
          "pattern": {
           "shape": ""
          }
         },
         "name": "Oil (% electricity)",
         "nbinsx": 100,
         "offsetgroup": "Oil (% electricity)",
         "orientation": "v",
         "showlegend": true,
         "type": "histogram",
         "x": [
          1985,
          1986,
          1987,
          1988,
          1989,
          1990,
          1991,
          1992,
          1993,
          1994,
          1995,
          1996,
          1997,
          1998,
          1999,
          2000,
          2001,
          2002,
          2003,
          2004,
          2005,
          2006,
          2007,
          2008,
          2009,
          2010,
          2011,
          2012,
          2013,
          2014,
          2015,
          2016,
          2017,
          2018,
          2019,
          2020
         ],
         "xaxis": "x",
         "y": [
          41.01109077204694,
          40.28648676753497,
          44.66410424488012,
          44.06639778739543,
          48.29655990510083,
          47.35973369111674,
          46.96745195707099,
          51.28114460999898,
          51.13336445409986,
          50.17709002903328,
          50.024846778201095,
          47.890515397294784,
          45.06128162505667,
          41.30912646625168,
          34.39736201191762,
          33.677199572175304,
          29.810143995752224,
          33.81488611398315,
          28.876564650699294,
          22.24854086788269,
          18.379373980511264,
          17.505400894649554,
          13.888419272759494,
          12.32079001874703,
          10.855148444256804,
          9.5290858389143,
          9.159549626180617,
          8.761764512942655,
          7.337653840935235,
          7.082780664819347,
          6.3999354826025,
          6.060778986656857,
          5.609477848679701,
          5.550425816193976,
          5.4973618034240745,
          5.769064559084343
         ],
         "yaxis": "y"
        }
       ],
       "layout": {
        "barmode": "relative",
        "legend": {
         "title": {
          "text": "variable"
         },
         "tracegroupgap": 0
        },
        "margin": {
         "t": 60
        },
        "template": {
         "data": {
          "bar": [
           {
            "error_x": {
             "color": "#2a3f5f"
            },
            "error_y": {
             "color": "#2a3f5f"
            },
            "marker": {
             "line": {
              "color": "#E5ECF6",
              "width": 0.5
             },
             "pattern": {
              "fillmode": "overlay",
              "size": 10,
              "solidity": 0.2
             }
            },
            "type": "bar"
           }
          ],
          "barpolar": [
           {
            "marker": {
             "line": {
              "color": "#E5ECF6",
              "width": 0.5
             },
             "pattern": {
              "fillmode": "overlay",
              "size": 10,
              "solidity": 0.2
             }
            },
            "type": "barpolar"
           }
          ],
          "carpet": [
           {
            "aaxis": {
             "endlinecolor": "#2a3f5f",
             "gridcolor": "white",
             "linecolor": "white",
             "minorgridcolor": "white",
             "startlinecolor": "#2a3f5f"
            },
            "baxis": {
             "endlinecolor": "#2a3f5f",
             "gridcolor": "white",
             "linecolor": "white",
             "minorgridcolor": "white",
             "startlinecolor": "#2a3f5f"
            },
            "type": "carpet"
           }
          ],
          "choropleth": [
           {
            "colorbar": {
             "outlinewidth": 0,
             "ticks": ""
            },
            "type": "choropleth"
           }
          ],
          "contour": [
           {
            "colorbar": {
             "outlinewidth": 0,
             "ticks": ""
            },
            "colorscale": [
             [
              0,
              "#0d0887"
             ],
             [
              0.1111111111111111,
              "#46039f"
             ],
             [
              0.2222222222222222,
              "#7201a8"
             ],
             [
              0.3333333333333333,
              "#9c179e"
             ],
             [
              0.4444444444444444,
              "#bd3786"
             ],
             [
              0.5555555555555556,
              "#d8576b"
             ],
             [
              0.6666666666666666,
              "#ed7953"
             ],
             [
              0.7777777777777778,
              "#fb9f3a"
             ],
             [
              0.8888888888888888,
              "#fdca26"
             ],
             [
              1,
              "#f0f921"
             ]
            ],
            "type": "contour"
           }
          ],
          "contourcarpet": [
           {
            "colorbar": {
             "outlinewidth": 0,
             "ticks": ""
            },
            "type": "contourcarpet"
           }
          ],
          "heatmap": [
           {
            "colorbar": {
             "outlinewidth": 0,
             "ticks": ""
            },
            "colorscale": [
             [
              0,
              "#0d0887"
             ],
             [
              0.1111111111111111,
              "#46039f"
             ],
             [
              0.2222222222222222,
              "#7201a8"
             ],
             [
              0.3333333333333333,
              "#9c179e"
             ],
             [
              0.4444444444444444,
              "#bd3786"
             ],
             [
              0.5555555555555556,
              "#d8576b"
             ],
             [
              0.6666666666666666,
              "#ed7953"
             ],
             [
              0.7777777777777778,
              "#fb9f3a"
             ],
             [
              0.8888888888888888,
              "#fdca26"
             ],
             [
              1,
              "#f0f921"
             ]
            ],
            "type": "heatmap"
           }
          ],
          "heatmapgl": [
           {
            "colorbar": {
             "outlinewidth": 0,
             "ticks": ""
            },
            "colorscale": [
             [
              0,
              "#0d0887"
             ],
             [
              0.1111111111111111,
              "#46039f"
             ],
             [
              0.2222222222222222,
              "#7201a8"
             ],
             [
              0.3333333333333333,
              "#9c179e"
             ],
             [
              0.4444444444444444,
              "#bd3786"
             ],
             [
              0.5555555555555556,
              "#d8576b"
             ],
             [
              0.6666666666666666,
              "#ed7953"
             ],
             [
              0.7777777777777778,
              "#fb9f3a"
             ],
             [
              0.8888888888888888,
              "#fdca26"
             ],
             [
              1,
              "#f0f921"
             ]
            ],
            "type": "heatmapgl"
           }
          ],
          "histogram": [
           {
            "marker": {
             "pattern": {
              "fillmode": "overlay",
              "size": 10,
              "solidity": 0.2
             }
            },
            "type": "histogram"
           }
          ],
          "histogram2d": [
           {
            "colorbar": {
             "outlinewidth": 0,
             "ticks": ""
            },
            "colorscale": [
             [
              0,
              "#0d0887"
             ],
             [
              0.1111111111111111,
              "#46039f"
             ],
             [
              0.2222222222222222,
              "#7201a8"
             ],
             [
              0.3333333333333333,
              "#9c179e"
             ],
             [
              0.4444444444444444,
              "#bd3786"
             ],
             [
              0.5555555555555556,
              "#d8576b"
             ],
             [
              0.6666666666666666,
              "#ed7953"
             ],
             [
              0.7777777777777778,
              "#fb9f3a"
             ],
             [
              0.8888888888888888,
              "#fdca26"
             ],
             [
              1,
              "#f0f921"
             ]
            ],
            "type": "histogram2d"
           }
          ],
          "histogram2dcontour": [
           {
            "colorbar": {
             "outlinewidth": 0,
             "ticks": ""
            },
            "colorscale": [
             [
              0,
              "#0d0887"
             ],
             [
              0.1111111111111111,
              "#46039f"
             ],
             [
              0.2222222222222222,
              "#7201a8"
             ],
             [
              0.3333333333333333,
              "#9c179e"
             ],
             [
              0.4444444444444444,
              "#bd3786"
             ],
             [
              0.5555555555555556,
              "#d8576b"
             ],
             [
              0.6666666666666666,
              "#ed7953"
             ],
             [
              0.7777777777777778,
              "#fb9f3a"
             ],
             [
              0.8888888888888888,
              "#fdca26"
             ],
             [
              1,
              "#f0f921"
             ]
            ],
            "type": "histogram2dcontour"
           }
          ],
          "mesh3d": [
           {
            "colorbar": {
             "outlinewidth": 0,
             "ticks": ""
            },
            "type": "mesh3d"
           }
          ],
          "parcoords": [
           {
            "line": {
             "colorbar": {
              "outlinewidth": 0,
              "ticks": ""
             }
            },
            "type": "parcoords"
           }
          ],
          "pie": [
           {
            "automargin": true,
            "type": "pie"
           }
          ],
          "scatter": [
           {
            "fillpattern": {
             "fillmode": "overlay",
             "size": 10,
             "solidity": 0.2
            },
            "type": "scatter"
           }
          ],
          "scatter3d": [
           {
            "line": {
             "colorbar": {
              "outlinewidth": 0,
              "ticks": ""
             }
            },
            "marker": {
             "colorbar": {
              "outlinewidth": 0,
              "ticks": ""
             }
            },
            "type": "scatter3d"
           }
          ],
          "scattercarpet": [
           {
            "marker": {
             "colorbar": {
              "outlinewidth": 0,
              "ticks": ""
             }
            },
            "type": "scattercarpet"
           }
          ],
          "scattergeo": [
           {
            "marker": {
             "colorbar": {
              "outlinewidth": 0,
              "ticks": ""
             }
            },
            "type": "scattergeo"
           }
          ],
          "scattergl": [
           {
            "marker": {
             "colorbar": {
              "outlinewidth": 0,
              "ticks": ""
             }
            },
            "type": "scattergl"
           }
          ],
          "scattermapbox": [
           {
            "marker": {
             "colorbar": {
              "outlinewidth": 0,
              "ticks": ""
             }
            },
            "type": "scattermapbox"
           }
          ],
          "scatterpolar": [
           {
            "marker": {
             "colorbar": {
              "outlinewidth": 0,
              "ticks": ""
             }
            },
            "type": "scatterpolar"
           }
          ],
          "scatterpolargl": [
           {
            "marker": {
             "colorbar": {
              "outlinewidth": 0,
              "ticks": ""
             }
            },
            "type": "scatterpolargl"
           }
          ],
          "scatterternary": [
           {
            "marker": {
             "colorbar": {
              "outlinewidth": 0,
              "ticks": ""
             }
            },
            "type": "scatterternary"
           }
          ],
          "surface": [
           {
            "colorbar": {
             "outlinewidth": 0,
             "ticks": ""
            },
            "colorscale": [
             [
              0,
              "#0d0887"
             ],
             [
              0.1111111111111111,
              "#46039f"
             ],
             [
              0.2222222222222222,
              "#7201a8"
             ],
             [
              0.3333333333333333,
              "#9c179e"
             ],
             [
              0.4444444444444444,
              "#bd3786"
             ],
             [
              0.5555555555555556,
              "#d8576b"
             ],
             [
              0.6666666666666666,
              "#ed7953"
             ],
             [
              0.7777777777777778,
              "#fb9f3a"
             ],
             [
              0.8888888888888888,
              "#fdca26"
             ],
             [
              1,
              "#f0f921"
             ]
            ],
            "type": "surface"
           }
          ],
          "table": [
           {
            "cells": {
             "fill": {
              "color": "#EBF0F8"
             },
             "line": {
              "color": "white"
             }
            },
            "header": {
             "fill": {
              "color": "#C8D4E3"
             },
             "line": {
              "color": "white"
             }
            },
            "type": "table"
           }
          ]
         },
         "layout": {
          "annotationdefaults": {
           "arrowcolor": "#2a3f5f",
           "arrowhead": 0,
           "arrowwidth": 1
          },
          "autotypenumbers": "strict",
          "coloraxis": {
           "colorbar": {
            "outlinewidth": 0,
            "ticks": ""
           }
          },
          "colorscale": {
           "diverging": [
            [
             0,
             "#8e0152"
            ],
            [
             0.1,
             "#c51b7d"
            ],
            [
             0.2,
             "#de77ae"
            ],
            [
             0.3,
             "#f1b6da"
            ],
            [
             0.4,
             "#fde0ef"
            ],
            [
             0.5,
             "#f7f7f7"
            ],
            [
             0.6,
             "#e6f5d0"
            ],
            [
             0.7,
             "#b8e186"
            ],
            [
             0.8,
             "#7fbc41"
            ],
            [
             0.9,
             "#4d9221"
            ],
            [
             1,
             "#276419"
            ]
           ],
           "sequential": [
            [
             0,
             "#0d0887"
            ],
            [
             0.1111111111111111,
             "#46039f"
            ],
            [
             0.2222222222222222,
             "#7201a8"
            ],
            [
             0.3333333333333333,
             "#9c179e"
            ],
            [
             0.4444444444444444,
             "#bd3786"
            ],
            [
             0.5555555555555556,
             "#d8576b"
            ],
            [
             0.6666666666666666,
             "#ed7953"
            ],
            [
             0.7777777777777778,
             "#fb9f3a"
            ],
            [
             0.8888888888888888,
             "#fdca26"
            ],
            [
             1,
             "#f0f921"
            ]
           ],
           "sequentialminus": [
            [
             0,
             "#0d0887"
            ],
            [
             0.1111111111111111,
             "#46039f"
            ],
            [
             0.2222222222222222,
             "#7201a8"
            ],
            [
             0.3333333333333333,
             "#9c179e"
            ],
            [
             0.4444444444444444,
             "#bd3786"
            ],
            [
             0.5555555555555556,
             "#d8576b"
            ],
            [
             0.6666666666666666,
             "#ed7953"
            ],
            [
             0.7777777777777778,
             "#fb9f3a"
            ],
            [
             0.8888888888888888,
             "#fdca26"
            ],
            [
             1,
             "#f0f921"
            ]
           ]
          },
          "colorway": [
           "#636efa",
           "#EF553B",
           "#00cc96",
           "#ab63fa",
           "#FFA15A",
           "#19d3f3",
           "#FF6692",
           "#B6E880",
           "#FF97FF",
           "#FECB52"
          ],
          "font": {
           "color": "#2a3f5f"
          },
          "geo": {
           "bgcolor": "white",
           "lakecolor": "white",
           "landcolor": "#E5ECF6",
           "showlakes": true,
           "showland": true,
           "subunitcolor": "white"
          },
          "hoverlabel": {
           "align": "left"
          },
          "hovermode": "closest",
          "mapbox": {
           "style": "light"
          },
          "paper_bgcolor": "white",
          "plot_bgcolor": "#E5ECF6",
          "polar": {
           "angularaxis": {
            "gridcolor": "white",
            "linecolor": "white",
            "ticks": ""
           },
           "bgcolor": "#E5ECF6",
           "radialaxis": {
            "gridcolor": "white",
            "linecolor": "white",
            "ticks": ""
           }
          },
          "scene": {
           "xaxis": {
            "backgroundcolor": "#E5ECF6",
            "gridcolor": "white",
            "gridwidth": 2,
            "linecolor": "white",
            "showbackground": true,
            "ticks": "",
            "zerolinecolor": "white"
           },
           "yaxis": {
            "backgroundcolor": "#E5ECF6",
            "gridcolor": "white",
            "gridwidth": 2,
            "linecolor": "white",
            "showbackground": true,
            "ticks": "",
            "zerolinecolor": "white"
           },
           "zaxis": {
            "backgroundcolor": "#E5ECF6",
            "gridcolor": "white",
            "gridwidth": 2,
            "linecolor": "white",
            "showbackground": true,
            "ticks": "",
            "zerolinecolor": "white"
           }
          },
          "shapedefaults": {
           "line": {
            "color": "#2a3f5f"
           }
          },
          "ternary": {
           "aaxis": {
            "gridcolor": "white",
            "linecolor": "white",
            "ticks": ""
           },
           "baxis": {
            "gridcolor": "white",
            "linecolor": "white",
            "ticks": ""
           },
           "bgcolor": "#E5ECF6",
           "caxis": {
            "gridcolor": "white",
            "linecolor": "white",
            "ticks": ""
           }
          },
          "title": {
           "x": 0.05
          },
          "xaxis": {
           "automargin": true,
           "gridcolor": "white",
           "linecolor": "white",
           "ticks": "",
           "title": {
            "standoff": 15
           },
           "zerolinecolor": "white",
           "zerolinewidth": 2
          },
          "yaxis": {
           "automargin": true,
           "gridcolor": "white",
           "linecolor": "white",
           "ticks": "",
           "title": {
            "standoff": 15
           },
           "zerolinecolor": "white",
           "zerolinewidth": 2
          }
         }
        },
        "xaxis": {
         "anchor": "y",
         "domain": [
          0,
          1
         ],
         "title": {
          "text": "Year"
         }
        },
        "yaxis": {
         "anchor": "x",
         "domain": [
          0,
          1
         ],
         "title": {
          "text": "sum of value"
         }
        }
       }
      }
     },
     "metadata": {},
     "output_type": "display_data"
    }
   ],
   "source": [
    "nationProdStats(nations[\"Italy\"])"
   ]
  },
  {
   "cell_type": "code",
   "execution_count": 22,
   "metadata": {},
   "outputs": [
    {
     "data": {
      "application/vnd.plotly.v1+json": {
       "config": {
        "plotlyServerURL": "https://plot.ly"
       },
       "data": [
        {
         "alignmentgroup": "True",
         "bingroup": "x",
         "histfunc": "sum",
         "hovertemplate": "variable=Hydro (% electricity)<br>Year=%{x}<br>sum of value=%{y}<extra></extra>",
         "legendgroup": "Hydro (% electricity)",
         "marker": {
          "color": "#636efa",
          "pattern": {
           "shape": ""
          }
         },
         "name": "Hydro (% electricity)",
         "nbinsx": 100,
         "offsetgroup": "Hydro (% electricity)",
         "orientation": "v",
         "showlegend": true,
         "type": "histogram",
         "x": [
          2000,
          2001,
          2002,
          2003,
          2004,
          2005,
          2006,
          2007,
          2008,
          2009,
          2010,
          2011,
          2012,
          2013,
          2014,
          2015,
          2016,
          2017,
          2018,
          2019,
          2020,
          1985,
          1986,
          1987,
          1988,
          1989,
          1990,
          1991,
          1992,
          1993,
          1994,
          1995,
          1996,
          1997,
          1998,
          1999
         ],
         "xaxis": "x",
         "y": [
          54.10950404684475,
          48.92492671734763,
          45.235275272021575,
          39.54828207582041,
          39.63718988921855,
          45.97244231095666,
          43.07702694856786,
          44.45599666628354,
          46.07831128236256,
          48.20461047703234,
          44.72963169377829,
          44.20578763645818,
          47.42540586658976,
          40.09705088051448,
          41.52506346555994,
          46.49335302777342,
          39.782735381453946,
          39.66692038362004,
          38.08177082376851,
          39.01981464124665,
          44.559312009743344,
          51.7631617325361,
          43.94703247722699,
          49.02334022419169,
          47.78978321821788,
          50.14291604643199,
          49.4914953449641,
          42.91442761765185,
          50.779473522482846,
          51.19400323704495,
          41.315594457416914,
          45.90225817323896,
          36.79079590138873,
          46.22005662385296,
          47.007289170644576,
          46.20486082019091
         ],
         "yaxis": "y"
        },
        {
         "alignmentgroup": "True",
         "bingroup": "x",
         "histfunc": "sum",
         "hovertemplate": "variable=Nuclear (% electricity)<br>Year=%{x}<br>sum of value=%{y}<extra></extra>",
         "legendgroup": "Nuclear (% electricity)",
         "marker": {
          "color": "#EF553B",
          "pattern": {
           "shape": ""
          }
         },
         "name": "Nuclear (% electricity)",
         "nbinsx": 100,
         "offsetgroup": "Nuclear (% electricity)",
         "orientation": "v",
         "showlegend": true,
         "type": "histogram",
         "x": [
          2000,
          2001,
          2002,
          2003,
          2004,
          2005,
          2006,
          2007,
          2008,
          2009,
          2010,
          2011,
          2012,
          2013,
          2014,
          2015,
          2016,
          2017,
          2018,
          2019,
          2020,
          1985,
          1986,
          1987,
          1988,
          1989,
          1990,
          1991,
          1992,
          1993,
          1994,
          1995,
          1996,
          1997,
          1998,
          1999
         ],
         "xaxis": "x",
         "y": [
          39.465289803890784,
          44.6234194366459,
          46.42887031423541,
          49.79730175076648,
          51.08378469176945,
          45.70343882999478,
          46.74444127830152,
          45.0003341309583,
          42.6223559790968,
          38.19156913919176,
          38.95649568307624,
          40.24061485556806,
          38.47591237367365,
          43.42718762554481,
          42.25056751915475,
          34.78583346129769,
          40.477735423727246,
          40.00365352412848,
          41.96218145311859,
          39.376119544077085,
          30.1807180491256,
          42.70161878372467,
          50.45113270008872,
          45.97430596775624,
          47.47589413936949,
          45.847048381799,
          46.54012067600405,
          52.08231558378116,
          43.39103417665336,
          42.10558801744712,
          51.14445112487592,
          47.14189416919447,
          52.8140621333542,
          46.803697283259815,
          46.277743187235465,
          47.169677556571
         ],
         "yaxis": "y"
        },
        {
         "alignmentgroup": "True",
         "bingroup": "x",
         "histfunc": "sum",
         "hovertemplate": "variable=Wind (% electricity)<br>Year=%{x}<br>sum of value=%{y}<extra></extra>",
         "legendgroup": "Wind (% electricity)",
         "marker": {
          "color": "#00cc96",
          "pattern": {
           "shape": ""
          }
         },
         "name": "Wind (% electricity)",
         "nbinsx": 100,
         "offsetgroup": "Wind (% electricity)",
         "orientation": "v",
         "showlegend": true,
         "type": "histogram",
         "x": [
          2000,
          2001,
          2002,
          2003,
          2004,
          2005,
          2006,
          2007,
          2008,
          2009,
          2010,
          2011,
          2012,
          2013,
          2014,
          2015,
          2016,
          2017,
          2018,
          2019,
          2020,
          1985,
          1986,
          1987,
          1988,
          1989,
          1990,
          1991,
          1992,
          1993,
          1994,
          1995,
          1996,
          1997,
          1998,
          1999
         ],
         "xaxis": "x",
         "y": [
          0.3146702044870209,
          0.2982774434323499,
          0.4144521905574008,
          0.5015555572019645,
          0.5669676436378408,
          0.590418438261397,
          0.686751126772604,
          0.9582116571958152,
          1.3329284735437303,
          1.8234565527327675,
          2.3490575577036528,
          4.063653326547403,
          4.304408954901041,
          6.431382406828658,
          7.316693528950225,
          10.07621164469548,
          9.929396786483162,
          10.722484396407369,
          10.17574789267809,
          11.676272919425031,
          16.394814319489345,
          0.0043750911477322,
          0.0043274119912586,
          0.0040935792209918,
          0.0034192710114203,
          0.0034942798638628,
          0.0040953395036448,
          0.0088204961189817,
          0.0211683567209532,
          0.0356623597509121,
          0.0524336190382975,
          0.0707785642062689,
          0.1023941749091607,
          0.1358704746096233,
          0.1937070369741451,
          0.2307310565291088
         ],
         "yaxis": "y"
        },
        {
         "alignmentgroup": "True",
         "bingroup": "x",
         "histfunc": "sum",
         "hovertemplate": "variable=Solar (% electricity)<br>Year=%{x}<br>sum of value=%{y}<extra></extra>",
         "legendgroup": "Solar (% electricity)",
         "marker": {
          "color": "#ab63fa",
          "pattern": {
           "shape": ""
          }
         },
         "name": "Solar (% electricity)",
         "nbinsx": 100,
         "offsetgroup": "Solar (% electricity)",
         "orientation": "v",
         "showlegend": true,
         "type": "histogram",
         "x": [
          2000,
          2001,
          2002,
          2003,
          2004,
          2005,
          2006,
          2007,
          2008,
          2009,
          2010,
          2011,
          2012,
          2013,
          2014,
          2015,
          2016,
          2017,
          2018,
          2019,
          2020,
          1985,
          1986,
          1987,
          1988,
          1989,
          1990,
          1991,
          1992,
          1993,
          1994,
          1995,
          1996,
          1997,
          1998,
          1999
         ],
         "xaxis": "x",
         "y": [
          0.0009763727570297,
          0.000940007129821,
          0.0011390618592457,
          0.0013465917242697,
          0.0013020477862613,
          0.0013431230140983,
          0.0016959402825786,
          0.0021092751696617,
          0.00266852547256,
          0.0051241251983658,
          0.005793488671136,
          0.0073195000150681,
          0.0114159366475599,
          0.0228712034382242,
          0.0306083307397116,
          0.0598819096639787,
          0.0917309736072803,
          0.1400517582584868,
          0.2491445221873297,
          0.2385678405882952,
          0.2445682589307797,
          0,
          0,
          0,
          0,
          0,
          0,
          0,
          0,
          0.0006858146105944,
          0.0006991149205106,
          0.0006740815638692,
          0.0007110706590913,
          0.000669312682806,
          0.0006289189512147,
          0.0006445001579025
         ],
         "yaxis": "y"
        },
        {
         "alignmentgroup": "True",
         "bingroup": "x",
         "histfunc": "sum",
         "hovertemplate": "variable=Coal (% electricity)<br>Year=%{x}<br>sum of value=%{y}<extra></extra>",
         "legendgroup": "Coal (% electricity)",
         "marker": {
          "color": "#FFA15A",
          "pattern": {
           "shape": ""
          }
         },
         "name": "Coal (% electricity)",
         "nbinsx": 100,
         "offsetgroup": "Coal (% electricity)",
         "orientation": "v",
         "showlegend": true,
         "type": "histogram",
         "x": [
          2000,
          2001,
          2002,
          2003,
          2004,
          2005,
          2006,
          2007,
          2008,
          2009,
          2010,
          2011,
          2012,
          2013,
          2014,
          2015,
          2016,
          2017,
          2018,
          2019,
          2020,
          1985,
          1986,
          1987,
          1988,
          1989,
          1990,
          1991,
          1992,
          1993,
          1994,
          1995,
          1996,
          1997,
          1998,
          1999
         ],
         "xaxis": "x",
         "y": [
          1.126478018688766,
          1.1627869630900116,
          1.6175905397906452,
          2.102249065974655,
          0.6658573489235107,
          0.4091883935758131,
          0.6134697565377225,
          0.4361005368303534,
          0.3429055232239626,
          0.3769892110226316,
          0.6884820258024471,
          0.4371737736272546,
          0.2902051263563935,
          0.4267113098617265,
          0.2416104405198516,
          0.2389102993810287,
          0.1687080143966065,
          0.1960724615618816,
          0.2050698155595957,
          0.196364193113216,
          0.2013031123877426,
          null,
          null,
          null,
          null,
          null,
          null,
          null,
          null,
          null,
          null,
          null,
          null,
          null,
          null,
          null
         ],
         "yaxis": "y"
        },
        {
         "alignmentgroup": "True",
         "bingroup": "x",
         "histfunc": "sum",
         "hovertemplate": "variable=Gas (% electricity)<br>Year=%{x}<br>sum of value=%{y}<extra></extra>",
         "legendgroup": "Gas (% electricity)",
         "marker": {
          "color": "#19d3f3",
          "pattern": {
           "shape": ""
          }
         },
         "name": "Gas (% electricity)",
         "nbinsx": 100,
         "offsetgroup": "Gas (% electricity)",
         "orientation": "v",
         "showlegend": true,
         "type": "histogram",
         "x": [
          2000,
          2001,
          2002,
          2003,
          2004,
          2005,
          2006,
          2007,
          2008,
          2009,
          2010,
          2011,
          2012,
          2013,
          2014,
          2015,
          2016,
          2017,
          2018,
          2019,
          2020,
          1985,
          1986,
          1987,
          1988,
          1989,
          1990,
          1991,
          1992,
          1993,
          1994,
          1995,
          1996,
          1997,
          1998,
          1999
         ],
         "xaxis": "x",
         "y": [
          0.3332612231328623,
          0.2444389837256809,
          0.3790056216281494,
          0.5392276240904772,
          0.5115894086778656,
          0.3769837514888277,
          0.4159590158094227,
          0.5604127083459395,
          0.4122871855105232,
          1.1441439550065498,
          1.9596812260854384,
          1.0526771839852611,
          0.5497674753956523,
          0.5580573638926716,
          0.2748237355778366,
          0.2753333165993251,
          0.4355617557996038,
          0.1997259856903638,
          0.2356772507177443,
          0.2256722816375766,
          0.2313483530426295,
          null,
          null,
          null,
          null,
          null,
          null,
          null,
          null,
          null,
          null,
          null,
          null,
          null,
          null,
          null
         ],
         "yaxis": "y"
        },
        {
         "alignmentgroup": "True",
         "bingroup": "x",
         "histfunc": "sum",
         "hovertemplate": "variable=Oil (% electricity)<br>Year=%{x}<br>sum of value=%{y}<extra></extra>",
         "legendgroup": "Oil (% electricity)",
         "marker": {
          "color": "#FF6692",
          "pattern": {
           "shape": ""
          }
         },
         "name": "Oil (% electricity)",
         "nbinsx": 100,
         "offsetgroup": "Oil (% electricity)",
         "orientation": "v",
         "showlegend": true,
         "type": "histogram",
         "x": [
          2000,
          2001,
          2002,
          2003,
          2004,
          2005,
          2006,
          2007,
          2008,
          2009,
          2010,
          2011,
          2012,
          2013,
          2014,
          2015,
          2016,
          2017,
          2018,
          2019,
          2020,
          1985,
          1986,
          1987,
          1988,
          1989,
          1990,
          1991,
          1992,
          1993,
          1994,
          1995,
          1996,
          1997,
          1998,
          1999
         ],
         "xaxis": "x",
         "y": [
          1.828116833507747,
          2.4078786979155056,
          3.077716513760961,
          4.178644752712096,
          2.785699264368052,
          2.216642988992916,
          2.626626945000098,
          1.9775714636236208,
          2.312284660418308,
          1.8648814448721285,
          3.0980943396874654,
          2.3162890502229425,
          1.6162562937861256,
          1.5545883708438706,
          1.3949583924353697,
          1.424819046437763,
          1.7454543998979704,
          1.7177652610747451,
          1.7978807411896496,
          1.7215571199209412,
          1.7648574360680591,
          null,
          null,
          null,
          null,
          null,
          null,
          null,
          null,
          null,
          null,
          null,
          null,
          null,
          null,
          null
         ],
         "yaxis": "y"
        }
       ],
       "layout": {
        "barmode": "relative",
        "legend": {
         "title": {
          "text": "variable"
         },
         "tracegroupgap": 0
        },
        "margin": {
         "t": 60
        },
        "template": {
         "data": {
          "bar": [
           {
            "error_x": {
             "color": "#2a3f5f"
            },
            "error_y": {
             "color": "#2a3f5f"
            },
            "marker": {
             "line": {
              "color": "#E5ECF6",
              "width": 0.5
             },
             "pattern": {
              "fillmode": "overlay",
              "size": 10,
              "solidity": 0.2
             }
            },
            "type": "bar"
           }
          ],
          "barpolar": [
           {
            "marker": {
             "line": {
              "color": "#E5ECF6",
              "width": 0.5
             },
             "pattern": {
              "fillmode": "overlay",
              "size": 10,
              "solidity": 0.2
             }
            },
            "type": "barpolar"
           }
          ],
          "carpet": [
           {
            "aaxis": {
             "endlinecolor": "#2a3f5f",
             "gridcolor": "white",
             "linecolor": "white",
             "minorgridcolor": "white",
             "startlinecolor": "#2a3f5f"
            },
            "baxis": {
             "endlinecolor": "#2a3f5f",
             "gridcolor": "white",
             "linecolor": "white",
             "minorgridcolor": "white",
             "startlinecolor": "#2a3f5f"
            },
            "type": "carpet"
           }
          ],
          "choropleth": [
           {
            "colorbar": {
             "outlinewidth": 0,
             "ticks": ""
            },
            "type": "choropleth"
           }
          ],
          "contour": [
           {
            "colorbar": {
             "outlinewidth": 0,
             "ticks": ""
            },
            "colorscale": [
             [
              0,
              "#0d0887"
             ],
             [
              0.1111111111111111,
              "#46039f"
             ],
             [
              0.2222222222222222,
              "#7201a8"
             ],
             [
              0.3333333333333333,
              "#9c179e"
             ],
             [
              0.4444444444444444,
              "#bd3786"
             ],
             [
              0.5555555555555556,
              "#d8576b"
             ],
             [
              0.6666666666666666,
              "#ed7953"
             ],
             [
              0.7777777777777778,
              "#fb9f3a"
             ],
             [
              0.8888888888888888,
              "#fdca26"
             ],
             [
              1,
              "#f0f921"
             ]
            ],
            "type": "contour"
           }
          ],
          "contourcarpet": [
           {
            "colorbar": {
             "outlinewidth": 0,
             "ticks": ""
            },
            "type": "contourcarpet"
           }
          ],
          "heatmap": [
           {
            "colorbar": {
             "outlinewidth": 0,
             "ticks": ""
            },
            "colorscale": [
             [
              0,
              "#0d0887"
             ],
             [
              0.1111111111111111,
              "#46039f"
             ],
             [
              0.2222222222222222,
              "#7201a8"
             ],
             [
              0.3333333333333333,
              "#9c179e"
             ],
             [
              0.4444444444444444,
              "#bd3786"
             ],
             [
              0.5555555555555556,
              "#d8576b"
             ],
             [
              0.6666666666666666,
              "#ed7953"
             ],
             [
              0.7777777777777778,
              "#fb9f3a"
             ],
             [
              0.8888888888888888,
              "#fdca26"
             ],
             [
              1,
              "#f0f921"
             ]
            ],
            "type": "heatmap"
           }
          ],
          "heatmapgl": [
           {
            "colorbar": {
             "outlinewidth": 0,
             "ticks": ""
            },
            "colorscale": [
             [
              0,
              "#0d0887"
             ],
             [
              0.1111111111111111,
              "#46039f"
             ],
             [
              0.2222222222222222,
              "#7201a8"
             ],
             [
              0.3333333333333333,
              "#9c179e"
             ],
             [
              0.4444444444444444,
              "#bd3786"
             ],
             [
              0.5555555555555556,
              "#d8576b"
             ],
             [
              0.6666666666666666,
              "#ed7953"
             ],
             [
              0.7777777777777778,
              "#fb9f3a"
             ],
             [
              0.8888888888888888,
              "#fdca26"
             ],
             [
              1,
              "#f0f921"
             ]
            ],
            "type": "heatmapgl"
           }
          ],
          "histogram": [
           {
            "marker": {
             "pattern": {
              "fillmode": "overlay",
              "size": 10,
              "solidity": 0.2
             }
            },
            "type": "histogram"
           }
          ],
          "histogram2d": [
           {
            "colorbar": {
             "outlinewidth": 0,
             "ticks": ""
            },
            "colorscale": [
             [
              0,
              "#0d0887"
             ],
             [
              0.1111111111111111,
              "#46039f"
             ],
             [
              0.2222222222222222,
              "#7201a8"
             ],
             [
              0.3333333333333333,
              "#9c179e"
             ],
             [
              0.4444444444444444,
              "#bd3786"
             ],
             [
              0.5555555555555556,
              "#d8576b"
             ],
             [
              0.6666666666666666,
              "#ed7953"
             ],
             [
              0.7777777777777778,
              "#fb9f3a"
             ],
             [
              0.8888888888888888,
              "#fdca26"
             ],
             [
              1,
              "#f0f921"
             ]
            ],
            "type": "histogram2d"
           }
          ],
          "histogram2dcontour": [
           {
            "colorbar": {
             "outlinewidth": 0,
             "ticks": ""
            },
            "colorscale": [
             [
              0,
              "#0d0887"
             ],
             [
              0.1111111111111111,
              "#46039f"
             ],
             [
              0.2222222222222222,
              "#7201a8"
             ],
             [
              0.3333333333333333,
              "#9c179e"
             ],
             [
              0.4444444444444444,
              "#bd3786"
             ],
             [
              0.5555555555555556,
              "#d8576b"
             ],
             [
              0.6666666666666666,
              "#ed7953"
             ],
             [
              0.7777777777777778,
              "#fb9f3a"
             ],
             [
              0.8888888888888888,
              "#fdca26"
             ],
             [
              1,
              "#f0f921"
             ]
            ],
            "type": "histogram2dcontour"
           }
          ],
          "mesh3d": [
           {
            "colorbar": {
             "outlinewidth": 0,
             "ticks": ""
            },
            "type": "mesh3d"
           }
          ],
          "parcoords": [
           {
            "line": {
             "colorbar": {
              "outlinewidth": 0,
              "ticks": ""
             }
            },
            "type": "parcoords"
           }
          ],
          "pie": [
           {
            "automargin": true,
            "type": "pie"
           }
          ],
          "scatter": [
           {
            "fillpattern": {
             "fillmode": "overlay",
             "size": 10,
             "solidity": 0.2
            },
            "type": "scatter"
           }
          ],
          "scatter3d": [
           {
            "line": {
             "colorbar": {
              "outlinewidth": 0,
              "ticks": ""
             }
            },
            "marker": {
             "colorbar": {
              "outlinewidth": 0,
              "ticks": ""
             }
            },
            "type": "scatter3d"
           }
          ],
          "scattercarpet": [
           {
            "marker": {
             "colorbar": {
              "outlinewidth": 0,
              "ticks": ""
             }
            },
            "type": "scattercarpet"
           }
          ],
          "scattergeo": [
           {
            "marker": {
             "colorbar": {
              "outlinewidth": 0,
              "ticks": ""
             }
            },
            "type": "scattergeo"
           }
          ],
          "scattergl": [
           {
            "marker": {
             "colorbar": {
              "outlinewidth": 0,
              "ticks": ""
             }
            },
            "type": "scattergl"
           }
          ],
          "scattermapbox": [
           {
            "marker": {
             "colorbar": {
              "outlinewidth": 0,
              "ticks": ""
             }
            },
            "type": "scattermapbox"
           }
          ],
          "scatterpolar": [
           {
            "marker": {
             "colorbar": {
              "outlinewidth": 0,
              "ticks": ""
             }
            },
            "type": "scatterpolar"
           }
          ],
          "scatterpolargl": [
           {
            "marker": {
             "colorbar": {
              "outlinewidth": 0,
              "ticks": ""
             }
            },
            "type": "scatterpolargl"
           }
          ],
          "scatterternary": [
           {
            "marker": {
             "colorbar": {
              "outlinewidth": 0,
              "ticks": ""
             }
            },
            "type": "scatterternary"
           }
          ],
          "surface": [
           {
            "colorbar": {
             "outlinewidth": 0,
             "ticks": ""
            },
            "colorscale": [
             [
              0,
              "#0d0887"
             ],
             [
              0.1111111111111111,
              "#46039f"
             ],
             [
              0.2222222222222222,
              "#7201a8"
             ],
             [
              0.3333333333333333,
              "#9c179e"
             ],
             [
              0.4444444444444444,
              "#bd3786"
             ],
             [
              0.5555555555555556,
              "#d8576b"
             ],
             [
              0.6666666666666666,
              "#ed7953"
             ],
             [
              0.7777777777777778,
              "#fb9f3a"
             ],
             [
              0.8888888888888888,
              "#fdca26"
             ],
             [
              1,
              "#f0f921"
             ]
            ],
            "type": "surface"
           }
          ],
          "table": [
           {
            "cells": {
             "fill": {
              "color": "#EBF0F8"
             },
             "line": {
              "color": "white"
             }
            },
            "header": {
             "fill": {
              "color": "#C8D4E3"
             },
             "line": {
              "color": "white"
             }
            },
            "type": "table"
           }
          ]
         },
         "layout": {
          "annotationdefaults": {
           "arrowcolor": "#2a3f5f",
           "arrowhead": 0,
           "arrowwidth": 1
          },
          "autotypenumbers": "strict",
          "coloraxis": {
           "colorbar": {
            "outlinewidth": 0,
            "ticks": ""
           }
          },
          "colorscale": {
           "diverging": [
            [
             0,
             "#8e0152"
            ],
            [
             0.1,
             "#c51b7d"
            ],
            [
             0.2,
             "#de77ae"
            ],
            [
             0.3,
             "#f1b6da"
            ],
            [
             0.4,
             "#fde0ef"
            ],
            [
             0.5,
             "#f7f7f7"
            ],
            [
             0.6,
             "#e6f5d0"
            ],
            [
             0.7,
             "#b8e186"
            ],
            [
             0.8,
             "#7fbc41"
            ],
            [
             0.9,
             "#4d9221"
            ],
            [
             1,
             "#276419"
            ]
           ],
           "sequential": [
            [
             0,
             "#0d0887"
            ],
            [
             0.1111111111111111,
             "#46039f"
            ],
            [
             0.2222222222222222,
             "#7201a8"
            ],
            [
             0.3333333333333333,
             "#9c179e"
            ],
            [
             0.4444444444444444,
             "#bd3786"
            ],
            [
             0.5555555555555556,
             "#d8576b"
            ],
            [
             0.6666666666666666,
             "#ed7953"
            ],
            [
             0.7777777777777778,
             "#fb9f3a"
            ],
            [
             0.8888888888888888,
             "#fdca26"
            ],
            [
             1,
             "#f0f921"
            ]
           ],
           "sequentialminus": [
            [
             0,
             "#0d0887"
            ],
            [
             0.1111111111111111,
             "#46039f"
            ],
            [
             0.2222222222222222,
             "#7201a8"
            ],
            [
             0.3333333333333333,
             "#9c179e"
            ],
            [
             0.4444444444444444,
             "#bd3786"
            ],
            [
             0.5555555555555556,
             "#d8576b"
            ],
            [
             0.6666666666666666,
             "#ed7953"
            ],
            [
             0.7777777777777778,
             "#fb9f3a"
            ],
            [
             0.8888888888888888,
             "#fdca26"
            ],
            [
             1,
             "#f0f921"
            ]
           ]
          },
          "colorway": [
           "#636efa",
           "#EF553B",
           "#00cc96",
           "#ab63fa",
           "#FFA15A",
           "#19d3f3",
           "#FF6692",
           "#B6E880",
           "#FF97FF",
           "#FECB52"
          ],
          "font": {
           "color": "#2a3f5f"
          },
          "geo": {
           "bgcolor": "white",
           "lakecolor": "white",
           "landcolor": "#E5ECF6",
           "showlakes": true,
           "showland": true,
           "subunitcolor": "white"
          },
          "hoverlabel": {
           "align": "left"
          },
          "hovermode": "closest",
          "mapbox": {
           "style": "light"
          },
          "paper_bgcolor": "white",
          "plot_bgcolor": "#E5ECF6",
          "polar": {
           "angularaxis": {
            "gridcolor": "white",
            "linecolor": "white",
            "ticks": ""
           },
           "bgcolor": "#E5ECF6",
           "radialaxis": {
            "gridcolor": "white",
            "linecolor": "white",
            "ticks": ""
           }
          },
          "scene": {
           "xaxis": {
            "backgroundcolor": "#E5ECF6",
            "gridcolor": "white",
            "gridwidth": 2,
            "linecolor": "white",
            "showbackground": true,
            "ticks": "",
            "zerolinecolor": "white"
           },
           "yaxis": {
            "backgroundcolor": "#E5ECF6",
            "gridcolor": "white",
            "gridwidth": 2,
            "linecolor": "white",
            "showbackground": true,
            "ticks": "",
            "zerolinecolor": "white"
           },
           "zaxis": {
            "backgroundcolor": "#E5ECF6",
            "gridcolor": "white",
            "gridwidth": 2,
            "linecolor": "white",
            "showbackground": true,
            "ticks": "",
            "zerolinecolor": "white"
           }
          },
          "shapedefaults": {
           "line": {
            "color": "#2a3f5f"
           }
          },
          "ternary": {
           "aaxis": {
            "gridcolor": "white",
            "linecolor": "white",
            "ticks": ""
           },
           "baxis": {
            "gridcolor": "white",
            "linecolor": "white",
            "ticks": ""
           },
           "bgcolor": "#E5ECF6",
           "caxis": {
            "gridcolor": "white",
            "linecolor": "white",
            "ticks": ""
           }
          },
          "title": {
           "x": 0.05
          },
          "xaxis": {
           "automargin": true,
           "gridcolor": "white",
           "linecolor": "white",
           "ticks": "",
           "title": {
            "standoff": 15
           },
           "zerolinecolor": "white",
           "zerolinewidth": 2
          },
          "yaxis": {
           "automargin": true,
           "gridcolor": "white",
           "linecolor": "white",
           "ticks": "",
           "title": {
            "standoff": 15
           },
           "zerolinecolor": "white",
           "zerolinewidth": 2
          }
         }
        },
        "xaxis": {
         "anchor": "y",
         "domain": [
          0,
          1
         ],
         "title": {
          "text": "Year"
         }
        },
        "yaxis": {
         "anchor": "x",
         "domain": [
          0,
          1
         ],
         "title": {
          "text": "sum of value"
         }
        }
       }
      }
     },
     "metadata": {},
     "output_type": "display_data"
    }
   ],
   "source": [
    "nationProdStats(nations[\"Sweden\"])"
   ]
  },
  {
   "cell_type": "code",
   "execution_count": 16,
   "metadata": {},
   "outputs": [
    {
     "data": {
      "text/html": [
       "<div>\n",
       "<style scoped>\n",
       "    .dataframe tbody tr th:only-of-type {\n",
       "        vertical-align: middle;\n",
       "    }\n",
       "\n",
       "    .dataframe tbody tr th {\n",
       "        vertical-align: top;\n",
       "    }\n",
       "\n",
       "    .dataframe thead th {\n",
       "        text-align: right;\n",
       "    }\n",
       "</style>\n",
       "<table border=\"1\" class=\"dataframe\">\n",
       "  <thead>\n",
       "    <tr style=\"text-align: right;\">\n",
       "      <th></th>\n",
       "      <th>Entity</th>\n",
       "      <th>Code</th>\n",
       "      <th>Year</th>\n",
       "      <th>Coal (% electricity)</th>\n",
       "      <th>Gas (% electricity)</th>\n",
       "      <th>Hydro (% electricity)</th>\n",
       "      <th>Solar (% electricity)</th>\n",
       "      <th>Wind (% electricity)</th>\n",
       "      <th>Oil (% electricity)</th>\n",
       "      <th>Nuclear (% electricity)</th>\n",
       "      <th>Other renewables (% electricity)</th>\n",
       "    </tr>\n",
       "  </thead>\n",
       "  <tbody>\n",
       "    <tr>\n",
       "      <th>5307</th>\n",
       "      <td>Sweden</td>\n",
       "      <td>SWE</td>\n",
       "      <td>2000</td>\n",
       "      <td>1.126478</td>\n",
       "      <td>0.333261</td>\n",
       "      <td>54.109504</td>\n",
       "      <td>0.000976</td>\n",
       "      <td>0.314670</td>\n",
       "      <td>1.828117</td>\n",
       "      <td>39.465290</td>\n",
       "      <td>2.821703</td>\n",
       "    </tr>\n",
       "    <tr>\n",
       "      <th>5308</th>\n",
       "      <td>Sweden</td>\n",
       "      <td>SWE</td>\n",
       "      <td>2001</td>\n",
       "      <td>1.162787</td>\n",
       "      <td>0.244439</td>\n",
       "      <td>48.924927</td>\n",
       "      <td>0.000940</td>\n",
       "      <td>0.298277</td>\n",
       "      <td>2.407879</td>\n",
       "      <td>44.623419</td>\n",
       "      <td>2.337332</td>\n",
       "    </tr>\n",
       "    <tr>\n",
       "      <th>5309</th>\n",
       "      <td>Sweden</td>\n",
       "      <td>SWE</td>\n",
       "      <td>2002</td>\n",
       "      <td>1.617591</td>\n",
       "      <td>0.379006</td>\n",
       "      <td>45.235275</td>\n",
       "      <td>0.001139</td>\n",
       "      <td>0.414452</td>\n",
       "      <td>3.077717</td>\n",
       "      <td>46.428870</td>\n",
       "      <td>2.845950</td>\n",
       "    </tr>\n",
       "    <tr>\n",
       "      <th>5310</th>\n",
       "      <td>Sweden</td>\n",
       "      <td>SWE</td>\n",
       "      <td>2003</td>\n",
       "      <td>2.102249</td>\n",
       "      <td>0.539228</td>\n",
       "      <td>39.548282</td>\n",
       "      <td>0.001347</td>\n",
       "      <td>0.501556</td>\n",
       "      <td>4.178645</td>\n",
       "      <td>49.797302</td>\n",
       "      <td>3.331393</td>\n",
       "    </tr>\n",
       "    <tr>\n",
       "      <th>5311</th>\n",
       "      <td>Sweden</td>\n",
       "      <td>SWE</td>\n",
       "      <td>2004</td>\n",
       "      <td>0.665857</td>\n",
       "      <td>0.511589</td>\n",
       "      <td>39.637190</td>\n",
       "      <td>0.001302</td>\n",
       "      <td>0.566968</td>\n",
       "      <td>2.785699</td>\n",
       "      <td>51.083785</td>\n",
       "      <td>4.747610</td>\n",
       "    </tr>\n",
       "    <tr>\n",
       "      <th>5312</th>\n",
       "      <td>Sweden</td>\n",
       "      <td>SWE</td>\n",
       "      <td>2005</td>\n",
       "      <td>0.409188</td>\n",
       "      <td>0.376984</td>\n",
       "      <td>45.972442</td>\n",
       "      <td>0.001343</td>\n",
       "      <td>0.590418</td>\n",
       "      <td>2.216643</td>\n",
       "      <td>45.703439</td>\n",
       "      <td>4.729542</td>\n",
       "    </tr>\n",
       "    <tr>\n",
       "      <th>5313</th>\n",
       "      <td>Sweden</td>\n",
       "      <td>SWE</td>\n",
       "      <td>2006</td>\n",
       "      <td>0.613470</td>\n",
       "      <td>0.415959</td>\n",
       "      <td>43.077027</td>\n",
       "      <td>0.001696</td>\n",
       "      <td>0.686751</td>\n",
       "      <td>2.626627</td>\n",
       "      <td>46.744441</td>\n",
       "      <td>5.834029</td>\n",
       "    </tr>\n",
       "    <tr>\n",
       "      <th>5314</th>\n",
       "      <td>Sweden</td>\n",
       "      <td>SWE</td>\n",
       "      <td>2007</td>\n",
       "      <td>0.436101</td>\n",
       "      <td>0.560413</td>\n",
       "      <td>44.455997</td>\n",
       "      <td>0.002109</td>\n",
       "      <td>0.958212</td>\n",
       "      <td>1.977571</td>\n",
       "      <td>45.000334</td>\n",
       "      <td>6.609264</td>\n",
       "    </tr>\n",
       "    <tr>\n",
       "      <th>5315</th>\n",
       "      <td>Sweden</td>\n",
       "      <td>SWE</td>\n",
       "      <td>2008</td>\n",
       "      <td>0.342906</td>\n",
       "      <td>0.412287</td>\n",
       "      <td>46.078311</td>\n",
       "      <td>0.002669</td>\n",
       "      <td>1.332928</td>\n",
       "      <td>2.312285</td>\n",
       "      <td>42.622356</td>\n",
       "      <td>6.896258</td>\n",
       "    </tr>\n",
       "    <tr>\n",
       "      <th>5316</th>\n",
       "      <td>Sweden</td>\n",
       "      <td>SWE</td>\n",
       "      <td>2009</td>\n",
       "      <td>0.376989</td>\n",
       "      <td>1.144144</td>\n",
       "      <td>48.204610</td>\n",
       "      <td>0.005124</td>\n",
       "      <td>1.823457</td>\n",
       "      <td>1.864881</td>\n",
       "      <td>38.191569</td>\n",
       "      <td>8.389225</td>\n",
       "    </tr>\n",
       "    <tr>\n",
       "      <th>5317</th>\n",
       "      <td>Sweden</td>\n",
       "      <td>SWE</td>\n",
       "      <td>2010</td>\n",
       "      <td>0.688482</td>\n",
       "      <td>1.959681</td>\n",
       "      <td>44.729632</td>\n",
       "      <td>0.005793</td>\n",
       "      <td>2.349058</td>\n",
       "      <td>3.098094</td>\n",
       "      <td>38.956496</td>\n",
       "      <td>8.212764</td>\n",
       "    </tr>\n",
       "    <tr>\n",
       "      <th>5318</th>\n",
       "      <td>Sweden</td>\n",
       "      <td>SWE</td>\n",
       "      <td>2011</td>\n",
       "      <td>0.437174</td>\n",
       "      <td>1.052677</td>\n",
       "      <td>44.205788</td>\n",
       "      <td>0.007320</td>\n",
       "      <td>4.063653</td>\n",
       "      <td>2.316289</td>\n",
       "      <td>40.240615</td>\n",
       "      <td>7.676485</td>\n",
       "    </tr>\n",
       "    <tr>\n",
       "      <th>5319</th>\n",
       "      <td>Sweden</td>\n",
       "      <td>SWE</td>\n",
       "      <td>2012</td>\n",
       "      <td>0.290205</td>\n",
       "      <td>0.549767</td>\n",
       "      <td>47.425406</td>\n",
       "      <td>0.011416</td>\n",
       "      <td>4.304409</td>\n",
       "      <td>1.616256</td>\n",
       "      <td>38.475912</td>\n",
       "      <td>7.326628</td>\n",
       "    </tr>\n",
       "    <tr>\n",
       "      <th>5320</th>\n",
       "      <td>Sweden</td>\n",
       "      <td>SWE</td>\n",
       "      <td>2013</td>\n",
       "      <td>0.426711</td>\n",
       "      <td>0.558057</td>\n",
       "      <td>40.097051</td>\n",
       "      <td>0.022871</td>\n",
       "      <td>6.431382</td>\n",
       "      <td>1.554588</td>\n",
       "      <td>43.427188</td>\n",
       "      <td>7.482151</td>\n",
       "    </tr>\n",
       "    <tr>\n",
       "      <th>5321</th>\n",
       "      <td>Sweden</td>\n",
       "      <td>SWE</td>\n",
       "      <td>2014</td>\n",
       "      <td>0.241610</td>\n",
       "      <td>0.274824</td>\n",
       "      <td>41.525063</td>\n",
       "      <td>0.030608</td>\n",
       "      <td>7.316694</td>\n",
       "      <td>1.394958</td>\n",
       "      <td>42.250568</td>\n",
       "      <td>6.965675</td>\n",
       "    </tr>\n",
       "    <tr>\n",
       "      <th>5322</th>\n",
       "      <td>Sweden</td>\n",
       "      <td>SWE</td>\n",
       "      <td>2015</td>\n",
       "      <td>0.238910</td>\n",
       "      <td>0.275333</td>\n",
       "      <td>46.493353</td>\n",
       "      <td>0.059882</td>\n",
       "      <td>10.076212</td>\n",
       "      <td>1.424819</td>\n",
       "      <td>34.785833</td>\n",
       "      <td>6.645657</td>\n",
       "    </tr>\n",
       "    <tr>\n",
       "      <th>5323</th>\n",
       "      <td>Sweden</td>\n",
       "      <td>SWE</td>\n",
       "      <td>2016</td>\n",
       "      <td>0.168708</td>\n",
       "      <td>0.435562</td>\n",
       "      <td>39.782735</td>\n",
       "      <td>0.091731</td>\n",
       "      <td>9.929397</td>\n",
       "      <td>1.745454</td>\n",
       "      <td>40.477735</td>\n",
       "      <td>7.368677</td>\n",
       "    </tr>\n",
       "    <tr>\n",
       "      <th>5324</th>\n",
       "      <td>Sweden</td>\n",
       "      <td>SWE</td>\n",
       "      <td>2017</td>\n",
       "      <td>0.196072</td>\n",
       "      <td>0.199726</td>\n",
       "      <td>39.666920</td>\n",
       "      <td>0.140052</td>\n",
       "      <td>10.722484</td>\n",
       "      <td>1.717765</td>\n",
       "      <td>40.003654</td>\n",
       "      <td>7.353326</td>\n",
       "    </tr>\n",
       "    <tr>\n",
       "      <th>5325</th>\n",
       "      <td>Sweden</td>\n",
       "      <td>SWE</td>\n",
       "      <td>2018</td>\n",
       "      <td>0.205070</td>\n",
       "      <td>0.235677</td>\n",
       "      <td>38.081771</td>\n",
       "      <td>0.249145</td>\n",
       "      <td>10.175748</td>\n",
       "      <td>1.797881</td>\n",
       "      <td>41.962181</td>\n",
       "      <td>7.292528</td>\n",
       "    </tr>\n",
       "    <tr>\n",
       "      <th>5326</th>\n",
       "      <td>Sweden</td>\n",
       "      <td>SWE</td>\n",
       "      <td>2019</td>\n",
       "      <td>0.196364</td>\n",
       "      <td>0.225672</td>\n",
       "      <td>39.019815</td>\n",
       "      <td>0.238568</td>\n",
       "      <td>11.676273</td>\n",
       "      <td>1.721557</td>\n",
       "      <td>39.376120</td>\n",
       "      <td>7.545631</td>\n",
       "    </tr>\n",
       "    <tr>\n",
       "      <th>5327</th>\n",
       "      <td>Sweden</td>\n",
       "      <td>SWE</td>\n",
       "      <td>2020</td>\n",
       "      <td>0.201303</td>\n",
       "      <td>0.231348</td>\n",
       "      <td>44.559312</td>\n",
       "      <td>0.244568</td>\n",
       "      <td>16.394814</td>\n",
       "      <td>1.764857</td>\n",
       "      <td>30.180718</td>\n",
       "      <td>6.423078</td>\n",
       "    </tr>\n",
       "    <tr>\n",
       "      <th>5328</th>\n",
       "      <td>Sweden</td>\n",
       "      <td>SWE</td>\n",
       "      <td>1985</td>\n",
       "      <td>NaN</td>\n",
       "      <td>NaN</td>\n",
       "      <td>51.763162</td>\n",
       "      <td>0.000000</td>\n",
       "      <td>0.004375</td>\n",
       "      <td>NaN</td>\n",
       "      <td>42.701619</td>\n",
       "      <td>1.313986</td>\n",
       "    </tr>\n",
       "    <tr>\n",
       "      <th>5329</th>\n",
       "      <td>Sweden</td>\n",
       "      <td>SWE</td>\n",
       "      <td>1986</td>\n",
       "      <td>NaN</td>\n",
       "      <td>NaN</td>\n",
       "      <td>43.947032</td>\n",
       "      <td>0.000000</td>\n",
       "      <td>0.004327</td>\n",
       "      <td>NaN</td>\n",
       "      <td>50.451133</td>\n",
       "      <td>1.428046</td>\n",
       "    </tr>\n",
       "    <tr>\n",
       "      <th>5330</th>\n",
       "      <td>Sweden</td>\n",
       "      <td>SWE</td>\n",
       "      <td>1987</td>\n",
       "      <td>NaN</td>\n",
       "      <td>NaN</td>\n",
       "      <td>49.023340</td>\n",
       "      <td>0.000000</td>\n",
       "      <td>0.004094</td>\n",
       "      <td>NaN</td>\n",
       "      <td>45.974306</td>\n",
       "      <td>1.336554</td>\n",
       "    </tr>\n",
       "    <tr>\n",
       "      <th>5331</th>\n",
       "      <td>Sweden</td>\n",
       "      <td>SWE</td>\n",
       "      <td>1988</td>\n",
       "      <td>NaN</td>\n",
       "      <td>NaN</td>\n",
       "      <td>47.789783</td>\n",
       "      <td>0.000000</td>\n",
       "      <td>0.003419</td>\n",
       "      <td>NaN</td>\n",
       "      <td>47.475894</td>\n",
       "      <td>1.395746</td>\n",
       "    </tr>\n",
       "    <tr>\n",
       "      <th>5332</th>\n",
       "      <td>Sweden</td>\n",
       "      <td>SWE</td>\n",
       "      <td>1989</td>\n",
       "      <td>NaN</td>\n",
       "      <td>NaN</td>\n",
       "      <td>50.142916</td>\n",
       "      <td>0.000000</td>\n",
       "      <td>0.003494</td>\n",
       "      <td>NaN</td>\n",
       "      <td>45.847048</td>\n",
       "      <td>1.529796</td>\n",
       "    </tr>\n",
       "    <tr>\n",
       "      <th>5333</th>\n",
       "      <td>Sweden</td>\n",
       "      <td>SWE</td>\n",
       "      <td>1990</td>\n",
       "      <td>NaN</td>\n",
       "      <td>NaN</td>\n",
       "      <td>49.491495</td>\n",
       "      <td>0.000000</td>\n",
       "      <td>0.004095</td>\n",
       "      <td>NaN</td>\n",
       "      <td>46.540121</td>\n",
       "      <td>1.326207</td>\n",
       "    </tr>\n",
       "    <tr>\n",
       "      <th>5334</th>\n",
       "      <td>Sweden</td>\n",
       "      <td>SWE</td>\n",
       "      <td>1991</td>\n",
       "      <td>NaN</td>\n",
       "      <td>NaN</td>\n",
       "      <td>42.914428</td>\n",
       "      <td>0.000000</td>\n",
       "      <td>0.008820</td>\n",
       "      <td>NaN</td>\n",
       "      <td>52.082316</td>\n",
       "      <td>1.262009</td>\n",
       "    </tr>\n",
       "    <tr>\n",
       "      <th>5335</th>\n",
       "      <td>Sweden</td>\n",
       "      <td>SWE</td>\n",
       "      <td>1992</td>\n",
       "      <td>NaN</td>\n",
       "      <td>NaN</td>\n",
       "      <td>50.779474</td>\n",
       "      <td>0.000000</td>\n",
       "      <td>0.021168</td>\n",
       "      <td>NaN</td>\n",
       "      <td>43.391034</td>\n",
       "      <td>1.372529</td>\n",
       "    </tr>\n",
       "    <tr>\n",
       "      <th>5336</th>\n",
       "      <td>Sweden</td>\n",
       "      <td>SWE</td>\n",
       "      <td>1993</td>\n",
       "      <td>NaN</td>\n",
       "      <td>NaN</td>\n",
       "      <td>51.194003</td>\n",
       "      <td>0.000686</td>\n",
       "      <td>0.035662</td>\n",
       "      <td>NaN</td>\n",
       "      <td>42.105588</td>\n",
       "      <td>1.488904</td>\n",
       "    </tr>\n",
       "    <tr>\n",
       "      <th>5337</th>\n",
       "      <td>Sweden</td>\n",
       "      <td>SWE</td>\n",
       "      <td>1994</td>\n",
       "      <td>NaN</td>\n",
       "      <td>NaN</td>\n",
       "      <td>41.315594</td>\n",
       "      <td>0.000699</td>\n",
       "      <td>0.052434</td>\n",
       "      <td>NaN</td>\n",
       "      <td>51.144451</td>\n",
       "      <td>1.558327</td>\n",
       "    </tr>\n",
       "    <tr>\n",
       "      <th>5338</th>\n",
       "      <td>Sweden</td>\n",
       "      <td>SWE</td>\n",
       "      <td>1995</td>\n",
       "      <td>NaN</td>\n",
       "      <td>NaN</td>\n",
       "      <td>45.902258</td>\n",
       "      <td>0.000674</td>\n",
       "      <td>0.070779</td>\n",
       "      <td>NaN</td>\n",
       "      <td>47.141894</td>\n",
       "      <td>1.586788</td>\n",
       "    </tr>\n",
       "    <tr>\n",
       "      <th>5339</th>\n",
       "      <td>Sweden</td>\n",
       "      <td>SWE</td>\n",
       "      <td>1996</td>\n",
       "      <td>NaN</td>\n",
       "      <td>NaN</td>\n",
       "      <td>36.790796</td>\n",
       "      <td>0.000711</td>\n",
       "      <td>0.102394</td>\n",
       "      <td>NaN</td>\n",
       "      <td>52.814062</td>\n",
       "      <td>1.506048</td>\n",
       "    </tr>\n",
       "    <tr>\n",
       "      <th>5340</th>\n",
       "      <td>Sweden</td>\n",
       "      <td>SWE</td>\n",
       "      <td>1997</td>\n",
       "      <td>NaN</td>\n",
       "      <td>NaN</td>\n",
       "      <td>46.220057</td>\n",
       "      <td>0.000669</td>\n",
       "      <td>0.135870</td>\n",
       "      <td>NaN</td>\n",
       "      <td>46.803697</td>\n",
       "      <td>1.856004</td>\n",
       "    </tr>\n",
       "    <tr>\n",
       "      <th>5341</th>\n",
       "      <td>Sweden</td>\n",
       "      <td>SWE</td>\n",
       "      <td>1998</td>\n",
       "      <td>NaN</td>\n",
       "      <td>NaN</td>\n",
       "      <td>47.007289</td>\n",
       "      <td>0.000629</td>\n",
       "      <td>0.193707</td>\n",
       "      <td>NaN</td>\n",
       "      <td>46.277743</td>\n",
       "      <td>1.748395</td>\n",
       "    </tr>\n",
       "    <tr>\n",
       "      <th>5342</th>\n",
       "      <td>Sweden</td>\n",
       "      <td>SWE</td>\n",
       "      <td>1999</td>\n",
       "      <td>NaN</td>\n",
       "      <td>NaN</td>\n",
       "      <td>46.204861</td>\n",
       "      <td>0.000645</td>\n",
       "      <td>0.230731</td>\n",
       "      <td>NaN</td>\n",
       "      <td>47.169678</td>\n",
       "      <td>1.738217</td>\n",
       "    </tr>\n",
       "  </tbody>\n",
       "</table>\n",
       "</div>"
      ],
      "text/plain": [
       "      Entity Code  Year  Coal (% electricity)  Gas (% electricity)  \\\n",
       "5307  Sweden  SWE  2000              1.126478             0.333261   \n",
       "5308  Sweden  SWE  2001              1.162787             0.244439   \n",
       "5309  Sweden  SWE  2002              1.617591             0.379006   \n",
       "5310  Sweden  SWE  2003              2.102249             0.539228   \n",
       "5311  Sweden  SWE  2004              0.665857             0.511589   \n",
       "5312  Sweden  SWE  2005              0.409188             0.376984   \n",
       "5313  Sweden  SWE  2006              0.613470             0.415959   \n",
       "5314  Sweden  SWE  2007              0.436101             0.560413   \n",
       "5315  Sweden  SWE  2008              0.342906             0.412287   \n",
       "5316  Sweden  SWE  2009              0.376989             1.144144   \n",
       "5317  Sweden  SWE  2010              0.688482             1.959681   \n",
       "5318  Sweden  SWE  2011              0.437174             1.052677   \n",
       "5319  Sweden  SWE  2012              0.290205             0.549767   \n",
       "5320  Sweden  SWE  2013              0.426711             0.558057   \n",
       "5321  Sweden  SWE  2014              0.241610             0.274824   \n",
       "5322  Sweden  SWE  2015              0.238910             0.275333   \n",
       "5323  Sweden  SWE  2016              0.168708             0.435562   \n",
       "5324  Sweden  SWE  2017              0.196072             0.199726   \n",
       "5325  Sweden  SWE  2018              0.205070             0.235677   \n",
       "5326  Sweden  SWE  2019              0.196364             0.225672   \n",
       "5327  Sweden  SWE  2020              0.201303             0.231348   \n",
       "5328  Sweden  SWE  1985                   NaN                  NaN   \n",
       "5329  Sweden  SWE  1986                   NaN                  NaN   \n",
       "5330  Sweden  SWE  1987                   NaN                  NaN   \n",
       "5331  Sweden  SWE  1988                   NaN                  NaN   \n",
       "5332  Sweden  SWE  1989                   NaN                  NaN   \n",
       "5333  Sweden  SWE  1990                   NaN                  NaN   \n",
       "5334  Sweden  SWE  1991                   NaN                  NaN   \n",
       "5335  Sweden  SWE  1992                   NaN                  NaN   \n",
       "5336  Sweden  SWE  1993                   NaN                  NaN   \n",
       "5337  Sweden  SWE  1994                   NaN                  NaN   \n",
       "5338  Sweden  SWE  1995                   NaN                  NaN   \n",
       "5339  Sweden  SWE  1996                   NaN                  NaN   \n",
       "5340  Sweden  SWE  1997                   NaN                  NaN   \n",
       "5341  Sweden  SWE  1998                   NaN                  NaN   \n",
       "5342  Sweden  SWE  1999                   NaN                  NaN   \n",
       "\n",
       "      Hydro (% electricity)  Solar (% electricity)  Wind (% electricity)  \\\n",
       "5307              54.109504               0.000976              0.314670   \n",
       "5308              48.924927               0.000940              0.298277   \n",
       "5309              45.235275               0.001139              0.414452   \n",
       "5310              39.548282               0.001347              0.501556   \n",
       "5311              39.637190               0.001302              0.566968   \n",
       "5312              45.972442               0.001343              0.590418   \n",
       "5313              43.077027               0.001696              0.686751   \n",
       "5314              44.455997               0.002109              0.958212   \n",
       "5315              46.078311               0.002669              1.332928   \n",
       "5316              48.204610               0.005124              1.823457   \n",
       "5317              44.729632               0.005793              2.349058   \n",
       "5318              44.205788               0.007320              4.063653   \n",
       "5319              47.425406               0.011416              4.304409   \n",
       "5320              40.097051               0.022871              6.431382   \n",
       "5321              41.525063               0.030608              7.316694   \n",
       "5322              46.493353               0.059882             10.076212   \n",
       "5323              39.782735               0.091731              9.929397   \n",
       "5324              39.666920               0.140052             10.722484   \n",
       "5325              38.081771               0.249145             10.175748   \n",
       "5326              39.019815               0.238568             11.676273   \n",
       "5327              44.559312               0.244568             16.394814   \n",
       "5328              51.763162               0.000000              0.004375   \n",
       "5329              43.947032               0.000000              0.004327   \n",
       "5330              49.023340               0.000000              0.004094   \n",
       "5331              47.789783               0.000000              0.003419   \n",
       "5332              50.142916               0.000000              0.003494   \n",
       "5333              49.491495               0.000000              0.004095   \n",
       "5334              42.914428               0.000000              0.008820   \n",
       "5335              50.779474               0.000000              0.021168   \n",
       "5336              51.194003               0.000686              0.035662   \n",
       "5337              41.315594               0.000699              0.052434   \n",
       "5338              45.902258               0.000674              0.070779   \n",
       "5339              36.790796               0.000711              0.102394   \n",
       "5340              46.220057               0.000669              0.135870   \n",
       "5341              47.007289               0.000629              0.193707   \n",
       "5342              46.204861               0.000645              0.230731   \n",
       "\n",
       "      Oil (% electricity)  Nuclear (% electricity)  \\\n",
       "5307             1.828117                39.465290   \n",
       "5308             2.407879                44.623419   \n",
       "5309             3.077717                46.428870   \n",
       "5310             4.178645                49.797302   \n",
       "5311             2.785699                51.083785   \n",
       "5312             2.216643                45.703439   \n",
       "5313             2.626627                46.744441   \n",
       "5314             1.977571                45.000334   \n",
       "5315             2.312285                42.622356   \n",
       "5316             1.864881                38.191569   \n",
       "5317             3.098094                38.956496   \n",
       "5318             2.316289                40.240615   \n",
       "5319             1.616256                38.475912   \n",
       "5320             1.554588                43.427188   \n",
       "5321             1.394958                42.250568   \n",
       "5322             1.424819                34.785833   \n",
       "5323             1.745454                40.477735   \n",
       "5324             1.717765                40.003654   \n",
       "5325             1.797881                41.962181   \n",
       "5326             1.721557                39.376120   \n",
       "5327             1.764857                30.180718   \n",
       "5328                  NaN                42.701619   \n",
       "5329                  NaN                50.451133   \n",
       "5330                  NaN                45.974306   \n",
       "5331                  NaN                47.475894   \n",
       "5332                  NaN                45.847048   \n",
       "5333                  NaN                46.540121   \n",
       "5334                  NaN                52.082316   \n",
       "5335                  NaN                43.391034   \n",
       "5336                  NaN                42.105588   \n",
       "5337                  NaN                51.144451   \n",
       "5338                  NaN                47.141894   \n",
       "5339                  NaN                52.814062   \n",
       "5340                  NaN                46.803697   \n",
       "5341                  NaN                46.277743   \n",
       "5342                  NaN                47.169678   \n",
       "\n",
       "      Other renewables (% electricity)  \n",
       "5307                          2.821703  \n",
       "5308                          2.337332  \n",
       "5309                          2.845950  \n",
       "5310                          3.331393  \n",
       "5311                          4.747610  \n",
       "5312                          4.729542  \n",
       "5313                          5.834029  \n",
       "5314                          6.609264  \n",
       "5315                          6.896258  \n",
       "5316                          8.389225  \n",
       "5317                          8.212764  \n",
       "5318                          7.676485  \n",
       "5319                          7.326628  \n",
       "5320                          7.482151  \n",
       "5321                          6.965675  \n",
       "5322                          6.645657  \n",
       "5323                          7.368677  \n",
       "5324                          7.353326  \n",
       "5325                          7.292528  \n",
       "5326                          7.545631  \n",
       "5327                          6.423078  \n",
       "5328                          1.313986  \n",
       "5329                          1.428046  \n",
       "5330                          1.336554  \n",
       "5331                          1.395746  \n",
       "5332                          1.529796  \n",
       "5333                          1.326207  \n",
       "5334                          1.262009  \n",
       "5335                          1.372529  \n",
       "5336                          1.488904  \n",
       "5337                          1.558327  \n",
       "5338                          1.586788  \n",
       "5339                          1.506048  \n",
       "5340                          1.856004  \n",
       "5341                          1.748395  \n",
       "5342                          1.738217  "
      ]
     },
     "execution_count": 16,
     "metadata": {},
     "output_type": "execute_result"
    }
   ],
   "source": []
  }
 ],
 "metadata": {
  "kernelspec": {
   "display_name": "Python 3.10.4 64-bit",
   "language": "python",
   "name": "python3"
  },
  "language_info": {
   "codemirror_mode": {
    "name": "ipython",
    "version": 3
   },
   "file_extension": ".py",
   "mimetype": "text/x-python",
   "name": "python",
   "nbconvert_exporter": "python",
   "pygments_lexer": "ipython3",
   "version": "3.10.4"
  },
  "orig_nbformat": 4,
  "vscode": {
   "interpreter": {
    "hash": "883bf3196445a25e6ef0b83fe1b0217ce28953988b66f135da5aaeedac26c0c3"
   }
  }
 },
 "nbformat": 4,
 "nbformat_minor": 2
}
