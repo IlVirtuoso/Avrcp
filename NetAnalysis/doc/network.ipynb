{
 "cells": [
  {
   "cell_type": "code",
   "execution_count": 3,
   "metadata": {},
   "outputs": [],
   "source": [
    "import networkit as nk\n"
   ]
  },
  {
   "cell_type": "code",
   "execution_count": 6,
   "metadata": {},
   "outputs": [
    {
     "ename": "TypeError",
     "evalue": "GraphReader.read() takes exactly one argument (0 given)",
     "output_type": "error",
     "traceback": [
      "\u001b[1;31m---------------------------------------------------------------------------\u001b[0m",
      "\u001b[1;31mTypeError\u001b[0m                                 Traceback (most recent call last)",
      "\u001b[1;32mc:\\Users\\matte\\Desktop\\programmazione\\C++\\Avrcp\\NetAnalysis\\doc\\network.ipynb Cella 2\u001b[0m in \u001b[0;36m<cell line: 1>\u001b[1;34m()\u001b[0m\n\u001b[1;32m----> <a href='vscode-notebook-cell:/c%3A/Users/matte/Desktop/programmazione/C%2B%2B/Avrcp/NetAnalysis/doc/network.ipynb#ch0000001?line=0'>1</a>\u001b[0m nk\u001b[39m.\u001b[39;49mgraphio\u001b[39m.\u001b[39;49mEdgeListReader(\u001b[39m\"\u001b[39;49m\u001b[39m,\u001b[39;49m\u001b[39m\"\u001b[39;49m,\u001b[39m0\u001b[39;49m)\u001b[39m.\u001b[39;49mread()\n",
      "\u001b[1;31mTypeError\u001b[0m: GraphReader.read() takes exactly one argument (0 given)"
     ]
    }
   ],
   "source": [
    "nk.graphio.EdgeListReader(\",\",0).read(\"./musae_git_edges.csv\")"
   ]
  },
  {
   "cell_type": "code",
   "execution_count": null,
   "metadata": {},
   "outputs": [],
   "source": []
  },
  {
   "cell_type": "code",
   "execution_count": null,
   "metadata": {},
   "outputs": [],
   "source": []
  },
  {
   "cell_type": "code",
   "execution_count": null,
   "metadata": {},
   "outputs": [],
   "source": []
  }
 ],
 "metadata": {
  "kernelspec": {
   "display_name": "Python 3.10.4 64-bit",
   "language": "python",
   "name": "python3"
  },
  "language_info": {
   "codemirror_mode": {
    "name": "ipython",
    "version": 3
   },
   "file_extension": ".py",
   "mimetype": "text/x-python",
   "name": "python",
   "nbconvert_exporter": "python",
   "pygments_lexer": "ipython3",
   "version": "3.10.4"
  },
  "orig_nbformat": 4,
  "vscode": {
   "interpreter": {
    "hash": "883bf3196445a25e6ef0b83fe1b0217ce28953988b66f135da5aaeedac26c0c3"
   }
  }
 },
 "nbformat": 4,
 "nbformat_minor": 2
}
