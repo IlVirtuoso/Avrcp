{
 "cells": [
  {
   "cell_type": "code",
   "execution_count": 89,
   "metadata": {},
   "outputs": [],
   "source": [
    "import networkit as nk\n",
    "import networkx as nx \n",
    "import matplotlib.pyplot as plt\n",
    "import numpy as np\n",
    "import json\n",
    "import pandas as pd\n",
    "import math\n",
    "import threading"
   ]
  },
  {
   "cell_type": "code",
   "execution_count": 90,
   "metadata": {},
   "outputs": [],
   "source": [
    "def GenGraphFromSubset(graph: nx.graph.Graph, community: list[int]) -> nx.Graph:\n",
    "        subGraph = nx.Graph()\n",
    "        subGraph.add_nodes_from(community)\n",
    "        for node in community:\n",
    "            for target in community:\n",
    "                if graph.has_edge(node,target):\n",
    "                    subGraph.add_edge(node,target)\n",
    "                    pass\n",
    "                pass\n",
    "            pass\n",
    "        return subGraph\n",
    "\n",
    "def LoadFeatures(graph : nx.Graph, jsonFile : str):\n",
    "    file = open(jsonFile,\"r\")\n",
    "    jsonValues = json.load(file)\n",
    "    trValues= {}\n",
    "    for i in range(len(jsonValues)):\n",
    "        trValues[i] = [] \n",
    "        for value in jsonValues[str(i)]:\n",
    "            trValues[i].append(value)  \n",
    "            pass\n",
    "        pass\n",
    "    nx.set_node_attributes(graph,trValues)\n",
    "    pass\n",
    "\n",
    "def LoadTarget(graph: nx.graph.Graph,targetFile):\n",
    "    tg = pd.read_csv(targetFile)\n",
    "    ml_target = {}\n",
    "    usernames= {}\n",
    "    for i in range(graph.number_of_nodes()):\n",
    "        ml_target[i] = tg[\"ml_target\"][i]\n",
    "        usernames[i] = tg[\"name\"][i]\n",
    "        pass\n",
    "    nx.set_node_attributes(graph,ml_target,\"ml_target\")\n",
    "    nx.set_node_attributes(graph,usernames,\"username\")\n",
    "    pass\n",
    "\n",
    "def PrintStat(array: list[int]):\n",
    "    print(\"Mean: \" + str(np.mean(array)))\n",
    "    print(\"Max: \" + str(np.max(array)))\n",
    "    print(\"Min: \" + str(np.min(array)))\n",
    "    print(\"Variance: \" + str(np.var(array)))\n",
    "    pass\n",
    "\n",
    "\n",
    "\n",
    "\n"
   ]
  },
  {
   "cell_type": "code",
   "execution_count": 3,
   "metadata": {},
   "outputs": [],
   "source": [
    "\n",
    "graph = nk.graphio.EdgeListReader(\",\",0).read(\"./musae_git_edges.csv\")\n",
    "nxgraph = nk.nxadapter.nk2nx(graph)\n",
    "LoadTarget(nxgraph,\"./musae_git_target.csv\")"
   ]
  },
  {
   "cell_type": "markdown",
   "metadata": {},
   "source": [
    "Basic Measure"
   ]
  },
  {
   "cell_type": "code",
   "execution_count": 26,
   "metadata": {},
   "outputs": [
    {
     "data": {
      "text/plain": [
       "0.13044847285322297"
      ]
     },
     "execution_count": 26,
     "metadata": {},
     "output_type": "execute_result"
    }
   ],
   "source": [
    "density = nxgraph.number_of_nodes()/nxgraph.number_of_edges()\n",
    "density"
   ]
  },
  {
   "cell_type": "code",
   "execution_count": null,
   "metadata": {},
   "outputs": [],
   "source": []
  },
  {
   "cell_type": "markdown",
   "metadata": {},
   "source": [
    "Degree"
   ]
  },
  {
   "cell_type": "code",
   "execution_count": 84,
   "metadata": {},
   "outputs": [
    {
     "name": "stdout",
     "output_type": "stream",
     "text": [
      "Mean: 15.331724137931035\n",
      "Max: 9458\n",
      "Min: 1\n",
      "Variance: 6526.544335754138\n"
     ]
    },
    {
     "data": {
      "text/plain": [
       "(array([3.7676e+04, 1.7000e+01, 3.0000e+00, 2.0000e+00, 0.0000e+00,\n",
       "        0.0000e+00, 0.0000e+00, 1.0000e+00, 0.0000e+00, 1.0000e+00]),\n",
       " array([1.0000e+00, 9.4670e+02, 1.8924e+03, 2.8381e+03, 3.7838e+03,\n",
       "        4.7295e+03, 5.6752e+03, 6.6209e+03, 7.5666e+03, 8.5123e+03,\n",
       "        9.4580e+03]),\n",
       " <BarContainer object of 10 artists>)"
      ]
     },
     "execution_count": 84,
     "metadata": {},
     "output_type": "execute_result"
    },
    {
     "data": {
      "image/png": "[encoded data removed]",
      "text/plain": [
       "<Figure size 432x288 with 1 Axes>"
      ]
     },
     "metadata": {
      "needs_background": "light"
     },
     "output_type": "display_data"
    }
   ],
   "source": [
    "degrees = [degree[1] for degree in nxgraph.degree()]\n",
    "PrintStat(degrees)\n",
    "plt.hist(degrees,log=True)"
   ]
  },
  {
   "cell_type": "code",
   "execution_count": 4,
   "metadata": {},
   "outputs": [],
   "source": [
    "\n",
    "def NKExtractDistances(graph: nk.graph.Graph, node : int, dict :dict[int,list[int]]) -> None:\n",
    "    distances = []\n",
    "    bfs = nk.distance.BFS(graph,node)\n",
    "    bfs.run()\n",
    "    for nodeT in nxgraph:\n",
    "        if node != nodeT:\n",
    "            distances.append(bfs.distance(nodeT))\n",
    "        pass\n",
    "    dict[node] = distances\n",
    "    \n",
    "\n",
    "globDistances = {}\n",
    "for node in nxgraph:\n",
    "    NKExtractDistances(graph,node,globDistances)\n",
    "    pass\n",
    "\n",
    "\n",
    "globDistances\n"
   ]
  },
  {
   "cell_type": "code",
   "execution_count": 77,
   "metadata": {},
   "outputs": [],
   "source": [
    "clusteringCoeff = nx.clustering(nxgraph)\n"
   ]
  },
  {
   "cell_type": "code",
   "execution_count": 78,
   "metadata": {},
   "outputs": [
    {
     "name": "stdout",
     "output_type": "stream",
     "text": [
      "Mean: 0.16753704480107584\n",
      "Max: 1.0\n",
      "Min: 0.0\n",
      "Variance: 0.05069908888488433\n"
     ]
    },
    {
     "data": {
      "text/plain": [
       "(array([18619.,  7831.,  4329.,  2989.,   874.,   817.,   721.,    35.,\n",
       "           91.,  1394.]),\n",
       " array([0. , 0.1, 0.2, 0.3, 0.4, 0.5, 0.6, 0.7, 0.8, 0.9, 1. ]),\n",
       " <BarContainer object of 10 artists>)"
      ]
     },
     "execution_count": 78,
     "metadata": {},
     "output_type": "execute_result"
    },
    {
     "data": {
      "image/png": "[encoded data removed]",
      "text/plain": [
       "<Figure size 432x288 with 1 Axes>"
      ]
     },
     "metadata": {
      "needs_background": "light"
     },
     "output_type": "display_data"
    }
   ],
   "source": [
    "coeff = [val for val in clusteringCoeff.values()]\n",
    "\n",
    "plt.hist(coeff)\n"
   ]
  },
  {
   "cell_type": "code",
   "execution_count": 30,
   "metadata": {},
   "outputs": [
    {
     "data": {
      "text/plain": [
       "True"
      ]
     },
     "execution_count": 30,
     "metadata": {},
     "output_type": "execute_result"
    }
   ],
   "source": [
    "nx.components.is_connected(nxgraph)"
   ]
  },
  {
   "cell_type": "markdown",
   "metadata": {},
   "source": [
    "the graph is connected, so the whole graph is the giant connected component"
   ]
  },
  {
   "cell_type": "markdown",
   "metadata": {},
   "source": [
    "Distances"
   ]
  },
  {
   "cell_type": "code",
   "execution_count": 92,
   "metadata": {},
   "outputs": [],
   "source": [
    "bfs = nk.distance.BFS(graph,0)\n",
    "bfs.run()\n",
    "nkdistances = bfs.getDistances()"
   ]
  },
  {
   "cell_type": "code",
   "execution_count": 103,
   "metadata": {},
   "outputs": [
    {
     "name": "stdout",
     "output_type": "stream",
     "text": [
      "Mean: 3.6359151193633954\n",
      "Max: 8.0\n",
      "Min: 0.0\n",
      "Variance: 0.35508145698625887\n"
     ]
    },
    {
     "data": {
      "text/plain": [
       "(array([1.0000e+00, 1.0000e+00, 3.1000e+01, 1.5812e+04, 1.9825e+04,\n",
       "        1.9130e+03, 1.1000e+02, 6.0000e+00, 1.0000e+00]),\n",
       " array([0.        , 0.88888889, 1.77777778, 2.66666667, 3.55555556,\n",
       "        4.44444444, 5.33333333, 6.22222222, 7.11111111, 8.        ]),\n",
       " <BarContainer object of 9 artists>)"
      ]
     },
     "execution_count": 103,
     "metadata": {},
     "output_type": "execute_result"
    },
    {
     "data": {
      "image/png": "[encoded data removed]",
      "text/plain": [
       "<Figure size 432x288 with 1 Axes>"
      ]
     },
     "metadata": {
      "needs_background": "light"
     },
     "output_type": "display_data"
    }
   ],
   "source": [
    "PrintStat(nkdistances)\n",
    "plt.hist(nkdistances,log=True,bins=9)"
   ]
  },
  {
   "cell_type": "markdown",
   "metadata": {},
   "source": [
    "Centralities"
   ]
  },
  {
   "cell_type": "code",
   "execution_count": 11,
   "metadata": {},
   "outputs": [
    {
     "data": {
      "text/plain": [
       "<networkit.centrality.Closeness at 0x7eff4be10880>"
      ]
     },
     "execution_count": 11,
     "metadata": {},
     "output_type": "execute_result"
    }
   ],
   "source": [
    "closeness = nk.centrality.Closeness(graph,False,False)\n",
    "closeness.run()\n"
   ]
  },
  {
   "cell_type": "code",
   "execution_count": 85,
   "metadata": {},
   "outputs": [
    {
     "name": "stdout",
     "output_type": "stream",
     "text": [
      "Mean: 0.313667247491002\n",
      "Max: 0.5230814058359118\n",
      "Min: 0.1413885700998372\n",
      "Variance: 0.001665102448375804\n"
     ]
    },
    {
     "data": {
      "text/plain": [
       "(array([6.000e+00, 5.000e+00, 4.100e+01, 7.900e+01, 2.830e+02, 7.000e+02,\n",
       "        9.120e+02, 2.074e+03, 3.555e+03, 5.363e+03, 5.093e+03, 3.921e+03,\n",
       "        1.309e+03, 8.852e+03, 2.719e+03, 1.978e+03, 6.940e+02, 9.000e+01,\n",
       "        1.500e+01, 5.000e+00, 3.000e+00, 1.000e+00, 0.000e+00, 0.000e+00,\n",
       "        2.000e+00]),\n",
       " array([0.14138857, 0.15665628, 0.171924  , 0.18719171, 0.20245942,\n",
       "        0.21772714, 0.23299485, 0.24826256, 0.26353028, 0.27879799,\n",
       "        0.2940657 , 0.30933342, 0.32460113, 0.33986884, 0.35513656,\n",
       "        0.37040427, 0.38567198, 0.4009397 , 0.41620741, 0.43147513,\n",
       "        0.44674284, 0.46201055, 0.47727827, 0.49254598, 0.50781369,\n",
       "        0.52308141]),\n",
       " <BarContainer object of 25 artists>)"
      ]
     },
     "execution_count": 85,
     "metadata": {},
     "output_type": "execute_result"
    },
    {
     "data": {
      "image/png": "[encoded data removed]",
      "text/plain": [
       "<Figure size 432x288 with 1 Axes>"
      ]
     },
     "metadata": {
      "needs_background": "light"
     },
     "output_type": "display_data"
    }
   ],
   "source": [
    "PrintStat(closeness.scores())\n",
    "plt.hist(closeness.scores(),25)"
   ]
  },
  {
   "cell_type": "markdown",
   "metadata": {},
   "source": [
    "Betwenness through estimation: The algorithm estimates the betweenness of all nodes, using weighting of the contributions to avoid biased estimation. The run() method takes O(m) time per sample, where m is the number of edges of the graph. There is no proven theoretical guarantee on the quality of the approximation. However, the algorithm was shown to perform well in practice. If a guarantee is required, use ApproxBetweenness. "
   ]
  },
  {
   "cell_type": "code",
   "execution_count": 20,
   "metadata": {},
   "outputs": [
    {
     "data": {
      "text/plain": [
       "<networkit.centrality.EstimateBetweenness at 0x7eff410168f0>"
      ]
     },
     "execution_count": 20,
     "metadata": {},
     "output_type": "execute_result"
    }
   ],
   "source": [
    "ebtw = nk.centrality.EstimateBetweenness(graph,100)\n",
    "ebtw.run()"
   ]
  },
  {
   "cell_type": "code",
   "execution_count": 86,
   "metadata": {},
   "outputs": [
    {
     "name": "stdout",
     "output_type": "stream",
     "text": [
      "Mean: 83928.20999999989\n",
      "Max: 410502104.5364349\n",
      "Min: 0.0\n",
      "Variance: 8489001059788.457\n"
     ]
    },
    {
     "data": {
      "text/plain": [
       "(array([3.7625e+04, 4.3000e+01, 1.1000e+01, 5.0000e+00, 3.0000e+00,\n",
       "        2.0000e+00, 1.0000e+00, 3.0000e+00, 0.0000e+00, 1.0000e+00,\n",
       "        1.0000e+00, 1.0000e+00, 0.0000e+00, 0.0000e+00, 0.0000e+00,\n",
       "        1.0000e+00, 0.0000e+00, 0.0000e+00, 1.0000e+00, 0.0000e+00,\n",
       "        0.0000e+00, 0.0000e+00, 0.0000e+00, 0.0000e+00, 0.0000e+00,\n",
       "        0.0000e+00, 0.0000e+00, 0.0000e+00, 0.0000e+00, 0.0000e+00,\n",
       "        0.0000e+00, 0.0000e+00, 0.0000e+00, 0.0000e+00, 0.0000e+00,\n",
       "        0.0000e+00, 0.0000e+00, 0.0000e+00, 0.0000e+00, 0.0000e+00,\n",
       "        0.0000e+00, 0.0000e+00, 0.0000e+00, 0.0000e+00, 0.0000e+00,\n",
       "        0.0000e+00, 0.0000e+00, 0.0000e+00, 0.0000e+00, 0.0000e+00,\n",
       "        0.0000e+00, 0.0000e+00, 0.0000e+00, 0.0000e+00, 0.0000e+00,\n",
       "        0.0000e+00, 0.0000e+00, 0.0000e+00, 0.0000e+00, 0.0000e+00,\n",
       "        0.0000e+00, 0.0000e+00, 0.0000e+00, 0.0000e+00, 0.0000e+00,\n",
       "        0.0000e+00, 0.0000e+00, 0.0000e+00, 0.0000e+00, 0.0000e+00,\n",
       "        0.0000e+00, 0.0000e+00, 0.0000e+00, 0.0000e+00, 0.0000e+00,\n",
       "        0.0000e+00, 0.0000e+00, 0.0000e+00, 0.0000e+00, 0.0000e+00,\n",
       "        0.0000e+00, 0.0000e+00, 0.0000e+00, 0.0000e+00, 0.0000e+00,\n",
       "        0.0000e+00, 1.0000e+00, 0.0000e+00, 0.0000e+00, 0.0000e+00,\n",
       "        0.0000e+00, 0.0000e+00, 0.0000e+00, 0.0000e+00, 0.0000e+00,\n",
       "        0.0000e+00, 0.0000e+00, 0.0000e+00, 0.0000e+00, 1.0000e+00]),\n",
       " array([0.00000000e+00, 4.10502105e+06, 8.21004209e+06, 1.23150631e+07,\n",
       "        1.64200842e+07, 2.05251052e+07, 2.46301263e+07, 2.87351473e+07,\n",
       "        3.28401684e+07, 3.69451894e+07, 4.10502105e+07, 4.51552315e+07,\n",
       "        4.92602525e+07, 5.33652736e+07, 5.74702946e+07, 6.15753157e+07,\n",
       "        6.56803367e+07, 6.97853578e+07, 7.38903788e+07, 7.79953999e+07,\n",
       "        8.21004209e+07, 8.62054420e+07, 9.03104630e+07, 9.44154840e+07,\n",
       "        9.85205051e+07, 1.02625526e+08, 1.06730547e+08, 1.10835568e+08,\n",
       "        1.14940589e+08, 1.19045610e+08, 1.23150631e+08, 1.27255652e+08,\n",
       "        1.31360673e+08, 1.35465694e+08, 1.39570716e+08, 1.43675737e+08,\n",
       "        1.47780758e+08, 1.51885779e+08, 1.55990800e+08, 1.60095821e+08,\n",
       "        1.64200842e+08, 1.68305863e+08, 1.72410884e+08, 1.76515905e+08,\n",
       "        1.80620926e+08, 1.84725947e+08, 1.88830968e+08, 1.92935989e+08,\n",
       "        1.97041010e+08, 2.01146031e+08, 2.05251052e+08, 2.09356073e+08,\n",
       "        2.13461094e+08, 2.17566115e+08, 2.21671136e+08, 2.25776157e+08,\n",
       "        2.29881179e+08, 2.33986200e+08, 2.38091221e+08, 2.42196242e+08,\n",
       "        2.46301263e+08, 2.50406284e+08, 2.54511305e+08, 2.58616326e+08,\n",
       "        2.62721347e+08, 2.66826368e+08, 2.70931389e+08, 2.75036410e+08,\n",
       "        2.79141431e+08, 2.83246452e+08, 2.87351473e+08, 2.91456494e+08,\n",
       "        2.95561515e+08, 2.99666536e+08, 3.03771557e+08, 3.07876578e+08,\n",
       "        3.11981599e+08, 3.16086620e+08, 3.20191642e+08, 3.24296663e+08,\n",
       "        3.28401684e+08, 3.32506705e+08, 3.36611726e+08, 3.40716747e+08,\n",
       "        3.44821768e+08, 3.48926789e+08, 3.53031810e+08, 3.57136831e+08,\n",
       "        3.61241852e+08, 3.65346873e+08, 3.69451894e+08, 3.73556915e+08,\n",
       "        3.77661936e+08, 3.81766957e+08, 3.85871978e+08, 3.89976999e+08,\n",
       "        3.94082020e+08, 3.98187041e+08, 4.02292062e+08, 4.06397083e+08,\n",
       "        4.10502105e+08]),\n",
       " <BarContainer object of 100 artists>)"
      ]
     },
     "execution_count": 86,
     "metadata": {},
     "output_type": "execute_result"
    },
    {
     "data": {
      "image/png": "[encoded data removed]",
      "text/plain": [
       "<Figure size 432x288 with 1 Axes>"
      ]
     },
     "metadata": {
      "needs_background": "light"
     },
     "output_type": "display_data"
    }
   ],
   "source": [
    "PrintStat(ebtw.scores())\n",
    "plt.hist(ebtw.scores(),100,log=True)"
   ]
  },
  {
   "cell_type": "code",
   "execution_count": 87,
   "metadata": {},
   "outputs": [
    {
     "name": "stdout",
     "output_type": "stream",
     "text": [
      "Mean: 84687.37310344815\n",
      "Max: 383148252.27699816\n",
      "Min: 0.0\n",
      "Variance: 7679228493117.37\n"
     ]
    },
    {
     "data": {
      "text/plain": [
       "<networkit.centrality.Betweenness at 0x7eff28095270>"
      ]
     },
     "execution_count": 87,
     "metadata": {},
     "output_type": "execute_result"
    }
   ],
   "source": [
    "\n",
    "btw = nk.centrality.Betweenness(graph)\n",
    "btw.run()"
   ]
  },
  {
   "cell_type": "code",
   "execution_count": 88,
   "metadata": {},
   "outputs": [
    {
     "name": "stdout",
     "output_type": "stream",
     "text": [
      "Mean: 84687.37310344815\n",
      "Max: 383148252.276998\n",
      "Min: 0.0\n",
      "Variance: 7679228493117.379\n"
     ]
    },
    {
     "data": {
      "text/plain": [
       "(array([3.7638e+04, 3.3000e+01, 5.0000e+00, 8.0000e+00, 2.0000e+00,\n",
       "        1.0000e+00, 2.0000e+00, 3.0000e+00, 0.0000e+00, 1.0000e+00,\n",
       "        1.0000e+00, 1.0000e+00, 0.0000e+00, 1.0000e+00, 0.0000e+00,\n",
       "        0.0000e+00, 1.0000e+00, 0.0000e+00, 0.0000e+00, 0.0000e+00,\n",
       "        1.0000e+00, 0.0000e+00, 0.0000e+00, 0.0000e+00, 0.0000e+00,\n",
       "        0.0000e+00, 0.0000e+00, 0.0000e+00, 0.0000e+00, 0.0000e+00,\n",
       "        0.0000e+00, 0.0000e+00, 0.0000e+00, 0.0000e+00, 0.0000e+00,\n",
       "        0.0000e+00, 0.0000e+00, 0.0000e+00, 0.0000e+00, 0.0000e+00,\n",
       "        0.0000e+00, 0.0000e+00, 0.0000e+00, 0.0000e+00, 0.0000e+00,\n",
       "        0.0000e+00, 0.0000e+00, 0.0000e+00, 0.0000e+00, 0.0000e+00,\n",
       "        0.0000e+00, 0.0000e+00, 0.0000e+00, 0.0000e+00, 0.0000e+00,\n",
       "        0.0000e+00, 0.0000e+00, 0.0000e+00, 0.0000e+00, 0.0000e+00,\n",
       "        0.0000e+00, 0.0000e+00, 0.0000e+00, 0.0000e+00, 0.0000e+00,\n",
       "        0.0000e+00, 0.0000e+00, 0.0000e+00, 0.0000e+00, 0.0000e+00,\n",
       "        0.0000e+00, 0.0000e+00, 0.0000e+00, 0.0000e+00, 0.0000e+00,\n",
       "        0.0000e+00, 0.0000e+00, 0.0000e+00, 0.0000e+00, 0.0000e+00,\n",
       "        0.0000e+00, 0.0000e+00, 0.0000e+00, 0.0000e+00, 0.0000e+00,\n",
       "        0.0000e+00, 0.0000e+00, 0.0000e+00, 0.0000e+00, 1.0000e+00,\n",
       "        0.0000e+00, 0.0000e+00, 0.0000e+00, 0.0000e+00, 0.0000e+00,\n",
       "        0.0000e+00, 0.0000e+00, 0.0000e+00, 0.0000e+00, 1.0000e+00]),\n",
       " array([0.00000000e+00, 3.83148252e+06, 7.66296505e+06, 1.14944476e+07,\n",
       "        1.53259301e+07, 1.91574126e+07, 2.29888951e+07, 2.68203777e+07,\n",
       "        3.06518602e+07, 3.44833427e+07, 3.83148252e+07, 4.21463078e+07,\n",
       "        4.59777903e+07, 4.98092728e+07, 5.36407553e+07, 5.74722378e+07,\n",
       "        6.13037204e+07, 6.51352029e+07, 6.89666854e+07, 7.27981679e+07,\n",
       "        7.66296505e+07, 8.04611330e+07, 8.42926155e+07, 8.81240980e+07,\n",
       "        9.19555805e+07, 9.57870631e+07, 9.96185456e+07, 1.03450028e+08,\n",
       "        1.07281511e+08, 1.11112993e+08, 1.14944476e+08, 1.18775958e+08,\n",
       "        1.22607441e+08, 1.26438923e+08, 1.30270406e+08, 1.34101888e+08,\n",
       "        1.37933371e+08, 1.41764853e+08, 1.45596336e+08, 1.49427818e+08,\n",
       "        1.53259301e+08, 1.57090783e+08, 1.60922266e+08, 1.64753748e+08,\n",
       "        1.68585231e+08, 1.72416714e+08, 1.76248196e+08, 1.80079679e+08,\n",
       "        1.83911161e+08, 1.87742644e+08, 1.91574126e+08, 1.95405609e+08,\n",
       "        1.99237091e+08, 2.03068574e+08, 2.06900056e+08, 2.10731539e+08,\n",
       "        2.14563021e+08, 2.18394504e+08, 2.22225986e+08, 2.26057469e+08,\n",
       "        2.29888951e+08, 2.33720434e+08, 2.37551916e+08, 2.41383399e+08,\n",
       "        2.45214881e+08, 2.49046364e+08, 2.52877847e+08, 2.56709329e+08,\n",
       "        2.60540812e+08, 2.64372294e+08, 2.68203777e+08, 2.72035259e+08,\n",
       "        2.75866742e+08, 2.79698224e+08, 2.83529707e+08, 2.87361189e+08,\n",
       "        2.91192672e+08, 2.95024154e+08, 2.98855637e+08, 3.02687119e+08,\n",
       "        3.06518602e+08, 3.10350084e+08, 3.14181567e+08, 3.18013049e+08,\n",
       "        3.21844532e+08, 3.25676014e+08, 3.29507497e+08, 3.33338979e+08,\n",
       "        3.37170462e+08, 3.41001945e+08, 3.44833427e+08, 3.48664910e+08,\n",
       "        3.52496392e+08, 3.56327875e+08, 3.60159357e+08, 3.63990840e+08,\n",
       "        3.67822322e+08, 3.71653805e+08, 3.75485287e+08, 3.79316770e+08,\n",
       "        3.83148252e+08]),\n",
       " <BarContainer object of 100 artists>)"
      ]
     },
     "execution_count": 88,
     "metadata": {},
     "output_type": "execute_result"
    },
    {
     "data": {
      "image/png": "[encoded data removed]",
      "text/plain": [
       "<Figure size 432x288 with 1 Axes>"
      ]
     },
     "metadata": {
      "needs_background": "light"
     },
     "output_type": "display_data"
    }
   ],
   "source": [
    "PrintStat(btw.scores())\n",
    "plt.hist(btw.scores(),100,log=True)"
   ]
  },
  {
   "cell_type": "markdown",
   "metadata": {},
   "source": [
    "Degree Correlation"
   ]
  },
  {
   "cell_type": "code",
   "execution_count": 32,
   "metadata": {},
   "outputs": [
    {
     "data": {
      "text/plain": [
       "-0.07521713413904481"
      ]
     },
     "execution_count": 32,
     "metadata": {},
     "output_type": "execute_result"
    }
   ],
   "source": [
    "nx.assortativity.degree_assortativity_coefficient(nxgraph)"
   ]
  },
  {
   "cell_type": "code",
   "execution_count": 36,
   "metadata": {},
   "outputs": [
    {
     "data": {
      "text/plain": [
       "89392"
      ]
     },
     "execution_count": 36,
     "metadata": {},
     "output_type": "execute_result"
    }
   ],
   "source": [
    "cross_edges = 0\n",
    "mlTargets = nx.get_node_attributes(nxgraph,\"ml_target\")\n",
    "for node in nxgraph:\n",
    "    for target in nxgraph:\n",
    "        if nxgraph.has_edge(node,target):\n",
    "            if mlTargets[node] != mlTargets[target]:\n",
    "                cross_edges += 1\n",
    "                pass\n",
    "            pass\n",
    "        pass\n",
    "    pass\n",
    "cross_edges"
   ]
  },
  {
   "cell_type": "code",
   "execution_count": 48,
   "metadata": {},
   "outputs": [
    {
     "name": "stdout",
     "output_type": "stream",
     "text": [
      "Number of ml: 9739\n",
      "Number of web: 27961\n",
      "Number of cross edges: 89392\n"
     ]
    },
    {
     "data": {
      "text/plain": [
       "True"
      ]
     },
     "execution_count": 48,
     "metadata": {},
     "output_type": "execute_result"
    }
   ],
   "source": [
    "ml = len([t for t in mlTargets.values() if t > 0])\n",
    "web = len([t for t in mlTargets.values() if t == 0])\n",
    "print(\"Number of ml: \" + str(ml))\n",
    "print(\"Number of web: \"+ str(web))\n",
    "print(\"Number of cross edges: \" + str(cross_edges))\n",
    "cross_edges < 2*ml*web"
   ]
  },
  {
   "cell_type": "code",
   "execution_count": null,
   "metadata": {},
   "outputs": [],
   "source": [
    "degrees = [degree[1] for degree in nxgraph.degree()]\n",
    "degreeOnRange = {}\n",
    "for degree in range(np.max(degrees)):\n",
    "    degreeOnRange[degree] = np.mean([dgT for dgT in degrees if dgT > degree])\n",
    "    pass\n",
    "\n",
    "\n",
    "\n",
    "        \n"
   ]
  },
  {
   "cell_type": "code",
   "execution_count": 61,
   "metadata": {},
   "outputs": [
    {
     "data": {
      "text/plain": [
       "[<matplotlib.lines.Line2D at 0x7eff38a8a9b0>]"
      ]
     },
     "execution_count": 61,
     "metadata": {},
     "output_type": "execute_result"
    },
    {
     "data": {
      "image/png": "[encoded data removed]",
      "text/plain": [
       "<Figure size 432x288 with 1 Axes>"
      ]
     },
     "metadata": {
      "needs_background": "light"
     },
     "output_type": "display_data"
    }
   ],
   "source": [
    "plt.plot(degreeOnRange.keys(), degreeOnRange.values())"
   ]
  },
  {
   "cell_type": "markdown",
   "metadata": {},
   "source": [
    "Chapter communities"
   ]
  },
  {
   "cell_type": "code",
   "execution_count": 70,
   "metadata": {},
   "outputs": [
    {
     "data": {
      "text/plain": [
       "0.45416683163068516"
      ]
     },
     "execution_count": 70,
     "metadata": {},
     "output_type": "execute_result"
    }
   ],
   "source": [
    "louvainComms = nx.community.louvain_communities(nxgraph)\n",
    "nx.algorithms.community.modularity(nxgraph,louvainComms)"
   ]
  },
  {
   "cell_type": "code",
   "execution_count": 69,
   "metadata": {},
   "outputs": [
    {
     "data": {
      "text/plain": [
       "0.002918446982036539"
      ]
     },
     "execution_count": 69,
     "metadata": {},
     "output_type": "execute_result"
    }
   ],
   "source": [
    "labelComms = nx.community.label_propagation_communities(nxgraph)\n",
    "nx.algorithms.community.modularity(nxgraph,labelComms)"
   ]
  },
  {
   "cell_type": "code",
   "execution_count": null,
   "metadata": {},
   "outputs": [],
   "source": []
  },
  {
   "cell_type": "code",
   "execution_count": 75,
   "metadata": {},
   "outputs": [],
   "source": [
    "def AnalyzeCommunityResults(nxgraph : nx.graph.Graph, communities):\n",
    "    index = 0\n",
    "    for community in communities:\n",
    "        if len(community) >= nxgraph.size()/2:\n",
    "            break\n",
    "        commgraph = GenGraphFromSubset(nxgraph,community)\n",
    "        print(\"Number of nodes: \" + str(len(community)))\n",
    "        mlTargets = nx.get_node_attributes(nxgraph,\"ml_target\")\n",
    "        totalTarget = 0\n",
    "        colormap = []\n",
    "        for node in community:\n",
    "            totalTarget += mlTargets[node]\n",
    "            if mlTargets[node] == 1:\n",
    "                    colormap.append('red')\n",
    "                    pass\n",
    "            else:\n",
    "                colormap.append('blue')\n",
    "                pass\n",
    "        print(\"Number of MLTargets: \" + str(totalTarget))\n",
    "        if len(community) < 1000:\n",
    "            pos = nx.circular_layout(commgraph)\n",
    "            nx.draw(commgraph,pos,node_color=colormap)\n",
    "            plt.show()\n",
    "            pass\n",
    "    index += 1\n",
    "pass\n"
   ]
  },
  {
   "cell_type": "code",
   "execution_count": null,
   "metadata": {},
   "outputs": [],
   "source": [
    "AnalyzeCommunityResults(nxgraph,louvainComms)"
   ]
  },
  {
   "cell_type": "code",
   "execution_count": null,
   "metadata": {},
   "outputs": [],
   "source": [
    "AnalyzeCommunityResults(nxgraph,labelComms)"
   ]
  }
 ],
 "metadata": {
  "kernelspec": {
   "display_name": "Python 3.10.4 64-bit",
   "language": "python",
   "name": "python3"
  },
  "language_info": {
   "codemirror_mode": {
    "name": "ipython",
    "version": 3
   },
   "file_extension": ".py",
   "mimetype": "text/x-python",
   "name": "python",
   "nbconvert_exporter": "python",
   "pygments_lexer": "ipython3",
   "version": "3.10.4"
  },
  "orig_nbformat": 4,
  "vscode": {
   "interpreter": {
    "hash": "916dbcbb3f70747c44a77c7bcd40155683ae19c65e1c03b4aa3499c5328201f1"
   }
  }
 },
 "nbformat": 4,
 "nbformat_minor": 2
}
